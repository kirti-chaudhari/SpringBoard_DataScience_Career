{
 "cells": [
  {
   "cell_type": "code",
   "execution_count": 1,
   "metadata": {},
   "outputs": [],
   "source": [
    "import pandas as pd\n",
    "\n",
    "import seaborn as sns\n",
    "import matplotlib.pyplot as plt\n",
    "sns.set(style=\"whitegrid\")"
   ]
  },
  {
   "cell_type": "markdown",
   "metadata": {},
   "source": [
    "## Dataset\n",
    "\n",
    "Amazon Customer Reviews (a.k.a. Product Reviews) is one of Amazon’s iconic products. In a period of over two decades since the first review in 1995, millions of Amazon customers have contributed over a hundred million reviews to express opinions and describe their experiences regarding products on the Amazon.com website.\n",
    "\n",
    "The data is available in TSV files in the amazon-reviews-pds S3 bucket in AWS US East Region. Each line in the data files corresponds to an individual review (tab delimited, with no quote and escape characters)\n",
    "\n",
    "### DATA COLUMNS:\n",
    "\n",
    "\n",
    "| Column Name | Description |\n",
    "| ------------| --------|\n",
    "| marketplace | 2 letter country code of the marketplace where the review was written.|\n",
    "| customer_id |Random identifier that can be used to aggregate reviews written by a single author.|\n",
    "| review_id   | The unique ID of the review.|\n",
    "| product_id  | The unique Product ID the review pertains to. In the multilingual dataset the reviews.for the same product in different countries can be grouped by the same product_id.|\n",
    "| product_parent | Random identifier that can be used to aggregate reviews for the same product.|\n",
    "| product_title  | Title of the product.|\n",
    "| product_category |Broad product category that can be used to group reviews.|\n",
    "                    (also used to group the dataset into coherent parts).\n",
    "| star_rating |The 1-5 star rating of the review.|\n",
    "| helpful_votes |Number of helpful votes.|\n",
    "| total_votes |  Number of total votes the review received.|\n",
    "| vine | Review was written as part of the Vine program.|\n",
    "| verified_purchase| The review is on a verified purchase.|\n",
    "| review_headline | The title of the review.|\n",
    "| review_body | The review text.|\n",
    "| review_date |The date the review was written.|\n",
    "\n",
    "\n",
    "\n",
    "### DATA FORMAT\n",
    "Tab ('\\t') separated text file, without quote or escape characters.\n",
    "First line in each file is header; 1 line corresponds to 1 record.\n",
    "\n",
    "### US REVIEWS DATASET\n",
    "**Electronics Category** : https://s3.amazonaws.com/amazon-reviews-pds/tsv/amazon_reviews_us_Electronics_v1_00.tsv.gz"
   ]
  },
  {
   "cell_type": "code",
   "execution_count": 2,
   "metadata": {
    "tags": []
   },
   "outputs": [
    {
     "name": "stderr",
     "output_type": "stream",
     "text": [
      "b'Skipping line 9076: expected 15 fields, saw 22\\nSkipping line 19256: expected 15 fields, saw 22\\nSkipping line 24313: expected 15 fields, saw 22\\nSkipping line 47211: expected 15 fields, saw 22\\nSkipping line 54295: expected 15 fields, saw 22\\nSkipping line 56641: expected 15 fields, saw 22\\nSkipping line 63067: expected 15 fields, saw 22\\n'\n",
      "b'Skipping line 93796: expected 15 fields, saw 22\\n'\n",
      "b'Skipping line 132806: expected 15 fields, saw 22\\nSkipping line 164631: expected 15 fields, saw 22\\nSkipping line 167019: expected 15 fields, saw 22\\nSkipping line 167212: expected 15 fields, saw 22\\n'\n",
      "b'Skipping line 198103: expected 15 fields, saw 22\\nSkipping line 199191: expected 15 fields, saw 22\\nSkipping line 202841: expected 15 fields, saw 22\\nSkipping line 218228: expected 15 fields, saw 22\\nSkipping line 235900: expected 15 fields, saw 22\\n'\n",
      "b'Skipping line 277761: expected 15 fields, saw 22\\nSkipping line 304582: expected 15 fields, saw 22\\nSkipping line 312029: expected 15 fields, saw 22\\n'\n",
      "b'Skipping line 343692: expected 15 fields, saw 22\\nSkipping line 352291: expected 15 fields, saw 22\\nSkipping line 363414: expected 15 fields, saw 22\\nSkipping line 378087: expected 15 fields, saw 22\\nSkipping line 378720: expected 15 fields, saw 22\\nSkipping line 378760: expected 15 fields, saw 22\\nSkipping line 379336: expected 15 fields, saw 22\\n'\n",
      "b'Skipping line 402682: expected 15 fields, saw 22\\n'\n",
      "b'Skipping line 466560: expected 15 fields, saw 22\\nSkipping line 486823: expected 15 fields, saw 22\\nSkipping line 489036: expected 15 fields, saw 22\\nSkipping line 496148: expected 15 fields, saw 22\\nSkipping line 522330: expected 15 fields, saw 22\\n'\n",
      "b'Skipping line 552961: expected 15 fields, saw 22\\nSkipping line 577388: expected 15 fields, saw 22\\nSkipping line 582182: expected 15 fields, saw 22\\n'\n",
      "b'Skipping line 590653: expected 15 fields, saw 22\\nSkipping line 608846: expected 15 fields, saw 22\\nSkipping line 615442: expected 15 fields, saw 22\\nSkipping line 645607: expected 15 fields, saw 22\\nSkipping line 654323: expected 15 fields, saw 22\\n'\n",
      "b'Skipping line 714935: expected 15 fields, saw 22\\n'\n",
      "b'Skipping line 749608: expected 15 fields, saw 22\\nSkipping line 753868: expected 15 fields, saw 22\\nSkipping line 762504: expected 15 fields, saw 22\\nSkipping line 771706: expected 15 fields, saw 22\\nSkipping line 773376: expected 15 fields, saw 22\\n'\n",
      "b'Skipping line 792407: expected 15 fields, saw 22\\nSkipping line 793933: expected 15 fields, saw 22\\nSkipping line 813269: expected 15 fields, saw 22\\nSkipping line 835491: expected 15 fields, saw 22\\nSkipping line 841176: expected 15 fields, saw 22\\nSkipping line 844604: expected 15 fields, saw 22\\n'\n",
      "b'Skipping line 857952: expected 15 fields, saw 22\\nSkipping line 859568: expected 15 fields, saw 22\\nSkipping line 860789: expected 15 fields, saw 22\\nSkipping line 863093: expected 15 fields, saw 22\\nSkipping line 881608: expected 15 fields, saw 22\\nSkipping line 891157: expected 15 fields, saw 22\\nSkipping line 893799: expected 15 fields, saw 22\\nSkipping line 906438: expected 15 fields, saw 22\\nSkipping line 914856: expected 15 fields, saw 22\\n'\n",
      "b'Skipping line 940736: expected 15 fields, saw 22\\nSkipping line 965818: expected 15 fields, saw 22\\n'\n",
      "b'Skipping line 993840: expected 15 fields, saw 22\\nSkipping line 1019036: expected 15 fields, saw 22\\nSkipping line 1019205: expected 15 fields, saw 22\\n'\n",
      "b'Skipping line 1058122: expected 15 fields, saw 22\\n'\n",
      "b'Skipping line 1144887: expected 15 fields, saw 22\\nSkipping line 1147255: expected 15 fields, saw 22\\nSkipping line 1164497: expected 15 fields, saw 22\\nSkipping line 1166930: expected 15 fields, saw 22\\n'\n",
      "b'Skipping line 1218319: expected 15 fields, saw 22\\nSkipping line 1232868: expected 15 fields, saw 22\\n'\n",
      "b'Skipping line 1307335: expected 15 fields, saw 22\\n'\n",
      "b'Skipping line 1621422: expected 15 fields, saw 22\\n'\n",
      "b'Skipping line 1857720: expected 15 fields, saw 22\\n'\n",
      "b'Skipping line 1935753: expected 15 fields, saw 22\\n'\n",
      "b'Skipping line 1988449: expected 15 fields, saw 22\\n'\n"
     ]
    }
   ],
   "source": [
    "df_electronics = pd.read_csv('./data/amazon_reviews_us_Electronics_v1_00.tsv.gz', \n",
    "                             sep=\"\\t\", \n",
    "                             header=0, \n",
    "                             error_bad_lines=False)"
   ]
  },
  {
   "cell_type": "code",
   "execution_count": 3,
   "metadata": {},
   "outputs": [
    {
     "data": {
      "text/plain": [
       "marketplace          object\n",
       "customer_id           int64\n",
       "review_id            object\n",
       "product_id           object\n",
       "product_parent        int64\n",
       "product_title        object\n",
       "product_category     object\n",
       "star_rating           int64\n",
       "helpful_votes         int64\n",
       "total_votes           int64\n",
       "vine                 object\n",
       "verified_purchase    object\n",
       "review_headline      object\n",
       "review_body          object\n",
       "review_date          object\n",
       "dtype: object"
      ]
     },
     "execution_count": 3,
     "metadata": {},
     "output_type": "execute_result"
    }
   ],
   "source": [
    "df_electronics.dtypes"
   ]
  },
  {
   "cell_type": "code",
   "execution_count": 4,
   "metadata": {},
   "outputs": [
    {
     "data": {
      "text/html": [
       "<div>\n",
       "<style scoped>\n",
       "    .dataframe tbody tr th:only-of-type {\n",
       "        vertical-align: middle;\n",
       "    }\n",
       "\n",
       "    .dataframe tbody tr th {\n",
       "        vertical-align: top;\n",
       "    }\n",
       "\n",
       "    .dataframe thead th {\n",
       "        text-align: right;\n",
       "    }\n",
       "</style>\n",
       "<table border=\"1\" class=\"dataframe\">\n",
       "  <thead>\n",
       "    <tr style=\"text-align: right;\">\n",
       "      <th></th>\n",
       "      <th>marketplace</th>\n",
       "      <th>customer_id</th>\n",
       "      <th>review_id</th>\n",
       "      <th>product_id</th>\n",
       "      <th>product_parent</th>\n",
       "      <th>product_title</th>\n",
       "      <th>product_category</th>\n",
       "      <th>star_rating</th>\n",
       "      <th>helpful_votes</th>\n",
       "      <th>total_votes</th>\n",
       "      <th>vine</th>\n",
       "      <th>verified_purchase</th>\n",
       "      <th>review_headline</th>\n",
       "      <th>review_body</th>\n",
       "      <th>review_date</th>\n",
       "    </tr>\n",
       "  </thead>\n",
       "  <tbody>\n",
       "    <tr>\n",
       "      <th>0</th>\n",
       "      <td>US</td>\n",
       "      <td>41409413</td>\n",
       "      <td>R2MTG1GCZLR2DK</td>\n",
       "      <td>B00428R89M</td>\n",
       "      <td>112201306</td>\n",
       "      <td>yoomall 5M Antenna WIFI RP-SMA Female to Male ...</td>\n",
       "      <td>Electronics</td>\n",
       "      <td>5</td>\n",
       "      <td>0</td>\n",
       "      <td>0</td>\n",
       "      <td>N</td>\n",
       "      <td>Y</td>\n",
       "      <td>Five Stars</td>\n",
       "      <td>As described.</td>\n",
       "      <td>2015-08-31</td>\n",
       "    </tr>\n",
       "    <tr>\n",
       "      <th>1</th>\n",
       "      <td>US</td>\n",
       "      <td>49668221</td>\n",
       "      <td>R2HBOEM8LE9928</td>\n",
       "      <td>B000068O48</td>\n",
       "      <td>734576678</td>\n",
       "      <td>Hosa GPM-103 3.5mm TRS to 1/4\" TRS Adaptor</td>\n",
       "      <td>Electronics</td>\n",
       "      <td>5</td>\n",
       "      <td>0</td>\n",
       "      <td>0</td>\n",
       "      <td>N</td>\n",
       "      <td>Y</td>\n",
       "      <td>It works as advertising.</td>\n",
       "      <td>It works as advertising.</td>\n",
       "      <td>2015-08-31</td>\n",
       "    </tr>\n",
       "    <tr>\n",
       "      <th>2</th>\n",
       "      <td>US</td>\n",
       "      <td>12338275</td>\n",
       "      <td>R1P4RW1R9FDPEE</td>\n",
       "      <td>B000GGKOG8</td>\n",
       "      <td>614448099</td>\n",
       "      <td>Channel Master Titan 2 Antenna Preamplifier</td>\n",
       "      <td>Electronics</td>\n",
       "      <td>5</td>\n",
       "      <td>1</td>\n",
       "      <td>1</td>\n",
       "      <td>N</td>\n",
       "      <td>Y</td>\n",
       "      <td>Five Stars</td>\n",
       "      <td>Works pissa</td>\n",
       "      <td>2015-08-31</td>\n",
       "    </tr>\n",
       "    <tr>\n",
       "      <th>3</th>\n",
       "      <td>US</td>\n",
       "      <td>38487968</td>\n",
       "      <td>R1EBPM82ENI67M</td>\n",
       "      <td>B000NU4OTA</td>\n",
       "      <td>72265257</td>\n",
       "      <td>LIMTECH Wall charger + USB Hotsync &amp; Charging ...</td>\n",
       "      <td>Electronics</td>\n",
       "      <td>1</td>\n",
       "      <td>0</td>\n",
       "      <td>0</td>\n",
       "      <td>N</td>\n",
       "      <td>Y</td>\n",
       "      <td>One Star</td>\n",
       "      <td>Did not work at all.</td>\n",
       "      <td>2015-08-31</td>\n",
       "    </tr>\n",
       "    <tr>\n",
       "      <th>4</th>\n",
       "      <td>US</td>\n",
       "      <td>23732619</td>\n",
       "      <td>R372S58V6D11AT</td>\n",
       "      <td>B00JOQIO6S</td>\n",
       "      <td>308169188</td>\n",
       "      <td>Skullcandy Air Raid Portable Bluetooth Speaker</td>\n",
       "      <td>Electronics</td>\n",
       "      <td>5</td>\n",
       "      <td>1</td>\n",
       "      <td>1</td>\n",
       "      <td>N</td>\n",
       "      <td>Y</td>\n",
       "      <td>Overall pleased with the item</td>\n",
       "      <td>Works well. Bass is somewhat lacking but is pr...</td>\n",
       "      <td>2015-08-31</td>\n",
       "    </tr>\n",
       "  </tbody>\n",
       "</table>\n",
       "</div>"
      ],
      "text/plain": [
       "  marketplace  customer_id       review_id  product_id  product_parent  \\\n",
       "0          US     41409413  R2MTG1GCZLR2DK  B00428R89M       112201306   \n",
       "1          US     49668221  R2HBOEM8LE9928  B000068O48       734576678   \n",
       "2          US     12338275  R1P4RW1R9FDPEE  B000GGKOG8       614448099   \n",
       "3          US     38487968  R1EBPM82ENI67M  B000NU4OTA        72265257   \n",
       "4          US     23732619  R372S58V6D11AT  B00JOQIO6S       308169188   \n",
       "\n",
       "                                       product_title product_category  \\\n",
       "0  yoomall 5M Antenna WIFI RP-SMA Female to Male ...      Electronics   \n",
       "1         Hosa GPM-103 3.5mm TRS to 1/4\" TRS Adaptor      Electronics   \n",
       "2        Channel Master Titan 2 Antenna Preamplifier      Electronics   \n",
       "3  LIMTECH Wall charger + USB Hotsync & Charging ...      Electronics   \n",
       "4     Skullcandy Air Raid Portable Bluetooth Speaker      Electronics   \n",
       "\n",
       "   star_rating  helpful_votes  total_votes vine verified_purchase  \\\n",
       "0            5              0            0    N                 Y   \n",
       "1            5              0            0    N                 Y   \n",
       "2            5              1            1    N                 Y   \n",
       "3            1              0            0    N                 Y   \n",
       "4            5              1            1    N                 Y   \n",
       "\n",
       "                 review_headline  \\\n",
       "0                     Five Stars   \n",
       "1       It works as advertising.   \n",
       "2                     Five Stars   \n",
       "3                       One Star   \n",
       "4  Overall pleased with the item   \n",
       "\n",
       "                                         review_body review_date  \n",
       "0                                      As described.  2015-08-31  \n",
       "1                           It works as advertising.  2015-08-31  \n",
       "2                                        Works pissa  2015-08-31  \n",
       "3                               Did not work at all.  2015-08-31  \n",
       "4  Works well. Bass is somewhat lacking but is pr...  2015-08-31  "
      ]
     },
     "execution_count": 4,
     "metadata": {},
     "output_type": "execute_result"
    }
   ],
   "source": [
    "df_electronics.head()"
   ]
  },
  {
   "cell_type": "code",
   "execution_count": 5,
   "metadata": {},
   "outputs": [],
   "source": [
    "df_electronics['review_date'] = pd.to_datetime(df_electronics.review_date)"
   ]
  },
  {
   "cell_type": "code",
   "execution_count": 6,
   "metadata": {},
   "outputs": [
    {
     "data": {
      "text/html": [
       "<div>\n",
       "<style scoped>\n",
       "    .dataframe tbody tr th:only-of-type {\n",
       "        vertical-align: middle;\n",
       "    }\n",
       "\n",
       "    .dataframe tbody tr th {\n",
       "        vertical-align: top;\n",
       "    }\n",
       "\n",
       "    .dataframe thead th {\n",
       "        text-align: right;\n",
       "    }\n",
       "</style>\n",
       "<table border=\"1\" class=\"dataframe\">\n",
       "  <thead>\n",
       "    <tr style=\"text-align: right;\">\n",
       "      <th></th>\n",
       "      <th>marketplace</th>\n",
       "      <th>customer_id</th>\n",
       "      <th>review_id</th>\n",
       "      <th>product_id</th>\n",
       "      <th>product_parent</th>\n",
       "      <th>product_title</th>\n",
       "      <th>product_category</th>\n",
       "      <th>star_rating</th>\n",
       "      <th>helpful_votes</th>\n",
       "      <th>total_votes</th>\n",
       "      <th>vine</th>\n",
       "      <th>verified_purchase</th>\n",
       "      <th>review_headline</th>\n",
       "      <th>review_body</th>\n",
       "      <th>review_date</th>\n",
       "    </tr>\n",
       "  </thead>\n",
       "  <tbody>\n",
       "    <tr>\n",
       "      <th>0</th>\n",
       "      <td>US</td>\n",
       "      <td>41409413</td>\n",
       "      <td>R2MTG1GCZLR2DK</td>\n",
       "      <td>B00428R89M</td>\n",
       "      <td>112201306</td>\n",
       "      <td>yoomall 5M Antenna WIFI RP-SMA Female to Male ...</td>\n",
       "      <td>Electronics</td>\n",
       "      <td>5</td>\n",
       "      <td>0</td>\n",
       "      <td>0</td>\n",
       "      <td>N</td>\n",
       "      <td>Y</td>\n",
       "      <td>Five Stars</td>\n",
       "      <td>As described.</td>\n",
       "      <td>2015-08-31</td>\n",
       "    </tr>\n",
       "    <tr>\n",
       "      <th>1</th>\n",
       "      <td>US</td>\n",
       "      <td>49668221</td>\n",
       "      <td>R2HBOEM8LE9928</td>\n",
       "      <td>B000068O48</td>\n",
       "      <td>734576678</td>\n",
       "      <td>Hosa GPM-103 3.5mm TRS to 1/4\" TRS Adaptor</td>\n",
       "      <td>Electronics</td>\n",
       "      <td>5</td>\n",
       "      <td>0</td>\n",
       "      <td>0</td>\n",
       "      <td>N</td>\n",
       "      <td>Y</td>\n",
       "      <td>It works as advertising.</td>\n",
       "      <td>It works as advertising.</td>\n",
       "      <td>2015-08-31</td>\n",
       "    </tr>\n",
       "    <tr>\n",
       "      <th>2</th>\n",
       "      <td>US</td>\n",
       "      <td>12338275</td>\n",
       "      <td>R1P4RW1R9FDPEE</td>\n",
       "      <td>B000GGKOG8</td>\n",
       "      <td>614448099</td>\n",
       "      <td>Channel Master Titan 2 Antenna Preamplifier</td>\n",
       "      <td>Electronics</td>\n",
       "      <td>5</td>\n",
       "      <td>1</td>\n",
       "      <td>1</td>\n",
       "      <td>N</td>\n",
       "      <td>Y</td>\n",
       "      <td>Five Stars</td>\n",
       "      <td>Works pissa</td>\n",
       "      <td>2015-08-31</td>\n",
       "    </tr>\n",
       "    <tr>\n",
       "      <th>3</th>\n",
       "      <td>US</td>\n",
       "      <td>38487968</td>\n",
       "      <td>R1EBPM82ENI67M</td>\n",
       "      <td>B000NU4OTA</td>\n",
       "      <td>72265257</td>\n",
       "      <td>LIMTECH Wall charger + USB Hotsync &amp; Charging ...</td>\n",
       "      <td>Electronics</td>\n",
       "      <td>1</td>\n",
       "      <td>0</td>\n",
       "      <td>0</td>\n",
       "      <td>N</td>\n",
       "      <td>Y</td>\n",
       "      <td>One Star</td>\n",
       "      <td>Did not work at all.</td>\n",
       "      <td>2015-08-31</td>\n",
       "    </tr>\n",
       "    <tr>\n",
       "      <th>4</th>\n",
       "      <td>US</td>\n",
       "      <td>23732619</td>\n",
       "      <td>R372S58V6D11AT</td>\n",
       "      <td>B00JOQIO6S</td>\n",
       "      <td>308169188</td>\n",
       "      <td>Skullcandy Air Raid Portable Bluetooth Speaker</td>\n",
       "      <td>Electronics</td>\n",
       "      <td>5</td>\n",
       "      <td>1</td>\n",
       "      <td>1</td>\n",
       "      <td>N</td>\n",
       "      <td>Y</td>\n",
       "      <td>Overall pleased with the item</td>\n",
       "      <td>Works well. Bass is somewhat lacking but is pr...</td>\n",
       "      <td>2015-08-31</td>\n",
       "    </tr>\n",
       "  </tbody>\n",
       "</table>\n",
       "</div>"
      ],
      "text/plain": [
       "  marketplace  customer_id       review_id  product_id  product_parent  \\\n",
       "0          US     41409413  R2MTG1GCZLR2DK  B00428R89M       112201306   \n",
       "1          US     49668221  R2HBOEM8LE9928  B000068O48       734576678   \n",
       "2          US     12338275  R1P4RW1R9FDPEE  B000GGKOG8       614448099   \n",
       "3          US     38487968  R1EBPM82ENI67M  B000NU4OTA        72265257   \n",
       "4          US     23732619  R372S58V6D11AT  B00JOQIO6S       308169188   \n",
       "\n",
       "                                       product_title product_category  \\\n",
       "0  yoomall 5M Antenna WIFI RP-SMA Female to Male ...      Electronics   \n",
       "1         Hosa GPM-103 3.5mm TRS to 1/4\" TRS Adaptor      Electronics   \n",
       "2        Channel Master Titan 2 Antenna Preamplifier      Electronics   \n",
       "3  LIMTECH Wall charger + USB Hotsync & Charging ...      Electronics   \n",
       "4     Skullcandy Air Raid Portable Bluetooth Speaker      Electronics   \n",
       "\n",
       "   star_rating  helpful_votes  total_votes vine verified_purchase  \\\n",
       "0            5              0            0    N                 Y   \n",
       "1            5              0            0    N                 Y   \n",
       "2            5              1            1    N                 Y   \n",
       "3            1              0            0    N                 Y   \n",
       "4            5              1            1    N                 Y   \n",
       "\n",
       "                 review_headline  \\\n",
       "0                     Five Stars   \n",
       "1       It works as advertising.   \n",
       "2                     Five Stars   \n",
       "3                       One Star   \n",
       "4  Overall pleased with the item   \n",
       "\n",
       "                                         review_body review_date  \n",
       "0                                      As described.  2015-08-31  \n",
       "1                           It works as advertising.  2015-08-31  \n",
       "2                                        Works pissa  2015-08-31  \n",
       "3                               Did not work at all.  2015-08-31  \n",
       "4  Works well. Bass is somewhat lacking but is pr...  2015-08-31  "
      ]
     },
     "execution_count": 6,
     "metadata": {},
     "output_type": "execute_result"
    }
   ],
   "source": [
    "df_electronics.head()"
   ]
  },
  {
   "cell_type": "code",
   "execution_count": 7,
   "metadata": {},
   "outputs": [
    {
     "data": {
      "text/plain": [
       "product_title       4\n",
       "review_headline    31\n",
       "review_body        88\n",
       "review_date        24\n",
       "dtype: int64"
      ]
     },
     "execution_count": 7,
     "metadata": {},
     "output_type": "execute_result"
    }
   ],
   "source": [
    "null_columns = df_electronics.columns[df_electronics.isnull().any()]\n",
    "df_electronics[null_columns].isnull().sum()"
   ]
  },
  {
   "cell_type": "code",
   "execution_count": 8,
   "metadata": {
    "scrolled": true
   },
   "outputs": [
    {
     "data": {
      "text/plain": [
       "marketplace                  object\n",
       "customer_id                   int64\n",
       "review_id                    object\n",
       "product_id                   object\n",
       "product_parent                int64\n",
       "product_title                object\n",
       "product_category             object\n",
       "star_rating                   int64\n",
       "helpful_votes                 int64\n",
       "total_votes                   int64\n",
       "vine                         object\n",
       "verified_purchase            object\n",
       "review_headline              object\n",
       "review_body                  object\n",
       "review_date          datetime64[ns]\n",
       "dtype: object"
      ]
     },
     "execution_count": 8,
     "metadata": {},
     "output_type": "execute_result"
    }
   ],
   "source": [
    "df_electronics.dtypes"
   ]
  },
  {
   "cell_type": "markdown",
   "metadata": {},
   "source": [
    "## Monthly Trend of Review\n"
   ]
  },
  {
   "cell_type": "code",
   "execution_count": 9,
   "metadata": {},
   "outputs": [
    {
     "data": {
      "image/png": "[encoded data removed]",
      "text/plain": [
       "<Figure size 1440x864 with 1 Axes>"
      ]
     },
     "metadata": {},
     "output_type": "display_data"
    }
   ],
   "source": [
    "df_review_trend = df_electronics.groupby(['review_date'])['review_id'].count().reset_index()\n",
    "\n",
    "f, ax = plt.subplots(figsize=(20, 12))\n",
    "\n",
    "ax = sns.lineplot(x=\"review_date\", y=\"review_id\",\n",
    "                  markers=True, dashes=False, data=df_review_trend)"
   ]
  },
  {
   "cell_type": "markdown",
   "metadata": {},
   "source": [
    "## Count Per Review"
   ]
  },
  {
   "cell_type": "code",
   "execution_count": 10,
   "metadata": {},
   "outputs": [
    {
     "data": {
      "image/png": "[encoded data removed]",
      "text/plain": [
       "<Figure size 1440x864 with 1 Axes>"
      ]
     },
     "metadata": {},
     "output_type": "display_data"
    }
   ],
   "source": [
    "df_star_rating = df_electronics.groupby(['star_rating'])['review_id'].count()\n",
    "df_star_rating = df_star_rating.to_frame(name='count').sort_values(by='count', ascending=False).reset_index()\n",
    "\n",
    "f, ax = plt.subplots(figsize=(20, 12))\n",
    "\n",
    "ax = sns.barplot(x=\"star_rating\", y=\"count\",data=df_star_rating)"
   ]
  },
  {
   "cell_type": "markdown",
   "metadata": {},
   "source": [
    "## Data Preparation"
   ]
  },
  {
   "cell_type": "markdown",
   "metadata": {},
   "source": [
    "### Check and Replace Null values"
   ]
  },
  {
   "cell_type": "code",
   "execution_count": 11,
   "metadata": {},
   "outputs": [
    {
     "data": {
      "text/plain": [
       "review_id           0\n",
       "customer_id         0\n",
       "star_rating         0\n",
       "review_headline    31\n",
       "review_body        88\n",
       "dtype: int64"
      ]
     },
     "execution_count": 11,
     "metadata": {},
     "output_type": "execute_result"
    }
   ],
   "source": [
    "df_reviews = df_electronics[['review_id','customer_id','star_rating','review_headline','review_body']]\n",
    "df_reviews.isnull().sum()"
   ]
  },
  {
   "cell_type": "code",
   "execution_count": 12,
   "metadata": {},
   "outputs": [
    {
     "data": {
      "text/plain": [
       "review_id          0\n",
       "customer_id        0\n",
       "star_rating        0\n",
       "review_headline    0\n",
       "review_body        0\n",
       "dtype: int64"
      ]
     },
     "execution_count": 12,
     "metadata": {},
     "output_type": "execute_result"
    }
   ],
   "source": [
    "df_reviews = df_reviews.dropna()\n",
    "df_reviews.isnull().sum()"
   ]
  },
  {
   "cell_type": "code",
   "execution_count": 13,
   "metadata": {},
   "outputs": [
    {
     "data": {
      "image/png": "[encoded data removed]",
      "text/plain": [
       "<Figure size 1440x864 with 1 Axes>"
      ]
     },
     "metadata": {},
     "output_type": "display_data"
    }
   ],
   "source": [
    "df_reviews['sentiment'] = df_reviews['star_rating'].apply(lambda x: 'Positive' if x <= 4 else 'Negative')\n",
    "\n",
    "df_sentiments = df_reviews['sentiment'].value_counts().reset_index(name='Count').rename(columns={'index': 'Sentiment'})\n",
    "\n",
    "f, ax = plt.subplots(figsize=(20, 12))\n",
    "\n",
    "ax = sns.barplot(x=\"Sentiment\", y=\"Count\",data=df_sentiments)"
   ]
  },
  {
   "cell_type": "markdown",
   "metadata": {},
   "source": [
    "### PyCaret\n",
    "\n",
    "- Install PyCaret\n",
    "- Load the data\n",
    "- Setup environment\n",
    "- Create model\n",
    "- Assign Model\n",
    "- Plot Model\n",
    "- Save/Load Model"
   ]
  },
  {
   "cell_type": "markdown",
   "metadata": {},
   "source": [
    "## Install PyCaret\n",
    "\n",
    "Installing PyCaret in Local Jupyter Notebook\n",
    "\n",
    "`pip install pycaret`"
   ]
  },
  {
   "cell_type": "markdown",
   "metadata": {},
   "source": [
    "# Load the data"
   ]
  },
  {
   "cell_type": "code",
   "execution_count": 14,
   "metadata": {},
   "outputs": [
    {
     "data": {
      "text/html": [
       "<div>\n",
       "<style scoped>\n",
       "    .dataframe tbody tr th:only-of-type {\n",
       "        vertical-align: middle;\n",
       "    }\n",
       "\n",
       "    .dataframe tbody tr th {\n",
       "        vertical-align: top;\n",
       "    }\n",
       "\n",
       "    .dataframe thead th {\n",
       "        text-align: right;\n",
       "    }\n",
       "</style>\n",
       "<table border=\"1\" class=\"dataframe\">\n",
       "  <thead>\n",
       "    <tr style=\"text-align: right;\">\n",
       "      <th></th>\n",
       "      <th>review_id</th>\n",
       "      <th>customer_id</th>\n",
       "      <th>review_headline</th>\n",
       "      <th>review_body</th>\n",
       "      <th>sentiment</th>\n",
       "    </tr>\n",
       "  </thead>\n",
       "  <tbody>\n",
       "    <tr>\n",
       "      <th>0</th>\n",
       "      <td>R3FCHTWDX6M0NY</td>\n",
       "      <td>43758182</td>\n",
       "      <td>Five Stars</td>\n",
       "      <td>nice!</td>\n",
       "      <td>Negative</td>\n",
       "    </tr>\n",
       "    <tr>\n",
       "      <th>1</th>\n",
       "      <td>R1GNTVXZQMKWHW</td>\n",
       "      <td>30156333</td>\n",
       "      <td>as advertised</td>\n",
       "      <td>had to build custom boxes and this worked perf...</td>\n",
       "      <td>Negative</td>\n",
       "    </tr>\n",
       "    <tr>\n",
       "      <th>2</th>\n",
       "      <td>R1UXFD06PQXGF8</td>\n",
       "      <td>47478367</td>\n",
       "      <td>I need help!</td>\n",
       "      <td>The instructions are so difficult I cant get i...</td>\n",
       "      <td>Positive</td>\n",
       "    </tr>\n",
       "    <tr>\n",
       "      <th>3</th>\n",
       "      <td>RSPOKAESK9MEY</td>\n",
       "      <td>36856462</td>\n",
       "      <td>It's a battery.</td>\n",
       "      <td>It's a battery.</td>\n",
       "      <td>Negative</td>\n",
       "    </tr>\n",
       "    <tr>\n",
       "      <th>4</th>\n",
       "      <td>R25JSD0FT6NTJC</td>\n",
       "      <td>23678831</td>\n",
       "      <td>Replaiment</td>\n",
       "      <td>I have not uses it yet but I'm sure it will wo...</td>\n",
       "      <td>Positive</td>\n",
       "    </tr>\n",
       "  </tbody>\n",
       "</table>\n",
       "</div>"
      ],
      "text/plain": [
       "        review_id  customer_id  review_headline  \\\n",
       "0  R3FCHTWDX6M0NY     43758182       Five Stars   \n",
       "1  R1GNTVXZQMKWHW     30156333    as advertised   \n",
       "2  R1UXFD06PQXGF8     47478367     I need help!   \n",
       "3   RSPOKAESK9MEY     36856462  It's a battery.   \n",
       "4  R25JSD0FT6NTJC     23678831       Replaiment   \n",
       "\n",
       "                                         review_body sentiment  \n",
       "0                                              nice!  Negative  \n",
       "1  had to build custom boxes and this worked perf...  Negative  \n",
       "2  The instructions are so difficult I cant get i...  Positive  \n",
       "3                                    It's a battery.  Negative  \n",
       "4  I have not uses it yet but I'm sure it will wo...  Positive  "
      ]
     },
     "execution_count": 14,
     "metadata": {},
     "output_type": "execute_result"
    }
   ],
   "source": [
    "# sampling the data to select only 1000 documents\n",
    "data = df_reviews.sample(1000, random_state=786).reset_index(drop=True)\n",
    "data=data.drop(['star_rating'], axis=1)\n",
    "data.head()"
   ]
  },
  {
   "cell_type": "markdown",
   "metadata": {},
   "source": [
    "# Setup environment\n",
    "\n",
    "- Removing numeric chanracters\n",
    "- Removing special characters\n",
    "- Word tokenization\n",
    "- Stopword removal\n",
    "- Bigram extraction\n",
    "- Trigram Extraction\n",
    "- Lemmatizing\n",
    "- Custom Stopwords"
   ]
  },
  {
   "cell_type": "code",
   "execution_count": 15,
   "metadata": {
    "tags": []
   },
   "outputs": [
    {
     "data": {
      "text/html": [
       "<style  type=\"text/css\" >\n",
       "</style><table id=\"T_bc83e9e6_1cf0_11eb_b3fb_f82819a27b0c\" ><thead>    <tr>        <th class=\"col_heading level0 col0\" >Description</th>        <th class=\"col_heading level0 col1\" >Value</th>    </tr></thead><tbody>\n",
       "                <tr>\n",
       "                                <td id=\"T_bc83e9e6_1cf0_11eb_b3fb_f82819a27b0crow0_col0\" class=\"data row0 col0\" >session_id</td>\n",
       "                        <td id=\"T_bc83e9e6_1cf0_11eb_b3fb_f82819a27b0crow0_col1\" class=\"data row0 col1\" >123</td>\n",
       "            </tr>\n",
       "            <tr>\n",
       "                                <td id=\"T_bc83e9e6_1cf0_11eb_b3fb_f82819a27b0crow1_col0\" class=\"data row1 col0\" >Documents</td>\n",
       "                        <td id=\"T_bc83e9e6_1cf0_11eb_b3fb_f82819a27b0crow1_col1\" class=\"data row1 col1\" >1000</td>\n",
       "            </tr>\n",
       "            <tr>\n",
       "                                <td id=\"T_bc83e9e6_1cf0_11eb_b3fb_f82819a27b0crow2_col0\" class=\"data row2 col0\" >Vocab Size</td>\n",
       "                        <td id=\"T_bc83e9e6_1cf0_11eb_b3fb_f82819a27b0crow2_col1\" class=\"data row2 col1\" >3668</td>\n",
       "            </tr>\n",
       "            <tr>\n",
       "                                <td id=\"T_bc83e9e6_1cf0_11eb_b3fb_f82819a27b0crow3_col0\" class=\"data row3 col0\" >Custom Stopwords</td>\n",
       "                        <td id=\"T_bc83e9e6_1cf0_11eb_b3fb_f82819a27b0crow3_col1\" class=\"data row3 col1\" >False</td>\n",
       "            </tr>\n",
       "    </tbody></table>"
      ],
      "text/plain": [
       "<pandas.io.formats.style.Styler at 0x2859bf4a288>"
      ]
     },
     "metadata": {},
     "output_type": "display_data"
    }
   ],
   "source": [
    "from pycaret.nlp import *\n",
    "exp_nlp101 = setup(data = data, target = 'review_body', session_id = 123)"
   ]
  },
  {
   "cell_type": "markdown",
   "metadata": {},
   "source": [
    "Once the setup is succesfully executed it prints the information grid with the following information:\n",
    "\n",
    "- session_id : A pseduo-random number distributed as a seed in all functions for later reproducibility. If no session_id is passed, a random number is automatically generated that is distributed to all functions. In this experiment session_id is set as 123 for later reproducibility.\n",
    "\n",
    "- #Documents : Number of documents (or samples in dataset if dataframe is passed).\n",
    "\n",
    "- Vocab Size : Size of vocabulary in the corpus after applying all text pre-processing such as removal of stopwords, bigram/trigram extraction, lemmatization etc."
   ]
  },
  {
   "cell_type": "markdown",
   "metadata": {},
   "source": [
    "# Create a Topic Model\n",
    "\n",
    "A topic model is created using `create_model()` function which takes one mandatory parameter i.e. name of model as a string. This function returns a trained model object. There are 5 topic models available in PyCaret. see the docstring of `create_model()` for complete list of models."
   ]
  },
  {
   "cell_type": "markdown",
   "metadata": {},
   "source": [
    "In below example, we will create LDA model with 6 topics and we will also set `multi_core` parameter to `True`. When `multi_core` is set to `True` Latent Dirichlet Allocation (LDA) uses all CPU cores to parallelize and speed up model training."
   ]
  },
  {
   "cell_type": "code",
   "execution_count": 16,
   "metadata": {},
   "outputs": [
    {
     "name": "stdout",
     "output_type": "stream",
     "text": [
      "LdaModel(num_terms=3668, num_topics=6, decay=0.5, chunksize=100)\n"
     ]
    }
   ],
   "source": [
    "lda = create_model('lda', num_topics = 6, multi_core = True)\n",
    "print(lda)"
   ]
  },
  {
   "cell_type": "markdown",
   "metadata": {},
   "source": [
    "# Assign a Model\n",
    "\n",
    "Now that we have created a topic model, we would like to assign the topic proportions to our dataset (6818 documents / samples) to analyze the results. We will achieve this by using `assign_model()` function"
   ]
  },
  {
   "cell_type": "code",
   "execution_count": 17,
   "metadata": {},
   "outputs": [
    {
     "data": {
      "text/html": [
       "<div>\n",
       "<style scoped>\n",
       "    .dataframe tbody tr th:only-of-type {\n",
       "        vertical-align: middle;\n",
       "    }\n",
       "\n",
       "    .dataframe tbody tr th {\n",
       "        vertical-align: top;\n",
       "    }\n",
       "\n",
       "    .dataframe thead th {\n",
       "        text-align: right;\n",
       "    }\n",
       "</style>\n",
       "<table border=\"1\" class=\"dataframe\">\n",
       "  <thead>\n",
       "    <tr style=\"text-align: right;\">\n",
       "      <th></th>\n",
       "      <th>review_id</th>\n",
       "      <th>customer_id</th>\n",
       "      <th>review_headline</th>\n",
       "      <th>review_body</th>\n",
       "      <th>sentiment</th>\n",
       "      <th>Topic_0</th>\n",
       "      <th>Topic_1</th>\n",
       "      <th>Topic_2</th>\n",
       "      <th>Topic_3</th>\n",
       "      <th>Topic_4</th>\n",
       "      <th>Topic_5</th>\n",
       "      <th>Dominant_Topic</th>\n",
       "      <th>Perc_Dominant_Topic</th>\n",
       "    </tr>\n",
       "  </thead>\n",
       "  <tbody>\n",
       "    <tr>\n",
       "      <th>0</th>\n",
       "      <td>R3FCHTWDX6M0NY</td>\n",
       "      <td>43758182</td>\n",
       "      <td>Five Stars</td>\n",
       "      <td>nice</td>\n",
       "      <td>Negative</td>\n",
       "      <td>0.581179</td>\n",
       "      <td>0.083480</td>\n",
       "      <td>0.083942</td>\n",
       "      <td>0.083336</td>\n",
       "      <td>0.084608</td>\n",
       "      <td>0.083455</td>\n",
       "      <td>Topic 0</td>\n",
       "      <td>0.58</td>\n",
       "    </tr>\n",
       "    <tr>\n",
       "      <th>1</th>\n",
       "      <td>R1GNTVXZQMKWHW</td>\n",
       "      <td>30156333</td>\n",
       "      <td>as advertised</td>\n",
       "      <td>build custom box work perfectly cover good qua...</td>\n",
       "      <td>Negative</td>\n",
       "      <td>0.012993</td>\n",
       "      <td>0.012939</td>\n",
       "      <td>0.012915</td>\n",
       "      <td>0.012945</td>\n",
       "      <td>0.012934</td>\n",
       "      <td>0.935274</td>\n",
       "      <td>Topic 5</td>\n",
       "      <td>0.94</td>\n",
       "    </tr>\n",
       "    <tr>\n",
       "      <th>2</th>\n",
       "      <td>R1UXFD06PQXGF8</td>\n",
       "      <td>47478367</td>\n",
       "      <td>I need help!</td>\n",
       "      <td>instruction difficult work make sound sit shel...</td>\n",
       "      <td>Positive</td>\n",
       "      <td>0.018717</td>\n",
       "      <td>0.018567</td>\n",
       "      <td>0.322331</td>\n",
       "      <td>0.018717</td>\n",
       "      <td>0.018717</td>\n",
       "      <td>0.602951</td>\n",
       "      <td>Topic 5</td>\n",
       "      <td>0.60</td>\n",
       "    </tr>\n",
       "    <tr>\n",
       "      <th>3</th>\n",
       "      <td>RSPOKAESK9MEY</td>\n",
       "      <td>36856462</td>\n",
       "      <td>It's a battery.</td>\n",
       "      <td>battery</td>\n",
       "      <td>Negative</td>\n",
       "      <td>0.580304</td>\n",
       "      <td>0.084579</td>\n",
       "      <td>0.083434</td>\n",
       "      <td>0.083336</td>\n",
       "      <td>0.083590</td>\n",
       "      <td>0.084758</td>\n",
       "      <td>Topic 0</td>\n",
       "      <td>0.58</td>\n",
       "    </tr>\n",
       "    <tr>\n",
       "      <th>4</th>\n",
       "      <td>R25JSD0FT6NTJC</td>\n",
       "      <td>23678831</td>\n",
       "      <td>Replaiment</td>\n",
       "      <td>use sure work come clean</td>\n",
       "      <td>Positive</td>\n",
       "      <td>0.028109</td>\n",
       "      <td>0.027948</td>\n",
       "      <td>0.028004</td>\n",
       "      <td>0.027904</td>\n",
       "      <td>0.860042</td>\n",
       "      <td>0.027992</td>\n",
       "      <td>Topic 4</td>\n",
       "      <td>0.86</td>\n",
       "    </tr>\n",
       "  </tbody>\n",
       "</table>\n",
       "</div>"
      ],
      "text/plain": [
       "        review_id  customer_id  review_headline  \\\n",
       "0  R3FCHTWDX6M0NY     43758182       Five Stars   \n",
       "1  R1GNTVXZQMKWHW     30156333    as advertised   \n",
       "2  R1UXFD06PQXGF8     47478367     I need help!   \n",
       "3   RSPOKAESK9MEY     36856462  It's a battery.   \n",
       "4  R25JSD0FT6NTJC     23678831       Replaiment   \n",
       "\n",
       "                                         review_body sentiment   Topic_0  \\\n",
       "0                                               nice  Negative  0.581179   \n",
       "1  build custom box work perfectly cover good qua...  Negative  0.012993   \n",
       "2  instruction difficult work make sound sit shel...  Positive  0.018717   \n",
       "3                                            battery  Negative  0.580304   \n",
       "4                           use sure work come clean  Positive  0.028109   \n",
       "\n",
       "    Topic_1   Topic_2   Topic_3   Topic_4   Topic_5 Dominant_Topic  \\\n",
       "0  0.083480  0.083942  0.083336  0.084608  0.083455        Topic 0   \n",
       "1  0.012939  0.012915  0.012945  0.012934  0.935274        Topic 5   \n",
       "2  0.018567  0.322331  0.018717  0.018717  0.602951        Topic 5   \n",
       "3  0.084579  0.083434  0.083336  0.083590  0.084758        Topic 0   \n",
       "4  0.027948  0.028004  0.027904  0.860042  0.027992        Topic 4   \n",
       "\n",
       "   Perc_Dominant_Topic  \n",
       "0                 0.58  \n",
       "1                 0.94  \n",
       "2                 0.60  \n",
       "3                 0.58  \n",
       "4                 0.86  "
      ]
     },
     "execution_count": 17,
     "metadata": {},
     "output_type": "execute_result"
    }
   ],
   "source": [
    "lda_results = assign_model(lda)\n",
    "lda_results.head()"
   ]
  },
  {
   "cell_type": "markdown",
   "metadata": {},
   "source": [
    "Notice how 6 additional columns are now added to the dataframe. `review_body` is the text after all pre-processing. `Topic_0 ... Topic_3` are the topic proportions and represents the distribution of topics for each document. `Dominant_Topic` is the topic number with highest proportion and `Perc_Dominant_Topic` is the percentage of dominant topic over 1 (only shown when models are stochastic i.e. sum of all proportions equal to 1) ."
   ]
  },
  {
   "cell_type": "markdown",
   "metadata": {},
   "source": [
    "# Plot Model\n",
    "\n",
    "`plot_model()` function can be used to analyze the overall corpus or only specific topics extracted through topic model. Hence the function `plot_model()` can also work without passing any trained model object"
   ]
  },
  {
   "cell_type": "markdown",
   "metadata": {},
   "source": [
    "## Frequency Distribution of Entire Corpus"
   ]
  },
  {
   "cell_type": "code",
   "execution_count": 18,
   "metadata": {},
   "outputs": [
    {
     "data": {
      "text/html": [
       "        <script type=\"text/javascript\">\n",
       "        window.PlotlyConfig = {MathJaxConfig: 'local'};\n",
       "        if (window.MathJax) {MathJax.Hub.Config({SVG: {font: \"STIX-Web\"}});}\n",
       "        if (typeof require !== 'undefined') {\n",
       "        require.undef(\"plotly\");\n",
       "        requirejs.config({\n",
       "            paths: {\n",
       "                'plotly': ['https://cdn.plot.ly/plotly-latest.min']\n",
       "            }\n",
       "        });\n",
       "        require(['plotly'], function(Plotly) {\n",
       "            window._Plotly = Plotly;\n",
       "        });\n",
       "        }\n",
       "        </script>\n",
       "        "
      ]
     },
     "metadata": {},
     "output_type": "display_data"
    },
    {
     "data": {
      "application/vnd.plotly.v1+json": {
       "config": {
        "linkText": "Export to plot.ly",
        "plotlyServerURL": "https://plot.ly",
        "showLink": true
       },
       "data": [
        {
         "marker": {
          "color": "rgba(255, 153, 51, 0.6)",
          "line": {
           "color": "rgba(255, 153, 51, 1.0)",
           "width": 1
          }
         },
         "name": "count",
         "orientation": "v",
         "text": "",
         "type": "bar",
         "x": [
          "use",
          "sound",
          "work",
          "br",
          "great",
          "good",
          "well",
          "buy",
          "would",
          "get",
          "product",
          "quality",
          "go",
          "headphone",
          "price",
          "time",
          "cable",
          "need",
          "make",
          "speaker",
          "look",
          "much",
          "really",
          "also",
          "tv",
          "want",
          "find",
          "set",
          "take",
          "ear",
          "purchase",
          "easy",
          "come",
          "say",
          "device",
          "phone",
          "music",
          "charge",
          "even",
          "try",
          "small",
          "remote",
          "plug",
          "little",
          "battery",
          "still",
          "thing",
          "year",
          "player",
          "long",
          "problem",
          "play",
          "review",
          "nice",
          "love",
          "high",
          "way",
          "old",
          "could",
          "fit",
          "unit",
          "radio",
          "new",
          "audio",
          "put",
          "power",
          "back",
          "give",
          "pair",
          "volume",
          "month",
          "cheap",
          "may",
          "feature",
          "think",
          "case",
          "listen",
          "last",
          "receiver",
          "system",
          "pretty",
          "issue",
          "far",
          "first",
          "room",
          "keep",
          "turn",
          "lot",
          "expect",
          "hear",
          "big",
          "recommend",
          "fine",
          "computer",
          "know",
          "cd",
          "day",
          "see",
          "order",
          "seem"
         ],
         "y": [
          443,
          443,
          415,
          357,
          343,
          336,
          272,
          252,
          229,
          222,
          190,
          182,
          178,
          172,
          168,
          167,
          164,
          163,
          158,
          152,
          149,
          134,
          132,
          131,
          129,
          119,
          117,
          116,
          116,
          116,
          115,
          113,
          112,
          111,
          110,
          109,
          109,
          103,
          103,
          99,
          98,
          97,
          95,
          95,
          94,
          94,
          90,
          89,
          89,
          87,
          87,
          87,
          86,
          86,
          84,
          81,
          80,
          79,
          77,
          76,
          75,
          72,
          72,
          72,
          72,
          71,
          71,
          71,
          70,
          70,
          69,
          69,
          69,
          69,
          68,
          68,
          68,
          67,
          67,
          66,
          66,
          66,
          64,
          63,
          63,
          63,
          63,
          63,
          62,
          62,
          62,
          61,
          61,
          61,
          61,
          59,
          59,
          59,
          58,
          58
         ]
        }
       ],
       "layout": {
        "legend": {
         "bgcolor": "#F5F6F9",
         "font": {
          "color": "#4D5663"
         }
        },
        "paper_bgcolor": "#F5F6F9",
        "plot_bgcolor": "#F5F6F9",
        "template": {
         "data": {
          "bar": [
           {
            "error_x": {
             "color": "#2a3f5f"
            },
            "error_y": {
             "color": "#2a3f5f"
            },
            "marker": {
             "line": {
              "color": "#E5ECF6",
              "width": 0.5
             }
            },
            "type": "bar"
           }
          ],
          "barpolar": [
           {
            "marker": {
             "line": {
              "color": "#E5ECF6",
              "width": 0.5
             }
            },
            "type": "barpolar"
           }
          ],
          "carpet": [
           {
            "aaxis": {
             "endlinecolor": "#2a3f5f",
             "gridcolor": "white",
             "linecolor": "white",
             "minorgridcolor": "white",
             "startlinecolor": "#2a3f5f"
            },
            "baxis": {
             "endlinecolor": "#2a3f5f",
             "gridcolor": "white",
             "linecolor": "white",
             "minorgridcolor": "white",
             "startlinecolor": "#2a3f5f"
            },
            "type": "carpet"
           }
          ],
          "choropleth": [
           {
            "colorbar": {
             "outlinewidth": 0,
             "ticks": ""
            },
            "type": "choropleth"
           }
          ],
          "contour": [
           {
            "colorbar": {
             "outlinewidth": 0,
             "ticks": ""
            },
            "colorscale": [
             [
              0,
              "#0d0887"
             ],
             [
              0.1111111111111111,
              "#46039f"
             ],
             [
              0.2222222222222222,
              "#7201a8"
             ],
             [
              0.3333333333333333,
              "#9c179e"
             ],
             [
              0.4444444444444444,
              "#bd3786"
             ],
             [
              0.5555555555555556,
              "#d8576b"
             ],
             [
              0.6666666666666666,
              "#ed7953"
             ],
             [
              0.7777777777777778,
              "#fb9f3a"
             ],
             [
              0.8888888888888888,
              "#fdca26"
             ],
             [
              1,
              "#f0f921"
             ]
            ],
            "type": "contour"
           }
          ],
          "contourcarpet": [
           {
            "colorbar": {
             "outlinewidth": 0,
             "ticks": ""
            },
            "type": "contourcarpet"
           }
          ],
          "heatmap": [
           {
            "colorbar": {
             "outlinewidth": 0,
             "ticks": ""
            },
            "colorscale": [
             [
              0,
              "#0d0887"
             ],
             [
              0.1111111111111111,
              "#46039f"
             ],
             [
              0.2222222222222222,
              "#7201a8"
             ],
             [
              0.3333333333333333,
              "#9c179e"
             ],
             [
              0.4444444444444444,
              "#bd3786"
             ],
             [
              0.5555555555555556,
              "#d8576b"
             ],
             [
              0.6666666666666666,
              "#ed7953"
             ],
             [
              0.7777777777777778,
              "#fb9f3a"
             ],
             [
              0.8888888888888888,
              "#fdca26"
             ],
             [
              1,
              "#f0f921"
             ]
            ],
            "type": "heatmap"
           }
          ],
          "heatmapgl": [
           {
            "colorbar": {
             "outlinewidth": 0,
             "ticks": ""
            },
            "colorscale": [
             [
              0,
              "#0d0887"
             ],
             [
              0.1111111111111111,
              "#46039f"
             ],
             [
              0.2222222222222222,
              "#7201a8"
             ],
             [
              0.3333333333333333,
              "#9c179e"
             ],
             [
              0.4444444444444444,
              "#bd3786"
             ],
             [
              0.5555555555555556,
              "#d8576b"
             ],
             [
              0.6666666666666666,
              "#ed7953"
             ],
             [
              0.7777777777777778,
              "#fb9f3a"
             ],
             [
              0.8888888888888888,
              "#fdca26"
             ],
             [
              1,
              "#f0f921"
             ]
            ],
            "type": "heatmapgl"
           }
          ],
          "histogram": [
           {
            "marker": {
             "colorbar": {
              "outlinewidth": 0,
              "ticks": ""
             }
            },
            "type": "histogram"
           }
          ],
          "histogram2d": [
           {
            "colorbar": {
             "outlinewidth": 0,
             "ticks": ""
            },
            "colorscale": [
             [
              0,
              "#0d0887"
             ],
             [
              0.1111111111111111,
              "#46039f"
             ],
             [
              0.2222222222222222,
              "#7201a8"
             ],
             [
              0.3333333333333333,
              "#9c179e"
             ],
             [
              0.4444444444444444,
              "#bd3786"
             ],
             [
              0.5555555555555556,
              "#d8576b"
             ],
             [
              0.6666666666666666,
              "#ed7953"
             ],
             [
              0.7777777777777778,
              "#fb9f3a"
             ],
             [
              0.8888888888888888,
              "#fdca26"
             ],
             [
              1,
              "#f0f921"
             ]
            ],
            "type": "histogram2d"
           }
          ],
          "histogram2dcontour": [
           {
            "colorbar": {
             "outlinewidth": 0,
             "ticks": ""
            },
            "colorscale": [
             [
              0,
              "#0d0887"
             ],
             [
              0.1111111111111111,
              "#46039f"
             ],
             [
              0.2222222222222222,
              "#7201a8"
             ],
             [
              0.3333333333333333,
              "#9c179e"
             ],
             [
              0.4444444444444444,
              "#bd3786"
             ],
             [
              0.5555555555555556,
              "#d8576b"
             ],
             [
              0.6666666666666666,
              "#ed7953"
             ],
             [
              0.7777777777777778,
              "#fb9f3a"
             ],
             [
              0.8888888888888888,
              "#fdca26"
             ],
             [
              1,
              "#f0f921"
             ]
            ],
            "type": "histogram2dcontour"
           }
          ],
          "mesh3d": [
           {
            "colorbar": {
             "outlinewidth": 0,
             "ticks": ""
            },
            "type": "mesh3d"
           }
          ],
          "parcoords": [
           {
            "line": {
             "colorbar": {
              "outlinewidth": 0,
              "ticks": ""
             }
            },
            "type": "parcoords"
           }
          ],
          "pie": [
           {
            "automargin": true,
            "type": "pie"
           }
          ],
          "scatter": [
           {
            "marker": {
             "colorbar": {
              "outlinewidth": 0,
              "ticks": ""
             }
            },
            "type": "scatter"
           }
          ],
          "scatter3d": [
           {
            "line": {
             "colorbar": {
              "outlinewidth": 0,
              "ticks": ""
             }
            },
            "marker": {
             "colorbar": {
              "outlinewidth": 0,
              "ticks": ""
             }
            },
            "type": "scatter3d"
           }
          ],
          "scattercarpet": [
           {
            "marker": {
             "colorbar": {
              "outlinewidth": 0,
              "ticks": ""
             }
            },
            "type": "scattercarpet"
           }
          ],
          "scattergeo": [
           {
            "marker": {
             "colorbar": {
              "outlinewidth": 0,
              "ticks": ""
             }
            },
            "type": "scattergeo"
           }
          ],
          "scattergl": [
           {
            "marker": {
             "colorbar": {
              "outlinewidth": 0,
              "ticks": ""
             }
            },
            "type": "scattergl"
           }
          ],
          "scattermapbox": [
           {
            "marker": {
             "colorbar": {
              "outlinewidth": 0,
              "ticks": ""
             }
            },
            "type": "scattermapbox"
           }
          ],
          "scatterpolar": [
           {
            "marker": {
             "colorbar": {
              "outlinewidth": 0,
              "ticks": ""
             }
            },
            "type": "scatterpolar"
           }
          ],
          "scatterpolargl": [
           {
            "marker": {
             "colorbar": {
              "outlinewidth": 0,
              "ticks": ""
             }
            },
            "type": "scatterpolargl"
           }
          ],
          "scatterternary": [
           {
            "marker": {
             "colorbar": {
              "outlinewidth": 0,
              "ticks": ""
             }
            },
            "type": "scatterternary"
           }
          ],
          "surface": [
           {
            "colorbar": {
             "outlinewidth": 0,
             "ticks": ""
            },
            "colorscale": [
             [
              0,
              "#0d0887"
             ],
             [
              0.1111111111111111,
              "#46039f"
             ],
             [
              0.2222222222222222,
              "#7201a8"
             ],
             [
              0.3333333333333333,
              "#9c179e"
             ],
             [
              0.4444444444444444,
              "#bd3786"
             ],
             [
              0.5555555555555556,
              "#d8576b"
             ],
             [
              0.6666666666666666,
              "#ed7953"
             ],
             [
              0.7777777777777778,
              "#fb9f3a"
             ],
             [
              0.8888888888888888,
              "#fdca26"
             ],
             [
              1,
              "#f0f921"
             ]
            ],
            "type": "surface"
           }
          ],
          "table": [
           {
            "cells": {
             "fill": {
              "color": "#EBF0F8"
             },
             "line": {
              "color": "white"
             }
            },
            "header": {
             "fill": {
              "color": "#C8D4E3"
             },
             "line": {
              "color": "white"
             }
            },
            "type": "table"
           }
          ]
         },
         "layout": {
          "annotationdefaults": {
           "arrowcolor": "#2a3f5f",
           "arrowhead": 0,
           "arrowwidth": 1
          },
          "coloraxis": {
           "colorbar": {
            "outlinewidth": 0,
            "ticks": ""
           }
          },
          "colorscale": {
           "diverging": [
            [
             0,
             "#8e0152"
            ],
            [
             0.1,
             "#c51b7d"
            ],
            [
             0.2,
             "#de77ae"
            ],
            [
             0.3,
             "#f1b6da"
            ],
            [
             0.4,
             "#fde0ef"
            ],
            [
             0.5,
             "#f7f7f7"
            ],
            [
             0.6,
             "#e6f5d0"
            ],
            [
             0.7,
             "#b8e186"
            ],
            [
             0.8,
             "#7fbc41"
            ],
            [
             0.9,
             "#4d9221"
            ],
            [
             1,
             "#276419"
            ]
           ],
           "sequential": [
            [
             0,
             "#0d0887"
            ],
            [
             0.1111111111111111,
             "#46039f"
            ],
            [
             0.2222222222222222,
             "#7201a8"
            ],
            [
             0.3333333333333333,
             "#9c179e"
            ],
            [
             0.4444444444444444,
             "#bd3786"
            ],
            [
             0.5555555555555556,
             "#d8576b"
            ],
            [
             0.6666666666666666,
             "#ed7953"
            ],
            [
             0.7777777777777778,
             "#fb9f3a"
            ],
            [
             0.8888888888888888,
             "#fdca26"
            ],
            [
             1,
             "#f0f921"
            ]
           ],
           "sequentialminus": [
            [
             0,
             "#0d0887"
            ],
            [
             0.1111111111111111,
             "#46039f"
            ],
            [
             0.2222222222222222,
             "#7201a8"
            ],
            [
             0.3333333333333333,
             "#9c179e"
            ],
            [
             0.4444444444444444,
             "#bd3786"
            ],
            [
             0.5555555555555556,
             "#d8576b"
            ],
            [
             0.6666666666666666,
             "#ed7953"
            ],
            [
             0.7777777777777778,
             "#fb9f3a"
            ],
            [
             0.8888888888888888,
             "#fdca26"
            ],
            [
             1,
             "#f0f921"
            ]
           ]
          },
          "colorway": [
           "#636efa",
           "#EF553B",
           "#00cc96",
           "#ab63fa",
           "#FFA15A",
           "#19d3f3",
           "#FF6692",
           "#B6E880",
           "#FF97FF",
           "#FECB52"
          ],
          "font": {
           "color": "#2a3f5f"
          },
          "geo": {
           "bgcolor": "white",
           "lakecolor": "white",
           "landcolor": "#E5ECF6",
           "showlakes": true,
           "showland": true,
           "subunitcolor": "white"
          },
          "hoverlabel": {
           "align": "left"
          },
          "hovermode": "closest",
          "mapbox": {
           "style": "light"
          },
          "paper_bgcolor": "white",
          "plot_bgcolor": "#E5ECF6",
          "polar": {
           "angularaxis": {
            "gridcolor": "white",
            "linecolor": "white",
            "ticks": ""
           },
           "bgcolor": "#E5ECF6",
           "radialaxis": {
            "gridcolor": "white",
            "linecolor": "white",
            "ticks": ""
           }
          },
          "scene": {
           "xaxis": {
            "backgroundcolor": "#E5ECF6",
            "gridcolor": "white",
            "gridwidth": 2,
            "linecolor": "white",
            "showbackground": true,
            "ticks": "",
            "zerolinecolor": "white"
           },
           "yaxis": {
            "backgroundcolor": "#E5ECF6",
            "gridcolor": "white",
            "gridwidth": 2,
            "linecolor": "white",
            "showbackground": true,
            "ticks": "",
            "zerolinecolor": "white"
           },
           "zaxis": {
            "backgroundcolor": "#E5ECF6",
            "gridcolor": "white",
            "gridwidth": 2,
            "linecolor": "white",
            "showbackground": true,
            "ticks": "",
            "zerolinecolor": "white"
           }
          },
          "shapedefaults": {
           "line": {
            "color": "#2a3f5f"
           }
          },
          "ternary": {
           "aaxis": {
            "gridcolor": "white",
            "linecolor": "white",
            "ticks": ""
           },
           "baxis": {
            "gridcolor": "white",
            "linecolor": "white",
            "ticks": ""
           },
           "bgcolor": "#E5ECF6",
           "caxis": {
            "gridcolor": "white",
            "linecolor": "white",
            "ticks": ""
           }
          },
          "title": {
           "x": 0.05
          },
          "xaxis": {
           "automargin": true,
           "gridcolor": "white",
           "linecolor": "white",
           "ticks": "",
           "title": {
            "standoff": 15
           },
           "zerolinecolor": "white",
           "zerolinewidth": 2
          },
          "yaxis": {
           "automargin": true,
           "gridcolor": "white",
           "linecolor": "white",
           "ticks": "",
           "title": {
            "standoff": 15
           },
           "zerolinecolor": "white",
           "zerolinewidth": 2
          }
         }
        },
        "title": {
         "font": {
          "color": "#4D5663"
         },
         "text": "Top 100 words after removing stop words"
        },
        "xaxis": {
         "gridcolor": "#E1E5ED",
         "linecolor": "black",
         "showgrid": true,
         "tickfont": {
          "color": "#4D5663"
         },
         "title": {
          "font": {
           "color": "#4D5663"
          },
          "text": ""
         },
         "zerolinecolor": "#E1E5ED"
        },
        "yaxis": {
         "gridcolor": "#E1E5ED",
         "linecolor": "black",
         "showgrid": true,
         "tickfont": {
          "color": "#4D5663"
         },
         "title": {
          "font": {
           "color": "#4D5663"
          },
          "text": "Count"
         },
         "zerolinecolor": "#E1E5ED"
        }
       }
      },
      "text/html": [
       "<div>\n",
       "        \n",
       "        \n",
       "            <div id=\"3fcb55df-a13d-4d00-9430-91e74afb5c20\" class=\"plotly-graph-div\" style=\"height:525px; width:100%;\"></div>\n",
       "            <script type=\"text/javascript\">\n",
       "                require([\"plotly\"], function(Plotly) {\n",
       "                    window.PLOTLYENV=window.PLOTLYENV || {};\n",
       "                    window.PLOTLYENV.BASE_URL='https://plot.ly';\n",
       "                    \n",
       "                if (document.getElementById(\"3fcb55df-a13d-4d00-9430-91e74afb5c20\")) {\n",
       "                    Plotly.newPlot(\n",
       "                        '3fcb55df-a13d-4d00-9430-91e74afb5c20',\n",
       "                        [{\"marker\": {\"color\": \"rgba(255, 153, 51, 0.6)\", \"line\": {\"color\": \"rgba(255, 153, 51, 1.0)\", \"width\": 1}}, \"name\": \"count\", \"orientation\": \"v\", \"text\": \"\", \"type\": \"bar\", \"x\": [\"use\", \"sound\", \"work\", \"br\", \"great\", \"good\", \"well\", \"buy\", \"would\", \"get\", \"product\", \"quality\", \"go\", \"headphone\", \"price\", \"time\", \"cable\", \"need\", \"make\", \"speaker\", \"look\", \"much\", \"really\", \"also\", \"tv\", \"want\", \"find\", \"set\", \"take\", \"ear\", \"purchase\", \"easy\", \"come\", \"say\", \"device\", \"phone\", \"music\", \"charge\", \"even\", \"try\", \"small\", \"remote\", \"plug\", \"little\", \"battery\", \"still\", \"thing\", \"year\", \"player\", \"long\", \"problem\", \"play\", \"review\", \"nice\", \"love\", \"high\", \"way\", \"old\", \"could\", \"fit\", \"unit\", \"radio\", \"new\", \"audio\", \"put\", \"power\", \"back\", \"give\", \"pair\", \"volume\", \"month\", \"cheap\", \"may\", \"feature\", \"think\", \"case\", \"listen\", \"last\", \"receiver\", \"system\", \"pretty\", \"issue\", \"far\", \"first\", \"room\", \"keep\", \"turn\", \"lot\", \"expect\", \"hear\", \"big\", \"recommend\", \"fine\", \"computer\", \"know\", \"cd\", \"day\", \"see\", \"order\", \"seem\"], \"y\": [443, 443, 415, 357, 343, 336, 272, 252, 229, 222, 190, 182, 178, 172, 168, 167, 164, 163, 158, 152, 149, 134, 132, 131, 129, 119, 117, 116, 116, 116, 115, 113, 112, 111, 110, 109, 109, 103, 103, 99, 98, 97, 95, 95, 94, 94, 90, 89, 89, 87, 87, 87, 86, 86, 84, 81, 80, 79, 77, 76, 75, 72, 72, 72, 72, 71, 71, 71, 70, 70, 69, 69, 69, 69, 68, 68, 68, 67, 67, 66, 66, 66, 64, 63, 63, 63, 63, 63, 62, 62, 62, 61, 61, 61, 61, 59, 59, 59, 58, 58]}],\n",
       "                        {\"legend\": {\"bgcolor\": \"#F5F6F9\", \"font\": {\"color\": \"#4D5663\"}}, \"paper_bgcolor\": \"#F5F6F9\", \"plot_bgcolor\": \"#F5F6F9\", \"template\": {\"data\": {\"bar\": [{\"error_x\": {\"color\": \"#2a3f5f\"}, \"error_y\": {\"color\": \"#2a3f5f\"}, \"marker\": {\"line\": {\"color\": \"#E5ECF6\", \"width\": 0.5}}, \"type\": \"bar\"}], \"barpolar\": [{\"marker\": {\"line\": {\"color\": \"#E5ECF6\", \"width\": 0.5}}, \"type\": \"barpolar\"}], \"carpet\": [{\"aaxis\": {\"endlinecolor\": \"#2a3f5f\", \"gridcolor\": \"white\", \"linecolor\": \"white\", \"minorgridcolor\": \"white\", \"startlinecolor\": \"#2a3f5f\"}, \"baxis\": {\"endlinecolor\": \"#2a3f5f\", \"gridcolor\": \"white\", \"linecolor\": \"white\", \"minorgridcolor\": \"white\", \"startlinecolor\": \"#2a3f5f\"}, \"type\": \"carpet\"}], \"choropleth\": [{\"colorbar\": {\"outlinewidth\": 0, \"ticks\": \"\"}, \"type\": \"choropleth\"}], \"contour\": [{\"colorbar\": {\"outlinewidth\": 0, \"ticks\": \"\"}, \"colorscale\": [[0.0, \"#0d0887\"], [0.1111111111111111, \"#46039f\"], [0.2222222222222222, \"#7201a8\"], [0.3333333333333333, \"#9c179e\"], [0.4444444444444444, \"#bd3786\"], [0.5555555555555556, \"#d8576b\"], [0.6666666666666666, \"#ed7953\"], [0.7777777777777778, \"#fb9f3a\"], [0.8888888888888888, \"#fdca26\"], [1.0, \"#f0f921\"]], \"type\": \"contour\"}], \"contourcarpet\": [{\"colorbar\": {\"outlinewidth\": 0, \"ticks\": \"\"}, \"type\": \"contourcarpet\"}], \"heatmap\": [{\"colorbar\": {\"outlinewidth\": 0, \"ticks\": \"\"}, \"colorscale\": [[0.0, \"#0d0887\"], [0.1111111111111111, \"#46039f\"], [0.2222222222222222, \"#7201a8\"], [0.3333333333333333, \"#9c179e\"], [0.4444444444444444, \"#bd3786\"], [0.5555555555555556, \"#d8576b\"], [0.6666666666666666, \"#ed7953\"], [0.7777777777777778, \"#fb9f3a\"], [0.8888888888888888, \"#fdca26\"], [1.0, \"#f0f921\"]], \"type\": \"heatmap\"}], \"heatmapgl\": [{\"colorbar\": {\"outlinewidth\": 0, \"ticks\": \"\"}, \"colorscale\": [[0.0, \"#0d0887\"], [0.1111111111111111, \"#46039f\"], [0.2222222222222222, \"#7201a8\"], [0.3333333333333333, \"#9c179e\"], [0.4444444444444444, \"#bd3786\"], [0.5555555555555556, \"#d8576b\"], [0.6666666666666666, \"#ed7953\"], [0.7777777777777778, \"#fb9f3a\"], [0.8888888888888888, \"#fdca26\"], [1.0, \"#f0f921\"]], \"type\": \"heatmapgl\"}], \"histogram\": [{\"marker\": {\"colorbar\": {\"outlinewidth\": 0, \"ticks\": \"\"}}, \"type\": \"histogram\"}], \"histogram2d\": [{\"colorbar\": {\"outlinewidth\": 0, \"ticks\": \"\"}, \"colorscale\": [[0.0, \"#0d0887\"], [0.1111111111111111, \"#46039f\"], [0.2222222222222222, \"#7201a8\"], [0.3333333333333333, \"#9c179e\"], [0.4444444444444444, \"#bd3786\"], [0.5555555555555556, \"#d8576b\"], [0.6666666666666666, \"#ed7953\"], [0.7777777777777778, \"#fb9f3a\"], [0.8888888888888888, \"#fdca26\"], [1.0, \"#f0f921\"]], \"type\": \"histogram2d\"}], \"histogram2dcontour\": [{\"colorbar\": {\"outlinewidth\": 0, \"ticks\": \"\"}, \"colorscale\": [[0.0, \"#0d0887\"], [0.1111111111111111, \"#46039f\"], [0.2222222222222222, \"#7201a8\"], [0.3333333333333333, \"#9c179e\"], [0.4444444444444444, \"#bd3786\"], [0.5555555555555556, \"#d8576b\"], [0.6666666666666666, \"#ed7953\"], [0.7777777777777778, \"#fb9f3a\"], [0.8888888888888888, \"#fdca26\"], [1.0, \"#f0f921\"]], \"type\": \"histogram2dcontour\"}], \"mesh3d\": [{\"colorbar\": {\"outlinewidth\": 0, \"ticks\": \"\"}, \"type\": \"mesh3d\"}], \"parcoords\": [{\"line\": {\"colorbar\": {\"outlinewidth\": 0, \"ticks\": \"\"}}, \"type\": \"parcoords\"}], \"pie\": [{\"automargin\": true, \"type\": \"pie\"}], \"scatter\": [{\"marker\": {\"colorbar\": {\"outlinewidth\": 0, \"ticks\": \"\"}}, \"type\": \"scatter\"}], \"scatter3d\": [{\"line\": {\"colorbar\": {\"outlinewidth\": 0, \"ticks\": \"\"}}, \"marker\": {\"colorbar\": {\"outlinewidth\": 0, \"ticks\": \"\"}}, \"type\": \"scatter3d\"}], \"scattercarpet\": [{\"marker\": {\"colorbar\": {\"outlinewidth\": 0, \"ticks\": \"\"}}, \"type\": \"scattercarpet\"}], \"scattergeo\": [{\"marker\": {\"colorbar\": {\"outlinewidth\": 0, \"ticks\": \"\"}}, \"type\": \"scattergeo\"}], \"scattergl\": [{\"marker\": {\"colorbar\": {\"outlinewidth\": 0, \"ticks\": \"\"}}, \"type\": \"scattergl\"}], \"scattermapbox\": [{\"marker\": {\"colorbar\": {\"outlinewidth\": 0, \"ticks\": \"\"}}, \"type\": \"scattermapbox\"}], \"scatterpolar\": [{\"marker\": {\"colorbar\": {\"outlinewidth\": 0, \"ticks\": \"\"}}, \"type\": \"scatterpolar\"}], \"scatterpolargl\": [{\"marker\": {\"colorbar\": {\"outlinewidth\": 0, \"ticks\": \"\"}}, \"type\": \"scatterpolargl\"}], \"scatterternary\": [{\"marker\": {\"colorbar\": {\"outlinewidth\": 0, \"ticks\": \"\"}}, \"type\": \"scatterternary\"}], \"surface\": [{\"colorbar\": {\"outlinewidth\": 0, \"ticks\": \"\"}, \"colorscale\": [[0.0, \"#0d0887\"], [0.1111111111111111, \"#46039f\"], [0.2222222222222222, \"#7201a8\"], [0.3333333333333333, \"#9c179e\"], [0.4444444444444444, \"#bd3786\"], [0.5555555555555556, \"#d8576b\"], [0.6666666666666666, \"#ed7953\"], [0.7777777777777778, \"#fb9f3a\"], [0.8888888888888888, \"#fdca26\"], [1.0, \"#f0f921\"]], \"type\": \"surface\"}], \"table\": [{\"cells\": {\"fill\": {\"color\": \"#EBF0F8\"}, \"line\": {\"color\": \"white\"}}, \"header\": {\"fill\": {\"color\": \"#C8D4E3\"}, \"line\": {\"color\": \"white\"}}, \"type\": \"table\"}]}, \"layout\": {\"annotationdefaults\": {\"arrowcolor\": \"#2a3f5f\", \"arrowhead\": 0, \"arrowwidth\": 1}, \"coloraxis\": {\"colorbar\": {\"outlinewidth\": 0, \"ticks\": \"\"}}, \"colorscale\": {\"diverging\": [[0, \"#8e0152\"], [0.1, \"#c51b7d\"], [0.2, \"#de77ae\"], [0.3, \"#f1b6da\"], [0.4, \"#fde0ef\"], [0.5, \"#f7f7f7\"], [0.6, \"#e6f5d0\"], [0.7, \"#b8e186\"], [0.8, \"#7fbc41\"], [0.9, \"#4d9221\"], [1, \"#276419\"]], \"sequential\": [[0.0, \"#0d0887\"], [0.1111111111111111, \"#46039f\"], [0.2222222222222222, \"#7201a8\"], [0.3333333333333333, \"#9c179e\"], [0.4444444444444444, \"#bd3786\"], [0.5555555555555556, \"#d8576b\"], [0.6666666666666666, \"#ed7953\"], [0.7777777777777778, \"#fb9f3a\"], [0.8888888888888888, \"#fdca26\"], [1.0, \"#f0f921\"]], \"sequentialminus\": [[0.0, \"#0d0887\"], [0.1111111111111111, \"#46039f\"], [0.2222222222222222, \"#7201a8\"], [0.3333333333333333, \"#9c179e\"], [0.4444444444444444, \"#bd3786\"], [0.5555555555555556, \"#d8576b\"], [0.6666666666666666, \"#ed7953\"], [0.7777777777777778, \"#fb9f3a\"], [0.8888888888888888, \"#fdca26\"], [1.0, \"#f0f921\"]]}, \"colorway\": [\"#636efa\", \"#EF553B\", \"#00cc96\", \"#ab63fa\", \"#FFA15A\", \"#19d3f3\", \"#FF6692\", \"#B6E880\", \"#FF97FF\", \"#FECB52\"], \"font\": {\"color\": \"#2a3f5f\"}, \"geo\": {\"bgcolor\": \"white\", \"lakecolor\": \"white\", \"landcolor\": \"#E5ECF6\", \"showlakes\": true, \"showland\": true, \"subunitcolor\": \"white\"}, \"hoverlabel\": {\"align\": \"left\"}, \"hovermode\": \"closest\", \"mapbox\": {\"style\": \"light\"}, \"paper_bgcolor\": \"white\", \"plot_bgcolor\": \"#E5ECF6\", \"polar\": {\"angularaxis\": {\"gridcolor\": \"white\", \"linecolor\": \"white\", \"ticks\": \"\"}, \"bgcolor\": \"#E5ECF6\", \"radialaxis\": {\"gridcolor\": \"white\", \"linecolor\": \"white\", \"ticks\": \"\"}}, \"scene\": {\"xaxis\": {\"backgroundcolor\": \"#E5ECF6\", \"gridcolor\": \"white\", \"gridwidth\": 2, \"linecolor\": \"white\", \"showbackground\": true, \"ticks\": \"\", \"zerolinecolor\": \"white\"}, \"yaxis\": {\"backgroundcolor\": \"#E5ECF6\", \"gridcolor\": \"white\", \"gridwidth\": 2, \"linecolor\": \"white\", \"showbackground\": true, \"ticks\": \"\", \"zerolinecolor\": \"white\"}, \"zaxis\": {\"backgroundcolor\": \"#E5ECF6\", \"gridcolor\": \"white\", \"gridwidth\": 2, \"linecolor\": \"white\", \"showbackground\": true, \"ticks\": \"\", \"zerolinecolor\": \"white\"}}, \"shapedefaults\": {\"line\": {\"color\": \"#2a3f5f\"}}, \"ternary\": {\"aaxis\": {\"gridcolor\": \"white\", \"linecolor\": \"white\", \"ticks\": \"\"}, \"baxis\": {\"gridcolor\": \"white\", \"linecolor\": \"white\", \"ticks\": \"\"}, \"bgcolor\": \"#E5ECF6\", \"caxis\": {\"gridcolor\": \"white\", \"linecolor\": \"white\", \"ticks\": \"\"}}, \"title\": {\"x\": 0.05}, \"xaxis\": {\"automargin\": true, \"gridcolor\": \"white\", \"linecolor\": \"white\", \"ticks\": \"\", \"title\": {\"standoff\": 15}, \"zerolinecolor\": \"white\", \"zerolinewidth\": 2}, \"yaxis\": {\"automargin\": true, \"gridcolor\": \"white\", \"linecolor\": \"white\", \"ticks\": \"\", \"title\": {\"standoff\": 15}, \"zerolinecolor\": \"white\", \"zerolinewidth\": 2}}}, \"title\": {\"font\": {\"color\": \"#4D5663\"}, \"text\": \"Top 100 words after removing stop words\"}, \"xaxis\": {\"gridcolor\": \"#E1E5ED\", \"linecolor\": \"black\", \"showgrid\": true, \"tickfont\": {\"color\": \"#4D5663\"}, \"title\": {\"font\": {\"color\": \"#4D5663\"}, \"text\": \"\"}, \"zerolinecolor\": \"#E1E5ED\"}, \"yaxis\": {\"gridcolor\": \"#E1E5ED\", \"linecolor\": \"black\", \"showgrid\": true, \"tickfont\": {\"color\": \"#4D5663\"}, \"title\": {\"font\": {\"color\": \"#4D5663\"}, \"text\": \"Count\"}, \"zerolinecolor\": \"#E1E5ED\"}},\n",
       "                        {\"showLink\": true, \"linkText\": \"Export to plot.ly\", \"plotlyServerURL\": \"https://plot.ly\", \"responsive\": true}\n",
       "                    ).then(function(){\n",
       "                            \n",
       "var gd = document.getElementById('3fcb55df-a13d-4d00-9430-91e74afb5c20');\n",
       "var x = new MutationObserver(function (mutations, observer) {{\n",
       "        var display = window.getComputedStyle(gd).display;\n",
       "        if (!display || display === 'none') {{\n",
       "            console.log([gd, 'removed!']);\n",
       "            Plotly.purge(gd);\n",
       "            observer.disconnect();\n",
       "        }}\n",
       "}});\n",
       "\n",
       "// Listen for the removal of the full notebook cells\n",
       "var notebookContainer = gd.closest('#notebook-container');\n",
       "if (notebookContainer) {{\n",
       "    x.observe(notebookContainer, {childList: true});\n",
       "}}\n",
       "\n",
       "// Listen for the clearing of the current output cell\n",
       "var outputEl = gd.closest('.output');\n",
       "if (outputEl) {{\n",
       "    x.observe(outputEl, {childList: true});\n",
       "}}\n",
       "\n",
       "                        })\n",
       "                };\n",
       "                });\n",
       "            </script>\n",
       "        </div>"
      ]
     },
     "metadata": {},
     "output_type": "display_data"
    }
   ],
   "source": [
    "plot_model()"
   ]
  },
  {
   "cell_type": "markdown",
   "metadata": {},
   "source": [
    "## Top 100 Bigrams on Entire Corpus"
   ]
  },
  {
   "cell_type": "code",
   "execution_count": 19,
   "metadata": {},
   "outputs": [
    {
     "data": {
      "text/html": [
       "        <script type=\"text/javascript\">\n",
       "        window.PlotlyConfig = {MathJaxConfig: 'local'};\n",
       "        if (window.MathJax) {MathJax.Hub.Config({SVG: {font: \"STIX-Web\"}});}\n",
       "        if (typeof require !== 'undefined') {\n",
       "        require.undef(\"plotly\");\n",
       "        requirejs.config({\n",
       "            paths: {\n",
       "                'plotly': ['https://cdn.plot.ly/plotly-latest.min']\n",
       "            }\n",
       "        });\n",
       "        require(['plotly'], function(Plotly) {\n",
       "            window._Plotly = Plotly;\n",
       "        });\n",
       "        }\n",
       "        </script>\n",
       "        "
      ]
     },
     "metadata": {},
     "output_type": "display_data"
    },
    {
     "data": {
      "application/vnd.plotly.v1+json": {
       "config": {
        "linkText": "Export to plot.ly",
        "plotlyServerURL": "https://plot.ly",
        "showLink": true
       },
       "data": [
        {
         "marker": {
          "color": "rgba(255, 153, 51, 0.6)",
          "line": {
           "color": "rgba(255, 153, 51, 1.0)",
           "width": 1
          }
         },
         "name": "count",
         "orientation": "v",
         "text": "",
         "type": "bar",
         "x": [
          "sound quality",
          "work great",
          "work well",
          "br br",
          "great sound",
          "work fine",
          "work perfectly",
          "sound great",
          "easy use",
          "good sound",
          "would recommend",
          "much well",
          "sound good",
          "great price",
          "last long",
          "hdmi cable",
          "year old",
          "make sure",
          "quality sound",
          "great product",
          "look good",
          "pretty good",
          "go back",
          "good product",
          "good quality",
          "good price",
          "volume control",
          "high end",
          "high quality",
          "quality great",
          "good buy",
          "would buy",
          "read review",
          "listen music",
          "long time",
          "look great",
          "cable work",
          "ear piece",
          "dvd player",
          "give star",
          "still work",
          "cable box",
          "buy pair",
          "good headphone",
          "good value",
          "reasonable price",
          "really good",
          "last year",
          "happy purchase",
          "cd player",
          "buy product",
          "play music",
          "br pro",
          "sound well",
          "great bass",
          "time use",
          "br con",
          "year ago",
          "well make",
          "noise cancel",
          "great value",
          "send back",
          "price right",
          "new one",
          "br would",
          "quality product",
          "brand name",
          "br overall",
          "battery last",
          "get use",
          "flat screen",
          "far well",
          "would expect",
          "could use",
          "charge time",
          "cell phone",
          "speaker sound",
          "well expect",
          "good thing",
          "pretty much",
          "sound pretty",
          "time br",
          "small speaker",
          "remote control",
          "tv cable",
          "product good",
          "great easy",
          "alarm clock",
          "period time",
          "use work",
          "waste time",
          "well also",
          "great set",
          "well sound",
          "product price",
          "quality good",
          "great feature",
          "would highly_recommend",
          "exactly need",
          "price great"
         ],
         "y": [
          66,
          61,
          49,
          47,
          37,
          30,
          28,
          27,
          24,
          24,
          22,
          20,
          19,
          19,
          15,
          15,
          15,
          14,
          14,
          14,
          14,
          13,
          13,
          13,
          13,
          12,
          12,
          12,
          12,
          11,
          11,
          11,
          11,
          11,
          10,
          10,
          10,
          10,
          10,
          10,
          10,
          9,
          9,
          9,
          9,
          9,
          9,
          9,
          9,
          9,
          9,
          9,
          8,
          8,
          8,
          8,
          8,
          8,
          8,
          8,
          8,
          8,
          8,
          8,
          8,
          8,
          8,
          8,
          7,
          7,
          7,
          7,
          7,
          7,
          7,
          7,
          7,
          7,
          7,
          7,
          7,
          7,
          7,
          7,
          7,
          7,
          7,
          7,
          7,
          7,
          7,
          7,
          7,
          7,
          6,
          6,
          6,
          6,
          6,
          6
         ]
        }
       ],
       "layout": {
        "legend": {
         "bgcolor": "#F5F6F9",
         "font": {
          "color": "#4D5663"
         }
        },
        "paper_bgcolor": "#F5F6F9",
        "plot_bgcolor": "#F5F6F9",
        "template": {
         "data": {
          "bar": [
           {
            "error_x": {
             "color": "#2a3f5f"
            },
            "error_y": {
             "color": "#2a3f5f"
            },
            "marker": {
             "line": {
              "color": "#E5ECF6",
              "width": 0.5
             }
            },
            "type": "bar"
           }
          ],
          "barpolar": [
           {
            "marker": {
             "line": {
              "color": "#E5ECF6",
              "width": 0.5
             }
            },
            "type": "barpolar"
           }
          ],
          "carpet": [
           {
            "aaxis": {
             "endlinecolor": "#2a3f5f",
             "gridcolor": "white",
             "linecolor": "white",
             "minorgridcolor": "white",
             "startlinecolor": "#2a3f5f"
            },
            "baxis": {
             "endlinecolor": "#2a3f5f",
             "gridcolor": "white",
             "linecolor": "white",
             "minorgridcolor": "white",
             "startlinecolor": "#2a3f5f"
            },
            "type": "carpet"
           }
          ],
          "choropleth": [
           {
            "colorbar": {
             "outlinewidth": 0,
             "ticks": ""
            },
            "type": "choropleth"
           }
          ],
          "contour": [
           {
            "colorbar": {
             "outlinewidth": 0,
             "ticks": ""
            },
            "colorscale": [
             [
              0,
              "#0d0887"
             ],
             [
              0.1111111111111111,
              "#46039f"
             ],
             [
              0.2222222222222222,
              "#7201a8"
             ],
             [
              0.3333333333333333,
              "#9c179e"
             ],
             [
              0.4444444444444444,
              "#bd3786"
             ],
             [
              0.5555555555555556,
              "#d8576b"
             ],
             [
              0.6666666666666666,
              "#ed7953"
             ],
             [
              0.7777777777777778,
              "#fb9f3a"
             ],
             [
              0.8888888888888888,
              "#fdca26"
             ],
             [
              1,
              "#f0f921"
             ]
            ],
            "type": "contour"
           }
          ],
          "contourcarpet": [
           {
            "colorbar": {
             "outlinewidth": 0,
             "ticks": ""
            },
            "type": "contourcarpet"
           }
          ],
          "heatmap": [
           {
            "colorbar": {
             "outlinewidth": 0,
             "ticks": ""
            },
            "colorscale": [
             [
              0,
              "#0d0887"
             ],
             [
              0.1111111111111111,
              "#46039f"
             ],
             [
              0.2222222222222222,
              "#7201a8"
             ],
             [
              0.3333333333333333,
              "#9c179e"
             ],
             [
              0.4444444444444444,
              "#bd3786"
             ],
             [
              0.5555555555555556,
              "#d8576b"
             ],
             [
              0.6666666666666666,
              "#ed7953"
             ],
             [
              0.7777777777777778,
              "#fb9f3a"
             ],
             [
              0.8888888888888888,
              "#fdca26"
             ],
             [
              1,
              "#f0f921"
             ]
            ],
            "type": "heatmap"
           }
          ],
          "heatmapgl": [
           {
            "colorbar": {
             "outlinewidth": 0,
             "ticks": ""
            },
            "colorscale": [
             [
              0,
              "#0d0887"
             ],
             [
              0.1111111111111111,
              "#46039f"
             ],
             [
              0.2222222222222222,
              "#7201a8"
             ],
             [
              0.3333333333333333,
              "#9c179e"
             ],
             [
              0.4444444444444444,
              "#bd3786"
             ],
             [
              0.5555555555555556,
              "#d8576b"
             ],
             [
              0.6666666666666666,
              "#ed7953"
             ],
             [
              0.7777777777777778,
              "#fb9f3a"
             ],
             [
              0.8888888888888888,
              "#fdca26"
             ],
             [
              1,
              "#f0f921"
             ]
            ],
            "type": "heatmapgl"
           }
          ],
          "histogram": [
           {
            "marker": {
             "colorbar": {
              "outlinewidth": 0,
              "ticks": ""
             }
            },
            "type": "histogram"
           }
          ],
          "histogram2d": [
           {
            "colorbar": {
             "outlinewidth": 0,
             "ticks": ""
            },
            "colorscale": [
             [
              0,
              "#0d0887"
             ],
             [
              0.1111111111111111,
              "#46039f"
             ],
             [
              0.2222222222222222,
              "#7201a8"
             ],
             [
              0.3333333333333333,
              "#9c179e"
             ],
             [
              0.4444444444444444,
              "#bd3786"
             ],
             [
              0.5555555555555556,
              "#d8576b"
             ],
             [
              0.6666666666666666,
              "#ed7953"
             ],
             [
              0.7777777777777778,
              "#fb9f3a"
             ],
             [
              0.8888888888888888,
              "#fdca26"
             ],
             [
              1,
              "#f0f921"
             ]
            ],
            "type": "histogram2d"
           }
          ],
          "histogram2dcontour": [
           {
            "colorbar": {
             "outlinewidth": 0,
             "ticks": ""
            },
            "colorscale": [
             [
              0,
              "#0d0887"
             ],
             [
              0.1111111111111111,
              "#46039f"
             ],
             [
              0.2222222222222222,
              "#7201a8"
             ],
             [
              0.3333333333333333,
              "#9c179e"
             ],
             [
              0.4444444444444444,
              "#bd3786"
             ],
             [
              0.5555555555555556,
              "#d8576b"
             ],
             [
              0.6666666666666666,
              "#ed7953"
             ],
             [
              0.7777777777777778,
              "#fb9f3a"
             ],
             [
              0.8888888888888888,
              "#fdca26"
             ],
             [
              1,
              "#f0f921"
             ]
            ],
            "type": "histogram2dcontour"
           }
          ],
          "mesh3d": [
           {
            "colorbar": {
             "outlinewidth": 0,
             "ticks": ""
            },
            "type": "mesh3d"
           }
          ],
          "parcoords": [
           {
            "line": {
             "colorbar": {
              "outlinewidth": 0,
              "ticks": ""
             }
            },
            "type": "parcoords"
           }
          ],
          "pie": [
           {
            "automargin": true,
            "type": "pie"
           }
          ],
          "scatter": [
           {
            "marker": {
             "colorbar": {
              "outlinewidth": 0,
              "ticks": ""
             }
            },
            "type": "scatter"
           }
          ],
          "scatter3d": [
           {
            "line": {
             "colorbar": {
              "outlinewidth": 0,
              "ticks": ""
             }
            },
            "marker": {
             "colorbar": {
              "outlinewidth": 0,
              "ticks": ""
             }
            },
            "type": "scatter3d"
           }
          ],
          "scattercarpet": [
           {
            "marker": {
             "colorbar": {
              "outlinewidth": 0,
              "ticks": ""
             }
            },
            "type": "scattercarpet"
           }
          ],
          "scattergeo": [
           {
            "marker": {
             "colorbar": {
              "outlinewidth": 0,
              "ticks": ""
             }
            },
            "type": "scattergeo"
           }
          ],
          "scattergl": [
           {
            "marker": {
             "colorbar": {
              "outlinewidth": 0,
              "ticks": ""
             }
            },
            "type": "scattergl"
           }
          ],
          "scattermapbox": [
           {
            "marker": {
             "colorbar": {
              "outlinewidth": 0,
              "ticks": ""
             }
            },
            "type": "scattermapbox"
           }
          ],
          "scatterpolar": [
           {
            "marker": {
             "colorbar": {
              "outlinewidth": 0,
              "ticks": ""
             }
            },
            "type": "scatterpolar"
           }
          ],
          "scatterpolargl": [
           {
            "marker": {
             "colorbar": {
              "outlinewidth": 0,
              "ticks": ""
             }
            },
            "type": "scatterpolargl"
           }
          ],
          "scatterternary": [
           {
            "marker": {
             "colorbar": {
              "outlinewidth": 0,
              "ticks": ""
             }
            },
            "type": "scatterternary"
           }
          ],
          "surface": [
           {
            "colorbar": {
             "outlinewidth": 0,
             "ticks": ""
            },
            "colorscale": [
             [
              0,
              "#0d0887"
             ],
             [
              0.1111111111111111,
              "#46039f"
             ],
             [
              0.2222222222222222,
              "#7201a8"
             ],
             [
              0.3333333333333333,
              "#9c179e"
             ],
             [
              0.4444444444444444,
              "#bd3786"
             ],
             [
              0.5555555555555556,
              "#d8576b"
             ],
             [
              0.6666666666666666,
              "#ed7953"
             ],
             [
              0.7777777777777778,
              "#fb9f3a"
             ],
             [
              0.8888888888888888,
              "#fdca26"
             ],
             [
              1,
              "#f0f921"
             ]
            ],
            "type": "surface"
           }
          ],
          "table": [
           {
            "cells": {
             "fill": {
              "color": "#EBF0F8"
             },
             "line": {
              "color": "white"
             }
            },
            "header": {
             "fill": {
              "color": "#C8D4E3"
             },
             "line": {
              "color": "white"
             }
            },
            "type": "table"
           }
          ]
         },
         "layout": {
          "annotationdefaults": {
           "arrowcolor": "#2a3f5f",
           "arrowhead": 0,
           "arrowwidth": 1
          },
          "coloraxis": {
           "colorbar": {
            "outlinewidth": 0,
            "ticks": ""
           }
          },
          "colorscale": {
           "diverging": [
            [
             0,
             "#8e0152"
            ],
            [
             0.1,
             "#c51b7d"
            ],
            [
             0.2,
             "#de77ae"
            ],
            [
             0.3,
             "#f1b6da"
            ],
            [
             0.4,
             "#fde0ef"
            ],
            [
             0.5,
             "#f7f7f7"
            ],
            [
             0.6,
             "#e6f5d0"
            ],
            [
             0.7,
             "#b8e186"
            ],
            [
             0.8,
             "#7fbc41"
            ],
            [
             0.9,
             "#4d9221"
            ],
            [
             1,
             "#276419"
            ]
           ],
           "sequential": [
            [
             0,
             "#0d0887"
            ],
            [
             0.1111111111111111,
             "#46039f"
            ],
            [
             0.2222222222222222,
             "#7201a8"
            ],
            [
             0.3333333333333333,
             "#9c179e"
            ],
            [
             0.4444444444444444,
             "#bd3786"
            ],
            [
             0.5555555555555556,
             "#d8576b"
            ],
            [
             0.6666666666666666,
             "#ed7953"
            ],
            [
             0.7777777777777778,
             "#fb9f3a"
            ],
            [
             0.8888888888888888,
             "#fdca26"
            ],
            [
             1,
             "#f0f921"
            ]
           ],
           "sequentialminus": [
            [
             0,
             "#0d0887"
            ],
            [
             0.1111111111111111,
             "#46039f"
            ],
            [
             0.2222222222222222,
             "#7201a8"
            ],
            [
             0.3333333333333333,
             "#9c179e"
            ],
            [
             0.4444444444444444,
             "#bd3786"
            ],
            [
             0.5555555555555556,
             "#d8576b"
            ],
            [
             0.6666666666666666,
             "#ed7953"
            ],
            [
             0.7777777777777778,
             "#fb9f3a"
            ],
            [
             0.8888888888888888,
             "#fdca26"
            ],
            [
             1,
             "#f0f921"
            ]
           ]
          },
          "colorway": [
           "#636efa",
           "#EF553B",
           "#00cc96",
           "#ab63fa",
           "#FFA15A",
           "#19d3f3",
           "#FF6692",
           "#B6E880",
           "#FF97FF",
           "#FECB52"
          ],
          "font": {
           "color": "#2a3f5f"
          },
          "geo": {
           "bgcolor": "white",
           "lakecolor": "white",
           "landcolor": "#E5ECF6",
           "showlakes": true,
           "showland": true,
           "subunitcolor": "white"
          },
          "hoverlabel": {
           "align": "left"
          },
          "hovermode": "closest",
          "mapbox": {
           "style": "light"
          },
          "paper_bgcolor": "white",
          "plot_bgcolor": "#E5ECF6",
          "polar": {
           "angularaxis": {
            "gridcolor": "white",
            "linecolor": "white",
            "ticks": ""
           },
           "bgcolor": "#E5ECF6",
           "radialaxis": {
            "gridcolor": "white",
            "linecolor": "white",
            "ticks": ""
           }
          },
          "scene": {
           "xaxis": {
            "backgroundcolor": "#E5ECF6",
            "gridcolor": "white",
            "gridwidth": 2,
            "linecolor": "white",
            "showbackground": true,
            "ticks": "",
            "zerolinecolor": "white"
           },
           "yaxis": {
            "backgroundcolor": "#E5ECF6",
            "gridcolor": "white",
            "gridwidth": 2,
            "linecolor": "white",
            "showbackground": true,
            "ticks": "",
            "zerolinecolor": "white"
           },
           "zaxis": {
            "backgroundcolor": "#E5ECF6",
            "gridcolor": "white",
            "gridwidth": 2,
            "linecolor": "white",
            "showbackground": true,
            "ticks": "",
            "zerolinecolor": "white"
           }
          },
          "shapedefaults": {
           "line": {
            "color": "#2a3f5f"
           }
          },
          "ternary": {
           "aaxis": {
            "gridcolor": "white",
            "linecolor": "white",
            "ticks": ""
           },
           "baxis": {
            "gridcolor": "white",
            "linecolor": "white",
            "ticks": ""
           },
           "bgcolor": "#E5ECF6",
           "caxis": {
            "gridcolor": "white",
            "linecolor": "white",
            "ticks": ""
           }
          },
          "title": {
           "x": 0.05
          },
          "xaxis": {
           "automargin": true,
           "gridcolor": "white",
           "linecolor": "white",
           "ticks": "",
           "title": {
            "standoff": 15
           },
           "zerolinecolor": "white",
           "zerolinewidth": 2
          },
          "yaxis": {
           "automargin": true,
           "gridcolor": "white",
           "linecolor": "white",
           "ticks": "",
           "title": {
            "standoff": 15
           },
           "zerolinecolor": "white",
           "zerolinewidth": 2
          }
         }
        },
        "title": {
         "font": {
          "color": "#4D5663"
         },
         "text": "Top 100 bigrams after removing stop words"
        },
        "xaxis": {
         "gridcolor": "#E1E5ED",
         "linecolor": "black",
         "showgrid": true,
         "tickfont": {
          "color": "#4D5663"
         },
         "title": {
          "font": {
           "color": "#4D5663"
          },
          "text": ""
         },
         "zerolinecolor": "#E1E5ED"
        },
        "yaxis": {
         "gridcolor": "#E1E5ED",
         "linecolor": "black",
         "showgrid": true,
         "tickfont": {
          "color": "#4D5663"
         },
         "title": {
          "font": {
           "color": "#4D5663"
          },
          "text": "Count"
         },
         "zerolinecolor": "#E1E5ED"
        }
       }
      },
      "text/html": [
       "<div>\n",
       "        \n",
       "        \n",
       "            <div id=\"3269f7f8-50fa-4d9a-a1e6-12446c302e36\" class=\"plotly-graph-div\" style=\"height:525px; width:100%;\"></div>\n",
       "            <script type=\"text/javascript\">\n",
       "                require([\"plotly\"], function(Plotly) {\n",
       "                    window.PLOTLYENV=window.PLOTLYENV || {};\n",
       "                    window.PLOTLYENV.BASE_URL='https://plot.ly';\n",
       "                    \n",
       "                if (document.getElementById(\"3269f7f8-50fa-4d9a-a1e6-12446c302e36\")) {\n",
       "                    Plotly.newPlot(\n",
       "                        '3269f7f8-50fa-4d9a-a1e6-12446c302e36',\n",
       "                        [{\"marker\": {\"color\": \"rgba(255, 153, 51, 0.6)\", \"line\": {\"color\": \"rgba(255, 153, 51, 1.0)\", \"width\": 1}}, \"name\": \"count\", \"orientation\": \"v\", \"text\": \"\", \"type\": \"bar\", \"x\": [\"sound quality\", \"work great\", \"work well\", \"br br\", \"great sound\", \"work fine\", \"work perfectly\", \"sound great\", \"easy use\", \"good sound\", \"would recommend\", \"much well\", \"sound good\", \"great price\", \"last long\", \"hdmi cable\", \"year old\", \"make sure\", \"quality sound\", \"great product\", \"look good\", \"pretty good\", \"go back\", \"good product\", \"good quality\", \"good price\", \"volume control\", \"high end\", \"high quality\", \"quality great\", \"good buy\", \"would buy\", \"read review\", \"listen music\", \"long time\", \"look great\", \"cable work\", \"ear piece\", \"dvd player\", \"give star\", \"still work\", \"cable box\", \"buy pair\", \"good headphone\", \"good value\", \"reasonable price\", \"really good\", \"last year\", \"happy purchase\", \"cd player\", \"buy product\", \"play music\", \"br pro\", \"sound well\", \"great bass\", \"time use\", \"br con\", \"year ago\", \"well make\", \"noise cancel\", \"great value\", \"send back\", \"price right\", \"new one\", \"br would\", \"quality product\", \"brand name\", \"br overall\", \"battery last\", \"get use\", \"flat screen\", \"far well\", \"would expect\", \"could use\", \"charge time\", \"cell phone\", \"speaker sound\", \"well expect\", \"good thing\", \"pretty much\", \"sound pretty\", \"time br\", \"small speaker\", \"remote control\", \"tv cable\", \"product good\", \"great easy\", \"alarm clock\", \"period time\", \"use work\", \"waste time\", \"well also\", \"great set\", \"well sound\", \"product price\", \"quality good\", \"great feature\", \"would highly_recommend\", \"exactly need\", \"price great\"], \"y\": [66, 61, 49, 47, 37, 30, 28, 27, 24, 24, 22, 20, 19, 19, 15, 15, 15, 14, 14, 14, 14, 13, 13, 13, 13, 12, 12, 12, 12, 11, 11, 11, 11, 11, 10, 10, 10, 10, 10, 10, 10, 9, 9, 9, 9, 9, 9, 9, 9, 9, 9, 9, 8, 8, 8, 8, 8, 8, 8, 8, 8, 8, 8, 8, 8, 8, 8, 8, 7, 7, 7, 7, 7, 7, 7, 7, 7, 7, 7, 7, 7, 7, 7, 7, 7, 7, 7, 7, 7, 7, 7, 7, 7, 7, 6, 6, 6, 6, 6, 6]}],\n",
       "                        {\"legend\": {\"bgcolor\": \"#F5F6F9\", \"font\": {\"color\": \"#4D5663\"}}, \"paper_bgcolor\": \"#F5F6F9\", \"plot_bgcolor\": \"#F5F6F9\", \"template\": {\"data\": {\"bar\": [{\"error_x\": {\"color\": \"#2a3f5f\"}, \"error_y\": {\"color\": \"#2a3f5f\"}, \"marker\": {\"line\": {\"color\": \"#E5ECF6\", \"width\": 0.5}}, \"type\": \"bar\"}], \"barpolar\": [{\"marker\": {\"line\": {\"color\": \"#E5ECF6\", \"width\": 0.5}}, \"type\": \"barpolar\"}], \"carpet\": [{\"aaxis\": {\"endlinecolor\": \"#2a3f5f\", \"gridcolor\": \"white\", \"linecolor\": \"white\", \"minorgridcolor\": \"white\", \"startlinecolor\": \"#2a3f5f\"}, \"baxis\": {\"endlinecolor\": \"#2a3f5f\", \"gridcolor\": \"white\", \"linecolor\": \"white\", \"minorgridcolor\": \"white\", \"startlinecolor\": \"#2a3f5f\"}, \"type\": \"carpet\"}], \"choropleth\": [{\"colorbar\": {\"outlinewidth\": 0, \"ticks\": \"\"}, \"type\": \"choropleth\"}], \"contour\": [{\"colorbar\": {\"outlinewidth\": 0, \"ticks\": \"\"}, \"colorscale\": [[0.0, \"#0d0887\"], [0.1111111111111111, \"#46039f\"], [0.2222222222222222, \"#7201a8\"], [0.3333333333333333, \"#9c179e\"], [0.4444444444444444, \"#bd3786\"], [0.5555555555555556, \"#d8576b\"], [0.6666666666666666, \"#ed7953\"], [0.7777777777777778, \"#fb9f3a\"], [0.8888888888888888, \"#fdca26\"], [1.0, \"#f0f921\"]], \"type\": \"contour\"}], \"contourcarpet\": [{\"colorbar\": {\"outlinewidth\": 0, \"ticks\": \"\"}, \"type\": \"contourcarpet\"}], \"heatmap\": [{\"colorbar\": {\"outlinewidth\": 0, \"ticks\": \"\"}, \"colorscale\": [[0.0, \"#0d0887\"], [0.1111111111111111, \"#46039f\"], [0.2222222222222222, \"#7201a8\"], [0.3333333333333333, \"#9c179e\"], [0.4444444444444444, \"#bd3786\"], [0.5555555555555556, \"#d8576b\"], [0.6666666666666666, \"#ed7953\"], [0.7777777777777778, \"#fb9f3a\"], [0.8888888888888888, \"#fdca26\"], [1.0, \"#f0f921\"]], \"type\": \"heatmap\"}], \"heatmapgl\": [{\"colorbar\": {\"outlinewidth\": 0, \"ticks\": \"\"}, \"colorscale\": [[0.0, \"#0d0887\"], [0.1111111111111111, \"#46039f\"], [0.2222222222222222, \"#7201a8\"], [0.3333333333333333, \"#9c179e\"], [0.4444444444444444, \"#bd3786\"], [0.5555555555555556, \"#d8576b\"], [0.6666666666666666, \"#ed7953\"], [0.7777777777777778, \"#fb9f3a\"], [0.8888888888888888, \"#fdca26\"], [1.0, \"#f0f921\"]], \"type\": \"heatmapgl\"}], \"histogram\": [{\"marker\": {\"colorbar\": {\"outlinewidth\": 0, \"ticks\": \"\"}}, \"type\": \"histogram\"}], \"histogram2d\": [{\"colorbar\": {\"outlinewidth\": 0, \"ticks\": \"\"}, \"colorscale\": [[0.0, \"#0d0887\"], [0.1111111111111111, \"#46039f\"], [0.2222222222222222, \"#7201a8\"], [0.3333333333333333, \"#9c179e\"], [0.4444444444444444, \"#bd3786\"], [0.5555555555555556, \"#d8576b\"], [0.6666666666666666, \"#ed7953\"], [0.7777777777777778, \"#fb9f3a\"], [0.8888888888888888, \"#fdca26\"], [1.0, \"#f0f921\"]], \"type\": \"histogram2d\"}], \"histogram2dcontour\": [{\"colorbar\": {\"outlinewidth\": 0, \"ticks\": \"\"}, \"colorscale\": [[0.0, \"#0d0887\"], [0.1111111111111111, \"#46039f\"], [0.2222222222222222, \"#7201a8\"], [0.3333333333333333, \"#9c179e\"], [0.4444444444444444, \"#bd3786\"], [0.5555555555555556, \"#d8576b\"], [0.6666666666666666, \"#ed7953\"], [0.7777777777777778, \"#fb9f3a\"], [0.8888888888888888, \"#fdca26\"], [1.0, \"#f0f921\"]], \"type\": \"histogram2dcontour\"}], \"mesh3d\": [{\"colorbar\": {\"outlinewidth\": 0, \"ticks\": \"\"}, \"type\": \"mesh3d\"}], \"parcoords\": [{\"line\": {\"colorbar\": {\"outlinewidth\": 0, \"ticks\": \"\"}}, \"type\": \"parcoords\"}], \"pie\": [{\"automargin\": true, \"type\": \"pie\"}], \"scatter\": [{\"marker\": {\"colorbar\": {\"outlinewidth\": 0, \"ticks\": \"\"}}, \"type\": \"scatter\"}], \"scatter3d\": [{\"line\": {\"colorbar\": {\"outlinewidth\": 0, \"ticks\": \"\"}}, \"marker\": {\"colorbar\": {\"outlinewidth\": 0, \"ticks\": \"\"}}, \"type\": \"scatter3d\"}], \"scattercarpet\": [{\"marker\": {\"colorbar\": {\"outlinewidth\": 0, \"ticks\": \"\"}}, \"type\": \"scattercarpet\"}], \"scattergeo\": [{\"marker\": {\"colorbar\": {\"outlinewidth\": 0, \"ticks\": \"\"}}, \"type\": \"scattergeo\"}], \"scattergl\": [{\"marker\": {\"colorbar\": {\"outlinewidth\": 0, \"ticks\": \"\"}}, \"type\": \"scattergl\"}], \"scattermapbox\": [{\"marker\": {\"colorbar\": {\"outlinewidth\": 0, \"ticks\": \"\"}}, \"type\": \"scattermapbox\"}], \"scatterpolar\": [{\"marker\": {\"colorbar\": {\"outlinewidth\": 0, \"ticks\": \"\"}}, \"type\": \"scatterpolar\"}], \"scatterpolargl\": [{\"marker\": {\"colorbar\": {\"outlinewidth\": 0, \"ticks\": \"\"}}, \"type\": \"scatterpolargl\"}], \"scatterternary\": [{\"marker\": {\"colorbar\": {\"outlinewidth\": 0, \"ticks\": \"\"}}, \"type\": \"scatterternary\"}], \"surface\": [{\"colorbar\": {\"outlinewidth\": 0, \"ticks\": \"\"}, \"colorscale\": [[0.0, \"#0d0887\"], [0.1111111111111111, \"#46039f\"], [0.2222222222222222, \"#7201a8\"], [0.3333333333333333, \"#9c179e\"], [0.4444444444444444, \"#bd3786\"], [0.5555555555555556, \"#d8576b\"], [0.6666666666666666, \"#ed7953\"], [0.7777777777777778, \"#fb9f3a\"], [0.8888888888888888, \"#fdca26\"], [1.0, \"#f0f921\"]], \"type\": \"surface\"}], \"table\": [{\"cells\": {\"fill\": {\"color\": \"#EBF0F8\"}, \"line\": {\"color\": \"white\"}}, \"header\": {\"fill\": {\"color\": \"#C8D4E3\"}, \"line\": {\"color\": \"white\"}}, \"type\": \"table\"}]}, \"layout\": {\"annotationdefaults\": {\"arrowcolor\": \"#2a3f5f\", \"arrowhead\": 0, \"arrowwidth\": 1}, \"coloraxis\": {\"colorbar\": {\"outlinewidth\": 0, \"ticks\": \"\"}}, \"colorscale\": {\"diverging\": [[0, \"#8e0152\"], [0.1, \"#c51b7d\"], [0.2, \"#de77ae\"], [0.3, \"#f1b6da\"], [0.4, \"#fde0ef\"], [0.5, \"#f7f7f7\"], [0.6, \"#e6f5d0\"], [0.7, \"#b8e186\"], [0.8, \"#7fbc41\"], [0.9, \"#4d9221\"], [1, \"#276419\"]], \"sequential\": [[0.0, \"#0d0887\"], [0.1111111111111111, \"#46039f\"], [0.2222222222222222, \"#7201a8\"], [0.3333333333333333, \"#9c179e\"], [0.4444444444444444, \"#bd3786\"], [0.5555555555555556, \"#d8576b\"], [0.6666666666666666, \"#ed7953\"], [0.7777777777777778, \"#fb9f3a\"], [0.8888888888888888, \"#fdca26\"], [1.0, \"#f0f921\"]], \"sequentialminus\": [[0.0, \"#0d0887\"], [0.1111111111111111, \"#46039f\"], [0.2222222222222222, \"#7201a8\"], [0.3333333333333333, \"#9c179e\"], [0.4444444444444444, \"#bd3786\"], [0.5555555555555556, \"#d8576b\"], [0.6666666666666666, \"#ed7953\"], [0.7777777777777778, \"#fb9f3a\"], [0.8888888888888888, \"#fdca26\"], [1.0, \"#f0f921\"]]}, \"colorway\": [\"#636efa\", \"#EF553B\", \"#00cc96\", \"#ab63fa\", \"#FFA15A\", \"#19d3f3\", \"#FF6692\", \"#B6E880\", \"#FF97FF\", \"#FECB52\"], \"font\": {\"color\": \"#2a3f5f\"}, \"geo\": {\"bgcolor\": \"white\", \"lakecolor\": \"white\", \"landcolor\": \"#E5ECF6\", \"showlakes\": true, \"showland\": true, \"subunitcolor\": \"white\"}, \"hoverlabel\": {\"align\": \"left\"}, \"hovermode\": \"closest\", \"mapbox\": {\"style\": \"light\"}, \"paper_bgcolor\": \"white\", \"plot_bgcolor\": \"#E5ECF6\", \"polar\": {\"angularaxis\": {\"gridcolor\": \"white\", \"linecolor\": \"white\", \"ticks\": \"\"}, \"bgcolor\": \"#E5ECF6\", \"radialaxis\": {\"gridcolor\": \"white\", \"linecolor\": \"white\", \"ticks\": \"\"}}, \"scene\": {\"xaxis\": {\"backgroundcolor\": \"#E5ECF6\", \"gridcolor\": \"white\", \"gridwidth\": 2, \"linecolor\": \"white\", \"showbackground\": true, \"ticks\": \"\", \"zerolinecolor\": \"white\"}, \"yaxis\": {\"backgroundcolor\": \"#E5ECF6\", \"gridcolor\": \"white\", \"gridwidth\": 2, \"linecolor\": \"white\", \"showbackground\": true, \"ticks\": \"\", \"zerolinecolor\": \"white\"}, \"zaxis\": {\"backgroundcolor\": \"#E5ECF6\", \"gridcolor\": \"white\", \"gridwidth\": 2, \"linecolor\": \"white\", \"showbackground\": true, \"ticks\": \"\", \"zerolinecolor\": \"white\"}}, \"shapedefaults\": {\"line\": {\"color\": \"#2a3f5f\"}}, \"ternary\": {\"aaxis\": {\"gridcolor\": \"white\", \"linecolor\": \"white\", \"ticks\": \"\"}, \"baxis\": {\"gridcolor\": \"white\", \"linecolor\": \"white\", \"ticks\": \"\"}, \"bgcolor\": \"#E5ECF6\", \"caxis\": {\"gridcolor\": \"white\", \"linecolor\": \"white\", \"ticks\": \"\"}}, \"title\": {\"x\": 0.05}, \"xaxis\": {\"automargin\": true, \"gridcolor\": \"white\", \"linecolor\": \"white\", \"ticks\": \"\", \"title\": {\"standoff\": 15}, \"zerolinecolor\": \"white\", \"zerolinewidth\": 2}, \"yaxis\": {\"automargin\": true, \"gridcolor\": \"white\", \"linecolor\": \"white\", \"ticks\": \"\", \"title\": {\"standoff\": 15}, \"zerolinecolor\": \"white\", \"zerolinewidth\": 2}}}, \"title\": {\"font\": {\"color\": \"#4D5663\"}, \"text\": \"Top 100 bigrams after removing stop words\"}, \"xaxis\": {\"gridcolor\": \"#E1E5ED\", \"linecolor\": \"black\", \"showgrid\": true, \"tickfont\": {\"color\": \"#4D5663\"}, \"title\": {\"font\": {\"color\": \"#4D5663\"}, \"text\": \"\"}, \"zerolinecolor\": \"#E1E5ED\"}, \"yaxis\": {\"gridcolor\": \"#E1E5ED\", \"linecolor\": \"black\", \"showgrid\": true, \"tickfont\": {\"color\": \"#4D5663\"}, \"title\": {\"font\": {\"color\": \"#4D5663\"}, \"text\": \"Count\"}, \"zerolinecolor\": \"#E1E5ED\"}},\n",
       "                        {\"showLink\": true, \"linkText\": \"Export to plot.ly\", \"plotlyServerURL\": \"https://plot.ly\", \"responsive\": true}\n",
       "                    ).then(function(){\n",
       "                            \n",
       "var gd = document.getElementById('3269f7f8-50fa-4d9a-a1e6-12446c302e36');\n",
       "var x = new MutationObserver(function (mutations, observer) {{\n",
       "        var display = window.getComputedStyle(gd).display;\n",
       "        if (!display || display === 'none') {{\n",
       "            console.log([gd, 'removed!']);\n",
       "            Plotly.purge(gd);\n",
       "            observer.disconnect();\n",
       "        }}\n",
       "}});\n",
       "\n",
       "// Listen for the removal of the full notebook cells\n",
       "var notebookContainer = gd.closest('#notebook-container');\n",
       "if (notebookContainer) {{\n",
       "    x.observe(notebookContainer, {childList: true});\n",
       "}}\n",
       "\n",
       "// Listen for the clearing of the current output cell\n",
       "var outputEl = gd.closest('.output');\n",
       "if (outputEl) {{\n",
       "    x.observe(outputEl, {childList: true});\n",
       "}}\n",
       "\n",
       "                        })\n",
       "                };\n",
       "                });\n",
       "            </script>\n",
       "        </div>"
      ]
     },
     "metadata": {},
     "output_type": "display_data"
    }
   ],
   "source": [
    "plot_model(plot = 'bigram')"
   ]
  },
  {
   "cell_type": "markdown",
   "metadata": {},
   "source": [
    "## Frequency Distribution of Topic 1"
   ]
  },
  {
   "cell_type": "code",
   "execution_count": 20,
   "metadata": {},
   "outputs": [
    {
     "data": {
      "text/html": [
       "        <script type=\"text/javascript\">\n",
       "        window.PlotlyConfig = {MathJaxConfig: 'local'};\n",
       "        if (window.MathJax) {MathJax.Hub.Config({SVG: {font: \"STIX-Web\"}});}\n",
       "        if (typeof require !== 'undefined') {\n",
       "        require.undef(\"plotly\");\n",
       "        requirejs.config({\n",
       "            paths: {\n",
       "                'plotly': ['https://cdn.plot.ly/plotly-latest.min']\n",
       "            }\n",
       "        });\n",
       "        require(['plotly'], function(Plotly) {\n",
       "            window._Plotly = Plotly;\n",
       "        });\n",
       "        }\n",
       "        </script>\n",
       "        "
      ]
     },
     "metadata": {},
     "output_type": "display_data"
    },
    {
     "data": {
      "application/vnd.plotly.v1+json": {
       "config": {
        "linkText": "Export to plot.ly",
        "plotlyServerURL": "https://plot.ly",
        "showLink": true
       },
       "data": [
        {
         "marker": {
          "color": "rgba(255, 153, 51, 0.6)",
          "line": {
           "color": "rgba(255, 153, 51, 1.0)",
           "width": 1
          }
         },
         "name": "count",
         "orientation": "v",
         "text": "",
         "type": "bar",
         "x": [
          "br",
          "buy",
          "would",
          "use",
          "get",
          "plug",
          "well",
          "need",
          "work",
          "computer",
          "unit",
          "good",
          "time",
          "charge",
          "travel",
          "battery",
          "file",
          "sound",
          "product",
          "long",
          "power",
          "much",
          "last",
          "device",
          "quality",
          "also",
          "come",
          "build",
          "great",
          "year",
          "new",
          "phone",
          "hold",
          "player",
          "purchase",
          "recommend",
          "take",
          "month",
          "even",
          "fit",
          "find",
          "machine",
          "fast",
          "thank",
          "expect",
          "small",
          "away",
          "item",
          "go",
          "headphone",
          "cable",
          "hour",
          "price",
          "game",
          "say",
          "could",
          "record",
          "protect",
          "grip",
          "charger",
          "copy",
          "ear",
          "enough",
          "may",
          "version",
          "make",
          "many",
          "order",
          "window",
          "want",
          "play",
          "playback",
          "send",
          "return",
          "side",
          "turn",
          "keep",
          "still",
          "throw",
          "holder",
          "button",
          "tip",
          "brush",
          "bad",
          "back",
          "simply",
          "replacement",
          "choice",
          "replace",
          "really",
          "driver",
          "dual",
          "problem",
          "press",
          "port",
          "pack",
          "first",
          "already",
          "real",
          "far"
         ],
         "y": [
          57,
          51,
          27,
          27,
          26,
          22,
          20,
          20,
          19,
          19,
          18,
          18,
          17,
          16,
          15,
          15,
          13,
          13,
          13,
          13,
          12,
          12,
          12,
          12,
          12,
          12,
          11,
          11,
          11,
          11,
          10,
          10,
          10,
          10,
          10,
          10,
          10,
          9,
          9,
          9,
          9,
          9,
          9,
          9,
          9,
          8,
          8,
          8,
          8,
          8,
          8,
          8,
          8,
          8,
          8,
          8,
          8,
          8,
          8,
          7,
          7,
          7,
          7,
          7,
          7,
          7,
          7,
          7,
          7,
          7,
          7,
          7,
          7,
          7,
          7,
          7,
          7,
          7,
          6,
          6,
          6,
          6,
          6,
          6,
          6,
          6,
          6,
          6,
          6,
          6,
          6,
          6,
          6,
          6,
          6,
          6,
          6,
          6,
          5,
          5
         ]
        }
       ],
       "layout": {
        "legend": {
         "bgcolor": "#F5F6F9",
         "font": {
          "color": "#4D5663"
         }
        },
        "paper_bgcolor": "#F5F6F9",
        "plot_bgcolor": "#F5F6F9",
        "template": {
         "data": {
          "bar": [
           {
            "error_x": {
             "color": "#2a3f5f"
            },
            "error_y": {
             "color": "#2a3f5f"
            },
            "marker": {
             "line": {
              "color": "#E5ECF6",
              "width": 0.5
             }
            },
            "type": "bar"
           }
          ],
          "barpolar": [
           {
            "marker": {
             "line": {
              "color": "#E5ECF6",
              "width": 0.5
             }
            },
            "type": "barpolar"
           }
          ],
          "carpet": [
           {
            "aaxis": {
             "endlinecolor": "#2a3f5f",
             "gridcolor": "white",
             "linecolor": "white",
             "minorgridcolor": "white",
             "startlinecolor": "#2a3f5f"
            },
            "baxis": {
             "endlinecolor": "#2a3f5f",
             "gridcolor": "white",
             "linecolor": "white",
             "minorgridcolor": "white",
             "startlinecolor": "#2a3f5f"
            },
            "type": "carpet"
           }
          ],
          "choropleth": [
           {
            "colorbar": {
             "outlinewidth": 0,
             "ticks": ""
            },
            "type": "choropleth"
           }
          ],
          "contour": [
           {
            "colorbar": {
             "outlinewidth": 0,
             "ticks": ""
            },
            "colorscale": [
             [
              0,
              "#0d0887"
             ],
             [
              0.1111111111111111,
              "#46039f"
             ],
             [
              0.2222222222222222,
              "#7201a8"
             ],
             [
              0.3333333333333333,
              "#9c179e"
             ],
             [
              0.4444444444444444,
              "#bd3786"
             ],
             [
              0.5555555555555556,
              "#d8576b"
             ],
             [
              0.6666666666666666,
              "#ed7953"
             ],
             [
              0.7777777777777778,
              "#fb9f3a"
             ],
             [
              0.8888888888888888,
              "#fdca26"
             ],
             [
              1,
              "#f0f921"
             ]
            ],
            "type": "contour"
           }
          ],
          "contourcarpet": [
           {
            "colorbar": {
             "outlinewidth": 0,
             "ticks": ""
            },
            "type": "contourcarpet"
           }
          ],
          "heatmap": [
           {
            "colorbar": {
             "outlinewidth": 0,
             "ticks": ""
            },
            "colorscale": [
             [
              0,
              "#0d0887"
             ],
             [
              0.1111111111111111,
              "#46039f"
             ],
             [
              0.2222222222222222,
              "#7201a8"
             ],
             [
              0.3333333333333333,
              "#9c179e"
             ],
             [
              0.4444444444444444,
              "#bd3786"
             ],
             [
              0.5555555555555556,
              "#d8576b"
             ],
             [
              0.6666666666666666,
              "#ed7953"
             ],
             [
              0.7777777777777778,
              "#fb9f3a"
             ],
             [
              0.8888888888888888,
              "#fdca26"
             ],
             [
              1,
              "#f0f921"
             ]
            ],
            "type": "heatmap"
           }
          ],
          "heatmapgl": [
           {
            "colorbar": {
             "outlinewidth": 0,
             "ticks": ""
            },
            "colorscale": [
             [
              0,
              "#0d0887"
             ],
             [
              0.1111111111111111,
              "#46039f"
             ],
             [
              0.2222222222222222,
              "#7201a8"
             ],
             [
              0.3333333333333333,
              "#9c179e"
             ],
             [
              0.4444444444444444,
              "#bd3786"
             ],
             [
              0.5555555555555556,
              "#d8576b"
             ],
             [
              0.6666666666666666,
              "#ed7953"
             ],
             [
              0.7777777777777778,
              "#fb9f3a"
             ],
             [
              0.8888888888888888,
              "#fdca26"
             ],
             [
              1,
              "#f0f921"
             ]
            ],
            "type": "heatmapgl"
           }
          ],
          "histogram": [
           {
            "marker": {
             "colorbar": {
              "outlinewidth": 0,
              "ticks": ""
             }
            },
            "type": "histogram"
           }
          ],
          "histogram2d": [
           {
            "colorbar": {
             "outlinewidth": 0,
             "ticks": ""
            },
            "colorscale": [
             [
              0,
              "#0d0887"
             ],
             [
              0.1111111111111111,
              "#46039f"
             ],
             [
              0.2222222222222222,
              "#7201a8"
             ],
             [
              0.3333333333333333,
              "#9c179e"
             ],
             [
              0.4444444444444444,
              "#bd3786"
             ],
             [
              0.5555555555555556,
              "#d8576b"
             ],
             [
              0.6666666666666666,
              "#ed7953"
             ],
             [
              0.7777777777777778,
              "#fb9f3a"
             ],
             [
              0.8888888888888888,
              "#fdca26"
             ],
             [
              1,
              "#f0f921"
             ]
            ],
            "type": "histogram2d"
           }
          ],
          "histogram2dcontour": [
           {
            "colorbar": {
             "outlinewidth": 0,
             "ticks": ""
            },
            "colorscale": [
             [
              0,
              "#0d0887"
             ],
             [
              0.1111111111111111,
              "#46039f"
             ],
             [
              0.2222222222222222,
              "#7201a8"
             ],
             [
              0.3333333333333333,
              "#9c179e"
             ],
             [
              0.4444444444444444,
              "#bd3786"
             ],
             [
              0.5555555555555556,
              "#d8576b"
             ],
             [
              0.6666666666666666,
              "#ed7953"
             ],
             [
              0.7777777777777778,
              "#fb9f3a"
             ],
             [
              0.8888888888888888,
              "#fdca26"
             ],
             [
              1,
              "#f0f921"
             ]
            ],
            "type": "histogram2dcontour"
           }
          ],
          "mesh3d": [
           {
            "colorbar": {
             "outlinewidth": 0,
             "ticks": ""
            },
            "type": "mesh3d"
           }
          ],
          "parcoords": [
           {
            "line": {
             "colorbar": {
              "outlinewidth": 0,
              "ticks": ""
             }
            },
            "type": "parcoords"
           }
          ],
          "pie": [
           {
            "automargin": true,
            "type": "pie"
           }
          ],
          "scatter": [
           {
            "marker": {
             "colorbar": {
              "outlinewidth": 0,
              "ticks": ""
             }
            },
            "type": "scatter"
           }
          ],
          "scatter3d": [
           {
            "line": {
             "colorbar": {
              "outlinewidth": 0,
              "ticks": ""
             }
            },
            "marker": {
             "colorbar": {
              "outlinewidth": 0,
              "ticks": ""
             }
            },
            "type": "scatter3d"
           }
          ],
          "scattercarpet": [
           {
            "marker": {
             "colorbar": {
              "outlinewidth": 0,
              "ticks": ""
             }
            },
            "type": "scattercarpet"
           }
          ],
          "scattergeo": [
           {
            "marker": {
             "colorbar": {
              "outlinewidth": 0,
              "ticks": ""
             }
            },
            "type": "scattergeo"
           }
          ],
          "scattergl": [
           {
            "marker": {
             "colorbar": {
              "outlinewidth": 0,
              "ticks": ""
             }
            },
            "type": "scattergl"
           }
          ],
          "scattermapbox": [
           {
            "marker": {
             "colorbar": {
              "outlinewidth": 0,
              "ticks": ""
             }
            },
            "type": "scattermapbox"
           }
          ],
          "scatterpolar": [
           {
            "marker": {
             "colorbar": {
              "outlinewidth": 0,
              "ticks": ""
             }
            },
            "type": "scatterpolar"
           }
          ],
          "scatterpolargl": [
           {
            "marker": {
             "colorbar": {
              "outlinewidth": 0,
              "ticks": ""
             }
            },
            "type": "scatterpolargl"
           }
          ],
          "scatterternary": [
           {
            "marker": {
             "colorbar": {
              "outlinewidth": 0,
              "ticks": ""
             }
            },
            "type": "scatterternary"
           }
          ],
          "surface": [
           {
            "colorbar": {
             "outlinewidth": 0,
             "ticks": ""
            },
            "colorscale": [
             [
              0,
              "#0d0887"
             ],
             [
              0.1111111111111111,
              "#46039f"
             ],
             [
              0.2222222222222222,
              "#7201a8"
             ],
             [
              0.3333333333333333,
              "#9c179e"
             ],
             [
              0.4444444444444444,
              "#bd3786"
             ],
             [
              0.5555555555555556,
              "#d8576b"
             ],
             [
              0.6666666666666666,
              "#ed7953"
             ],
             [
              0.7777777777777778,
              "#fb9f3a"
             ],
             [
              0.8888888888888888,
              "#fdca26"
             ],
             [
              1,
              "#f0f921"
             ]
            ],
            "type": "surface"
           }
          ],
          "table": [
           {
            "cells": {
             "fill": {
              "color": "#EBF0F8"
             },
             "line": {
              "color": "white"
             }
            },
            "header": {
             "fill": {
              "color": "#C8D4E3"
             },
             "line": {
              "color": "white"
             }
            },
            "type": "table"
           }
          ]
         },
         "layout": {
          "annotationdefaults": {
           "arrowcolor": "#2a3f5f",
           "arrowhead": 0,
           "arrowwidth": 1
          },
          "coloraxis": {
           "colorbar": {
            "outlinewidth": 0,
            "ticks": ""
           }
          },
          "colorscale": {
           "diverging": [
            [
             0,
             "#8e0152"
            ],
            [
             0.1,
             "#c51b7d"
            ],
            [
             0.2,
             "#de77ae"
            ],
            [
             0.3,
             "#f1b6da"
            ],
            [
             0.4,
             "#fde0ef"
            ],
            [
             0.5,
             "#f7f7f7"
            ],
            [
             0.6,
             "#e6f5d0"
            ],
            [
             0.7,
             "#b8e186"
            ],
            [
             0.8,
             "#7fbc41"
            ],
            [
             0.9,
             "#4d9221"
            ],
            [
             1,
             "#276419"
            ]
           ],
           "sequential": [
            [
             0,
             "#0d0887"
            ],
            [
             0.1111111111111111,
             "#46039f"
            ],
            [
             0.2222222222222222,
             "#7201a8"
            ],
            [
             0.3333333333333333,
             "#9c179e"
            ],
            [
             0.4444444444444444,
             "#bd3786"
            ],
            [
             0.5555555555555556,
             "#d8576b"
            ],
            [
             0.6666666666666666,
             "#ed7953"
            ],
            [
             0.7777777777777778,
             "#fb9f3a"
            ],
            [
             0.8888888888888888,
             "#fdca26"
            ],
            [
             1,
             "#f0f921"
            ]
           ],
           "sequentialminus": [
            [
             0,
             "#0d0887"
            ],
            [
             0.1111111111111111,
             "#46039f"
            ],
            [
             0.2222222222222222,
             "#7201a8"
            ],
            [
             0.3333333333333333,
             "#9c179e"
            ],
            [
             0.4444444444444444,
             "#bd3786"
            ],
            [
             0.5555555555555556,
             "#d8576b"
            ],
            [
             0.6666666666666666,
             "#ed7953"
            ],
            [
             0.7777777777777778,
             "#fb9f3a"
            ],
            [
             0.8888888888888888,
             "#fdca26"
            ],
            [
             1,
             "#f0f921"
            ]
           ]
          },
          "colorway": [
           "#636efa",
           "#EF553B",
           "#00cc96",
           "#ab63fa",
           "#FFA15A",
           "#19d3f3",
           "#FF6692",
           "#B6E880",
           "#FF97FF",
           "#FECB52"
          ],
          "font": {
           "color": "#2a3f5f"
          },
          "geo": {
           "bgcolor": "white",
           "lakecolor": "white",
           "landcolor": "#E5ECF6",
           "showlakes": true,
           "showland": true,
           "subunitcolor": "white"
          },
          "hoverlabel": {
           "align": "left"
          },
          "hovermode": "closest",
          "mapbox": {
           "style": "light"
          },
          "paper_bgcolor": "white",
          "plot_bgcolor": "#E5ECF6",
          "polar": {
           "angularaxis": {
            "gridcolor": "white",
            "linecolor": "white",
            "ticks": ""
           },
           "bgcolor": "#E5ECF6",
           "radialaxis": {
            "gridcolor": "white",
            "linecolor": "white",
            "ticks": ""
           }
          },
          "scene": {
           "xaxis": {
            "backgroundcolor": "#E5ECF6",
            "gridcolor": "white",
            "gridwidth": 2,
            "linecolor": "white",
            "showbackground": true,
            "ticks": "",
            "zerolinecolor": "white"
           },
           "yaxis": {
            "backgroundcolor": "#E5ECF6",
            "gridcolor": "white",
            "gridwidth": 2,
            "linecolor": "white",
            "showbackground": true,
            "ticks": "",
            "zerolinecolor": "white"
           },
           "zaxis": {
            "backgroundcolor": "#E5ECF6",
            "gridcolor": "white",
            "gridwidth": 2,
            "linecolor": "white",
            "showbackground": true,
            "ticks": "",
            "zerolinecolor": "white"
           }
          },
          "shapedefaults": {
           "line": {
            "color": "#2a3f5f"
           }
          },
          "ternary": {
           "aaxis": {
            "gridcolor": "white",
            "linecolor": "white",
            "ticks": ""
           },
           "baxis": {
            "gridcolor": "white",
            "linecolor": "white",
            "ticks": ""
           },
           "bgcolor": "#E5ECF6",
           "caxis": {
            "gridcolor": "white",
            "linecolor": "white",
            "ticks": ""
           }
          },
          "title": {
           "x": 0.05
          },
          "xaxis": {
           "automargin": true,
           "gridcolor": "white",
           "linecolor": "white",
           "ticks": "",
           "title": {
            "standoff": 15
           },
           "zerolinecolor": "white",
           "zerolinewidth": 2
          },
          "yaxis": {
           "automargin": true,
           "gridcolor": "white",
           "linecolor": "white",
           "ticks": "",
           "title": {
            "standoff": 15
           },
           "zerolinecolor": "white",
           "zerolinewidth": 2
          }
         }
        },
        "title": {
         "font": {
          "color": "#4D5663"
         },
         "text": "Topic 1: Top 100 words after removing stop words"
        },
        "xaxis": {
         "gridcolor": "#E1E5ED",
         "linecolor": "black",
         "showgrid": true,
         "tickfont": {
          "color": "#4D5663"
         },
         "title": {
          "font": {
           "color": "#4D5663"
          },
          "text": ""
         },
         "zerolinecolor": "#E1E5ED"
        },
        "yaxis": {
         "gridcolor": "#E1E5ED",
         "linecolor": "black",
         "showgrid": true,
         "tickfont": {
          "color": "#4D5663"
         },
         "title": {
          "font": {
           "color": "#4D5663"
          },
          "text": "Count"
         },
         "zerolinecolor": "#E1E5ED"
        }
       }
      },
      "text/html": [
       "<div>\n",
       "        \n",
       "        \n",
       "            <div id=\"a95ca77a-db0e-4bc2-921d-6cda4c810528\" class=\"plotly-graph-div\" style=\"height:525px; width:100%;\"></div>\n",
       "            <script type=\"text/javascript\">\n",
       "                require([\"plotly\"], function(Plotly) {\n",
       "                    window.PLOTLYENV=window.PLOTLYENV || {};\n",
       "                    window.PLOTLYENV.BASE_URL='https://plot.ly';\n",
       "                    \n",
       "                if (document.getElementById(\"a95ca77a-db0e-4bc2-921d-6cda4c810528\")) {\n",
       "                    Plotly.newPlot(\n",
       "                        'a95ca77a-db0e-4bc2-921d-6cda4c810528',\n",
       "                        [{\"marker\": {\"color\": \"rgba(255, 153, 51, 0.6)\", \"line\": {\"color\": \"rgba(255, 153, 51, 1.0)\", \"width\": 1}}, \"name\": \"count\", \"orientation\": \"v\", \"text\": \"\", \"type\": \"bar\", \"x\": [\"br\", \"buy\", \"would\", \"use\", \"get\", \"plug\", \"well\", \"need\", \"work\", \"computer\", \"unit\", \"good\", \"time\", \"charge\", \"travel\", \"battery\", \"file\", \"sound\", \"product\", \"long\", \"power\", \"much\", \"last\", \"device\", \"quality\", \"also\", \"come\", \"build\", \"great\", \"year\", \"new\", \"phone\", \"hold\", \"player\", \"purchase\", \"recommend\", \"take\", \"month\", \"even\", \"fit\", \"find\", \"machine\", \"fast\", \"thank\", \"expect\", \"small\", \"away\", \"item\", \"go\", \"headphone\", \"cable\", \"hour\", \"price\", \"game\", \"say\", \"could\", \"record\", \"protect\", \"grip\", \"charger\", \"copy\", \"ear\", \"enough\", \"may\", \"version\", \"make\", \"many\", \"order\", \"window\", \"want\", \"play\", \"playback\", \"send\", \"return\", \"side\", \"turn\", \"keep\", \"still\", \"throw\", \"holder\", \"button\", \"tip\", \"brush\", \"bad\", \"back\", \"simply\", \"replacement\", \"choice\", \"replace\", \"really\", \"driver\", \"dual\", \"problem\", \"press\", \"port\", \"pack\", \"first\", \"already\", \"real\", \"far\"], \"y\": [57, 51, 27, 27, 26, 22, 20, 20, 19, 19, 18, 18, 17, 16, 15, 15, 13, 13, 13, 13, 12, 12, 12, 12, 12, 12, 11, 11, 11, 11, 10, 10, 10, 10, 10, 10, 10, 9, 9, 9, 9, 9, 9, 9, 9, 8, 8, 8, 8, 8, 8, 8, 8, 8, 8, 8, 8, 8, 8, 7, 7, 7, 7, 7, 7, 7, 7, 7, 7, 7, 7, 7, 7, 7, 7, 7, 7, 7, 6, 6, 6, 6, 6, 6, 6, 6, 6, 6, 6, 6, 6, 6, 6, 6, 6, 6, 6, 6, 5, 5]}],\n",
       "                        {\"legend\": {\"bgcolor\": \"#F5F6F9\", \"font\": {\"color\": \"#4D5663\"}}, \"paper_bgcolor\": \"#F5F6F9\", \"plot_bgcolor\": \"#F5F6F9\", \"template\": {\"data\": {\"bar\": [{\"error_x\": {\"color\": \"#2a3f5f\"}, \"error_y\": {\"color\": \"#2a3f5f\"}, \"marker\": {\"line\": {\"color\": \"#E5ECF6\", \"width\": 0.5}}, \"type\": \"bar\"}], \"barpolar\": [{\"marker\": {\"line\": {\"color\": \"#E5ECF6\", \"width\": 0.5}}, \"type\": \"barpolar\"}], \"carpet\": [{\"aaxis\": {\"endlinecolor\": \"#2a3f5f\", \"gridcolor\": \"white\", \"linecolor\": \"white\", \"minorgridcolor\": \"white\", \"startlinecolor\": \"#2a3f5f\"}, \"baxis\": {\"endlinecolor\": \"#2a3f5f\", \"gridcolor\": \"white\", \"linecolor\": \"white\", \"minorgridcolor\": \"white\", \"startlinecolor\": \"#2a3f5f\"}, \"type\": \"carpet\"}], \"choropleth\": [{\"colorbar\": {\"outlinewidth\": 0, \"ticks\": \"\"}, \"type\": \"choropleth\"}], \"contour\": [{\"colorbar\": {\"outlinewidth\": 0, \"ticks\": \"\"}, \"colorscale\": [[0.0, \"#0d0887\"], [0.1111111111111111, \"#46039f\"], [0.2222222222222222, \"#7201a8\"], [0.3333333333333333, \"#9c179e\"], [0.4444444444444444, \"#bd3786\"], [0.5555555555555556, \"#d8576b\"], [0.6666666666666666, \"#ed7953\"], [0.7777777777777778, \"#fb9f3a\"], [0.8888888888888888, \"#fdca26\"], [1.0, \"#f0f921\"]], \"type\": \"contour\"}], \"contourcarpet\": [{\"colorbar\": {\"outlinewidth\": 0, \"ticks\": \"\"}, \"type\": \"contourcarpet\"}], \"heatmap\": [{\"colorbar\": {\"outlinewidth\": 0, \"ticks\": \"\"}, \"colorscale\": [[0.0, \"#0d0887\"], [0.1111111111111111, \"#46039f\"], [0.2222222222222222, \"#7201a8\"], [0.3333333333333333, \"#9c179e\"], [0.4444444444444444, \"#bd3786\"], [0.5555555555555556, \"#d8576b\"], [0.6666666666666666, \"#ed7953\"], [0.7777777777777778, \"#fb9f3a\"], [0.8888888888888888, \"#fdca26\"], [1.0, \"#f0f921\"]], \"type\": \"heatmap\"}], \"heatmapgl\": [{\"colorbar\": {\"outlinewidth\": 0, \"ticks\": \"\"}, \"colorscale\": [[0.0, \"#0d0887\"], [0.1111111111111111, \"#46039f\"], [0.2222222222222222, \"#7201a8\"], [0.3333333333333333, \"#9c179e\"], [0.4444444444444444, \"#bd3786\"], [0.5555555555555556, \"#d8576b\"], [0.6666666666666666, \"#ed7953\"], [0.7777777777777778, \"#fb9f3a\"], [0.8888888888888888, \"#fdca26\"], [1.0, \"#f0f921\"]], \"type\": \"heatmapgl\"}], \"histogram\": [{\"marker\": {\"colorbar\": {\"outlinewidth\": 0, \"ticks\": \"\"}}, \"type\": \"histogram\"}], \"histogram2d\": [{\"colorbar\": {\"outlinewidth\": 0, \"ticks\": \"\"}, \"colorscale\": [[0.0, \"#0d0887\"], [0.1111111111111111, \"#46039f\"], [0.2222222222222222, \"#7201a8\"], [0.3333333333333333, \"#9c179e\"], [0.4444444444444444, \"#bd3786\"], [0.5555555555555556, \"#d8576b\"], [0.6666666666666666, \"#ed7953\"], [0.7777777777777778, \"#fb9f3a\"], [0.8888888888888888, \"#fdca26\"], [1.0, \"#f0f921\"]], \"type\": \"histogram2d\"}], \"histogram2dcontour\": [{\"colorbar\": {\"outlinewidth\": 0, \"ticks\": \"\"}, \"colorscale\": [[0.0, \"#0d0887\"], [0.1111111111111111, \"#46039f\"], [0.2222222222222222, \"#7201a8\"], [0.3333333333333333, \"#9c179e\"], [0.4444444444444444, \"#bd3786\"], [0.5555555555555556, \"#d8576b\"], [0.6666666666666666, \"#ed7953\"], [0.7777777777777778, \"#fb9f3a\"], [0.8888888888888888, \"#fdca26\"], [1.0, \"#f0f921\"]], \"type\": \"histogram2dcontour\"}], \"mesh3d\": [{\"colorbar\": {\"outlinewidth\": 0, \"ticks\": \"\"}, \"type\": \"mesh3d\"}], \"parcoords\": [{\"line\": {\"colorbar\": {\"outlinewidth\": 0, \"ticks\": \"\"}}, \"type\": \"parcoords\"}], \"pie\": [{\"automargin\": true, \"type\": \"pie\"}], \"scatter\": [{\"marker\": {\"colorbar\": {\"outlinewidth\": 0, \"ticks\": \"\"}}, \"type\": \"scatter\"}], \"scatter3d\": [{\"line\": {\"colorbar\": {\"outlinewidth\": 0, \"ticks\": \"\"}}, \"marker\": {\"colorbar\": {\"outlinewidth\": 0, \"ticks\": \"\"}}, \"type\": \"scatter3d\"}], \"scattercarpet\": [{\"marker\": {\"colorbar\": {\"outlinewidth\": 0, \"ticks\": \"\"}}, \"type\": \"scattercarpet\"}], \"scattergeo\": [{\"marker\": {\"colorbar\": {\"outlinewidth\": 0, \"ticks\": \"\"}}, \"type\": \"scattergeo\"}], \"scattergl\": [{\"marker\": {\"colorbar\": {\"outlinewidth\": 0, \"ticks\": \"\"}}, \"type\": \"scattergl\"}], \"scattermapbox\": [{\"marker\": {\"colorbar\": {\"outlinewidth\": 0, \"ticks\": \"\"}}, \"type\": \"scattermapbox\"}], \"scatterpolar\": [{\"marker\": {\"colorbar\": {\"outlinewidth\": 0, \"ticks\": \"\"}}, \"type\": \"scatterpolar\"}], \"scatterpolargl\": [{\"marker\": {\"colorbar\": {\"outlinewidth\": 0, \"ticks\": \"\"}}, \"type\": \"scatterpolargl\"}], \"scatterternary\": [{\"marker\": {\"colorbar\": {\"outlinewidth\": 0, \"ticks\": \"\"}}, \"type\": \"scatterternary\"}], \"surface\": [{\"colorbar\": {\"outlinewidth\": 0, \"ticks\": \"\"}, \"colorscale\": [[0.0, \"#0d0887\"], [0.1111111111111111, \"#46039f\"], [0.2222222222222222, \"#7201a8\"], [0.3333333333333333, \"#9c179e\"], [0.4444444444444444, \"#bd3786\"], [0.5555555555555556, \"#d8576b\"], [0.6666666666666666, \"#ed7953\"], [0.7777777777777778, \"#fb9f3a\"], [0.8888888888888888, \"#fdca26\"], [1.0, \"#f0f921\"]], \"type\": \"surface\"}], \"table\": [{\"cells\": {\"fill\": {\"color\": \"#EBF0F8\"}, \"line\": {\"color\": \"white\"}}, \"header\": {\"fill\": {\"color\": \"#C8D4E3\"}, \"line\": {\"color\": \"white\"}}, \"type\": \"table\"}]}, \"layout\": {\"annotationdefaults\": {\"arrowcolor\": \"#2a3f5f\", \"arrowhead\": 0, \"arrowwidth\": 1}, \"coloraxis\": {\"colorbar\": {\"outlinewidth\": 0, \"ticks\": \"\"}}, \"colorscale\": {\"diverging\": [[0, \"#8e0152\"], [0.1, \"#c51b7d\"], [0.2, \"#de77ae\"], [0.3, \"#f1b6da\"], [0.4, \"#fde0ef\"], [0.5, \"#f7f7f7\"], [0.6, \"#e6f5d0\"], [0.7, \"#b8e186\"], [0.8, \"#7fbc41\"], [0.9, \"#4d9221\"], [1, \"#276419\"]], \"sequential\": [[0.0, \"#0d0887\"], [0.1111111111111111, \"#46039f\"], [0.2222222222222222, \"#7201a8\"], [0.3333333333333333, \"#9c179e\"], [0.4444444444444444, \"#bd3786\"], [0.5555555555555556, \"#d8576b\"], [0.6666666666666666, \"#ed7953\"], [0.7777777777777778, \"#fb9f3a\"], [0.8888888888888888, \"#fdca26\"], [1.0, \"#f0f921\"]], \"sequentialminus\": [[0.0, \"#0d0887\"], [0.1111111111111111, \"#46039f\"], [0.2222222222222222, \"#7201a8\"], [0.3333333333333333, \"#9c179e\"], [0.4444444444444444, \"#bd3786\"], [0.5555555555555556, \"#d8576b\"], [0.6666666666666666, \"#ed7953\"], [0.7777777777777778, \"#fb9f3a\"], [0.8888888888888888, \"#fdca26\"], [1.0, \"#f0f921\"]]}, \"colorway\": [\"#636efa\", \"#EF553B\", \"#00cc96\", \"#ab63fa\", \"#FFA15A\", \"#19d3f3\", \"#FF6692\", \"#B6E880\", \"#FF97FF\", \"#FECB52\"], \"font\": {\"color\": \"#2a3f5f\"}, \"geo\": {\"bgcolor\": \"white\", \"lakecolor\": \"white\", \"landcolor\": \"#E5ECF6\", \"showlakes\": true, \"showland\": true, \"subunitcolor\": \"white\"}, \"hoverlabel\": {\"align\": \"left\"}, \"hovermode\": \"closest\", \"mapbox\": {\"style\": \"light\"}, \"paper_bgcolor\": \"white\", \"plot_bgcolor\": \"#E5ECF6\", \"polar\": {\"angularaxis\": {\"gridcolor\": \"white\", \"linecolor\": \"white\", \"ticks\": \"\"}, \"bgcolor\": \"#E5ECF6\", \"radialaxis\": {\"gridcolor\": \"white\", \"linecolor\": \"white\", \"ticks\": \"\"}}, \"scene\": {\"xaxis\": {\"backgroundcolor\": \"#E5ECF6\", \"gridcolor\": \"white\", \"gridwidth\": 2, \"linecolor\": \"white\", \"showbackground\": true, \"ticks\": \"\", \"zerolinecolor\": \"white\"}, \"yaxis\": {\"backgroundcolor\": \"#E5ECF6\", \"gridcolor\": \"white\", \"gridwidth\": 2, \"linecolor\": \"white\", \"showbackground\": true, \"ticks\": \"\", \"zerolinecolor\": \"white\"}, \"zaxis\": {\"backgroundcolor\": \"#E5ECF6\", \"gridcolor\": \"white\", \"gridwidth\": 2, \"linecolor\": \"white\", \"showbackground\": true, \"ticks\": \"\", \"zerolinecolor\": \"white\"}}, \"shapedefaults\": {\"line\": {\"color\": \"#2a3f5f\"}}, \"ternary\": {\"aaxis\": {\"gridcolor\": \"white\", \"linecolor\": \"white\", \"ticks\": \"\"}, \"baxis\": {\"gridcolor\": \"white\", \"linecolor\": \"white\", \"ticks\": \"\"}, \"bgcolor\": \"#E5ECF6\", \"caxis\": {\"gridcolor\": \"white\", \"linecolor\": \"white\", \"ticks\": \"\"}}, \"title\": {\"x\": 0.05}, \"xaxis\": {\"automargin\": true, \"gridcolor\": \"white\", \"linecolor\": \"white\", \"ticks\": \"\", \"title\": {\"standoff\": 15}, \"zerolinecolor\": \"white\", \"zerolinewidth\": 2}, \"yaxis\": {\"automargin\": true, \"gridcolor\": \"white\", \"linecolor\": \"white\", \"ticks\": \"\", \"title\": {\"standoff\": 15}, \"zerolinecolor\": \"white\", \"zerolinewidth\": 2}}}, \"title\": {\"font\": {\"color\": \"#4D5663\"}, \"text\": \"Topic 1: Top 100 words after removing stop words\"}, \"xaxis\": {\"gridcolor\": \"#E1E5ED\", \"linecolor\": \"black\", \"showgrid\": true, \"tickfont\": {\"color\": \"#4D5663\"}, \"title\": {\"font\": {\"color\": \"#4D5663\"}, \"text\": \"\"}, \"zerolinecolor\": \"#E1E5ED\"}, \"yaxis\": {\"gridcolor\": \"#E1E5ED\", \"linecolor\": \"black\", \"showgrid\": true, \"tickfont\": {\"color\": \"#4D5663\"}, \"title\": {\"font\": {\"color\": \"#4D5663\"}, \"text\": \"Count\"}, \"zerolinecolor\": \"#E1E5ED\"}},\n",
       "                        {\"showLink\": true, \"linkText\": \"Export to plot.ly\", \"plotlyServerURL\": \"https://plot.ly\", \"responsive\": true}\n",
       "                    ).then(function(){\n",
       "                            \n",
       "var gd = document.getElementById('a95ca77a-db0e-4bc2-921d-6cda4c810528');\n",
       "var x = new MutationObserver(function (mutations, observer) {{\n",
       "        var display = window.getComputedStyle(gd).display;\n",
       "        if (!display || display === 'none') {{\n",
       "            console.log([gd, 'removed!']);\n",
       "            Plotly.purge(gd);\n",
       "            observer.disconnect();\n",
       "        }}\n",
       "}});\n",
       "\n",
       "// Listen for the removal of the full notebook cells\n",
       "var notebookContainer = gd.closest('#notebook-container');\n",
       "if (notebookContainer) {{\n",
       "    x.observe(notebookContainer, {childList: true});\n",
       "}}\n",
       "\n",
       "// Listen for the clearing of the current output cell\n",
       "var outputEl = gd.closest('.output');\n",
       "if (outputEl) {{\n",
       "    x.observe(outputEl, {childList: true});\n",
       "}}\n",
       "\n",
       "                        })\n",
       "                };\n",
       "                });\n",
       "            </script>\n",
       "        </div>"
      ]
     },
     "metadata": {},
     "output_type": "display_data"
    }
   ],
   "source": [
    "plot_model(lda, plot = 'frequency', topic_num = 'Topic 1')"
   ]
  },
  {
   "cell_type": "markdown",
   "metadata": {},
   "source": [
    "## Topic Distribution"
   ]
  },
  {
   "cell_type": "code",
   "execution_count": 21,
   "metadata": {},
   "outputs": [
    {
     "data": {
      "text/html": [
       "        <script type=\"text/javascript\">\n",
       "        window.PlotlyConfig = {MathJaxConfig: 'local'};\n",
       "        if (window.MathJax) {MathJax.Hub.Config({SVG: {font: \"STIX-Web\"}});}\n",
       "        if (typeof require !== 'undefined') {\n",
       "        require.undef(\"plotly\");\n",
       "        requirejs.config({\n",
       "            paths: {\n",
       "                'plotly': ['https://cdn.plot.ly/plotly-latest.min']\n",
       "            }\n",
       "        });\n",
       "        require(['plotly'], function(Plotly) {\n",
       "            window._Plotly = Plotly;\n",
       "        });\n",
       "        }\n",
       "        </script>\n",
       "        "
      ]
     },
     "metadata": {},
     "output_type": "display_data"
    },
    {
     "data": {
      "application/vnd.plotly.v1+json": {
       "config": {
        "plotlyServerURL": "https://plot.ly"
       },
       "data": [
        {
         "alignmentgroup": "True",
         "customdata": [
          [
           "work, use, br, cable, great, charge, speaker, device, buy, well"
          ],
          [
           "buy, br, would, get, use, work, well, unit, plug, need"
          ],
          [
           "sound, great, use, br, work, good, well, would, go, get"
          ],
          [
           "use, exactly, work, look, plug, go, tv, item, fit, station"
          ],
          [
           "good, use, sound, headphone, great, work, price, quality, need, ear"
          ],
          [
           "remote, work, use, well, product, good, br, would, buy, issue"
          ]
         ],
         "hovertemplate": "Topic=%{x}<br>Documents=%{y}<br>Keyword=%{customdata[0]}<extra></extra>",
         "legendgroup": "",
         "marker": {
          "color": "#636efa"
         },
         "name": "",
         "offsetgroup": "",
         "orientation": "v",
         "showlegend": false,
         "textposition": "auto",
         "type": "bar",
         "x": [
          "Topic 0",
          "Topic 1",
          "Topic 2",
          "Topic 3",
          "Topic 4",
          "Topic 5"
         ],
         "xaxis": "x",
         "y": [
          253,
          94,
          304,
          42,
          181,
          126
         ],
         "yaxis": "y"
        }
       ],
       "layout": {
        "barmode": "relative",
        "legend": {
         "tracegroupgap": 0
        },
        "template": {
         "data": {
          "bar": [
           {
            "error_x": {
             "color": "#2a3f5f"
            },
            "error_y": {
             "color": "#2a3f5f"
            },
            "marker": {
             "line": {
              "color": "#E5ECF6",
              "width": 0.5
             }
            },
            "type": "bar"
           }
          ],
          "barpolar": [
           {
            "marker": {
             "line": {
              "color": "#E5ECF6",
              "width": 0.5
             }
            },
            "type": "barpolar"
           }
          ],
          "carpet": [
           {
            "aaxis": {
             "endlinecolor": "#2a3f5f",
             "gridcolor": "white",
             "linecolor": "white",
             "minorgridcolor": "white",
             "startlinecolor": "#2a3f5f"
            },
            "baxis": {
             "endlinecolor": "#2a3f5f",
             "gridcolor": "white",
             "linecolor": "white",
             "minorgridcolor": "white",
             "startlinecolor": "#2a3f5f"
            },
            "type": "carpet"
           }
          ],
          "choropleth": [
           {
            "colorbar": {
             "outlinewidth": 0,
             "ticks": ""
            },
            "type": "choropleth"
           }
          ],
          "contour": [
           {
            "colorbar": {
             "outlinewidth": 0,
             "ticks": ""
            },
            "colorscale": [
             [
              0,
              "#0d0887"
             ],
             [
              0.1111111111111111,
              "#46039f"
             ],
             [
              0.2222222222222222,
              "#7201a8"
             ],
             [
              0.3333333333333333,
              "#9c179e"
             ],
             [
              0.4444444444444444,
              "#bd3786"
             ],
             [
              0.5555555555555556,
              "#d8576b"
             ],
             [
              0.6666666666666666,
              "#ed7953"
             ],
             [
              0.7777777777777778,
              "#fb9f3a"
             ],
             [
              0.8888888888888888,
              "#fdca26"
             ],
             [
              1,
              "#f0f921"
             ]
            ],
            "type": "contour"
           }
          ],
          "contourcarpet": [
           {
            "colorbar": {
             "outlinewidth": 0,
             "ticks": ""
            },
            "type": "contourcarpet"
           }
          ],
          "heatmap": [
           {
            "colorbar": {
             "outlinewidth": 0,
             "ticks": ""
            },
            "colorscale": [
             [
              0,
              "#0d0887"
             ],
             [
              0.1111111111111111,
              "#46039f"
             ],
             [
              0.2222222222222222,
              "#7201a8"
             ],
             [
              0.3333333333333333,
              "#9c179e"
             ],
             [
              0.4444444444444444,
              "#bd3786"
             ],
             [
              0.5555555555555556,
              "#d8576b"
             ],
             [
              0.6666666666666666,
              "#ed7953"
             ],
             [
              0.7777777777777778,
              "#fb9f3a"
             ],
             [
              0.8888888888888888,
              "#fdca26"
             ],
             [
              1,
              "#f0f921"
             ]
            ],
            "type": "heatmap"
           }
          ],
          "heatmapgl": [
           {
            "colorbar": {
             "outlinewidth": 0,
             "ticks": ""
            },
            "colorscale": [
             [
              0,
              "#0d0887"
             ],
             [
              0.1111111111111111,
              "#46039f"
             ],
             [
              0.2222222222222222,
              "#7201a8"
             ],
             [
              0.3333333333333333,
              "#9c179e"
             ],
             [
              0.4444444444444444,
              "#bd3786"
             ],
             [
              0.5555555555555556,
              "#d8576b"
             ],
             [
              0.6666666666666666,
              "#ed7953"
             ],
             [
              0.7777777777777778,
              "#fb9f3a"
             ],
             [
              0.8888888888888888,
              "#fdca26"
             ],
             [
              1,
              "#f0f921"
             ]
            ],
            "type": "heatmapgl"
           }
          ],
          "histogram": [
           {
            "marker": {
             "colorbar": {
              "outlinewidth": 0,
              "ticks": ""
             }
            },
            "type": "histogram"
           }
          ],
          "histogram2d": [
           {
            "colorbar": {
             "outlinewidth": 0,
             "ticks": ""
            },
            "colorscale": [
             [
              0,
              "#0d0887"
             ],
             [
              0.1111111111111111,
              "#46039f"
             ],
             [
              0.2222222222222222,
              "#7201a8"
             ],
             [
              0.3333333333333333,
              "#9c179e"
             ],
             [
              0.4444444444444444,
              "#bd3786"
             ],
             [
              0.5555555555555556,
              "#d8576b"
             ],
             [
              0.6666666666666666,
              "#ed7953"
             ],
             [
              0.7777777777777778,
              "#fb9f3a"
             ],
             [
              0.8888888888888888,
              "#fdca26"
             ],
             [
              1,
              "#f0f921"
             ]
            ],
            "type": "histogram2d"
           }
          ],
          "histogram2dcontour": [
           {
            "colorbar": {
             "outlinewidth": 0,
             "ticks": ""
            },
            "colorscale": [
             [
              0,
              "#0d0887"
             ],
             [
              0.1111111111111111,
              "#46039f"
             ],
             [
              0.2222222222222222,
              "#7201a8"
             ],
             [
              0.3333333333333333,
              "#9c179e"
             ],
             [
              0.4444444444444444,
              "#bd3786"
             ],
             [
              0.5555555555555556,
              "#d8576b"
             ],
             [
              0.6666666666666666,
              "#ed7953"
             ],
             [
              0.7777777777777778,
              "#fb9f3a"
             ],
             [
              0.8888888888888888,
              "#fdca26"
             ],
             [
              1,
              "#f0f921"
             ]
            ],
            "type": "histogram2dcontour"
           }
          ],
          "mesh3d": [
           {
            "colorbar": {
             "outlinewidth": 0,
             "ticks": ""
            },
            "type": "mesh3d"
           }
          ],
          "parcoords": [
           {
            "line": {
             "colorbar": {
              "outlinewidth": 0,
              "ticks": ""
             }
            },
            "type": "parcoords"
           }
          ],
          "pie": [
           {
            "automargin": true,
            "type": "pie"
           }
          ],
          "scatter": [
           {
            "marker": {
             "colorbar": {
              "outlinewidth": 0,
              "ticks": ""
             }
            },
            "type": "scatter"
           }
          ],
          "scatter3d": [
           {
            "line": {
             "colorbar": {
              "outlinewidth": 0,
              "ticks": ""
             }
            },
            "marker": {
             "colorbar": {
              "outlinewidth": 0,
              "ticks": ""
             }
            },
            "type": "scatter3d"
           }
          ],
          "scattercarpet": [
           {
            "marker": {
             "colorbar": {
              "outlinewidth": 0,
              "ticks": ""
             }
            },
            "type": "scattercarpet"
           }
          ],
          "scattergeo": [
           {
            "marker": {
             "colorbar": {
              "outlinewidth": 0,
              "ticks": ""
             }
            },
            "type": "scattergeo"
           }
          ],
          "scattergl": [
           {
            "marker": {
             "colorbar": {
              "outlinewidth": 0,
              "ticks": ""
             }
            },
            "type": "scattergl"
           }
          ],
          "scattermapbox": [
           {
            "marker": {
             "colorbar": {
              "outlinewidth": 0,
              "ticks": ""
             }
            },
            "type": "scattermapbox"
           }
          ],
          "scatterpolar": [
           {
            "marker": {
             "colorbar": {
              "outlinewidth": 0,
              "ticks": ""
             }
            },
            "type": "scatterpolar"
           }
          ],
          "scatterpolargl": [
           {
            "marker": {
             "colorbar": {
              "outlinewidth": 0,
              "ticks": ""
             }
            },
            "type": "scatterpolargl"
           }
          ],
          "scatterternary": [
           {
            "marker": {
             "colorbar": {
              "outlinewidth": 0,
              "ticks": ""
             }
            },
            "type": "scatterternary"
           }
          ],
          "surface": [
           {
            "colorbar": {
             "outlinewidth": 0,
             "ticks": ""
            },
            "colorscale": [
             [
              0,
              "#0d0887"
             ],
             [
              0.1111111111111111,
              "#46039f"
             ],
             [
              0.2222222222222222,
              "#7201a8"
             ],
             [
              0.3333333333333333,
              "#9c179e"
             ],
             [
              0.4444444444444444,
              "#bd3786"
             ],
             [
              0.5555555555555556,
              "#d8576b"
             ],
             [
              0.6666666666666666,
              "#ed7953"
             ],
             [
              0.7777777777777778,
              "#fb9f3a"
             ],
             [
              0.8888888888888888,
              "#fdca26"
             ],
             [
              1,
              "#f0f921"
             ]
            ],
            "type": "surface"
           }
          ],
          "table": [
           {
            "cells": {
             "fill": {
              "color": "#EBF0F8"
             },
             "line": {
              "color": "white"
             }
            },
            "header": {
             "fill": {
              "color": "#C8D4E3"
             },
             "line": {
              "color": "white"
             }
            },
            "type": "table"
           }
          ]
         },
         "layout": {
          "annotationdefaults": {
           "arrowcolor": "#2a3f5f",
           "arrowhead": 0,
           "arrowwidth": 1
          },
          "coloraxis": {
           "colorbar": {
            "outlinewidth": 0,
            "ticks": ""
           }
          },
          "colorscale": {
           "diverging": [
            [
             0,
             "#8e0152"
            ],
            [
             0.1,
             "#c51b7d"
            ],
            [
             0.2,
             "#de77ae"
            ],
            [
             0.3,
             "#f1b6da"
            ],
            [
             0.4,
             "#fde0ef"
            ],
            [
             0.5,
             "#f7f7f7"
            ],
            [
             0.6,
             "#e6f5d0"
            ],
            [
             0.7,
             "#b8e186"
            ],
            [
             0.8,
             "#7fbc41"
            ],
            [
             0.9,
             "#4d9221"
            ],
            [
             1,
             "#276419"
            ]
           ],
           "sequential": [
            [
             0,
             "#0d0887"
            ],
            [
             0.1111111111111111,
             "#46039f"
            ],
            [
             0.2222222222222222,
             "#7201a8"
            ],
            [
             0.3333333333333333,
             "#9c179e"
            ],
            [
             0.4444444444444444,
             "#bd3786"
            ],
            [
             0.5555555555555556,
             "#d8576b"
            ],
            [
             0.6666666666666666,
             "#ed7953"
            ],
            [
             0.7777777777777778,
             "#fb9f3a"
            ],
            [
             0.8888888888888888,
             "#fdca26"
            ],
            [
             1,
             "#f0f921"
            ]
           ],
           "sequentialminus": [
            [
             0,
             "#0d0887"
            ],
            [
             0.1111111111111111,
             "#46039f"
            ],
            [
             0.2222222222222222,
             "#7201a8"
            ],
            [
             0.3333333333333333,
             "#9c179e"
            ],
            [
             0.4444444444444444,
             "#bd3786"
            ],
            [
             0.5555555555555556,
             "#d8576b"
            ],
            [
             0.6666666666666666,
             "#ed7953"
            ],
            [
             0.7777777777777778,
             "#fb9f3a"
            ],
            [
             0.8888888888888888,
             "#fdca26"
            ],
            [
             1,
             "#f0f921"
            ]
           ]
          },
          "colorway": [
           "#636efa",
           "#EF553B",
           "#00cc96",
           "#ab63fa",
           "#FFA15A",
           "#19d3f3",
           "#FF6692",
           "#B6E880",
           "#FF97FF",
           "#FECB52"
          ],
          "font": {
           "color": "#2a3f5f"
          },
          "geo": {
           "bgcolor": "white",
           "lakecolor": "white",
           "landcolor": "#E5ECF6",
           "showlakes": true,
           "showland": true,
           "subunitcolor": "white"
          },
          "hoverlabel": {
           "align": "left"
          },
          "hovermode": "closest",
          "mapbox": {
           "style": "light"
          },
          "paper_bgcolor": "white",
          "plot_bgcolor": "#E5ECF6",
          "polar": {
           "angularaxis": {
            "gridcolor": "white",
            "linecolor": "white",
            "ticks": ""
           },
           "bgcolor": "#E5ECF6",
           "radialaxis": {
            "gridcolor": "white",
            "linecolor": "white",
            "ticks": ""
           }
          },
          "scene": {
           "xaxis": {
            "backgroundcolor": "#E5ECF6",
            "gridcolor": "white",
            "gridwidth": 2,
            "linecolor": "white",
            "showbackground": true,
            "ticks": "",
            "zerolinecolor": "white"
           },
           "yaxis": {
            "backgroundcolor": "#E5ECF6",
            "gridcolor": "white",
            "gridwidth": 2,
            "linecolor": "white",
            "showbackground": true,
            "ticks": "",
            "zerolinecolor": "white"
           },
           "zaxis": {
            "backgroundcolor": "#E5ECF6",
            "gridcolor": "white",
            "gridwidth": 2,
            "linecolor": "white",
            "showbackground": true,
            "ticks": "",
            "zerolinecolor": "white"
           }
          },
          "shapedefaults": {
           "line": {
            "color": "#2a3f5f"
           }
          },
          "ternary": {
           "aaxis": {
            "gridcolor": "white",
            "linecolor": "white",
            "ticks": ""
           },
           "baxis": {
            "gridcolor": "white",
            "linecolor": "white",
            "ticks": ""
           },
           "bgcolor": "#E5ECF6",
           "caxis": {
            "gridcolor": "white",
            "linecolor": "white",
            "ticks": ""
           }
          },
          "title": {
           "x": 0.05
          },
          "xaxis": {
           "automargin": true,
           "gridcolor": "white",
           "linecolor": "white",
           "ticks": "",
           "title": {
            "standoff": 15
           },
           "zerolinecolor": "white",
           "zerolinewidth": 2
          },
          "yaxis": {
           "automargin": true,
           "gridcolor": "white",
           "linecolor": "white",
           "ticks": "",
           "title": {
            "standoff": 15
           },
           "zerolinecolor": "white",
           "zerolinewidth": 2
          }
         }
        },
        "title": {
         "text": "Document Distribution by Topics"
        },
        "xaxis": {
         "anchor": "y",
         "domain": [
          0,
          1
         ],
         "title": {
          "text": "Topic"
         }
        },
        "yaxis": {
         "anchor": "x",
         "domain": [
          0,
          1
         ],
         "title": {
          "text": "Documents"
         }
        }
       }
      },
      "text/html": [
       "<div>\n",
       "        \n",
       "        \n",
       "            <div id=\"e88605d2-46b7-4899-8a21-ed5eb35d8666\" class=\"plotly-graph-div\" style=\"height:525px; width:100%;\"></div>\n",
       "            <script type=\"text/javascript\">\n",
       "                require([\"plotly\"], function(Plotly) {\n",
       "                    window.PLOTLYENV=window.PLOTLYENV || {};\n",
       "                    \n",
       "                if (document.getElementById(\"e88605d2-46b7-4899-8a21-ed5eb35d8666\")) {\n",
       "                    Plotly.newPlot(\n",
       "                        'e88605d2-46b7-4899-8a21-ed5eb35d8666',\n",
       "                        [{\"alignmentgroup\": \"True\", \"customdata\": [[\"work, use, br, cable, great, charge, speaker, device, buy, well\"], [\"buy, br, would, get, use, work, well, unit, plug, need\"], [\"sound, great, use, br, work, good, well, would, go, get\"], [\"use, exactly, work, look, plug, go, tv, item, fit, station\"], [\"good, use, sound, headphone, great, work, price, quality, need, ear\"], [\"remote, work, use, well, product, good, br, would, buy, issue\"]], \"hovertemplate\": \"Topic=%{x}<br>Documents=%{y}<br>Keyword=%{customdata[0]}<extra></extra>\", \"legendgroup\": \"\", \"marker\": {\"color\": \"#636efa\"}, \"name\": \"\", \"offsetgroup\": \"\", \"orientation\": \"v\", \"showlegend\": false, \"textposition\": \"auto\", \"type\": \"bar\", \"x\": [\"Topic 0\", \"Topic 1\", \"Topic 2\", \"Topic 3\", \"Topic 4\", \"Topic 5\"], \"xaxis\": \"x\", \"y\": [253, 94, 304, 42, 181, 126], \"yaxis\": \"y\"}],\n",
       "                        {\"barmode\": \"relative\", \"legend\": {\"tracegroupgap\": 0}, \"template\": {\"data\": {\"bar\": [{\"error_x\": {\"color\": \"#2a3f5f\"}, \"error_y\": {\"color\": \"#2a3f5f\"}, \"marker\": {\"line\": {\"color\": \"#E5ECF6\", \"width\": 0.5}}, \"type\": \"bar\"}], \"barpolar\": [{\"marker\": {\"line\": {\"color\": \"#E5ECF6\", \"width\": 0.5}}, \"type\": \"barpolar\"}], \"carpet\": [{\"aaxis\": {\"endlinecolor\": \"#2a3f5f\", \"gridcolor\": \"white\", \"linecolor\": \"white\", \"minorgridcolor\": \"white\", \"startlinecolor\": \"#2a3f5f\"}, \"baxis\": {\"endlinecolor\": \"#2a3f5f\", \"gridcolor\": \"white\", \"linecolor\": \"white\", \"minorgridcolor\": \"white\", \"startlinecolor\": \"#2a3f5f\"}, \"type\": \"carpet\"}], \"choropleth\": [{\"colorbar\": {\"outlinewidth\": 0, \"ticks\": \"\"}, \"type\": \"choropleth\"}], \"contour\": [{\"colorbar\": {\"outlinewidth\": 0, \"ticks\": \"\"}, \"colorscale\": [[0.0, \"#0d0887\"], [0.1111111111111111, \"#46039f\"], [0.2222222222222222, \"#7201a8\"], [0.3333333333333333, \"#9c179e\"], [0.4444444444444444, \"#bd3786\"], [0.5555555555555556, \"#d8576b\"], [0.6666666666666666, \"#ed7953\"], [0.7777777777777778, \"#fb9f3a\"], [0.8888888888888888, \"#fdca26\"], [1.0, \"#f0f921\"]], \"type\": \"contour\"}], \"contourcarpet\": [{\"colorbar\": {\"outlinewidth\": 0, \"ticks\": \"\"}, \"type\": \"contourcarpet\"}], \"heatmap\": [{\"colorbar\": {\"outlinewidth\": 0, \"ticks\": \"\"}, \"colorscale\": [[0.0, \"#0d0887\"], [0.1111111111111111, \"#46039f\"], [0.2222222222222222, \"#7201a8\"], [0.3333333333333333, \"#9c179e\"], [0.4444444444444444, \"#bd3786\"], [0.5555555555555556, \"#d8576b\"], [0.6666666666666666, \"#ed7953\"], [0.7777777777777778, \"#fb9f3a\"], [0.8888888888888888, \"#fdca26\"], [1.0, \"#f0f921\"]], \"type\": \"heatmap\"}], \"heatmapgl\": [{\"colorbar\": {\"outlinewidth\": 0, \"ticks\": \"\"}, \"colorscale\": [[0.0, \"#0d0887\"], [0.1111111111111111, \"#46039f\"], [0.2222222222222222, \"#7201a8\"], [0.3333333333333333, \"#9c179e\"], [0.4444444444444444, \"#bd3786\"], [0.5555555555555556, \"#d8576b\"], [0.6666666666666666, \"#ed7953\"], [0.7777777777777778, \"#fb9f3a\"], [0.8888888888888888, \"#fdca26\"], [1.0, \"#f0f921\"]], \"type\": \"heatmapgl\"}], \"histogram\": [{\"marker\": {\"colorbar\": {\"outlinewidth\": 0, \"ticks\": \"\"}}, \"type\": \"histogram\"}], \"histogram2d\": [{\"colorbar\": {\"outlinewidth\": 0, \"ticks\": \"\"}, \"colorscale\": [[0.0, \"#0d0887\"], [0.1111111111111111, \"#46039f\"], [0.2222222222222222, \"#7201a8\"], [0.3333333333333333, \"#9c179e\"], [0.4444444444444444, \"#bd3786\"], [0.5555555555555556, \"#d8576b\"], [0.6666666666666666, \"#ed7953\"], [0.7777777777777778, \"#fb9f3a\"], [0.8888888888888888, \"#fdca26\"], [1.0, \"#f0f921\"]], \"type\": \"histogram2d\"}], \"histogram2dcontour\": [{\"colorbar\": {\"outlinewidth\": 0, \"ticks\": \"\"}, \"colorscale\": [[0.0, \"#0d0887\"], [0.1111111111111111, \"#46039f\"], [0.2222222222222222, \"#7201a8\"], [0.3333333333333333, \"#9c179e\"], [0.4444444444444444, \"#bd3786\"], [0.5555555555555556, \"#d8576b\"], [0.6666666666666666, \"#ed7953\"], [0.7777777777777778, \"#fb9f3a\"], [0.8888888888888888, \"#fdca26\"], [1.0, \"#f0f921\"]], \"type\": \"histogram2dcontour\"}], \"mesh3d\": [{\"colorbar\": {\"outlinewidth\": 0, \"ticks\": \"\"}, \"type\": \"mesh3d\"}], \"parcoords\": [{\"line\": {\"colorbar\": {\"outlinewidth\": 0, \"ticks\": \"\"}}, \"type\": \"parcoords\"}], \"pie\": [{\"automargin\": true, \"type\": \"pie\"}], \"scatter\": [{\"marker\": {\"colorbar\": {\"outlinewidth\": 0, \"ticks\": \"\"}}, \"type\": \"scatter\"}], \"scatter3d\": [{\"line\": {\"colorbar\": {\"outlinewidth\": 0, \"ticks\": \"\"}}, \"marker\": {\"colorbar\": {\"outlinewidth\": 0, \"ticks\": \"\"}}, \"type\": \"scatter3d\"}], \"scattercarpet\": [{\"marker\": {\"colorbar\": {\"outlinewidth\": 0, \"ticks\": \"\"}}, \"type\": \"scattercarpet\"}], \"scattergeo\": [{\"marker\": {\"colorbar\": {\"outlinewidth\": 0, \"ticks\": \"\"}}, \"type\": \"scattergeo\"}], \"scattergl\": [{\"marker\": {\"colorbar\": {\"outlinewidth\": 0, \"ticks\": \"\"}}, \"type\": \"scattergl\"}], \"scattermapbox\": [{\"marker\": {\"colorbar\": {\"outlinewidth\": 0, \"ticks\": \"\"}}, \"type\": \"scattermapbox\"}], \"scatterpolar\": [{\"marker\": {\"colorbar\": {\"outlinewidth\": 0, \"ticks\": \"\"}}, \"type\": \"scatterpolar\"}], \"scatterpolargl\": [{\"marker\": {\"colorbar\": {\"outlinewidth\": 0, \"ticks\": \"\"}}, \"type\": \"scatterpolargl\"}], \"scatterternary\": [{\"marker\": {\"colorbar\": {\"outlinewidth\": 0, \"ticks\": \"\"}}, \"type\": \"scatterternary\"}], \"surface\": [{\"colorbar\": {\"outlinewidth\": 0, \"ticks\": \"\"}, \"colorscale\": [[0.0, \"#0d0887\"], [0.1111111111111111, \"#46039f\"], [0.2222222222222222, \"#7201a8\"], [0.3333333333333333, \"#9c179e\"], [0.4444444444444444, \"#bd3786\"], [0.5555555555555556, \"#d8576b\"], [0.6666666666666666, \"#ed7953\"], [0.7777777777777778, \"#fb9f3a\"], [0.8888888888888888, \"#fdca26\"], [1.0, \"#f0f921\"]], \"type\": \"surface\"}], \"table\": [{\"cells\": {\"fill\": {\"color\": \"#EBF0F8\"}, \"line\": {\"color\": \"white\"}}, \"header\": {\"fill\": {\"color\": \"#C8D4E3\"}, \"line\": {\"color\": \"white\"}}, \"type\": \"table\"}]}, \"layout\": {\"annotationdefaults\": {\"arrowcolor\": \"#2a3f5f\", \"arrowhead\": 0, \"arrowwidth\": 1}, \"coloraxis\": {\"colorbar\": {\"outlinewidth\": 0, \"ticks\": \"\"}}, \"colorscale\": {\"diverging\": [[0, \"#8e0152\"], [0.1, \"#c51b7d\"], [0.2, \"#de77ae\"], [0.3, \"#f1b6da\"], [0.4, \"#fde0ef\"], [0.5, \"#f7f7f7\"], [0.6, \"#e6f5d0\"], [0.7, \"#b8e186\"], [0.8, \"#7fbc41\"], [0.9, \"#4d9221\"], [1, \"#276419\"]], \"sequential\": [[0.0, \"#0d0887\"], [0.1111111111111111, \"#46039f\"], [0.2222222222222222, \"#7201a8\"], [0.3333333333333333, \"#9c179e\"], [0.4444444444444444, \"#bd3786\"], [0.5555555555555556, \"#d8576b\"], [0.6666666666666666, \"#ed7953\"], [0.7777777777777778, \"#fb9f3a\"], [0.8888888888888888, \"#fdca26\"], [1.0, \"#f0f921\"]], \"sequentialminus\": [[0.0, \"#0d0887\"], [0.1111111111111111, \"#46039f\"], [0.2222222222222222, \"#7201a8\"], [0.3333333333333333, \"#9c179e\"], [0.4444444444444444, \"#bd3786\"], [0.5555555555555556, \"#d8576b\"], [0.6666666666666666, \"#ed7953\"], [0.7777777777777778, \"#fb9f3a\"], [0.8888888888888888, \"#fdca26\"], [1.0, \"#f0f921\"]]}, \"colorway\": [\"#636efa\", \"#EF553B\", \"#00cc96\", \"#ab63fa\", \"#FFA15A\", \"#19d3f3\", \"#FF6692\", \"#B6E880\", \"#FF97FF\", \"#FECB52\"], \"font\": {\"color\": \"#2a3f5f\"}, \"geo\": {\"bgcolor\": \"white\", \"lakecolor\": \"white\", \"landcolor\": \"#E5ECF6\", \"showlakes\": true, \"showland\": true, \"subunitcolor\": \"white\"}, \"hoverlabel\": {\"align\": \"left\"}, \"hovermode\": \"closest\", \"mapbox\": {\"style\": \"light\"}, \"paper_bgcolor\": \"white\", \"plot_bgcolor\": \"#E5ECF6\", \"polar\": {\"angularaxis\": {\"gridcolor\": \"white\", \"linecolor\": \"white\", \"ticks\": \"\"}, \"bgcolor\": \"#E5ECF6\", \"radialaxis\": {\"gridcolor\": \"white\", \"linecolor\": \"white\", \"ticks\": \"\"}}, \"scene\": {\"xaxis\": {\"backgroundcolor\": \"#E5ECF6\", \"gridcolor\": \"white\", \"gridwidth\": 2, \"linecolor\": \"white\", \"showbackground\": true, \"ticks\": \"\", \"zerolinecolor\": \"white\"}, \"yaxis\": {\"backgroundcolor\": \"#E5ECF6\", \"gridcolor\": \"white\", \"gridwidth\": 2, \"linecolor\": \"white\", \"showbackground\": true, \"ticks\": \"\", \"zerolinecolor\": \"white\"}, \"zaxis\": {\"backgroundcolor\": \"#E5ECF6\", \"gridcolor\": \"white\", \"gridwidth\": 2, \"linecolor\": \"white\", \"showbackground\": true, \"ticks\": \"\", \"zerolinecolor\": \"white\"}}, \"shapedefaults\": {\"line\": {\"color\": \"#2a3f5f\"}}, \"ternary\": {\"aaxis\": {\"gridcolor\": \"white\", \"linecolor\": \"white\", \"ticks\": \"\"}, \"baxis\": {\"gridcolor\": \"white\", \"linecolor\": \"white\", \"ticks\": \"\"}, \"bgcolor\": \"#E5ECF6\", \"caxis\": {\"gridcolor\": \"white\", \"linecolor\": \"white\", \"ticks\": \"\"}}, \"title\": {\"x\": 0.05}, \"xaxis\": {\"automargin\": true, \"gridcolor\": \"white\", \"linecolor\": \"white\", \"ticks\": \"\", \"title\": {\"standoff\": 15}, \"zerolinecolor\": \"white\", \"zerolinewidth\": 2}, \"yaxis\": {\"automargin\": true, \"gridcolor\": \"white\", \"linecolor\": \"white\", \"ticks\": \"\", \"title\": {\"standoff\": 15}, \"zerolinecolor\": \"white\", \"zerolinewidth\": 2}}}, \"title\": {\"text\": \"Document Distribution by Topics\"}, \"xaxis\": {\"anchor\": \"y\", \"domain\": [0.0, 1.0], \"title\": {\"text\": \"Topic\"}}, \"yaxis\": {\"anchor\": \"x\", \"domain\": [0.0, 1.0], \"title\": {\"text\": \"Documents\"}}},\n",
       "                        {\"responsive\": true}\n",
       "                    ).then(function(){\n",
       "                            \n",
       "var gd = document.getElementById('e88605d2-46b7-4899-8a21-ed5eb35d8666');\n",
       "var x = new MutationObserver(function (mutations, observer) {{\n",
       "        var display = window.getComputedStyle(gd).display;\n",
       "        if (!display || display === 'none') {{\n",
       "            console.log([gd, 'removed!']);\n",
       "            Plotly.purge(gd);\n",
       "            observer.disconnect();\n",
       "        }}\n",
       "}});\n",
       "\n",
       "// Listen for the removal of the full notebook cells\n",
       "var notebookContainer = gd.closest('#notebook-container');\n",
       "if (notebookContainer) {{\n",
       "    x.observe(notebookContainer, {childList: true});\n",
       "}}\n",
       "\n",
       "// Listen for the clearing of the current output cell\n",
       "var outputEl = gd.closest('.output');\n",
       "if (outputEl) {{\n",
       "    x.observe(outputEl, {childList: true});\n",
       "}}\n",
       "\n",
       "                        })\n",
       "                };\n",
       "                });\n",
       "            </script>\n",
       "        </div>"
      ]
     },
     "metadata": {},
     "output_type": "display_data"
    }
   ],
   "source": [
    "plot_model(lda, plot = 'topic_distribution')"
   ]
  },
  {
   "cell_type": "markdown",
   "metadata": {},
   "source": [
    "Each document is a distribution of topics and not a single topic. Although, if the task is of categorizing document into specific topics, it wouldn't be wrong to use the topic proportion with highest value to categorize the document into a topic. In above plot, each document is categorized into one topic using the largest proportion of topic weights. We can see most of the documents are in `Topic 2`."
   ]
  },
  {
   "cell_type": "markdown",
   "metadata": {},
   "source": [
    "## T-distributed Stochastic Neighbor Embedding (t-SNE)"
   ]
  },
  {
   "cell_type": "code",
   "execution_count": 22,
   "metadata": {},
   "outputs": [
    {
     "data": {
      "text/html": [
       "        <script type=\"text/javascript\">\n",
       "        window.PlotlyConfig = {MathJaxConfig: 'local'};\n",
       "        if (window.MathJax) {MathJax.Hub.Config({SVG: {font: \"STIX-Web\"}});}\n",
       "        if (typeof require !== 'undefined') {\n",
       "        require.undef(\"plotly\");\n",
       "        requirejs.config({\n",
       "            paths: {\n",
       "                'plotly': ['https://cdn.plot.ly/plotly-latest.min']\n",
       "            }\n",
       "        });\n",
       "        require(['plotly'], function(Plotly) {\n",
       "            window._Plotly = Plotly;\n",
       "        });\n",
       "        }\n",
       "        </script>\n",
       "        "
      ]
     },
     "metadata": {},
     "output_type": "display_data"
    },
    {
     "data": {
      "application/vnd.plotly.v1+json": {
       "config": {
        "plotlyServerURL": "https://plot.ly"
       },
       "data": [
        {
         "hovertemplate": "Dominant_Topic=Topic 0<br>0=%{x}<br>1=%{y}<br>2=%{z}<extra></extra>",
         "legendgroup": "Topic 0",
         "marker": {
          "color": "#636efa",
          "opacity": 0.7,
          "symbol": "circle"
         },
         "mode": "markers",
         "name": "Topic 0",
         "scene": "scene",
         "showlegend": true,
         "type": "scatter3d",
         "x": [
          -0.5735564231872559,
          -5.898778915405273,
          -2.423429012298584,
          -3.0325963497161865,
          -0.13703496754169464,
          1.48806893825531,
          1.0221915245056152,
          2.3539347648620605,
          2.649604082107544,
          -5.711067199707031,
          -5.274833679199219,
          0.5224083065986633,
          -5.183427810668945,
          -0.1369631439447403,
          -3.0326526165008545,
          2.999828338623047,
          -2.465402126312256,
          -5.900791168212891,
          2.541188955307007,
          -1.713962197303772,
          -0.13703203201293945,
          2.786715269088745,
          1.5916129350662231,
          -5.734364032745361,
          -5.328393936157227,
          -0.1370878964662552,
          -2.435781955718994,
          -1.0457873344421387,
          -2.427489995956421,
          -3.4318010807037354,
          -0.8471664786338806,
          -0.5695268511772156,
          -1.3795336484909058,
          -1.7875797748565674,
          -0.8890453577041626,
          -4.459426403045654,
          -1.6696888208389282,
          -5.117499828338623,
          -2.0524721145629883,
          -5.936497211456299,
          -6.0161662101745605,
          -4.838654518127441,
          1.432094693183899,
          2.587376356124878,
          1.8431987762451172,
          -0.22125647962093353,
          -5.90151309967041,
          -2.467262029647827,
          3.0117106437683105,
          -2.5907230377197266,
          -2.608924388885498,
          -5.683571815490723,
          2.7070910930633545,
          -1.6818277835845947,
          -0.5740182399749756,
          -5.82835054397583,
          -5.054535388946533,
          -1.3636497259140015,
          -2.095421314239502,
          1.2165327072143555,
          -4.475693702697754,
          -1.573718547821045,
          -5.899405002593994,
          -3.420893907546997,
          -4.704830169677734,
          -1.414804458618164,
          -5.0735039710998535,
          -5.173619747161865,
          2.4136548042297363,
          -0.5698647499084473,
          -3.3935484886169434,
          -4.432071208953857,
          -1.574684500694275,
          -1.102770209312439,
          1.6471115350723267,
          -0.45114266872406006,
          2.625638484954834,
          -5.936222076416016,
          -4.463524341583252,
          -4.138089179992676,
          -5.625051021575928,
          -0.4502035081386566,
          -4.267005920410156,
          -5.689077377319336,
          -1.8431127071380615,
          1.573354959487915,
          -1.5546820163726807,
          -5.468954086303711,
          -3.5562634468078613,
          -3.023451089859009,
          -4.9985222816467285,
          -3.8890583515167236,
          0.7012528777122498,
          -1.3074461221694946,
          -0.9561609625816345,
          0.7568264603614807,
          3.0365612506866455,
          -5.147706031799316,
          -5.198009490966797,
          1.9240148067474365,
          -3.545792818069458,
          -3.672720193862915,
          -5.139305591583252,
          -4.269406318664551,
          -4.0804314613342285,
          2.892015218734741,
          -6.02893590927124,
          -0.13706310093402863,
          3.0698821544647217,
          -5.322926044464111,
          -1.5477794408798218,
          -0.5757283568382263,
          -5.788478851318359,
          -1.3468875885009766,
          -5.194088935852051,
          -5.261872291564941,
          -6.021751880645752,
          -0.5696713924407959,
          1.1036285161972046,
          -0.4150077700614929,
          -5.4342732429504395,
          -5.971584796905518,
          -4.700750827789307,
          -5.994406700134277,
          -5.330286502838135,
          1.354284644126892,
          -4.6841630935668945,
          -2.2567055225372314,
          -2.607158899307251,
          -1.01521897315979,
          -4.272096157073975,
          -1.547846794128418,
          -1.428454875946045,
          -0.7661994695663452,
          -3.3735275268554688,
          -4.907708644866943,
          2.4907374382019043,
          -4.57378625869751,
          1.7281683683395386,
          1.4144920110702515,
          -1.5476633310317993,
          -5.749955654144287,
          -3.965329885482788,
          2.017328977584839,
          -3.371272563934326,
          -0.13704080879688263,
          -4.460443496704102,
          -4.246030807495117,
          -0.569634199142456,
          -4.077639579772949,
          -1.5469964742660522,
          2.116880178451538,
          -6.974339962005615,
          1.141174554824829,
          -2.2553911209106445,
          -5.281295299530029,
          -0.1371002197265625,
          -1.5478112697601318,
          1.6163347959518433,
          -4.266974449157715,
          -1.9379438161849976,
          -5.9529242515563965,
          -5.0481038093566895,
          0.10508658736944199,
          -1.7129052877426147,
          -4.604574680328369,
          -4.942523002624512,
          -5.529844760894775,
          -5.250926494598389,
          -5.60692834854126,
          1.0374442338943481,
          1.5905014276504517,
          -5.052188873291016,
          -5.173885345458984,
          -4.116941928863525,
          -5.5144243240356445,
          -4.791839122772217,
          -4.69584846496582,
          -5.754588603973389,
          1.4267522096633911,
          -1.3418656587600708,
          -0.9688959717750549,
          -4.7405171394348145,
          -0.5731539130210876,
          2.58143949508667,
          -3.952150821685791,
          -5.80599308013916,
          -3.0631136894226074,
          -0.6257044076919556,
          -4.889259338378906,
          -3.4129090309143066,
          -5.272129058837891,
          -6.0104875564575195,
          -4.799208164215088,
          -6.9605913162231445,
          -1.5531096458435059,
          -5.330305576324463,
          -5.795029640197754,
          -5.196051597595215,
          -5.186911106109619,
          -4.085937976837158,
          -4.483012676239014,
          -0.7478516101837158,
          -4.669356346130371,
          -1.9882045984268188,
          -5.284616470336914,
          -0.5733126997947693,
          -2.8675756454467773,
          1.5330220460891724,
          -5.903112411499023,
          -3.026921272277832,
          -5.2376275062561035,
          -5.695106506347656,
          2.860109806060791,
          -4.5987324714660645,
          -0.5764073729515076,
          -4.0738067626953125,
          2.428614616394043,
          -3.4741263389587402,
          1.1636370420455933,
          -5.012295722961426,
          -1.550358772277832,
          -0.13703501224517822,
          -5.7128777503967285,
          1.7751317024230957,
          -2.7083029747009277,
          2.980400323867798,
          -5.914438247680664,
          0.8837604522705078,
          -4.473595142364502,
          -3.4048068523406982,
          -4.461137294769287,
          -0.9683877229690552,
          -5.752242088317871,
          1.2678699493408203,
          -2.437256336212158,
          -4.705479145050049,
          -5.951930522918701,
          -1.8478368520736694,
          -5.980106830596924,
          0.955230176448822,
          1.3493678569793701,
          -4.4497833251953125,
          1.9251368045806885,
          1.718940258026123,
          -3.4066357612609863,
          -1.0272672176361084,
          -1.206256628036499,
          -3.424060344696045,
          -0.8822243213653564,
          -5.905905723571777,
          2.904418706893921,
          -4.680794715881348
         ],
         "y": [
          -4.652107238769531,
          -11.458767890930176,
          -7.177952766418457,
          -17.008760452270508,
          -0.32550013065338135,
          -6.055387496948242,
          -18.642250061035156,
          -19.26665687561035,
          -19.274463653564453,
          -10.297406196594238,
          -9.218957901000977,
          -18.51111602783203,
          -1.838219165802002,
          -0.3254832327365875,
          -16.967348098754883,
          -5.5021138191223145,
          -18.902746200561523,
          -11.47655963897705,
          -5.5567169189453125,
          -17.566625595092773,
          -0.32544222474098206,
          -19.49966049194336,
          -6.009801387786865,
          -10.277562141418457,
          -14.970935821533203,
          -0.32544782757759094,
          -7.186185836791992,
          -18.04722023010254,
          -7.180224418640137,
          -7.7402873039245605,
          -6.029030799865723,
          -4.6421709060668945,
          -6.5950927734375,
          -6.91513729095459,
          -6.092136383056641,
          -8.279096603393555,
          -6.831422805786133,
          -14.857227325439453,
          -17.483030319213867,
          -12.57149600982666,
          -12.679305076599121,
          -0.24553216993808746,
          -3.487607717514038,
          -5.221019744873047,
          -18.715229034423828,
          -4.874401569366455,
          -11.495149612426758,
          -16.83786392211914,
          -19.895763397216797,
          -17.389053344726562,
          -17.386842727661133,
          -10.404831886291504,
          -19.984342575073242,
          -2.273139715194702,
          -4.657769203186035,
          -13.802608489990234,
          -1.140038013458252,
          -17.941635131835938,
          -17.54616928100586,
          -18.884553909301758,
          -8.293764114379883,
          -2.618500232696533,
          -11.48838996887207,
          -7.787764549255371,
          -15.574641227722168,
          -17.953107833862305,
          -1.1494237184524536,
          -2.5190811157226562,
          -5.670589923858643,
          -4.644329071044922,
          -7.76478910446167,
          -8.266737937927246,
          -2.6091983318328857,
          -6.342379093170166,
          -3.117743968963623,
          -18.22639274597168,
          -5.360178470611572,
          -12.721711158752441,
          -8.28325366973877,
          -15.675888061523438,
          -10.378141403198242,
          -18.226882934570312,
          -12.416655540466309,
          -13.760414123535156,
          -17.929637908935547,
          -18.739953994750977,
          -6.740209579467773,
          -14.921443939208984,
          -16.59621238708496,
          -16.982057571411133,
          -0.5857723355293274,
          -10.608256340026855,
          -18.55986785888672,
          -6.532493591308594,
          -6.1848673820495605,
          -4.0694074630737305,
          -20.03135108947754,
          -14.863934516906738,
          -2.041215658187866,
          -18.777082443237305,
          -16.606420516967773,
          -0.7364500761032104,
          -14.808857917785645,
          -12.329534530639648,
          -16.16578483581543,
          -20.050369262695312,
          -12.784900665283203,
          -0.3254249095916748,
          -20.049732208251953,
          -14.957935333251953,
          -6.240557670593262,
          -4.65684175491333,
          -10.339406967163086,
          -6.539414405822754,
          -1.1393935680389404,
          -9.197638511657715,
          -12.75910472869873,
          -4.642494201660156,
          -3.796607732772827,
          -6.221443176269531,
          -14.837547302246094,
          -14.042646408081055,
          -15.57724666595459,
          -12.758790969848633,
          -14.837481498718262,
          -18.6236629486084,
          -15.59821891784668,
          -17.634239196777344,
          -17.360496520996094,
          -6.239710807800293,
          -0.3762202262878418,
          -6.240649700164795,
          -17.940683364868164,
          -18.142688751220703,
          -7.752846717834473,
          -0.9413854479789734,
          -19.16156578063965,
          0.9543365240097046,
          -19.25965118408203,
          -6.155092716217041,
          -6.240400314331055,
          -10.287283897399902,
          -0.5067874789237976,
          -19.078285217285156,
          -7.768054962158203,
          -0.3255313038825989,
          -8.28116512298584,
          -12.673813819885254,
          -4.642411231994629,
          -16.168720245361328,
          -6.239444732666016,
          -19.53014373779297,
          -10.369928359985352,
          -18.727643966674805,
          -17.603931427001953,
          -9.238916397094727,
          -0.32552972435951233,
          -6.240602493286133,
          -2.6852810382843018,
          -12.592013359069824,
          -7.038018226623535,
          -13.924086570739746,
          -1.8032842874526978,
          -18.387916564941406,
          -17.82851219177246,
          -1.9173102378845215,
          -0.7537941932678223,
          -13.844752311706543,
          -3.3595151901245117,
          -13.946564674377441,
          -17.595565795898438,
          -18.758148193359375,
          -0.5196998715400696,
          -2.137883424758911,
          -16.1370849609375,
          -13.806557655334473,
          -0.07337763160467148,
          -15.583075523376465,
          -10.237249374389648,
          -3.262510061264038,
          -17.896434783935547,
          -6.306900501251221,
          0.09319834411144257,
          -4.652537822723389,
          -19.462339401245117,
          -6.63150691986084,
          -14.028075218200684,
          -16.956846237182617,
          -5.597259998321533,
          -0.014638683758676052,
          -7.784573078155518,
          -9.221921920776367,
          -13.931089401245117,
          0.37705621123313904,
          -13.731131553649902,
          -6.247953414916992,
          -14.848267555236816,
          -10.275672912597656,
          -2.1651644706726074,
          -2.4915771484375,
          -16.162883758544922,
          -8.297883987426758,
          -18.146390914916992,
          -0.9378376007080078,
          -7.531796932220459,
          -9.23457145690918,
          -4.6529011726379395,
          -5.3657732009887695,
          -19.058826446533203,
          -11.48735237121582,
          -16.979570388793945,
          -2.8894386291503906,
          -10.311452865600586,
          -5.510711669921875,
          0.9387510418891907,
          -4.657805442810059,
          -16.17320442199707,
          -19.717567443847656,
          -9.842071533203125,
          -3.736764907836914,
          -0.006591979879885912,
          -6.24473237991333,
          -0.32550013065338135,
          -14.014065742492676,
          -5.822197437286377,
          -5.272980690002441,
          -19.74774169921875,
          -13.880730628967285,
          -18.610126495361328,
          -8.28882122039795,
          -7.730681419372559,
          -8.279726028442383,
          -6.132960319519043,
          -10.239492416381836,
          -3.606117010116577,
          -7.1876959800720215,
          0.32343241572380066,
          -12.71232795715332,
          -17.75607681274414,
          -12.741289138793945,
          -3.9006714820861816,
          -18.98003578186035,
          -8.284991264343262,
          -5.808456897735596,
          -18.950654983520508,
          -7.7625226974487305,
          -6.255176544189453,
          -6.441399097442627,
          -7.775619029998779,
          -6.236660480499268,
          -11.495868682861328,
          -5.520022392272949,
          0.6384084820747375
         ],
         "z": [
          -0.9477167725563049,
          -2.604647159576416,
          -1.2387328147888184,
          -5.455469608306885,
          1.8103764057159424,
          -0.6886799335479736,
          -6.541446685791016,
          -6.913405895233154,
          -6.586239337921143,
          -2.4522767066955566,
          -2.073202133178711,
          -6.4870219230651855,
          -4.601020812988281,
          1.810490608215332,
          -5.423556804656982,
          -0.25525447726249695,
          -5.944634914398193,
          -2.6064460277557373,
          -0.25518807768821716,
          -6.040506362915039,
          1.8103593587875366,
          -6.858526229858398,
          -0.6523204445838928,
          -2.440343141555786,
          -3.8584389686584473,
          1.810394287109375,
          -1.2419042587280273,
          -6.1379075050354,
          -1.24113929271698,
          -1.437016248703003,
          4.377512454986572,
          -0.9479668736457825,
          2.724539041519165,
          1.7440241575241089,
          4.155418872833252,
          -1.7713112831115723,
          2.0593926906585693,
          -3.9202961921691895,
          -5.646795749664307,
          -2.9130916595458984,
          -3.0246949195861816,
          -4.981188774108887,
          -4.91524600982666,
          0.7640203833580017,
          -6.629354953765869,
          2.9916975498199463,
          -2.611821413040161,
          -6.073512077331543,
          -6.814540863037109,
          -5.633790969848633,
          -5.646973609924316,
          -2.211026668548584,
          -6.5431647300720215,
          -0.17346324026584625,
          -0.9491585493087769,
          -3.6931464672088623,
          -4.78314208984375,
          -5.976939678192139,
          -5.615903377532959,
          -6.772571086883545,
          -1.7802575826644897,
          -0.3212091028690338,
          -2.611705780029297,
          -1.4058905839920044,
          -4.475584030151367,
          -6.131570339202881,
          -4.758814811706543,
          -4.430484294891357,
          -0.3676806092262268,
          -0.9474497437477112,
          -1.432875394821167,
          -1.761479377746582,
          -0.32643765211105347,
          3.3979883193969727,
          -5.1271891593933105,
          -6.277085781097412,
          0.2745417356491089,
          -2.9327917098999023,
          -1.7753280401229858,
          -5.4545769691467285,
          -2.2306435108184814,
          -6.278205394744873,
          -5.545619964599609,
          -3.667442560195923,
          -5.837071418762207,
          -6.858457088470459,
          2.324960231781006,
          -3.973623752593994,
          -5.183945655822754,
          -5.432735919952393,
          -4.825473308563232,
          -1.9213989973068237,
          -6.518758773803711,
          2.957447052001953,
          3.862314462661743,
          -4.377297878265381,
          -6.715660572052002,
          -3.8678600788116455,
          -4.550741672515869,
          -6.734895706176758,
          -5.187439441680908,
          -5.653043746948242,
          -4.087456226348877,
          -5.5378899574279785,
          -4.877955436706543,
          -6.611966609954834,
          -2.9270458221435547,
          1.8103841543197632,
          -6.722840785980225,
          -3.8415796756744385,
          -1.0728693008422852,
          -0.949030339717865,
          -2.210388660430908,
          2.5987391471862793,
          -5.406249523162842,
          -2.0681557655334473,
          -2.9140465259552,
          -0.94795823097229,
          -4.685179710388184,
          4.271533966064453,
          -4.11286735534668,
          -3.41143536567688,
          -4.4773736000061035,
          -2.993051052093506,
          -4.164770603179932,
          -6.481550216674805,
          -4.485997676849365,
          -5.969818592071533,
          -5.619704723358154,
          3.7777223587036133,
          -5.360976696014404,
          -1.0728833675384521,
          -6.140368461608887,
          -6.20378303527832,
          -1.5656365156173706,
          -4.969953536987305,
          -6.634385108947754,
          -4.886796951293945,
          -6.643009662628174,
          -0.7308846712112427,
          -1.0728647708892822,
          -2.1901285648345947,
          -5.517970561981201,
          -6.395369052886963,
          -1.5611201524734497,
          1.8103631734848022,
          -1.7707104682922363,
          -5.5737762451171875,
          -0.9479583501815796,
          -4.877556324005127,
          -1.07267165184021,
          -6.618025302886963,
          -2.1063692569732666,
          -6.67709493637085,
          -5.976789951324463,
          -2.0791194438934326,
          1.810404658317566,
          -1.0728799104690552,
          -5.1551384925842285,
          -5.548623085021973,
          1.4788631200790405,
          -3.6416056156158447,
          -4.7266364097595215,
          -6.399653434753418,
          -5.72812557220459,
          -4.9270524978637695,
          -4.921599388122559,
          -3.3355600833892822,
          -4.120777130126953,
          -3.2406558990478516,
          -7.196871280670166,
          -6.400215148925781,
          -4.749124050140381,
          -4.5488080978393555,
          -4.850447177886963,
          -3.4481163024902344,
          -4.997192859649658,
          -4.47848653793335,
          -2.4322338104248047,
          -4.666651248931885,
          -5.985921859741211,
          3.8171546459198,
          -5.012382984161377,
          -0.9488888382911682,
          -6.001595973968506,
          -1.512320876121521,
          -3.231294631958008,
          -5.41775369644165,
          3.343764066696167,
          -4.8542656898498535,
          -1.3993310928344727,
          -2.0752696990966797,
          -3.4074411392211914,
          -4.86773157119751,
          -2.5510387420654297,
          -1.073507308959961,
          -4.1647515296936035,
          -2.218766689300537,
          -4.525327682495117,
          -4.434991836547852,
          -4.873218536376953,
          -1.783087968826294,
          -6.2078094482421875,
          -5.084153652191162,
          -1.368223786354065,
          -2.078383445739746,
          -0.9487377405166626,
          -1.21586012840271,
          -6.876138687133789,
          -2.611518621444702,
          -5.433363914489746,
          -4.286895751953125,
          -2.4432880878448486,
          -0.24849162995815277,
          -4.874603748321533,
          -0.9499287009239197,
          -4.879905700683594,
          -6.852688789367676,
          -1.7261227369308472,
          -4.7316412925720215,
          -5.622587203979492,
          -1.072824239730835,
          1.8103762865066528,
          -3.219205617904663,
          -0.5484835505485535,
          -1.1763174533843994,
          -6.516180515289307,
          -3.675238847732544,
          -6.5440754890441895,
          -1.7785418033599854,
          -1.4859626293182373,
          -1.7744686603546143,
          4.169341564178467,
          -2.439530849456787,
          -4.8068528175354,
          -1.2421050071716309,
          -4.994409561157227,
          -2.9774348735809326,
          -6.151452541351318,
          -2.9959330558776855,
          -4.5516510009765625,
          -6.4575276374816895,
          -1.7752056121826172,
          -0.5050731301307678,
          -6.936230182647705,
          -1.5958424806594849,
          3.7336182594299316,
          3.1851963996887207,
          -1.4053527116775513,
          3.7791666984558105,
          -2.613266944885254,
          -0.26317593455314636,
          -4.912755012512207
         ]
        },
        {
         "hovertemplate": "Dominant_Topic=Topic 1<br>0=%{x}<br>1=%{y}<br>2=%{z}<extra></extra>",
         "legendgroup": "Topic 1",
         "marker": {
          "color": "#EF553B",
          "opacity": 0.7,
          "symbol": "circle"
         },
         "mode": "markers",
         "name": "Topic 1",
         "scene": "scene",
         "showlegend": true,
         "type": "scatter3d",
         "x": [
          11.593886375427246,
          7.3946003913879395,
          5.710629463195801,
          8.610888481140137,
          6.669410705566406,
          6.676347732543945,
          4.807992935180664,
          6.763016223907471,
          8.57511043548584,
          12.48523998260498,
          5.280089378356934,
          6.673093795776367,
          12.688135147094727,
          12.4666748046875,
          5.850404739379883,
          7.5495476722717285,
          -2.277402639389038,
          4.473827362060547,
          12.556290626525879,
          10.82569694519043,
          12.816065788269043,
          10.14588451385498,
          11.116166114807129,
          7.417734146118164,
          9.831597328186035,
          12.155085563659668,
          9.469590187072754,
          11.53065299987793,
          12.178378105163574,
          4.444274425506592,
          10.629343032836914,
          9.470144271850586,
          7.399979114532471,
          4.1874542236328125,
          6.751667022705078,
          7.148462772369385,
          10.147862434387207,
          3.383913516998291,
          3.7384893894195557,
          9.820588111877441,
          5.871221542358398,
          4.405370712280273,
          6.6920270919799805,
          4.869104385375977,
          4.245903491973877,
          3.3845248222351074,
          12.854019165039062,
          8.059432983398438,
          12.770957946777344,
          11.136652946472168,
          8.587259292602539,
          5.759911060333252,
          11.674911499023438,
          4.818951606750488,
          6.646613597869873,
          7.377206802368164,
          8.045061111450195,
          3.4156553745269775,
          6.672962665557861,
          8.060980796813965,
          9.824424743652344,
          9.07120418548584,
          4.367771148681641,
          6.764456272125244,
          7.420042037963867,
          8.048800468444824,
          12.400276184082031,
          9.085235595703125,
          11.987759590148926,
          5.870741367340088,
          10.404611587524414,
          10.415611267089844,
          3.3058066368103027,
          12.201139450073242,
          11.392414093017578,
          9.069762229919434,
          12.985629081726074,
          12.187227249145508,
          8.049869537353516,
          9.50585651397705,
          11.030890464782715,
          11.930394172668457,
          3.2525172233581543,
          4.6613688468933105,
          3.745293617248535,
          11.038152694702148,
          6.770484924316406,
          11.475220680236816,
          4.417519569396973,
          3.446033477783203,
          11.755481719970703
         ],
         "y": [
          0.20075610280036926,
          0.5326239466667175,
          2.2810840606689453,
          0.478191077709198,
          0.5982646942138672,
          0.5972803235054016,
          3.0919060707092285,
          -0.5318686962127686,
          0.5192880630493164,
          0.484218567609787,
          2.7388224601745605,
          0.5986064672470093,
          0.23435884714126587,
          0.25453418493270874,
          1.745194435119629,
          -1.0051409006118774,
          0.36067795753479004,
          0.2676541805267334,
          -0.19044500589370728,
          0.2886451184749603,
          -0.2425292730331421,
          0.3595975935459137,
          0.3268400728702545,
          -1.0512737035751343,
          0.3906208574771881,
          0.16030138731002808,
          0.42312532663345337,
          0.41909220814704895,
          -0.061480771750211716,
          0.25263509154319763,
          0.3130719065666199,
          0.42843005061149597,
          0.5341830849647522,
          0.24521611630916595,
          -0.5541461110115051,
          -1.3112865686416626,
          0.3569406569004059,
          -4.617193222045898,
          -5.0362749099731445,
          0.3930756449699402,
          0.6728484034538269,
          0.20029079914093018,
          0.9145629405975342,
          3.2017080783843994,
          0.2660459578037262,
          -5.301506996154785,
          0.13130755722522736,
          0.5413419604301453,
          -0.1442835032939911,
          0.40508049726486206,
          0.5188223719596863,
          2.2559423446655273,
          -0.12394718080759048,
          3.212476968765259,
          0.9215254783630371,
          0.28365558385849,
          0.5425145626068115,
          -5.114354610443115,
          0.5987039804458618,
          0.5422213077545166,
          0.39450496435165405,
          0.4657945930957794,
          0.20155401527881622,
          -0.49849751591682434,
          0.5337781310081482,
          0.5417357087135315,
          0.43942520022392273,
          0.46395576000213623,
          0.20028860867023468,
          0.672956645488739,
          1.3456573486328125,
          0.3300725221633911,
          -5.333139419555664,
          -0.2730967700481415,
          0.1833379715681076,
          0.46560433506965637,
          0.13181942701339722,
          -0.17043575644493103,
          0.5406422019004822,
          -0.7168076038360596,
          0.21868003904819489,
          0.5200997591018677,
          -5.3564066886901855,
          3.4065988063812256,
          -5.203930854797363,
          0.23236259818077087,
          -0.5316780209541321,
          -0.0362560860812664,
          0.23386217653751373,
          -5.283268928527832,
          0.4841535985469818
         ],
         "z": [
          1.6790930032730103,
          0.060777921229600906,
          -0.41489681601524353,
          -0.6660540103912354,
          -0.05257780849933624,
          -0.05222906172275543,
          -0.6481814384460449,
          -2.9978463649749756,
          0.278384804725647,
          1.6763579845428467,
          -0.6061775088310242,
          -0.053246062248945236,
          1.3994461297988892,
          1.2588406801223755,
          -0.1198195070028305,
          0.45380038022994995,
          2.0009946823120117,
          2.8630242347717285,
          1.3852450847625732,
          1.0395079851150513,
          1.7535414695739746,
          0.7620788216590881,
          1.3501126766204834,
          0.4315810799598694,
          0.6563313007354736,
          1.9911102056503296,
          0.5356011390686035,
          1.0874351263046265,
          1.9682834148406982,
          3.1878883838653564,
          0.9640235304832458,
          0.5346658229827881,
          0.061431363224983215,
          3.4660608768463135,
          -3.0585567951202393,
          0.41412705183029175,
          0.765489935874939,
          0.06619449704885483,
          -0.015215829014778137,
          0.6518730521202087,
          -0.12080180644989014,
          3.4188780784606934,
          1.147243857383728,
          -0.8105043768882751,
          3.287510633468628,
          -0.12721917033195496,
          2.0143425464630127,
          0.16586877405643463,
          2.007211446762085,
          1.298145055770874,
          0.28099849820137024,
          -0.4030199348926544,
          1.3578548431396484,
          -0.8042081594467163,
          1.1727252006530762,
          -1.165347933769226,
          0.16363394260406494,
          0.0028631072491407394,
          -0.05205276608467102,
          0.16662631928920746,
          0.6530027389526367,
          0.4126966595649719,
          3.437467575073242,
          -2.9114162921905518,
          0.06401078402996063,
          0.1636812537908554,
          1.8569008111953735,
          0.41620591282844543,
          1.0992159843444824,
          -0.12090475857257843,
          0.4769396185874939,
          0.8813905715942383,
          -0.1418389081954956,
          1.7169256210327148,
          0.9856666922569275,
          0.41357603669166565,
          1.770765781402588,
          1.294345736503601,
          0.16270361840724945,
          0.9438472390174866,
          1.043595314025879,
          1.35732102394104,
          -0.15405018627643585,
          -0.8993297219276428,
          -0.11443836241960526,
          1.0202540159225464,
          -2.993238925933838,
          1.3892238140106201,
          3.289527654647827,
          -0.12447922676801682,
          1.583613634109497
         ]
        },
        {
         "hovertemplate": "Dominant_Topic=Topic 2<br>0=%{x}<br>1=%{y}<br>2=%{z}<extra></extra>",
         "legendgroup": "Topic 2",
         "marker": {
          "color": "#00cc96",
          "opacity": 0.7,
          "symbol": "circle"
         },
         "mode": "markers",
         "name": "Topic 2",
         "scene": "scene",
         "showlegend": true,
         "type": "scatter3d",
         "x": [
          4.368575096130371,
          -2.741586446762085,
          -0.6298165321350098,
          0.5387595295906067,
          1.992268681526184,
          0.07932885736227036,
          -2.541912317276001,
          0.07936548441648483,
          -7.203267574310303,
          0.05326903611421585,
          0.3300028443336487,
          0.5182205438613892,
          -0.048106782138347626,
          -3.0723893642425537,
          0.5755124688148499,
          -0.4918082356452942,
          -2.977579355239868,
          -0.4745792746543884,
          -0.21829593181610107,
          0.47450336813926697,
          -0.9963446855545044,
          -2.3973231315612793,
          -3.5862178802490234,
          -5.746115207672119,
          4.3738861083984375,
          -0.9199671745300293,
          -6.6589508056640625,
          -0.05757441744208336,
          -0.9339418411254883,
          -0.6850576996803284,
          -0.1967795491218567,
          -0.9966152310371399,
          -3.0126214027404785,
          -3.793767213821411,
          -3.1248414516448975,
          -2.7914092540740967,
          -0.8879408836364746,
          -7.032681941986084,
          -1.1247743368148804,
          0.6238821744918823,
          3.573735475540161,
          -0.1494724452495575,
          -0.23586729168891907,
          -0.9966495633125305,
          1.4159204959869385,
          -0.8952798843383789,
          -1.1593165397644043,
          -1.0189675092697144,
          -4.3045525550842285,
          -5.912936210632324,
          -1.0280849933624268,
          -0.47522979974746704,
          3.4836959838867188,
          2.9967901706695557,
          -0.12403534352779388,
          -2.7782812118530273,
          2.0402591228485107,
          -0.6444843411445618,
          -1.2921677827835083,
          1.224658727645874,
          1.3064415454864502,
          0.07439124584197998,
          0.5860214829444885,
          -0.6892099380493164,
          -0.05150945857167244,
          0.8226035237312317,
          -0.6208963394165039,
          2.420667886734009,
          -2.995107650756836,
          1.8762311935424805,
          -0.06928852945566177,
          1.3550719022750854,
          -0.6412249207496643,
          -3.266876459121704,
          -0.49091896414756775,
          -3.6023201942443848,
          -4.090238571166992,
          -6.282456398010254,
          2.3071112632751465,
          3.1683952808380127,
          -3.1148600578308105,
          -3.09379243850708,
          0.5851424932479858,
          -0.8524314761161804,
          0.5418645143508911,
          -0.7896023392677307,
          -0.3335876166820526,
          -6.944477081298828,
          -6.332823753356934,
          2.567530393600464,
          1.1746183633804321,
          -7.45367956161499,
          -6.3178534507751465,
          -1.0517901182174683,
          -3.5175230503082275,
          -3.538034677505493,
          0.32099878787994385,
          -0.7356759905815125,
          -0.9966987371444702,
          -0.46789273619651794,
          -0.4900333881378174,
          -0.3930562138557434,
          -3.0834591388702393,
          -5.240236759185791,
          -0.2379910945892334,
          -0.4740796685218811,
          0.8642116189002991,
          2.1318156719207764,
          -4.484611511230469,
          0.7312697768211365,
          -0.474580854177475,
          -2.5595016479492188,
          -6.049337387084961,
          2.640536069869995,
          0.43672072887420654,
          -1.5810986757278442,
          -0.48302027583122253,
          -0.32601428031921387,
          -3.428861379623413,
          -5.247820854187012,
          3.1882965564727783,
          0.6191278100013733,
          0.638505220413208,
          0.445385605096817,
          -0.9280927777290344,
          -0.7982184886932373,
          -0.22396495938301086,
          0.6463345289230347,
          -7.373205184936523,
          0.4906821548938751,
          1.5919544696807861,
          -3.050900459289551,
          -1.8563313484191895,
          -0.9955244660377502,
          2.5777063369750977,
          0.6278071999549866,
          0.8209547996520996,
          -7.053764820098877,
          0.6199802160263062,
          -3.202056407928467,
          -0.47614261507987976,
          0.6626395583152771,
          1.459647297859192,
          0.7222602963447571,
          -0.06647572666406631,
          -4.206172466278076,
          -3.163355827331543,
          0.4232400357723236,
          0.688269853591919,
          -3.37280011177063,
          -0.2238313853740692,
          -0.48540762066841125,
          -2.969877004623413,
          -3.0776262283325195,
          1.4580720663070679,
          -5.510592937469482,
          -0.9168785810470581,
          0.1442396193742752,
          2.2239348888397217,
          0.798800528049469,
          2.315995693206787,
          -1.470884919166565,
          -3.237400770187378,
          -1.3354253768920898,
          3.6173665523529053,
          -3.7770400047302246,
          3.6497642993927,
          -2.7552146911621094,
          0.570209801197052,
          -0.49096596240997314,
          -2.266653060913086,
          2.675513982772827,
          0.6767005324363708,
          -0.15091043710708618,
          0.14249521493911743,
          -3.1910414695739746,
          -2.7352564334869385,
          -1.04941725730896,
          -1.0528204441070557,
          -1.052985429763794,
          0.4379032850265503,
          1.9520186185836792,
          0.5746046304702759,
          -0.030028268694877625,
          -3.393162488937378,
          -2.4039156436920166,
          -0.7825790047645569,
          -1.9903501272201538,
          2.5910935401916504,
          0.08424583077430725,
          -1.5650932788848877,
          -0.929705023765564,
          0.2861063480377197,
          0.3278868496417999,
          0.4460543692111969,
          0.6177229285240173,
          -4.010313034057617,
          0.7177026867866516,
          1.7862402200698853,
          -3.8864004611968994,
          -4.092652320861816,
          0.6331443786621094,
          1.3781219720840454,
          -0.8934353590011597,
          -4.553126335144043,
          -0.4854021668434143,
          0.07936247438192368,
          -1.1298351287841797,
          -0.1962844282388687,
          -0.991643488407135,
          0.4971020817756653,
          -2.6396656036376953,
          -1.9995774030685425,
          -0.6400614976882935,
          0.25607964396476746,
          -0.2699364125728607,
          -0.6229085922241211,
          -1.1316291093826294,
          1.8770214319229126,
          1.8915401697158813,
          -1.0529733896255493,
          -4.487760066986084,
          -7.487199306488037,
          0.07942163199186325,
          -0.8675057888031006,
          0.08543477952480316,
          -3.5721025466918945,
          -0.8139157891273499,
          -0.8930984735488892,
          -2.999601364135742,
          0.07842209935188293,
          -0.07077952474355698,
          -0.9382613897323608,
          -5.0706987380981445,
          -0.47457537055015564,
          1.1133935451507568,
          -5.266050815582275,
          0.4953354597091675,
          -1.1656745672225952,
          -0.3620625138282776,
          -0.6418904662132263,
          0.5613217353820801,
          -5.935173511505127,
          -5.650809288024902,
          1.2853325605392456,
          0.3505547344684601,
          -0.28734132647514343,
          -0.5013204216957092,
          -0.6342207789421082,
          -1.1332662105560303,
          1.105173110961914,
          -3.1070973873138428,
          -0.05676596611738205,
          -4.4018402099609375,
          -2.515199661254883,
          -4.988214492797852,
          0.446616530418396,
          -3.9271745681762695,
          0.5736123919487,
          -0.23023556172847748,
          1.43719482421875,
          2.7223215103149414,
          2.175833225250244,
          -0.5074627995491028,
          -4.176141262054443,
          -2.4611661434173584,
          -0.10303414613008499,
          -0.8920630216598511,
          -3.013740301132202,
          0.25172215700149536,
          4.112334251403809,
          0.6156115531921387,
          -0.6439081430435181,
          4.11530065536499,
          -3.0703957080841064,
          -2.266295909881592,
          0.15343520045280457,
          -5.559909820556641,
          4.127723693847656,
          -3.9214961528778076,
          -4.005857467651367,
          0.6699840426445007,
          0.08850659430027008,
          -0.8702250123023987,
          0.07105646282434464,
          -6.567845344543457,
          -1.7206374406814575,
          0.8221344947814941,
          0.07939483970403671,
          -0.47718530893325806,
          -6.2411322593688965,
          -6.0573649406433105,
          0.44489601254463196,
          -2.6852705478668213,
          0.568338930606842,
          -0.8919053077697754,
          -0.05669766664505005,
          0.32364127039909363,
          2.585118532180786,
          0.8526353240013123,
          -7.300739288330078,
          -0.4748634397983551,
          0.42956405878067017,
          -3.082709550857544,
          -7.002028465270996,
          -0.9921597838401794
         ],
         "y": [
          3.7429332733154297,
          3.629856586456299,
          20.11105728149414,
          3.9956464767456055,
          -0.17459936439990997,
          3.5986695289611816,
          21.442468643188477,
          3.5990216732025146,
          21.98419189453125,
          14.517972946166992,
          5.808742046356201,
          18.228126525878906,
          10.389140129089355,
          21.21978759765625,
          5.368009090423584,
          12.512825012207031,
          21.51022720336914,
          4.9801554679870605,
          13.851906776428223,
          18.176271438598633,
          8.380578994750977,
          21.317832946777344,
          21.60858154296875,
          21.87550163269043,
          3.709160566329956,
          10.185894012451172,
          22.0843563079834,
          10.446419715881348,
          10.187179565429688,
          11.85702133178711,
          7.130719184875488,
          8.353878021240234,
          2.9774117469787598,
          3.109663486480713,
          6.1873931884765625,
          21.34281349182129,
          11.058679580688477,
          21.71751594543457,
          10.246482849121094,
          3.986711025238037,
          4.582474231719971,
          6.917236804962158,
          7.276374340057373,
          8.348745346069336,
          3.043044090270996,
          11.038392066955566,
          20.5609073638916,
          20.474483489990234,
          1.7513093948364258,
          22.161130905151367,
          20.479013442993164,
          4.992034912109375,
          4.482250690460205,
          5.055488586425781,
          6.744015216827393,
          3.5160763263702393,
          -0.11143955588340759,
          6.273501396179199,
          20.647058486938477,
          3.2789151668548584,
          3.1831843852996826,
          14.51733684539795,
          4.032968997955322,
          11.845515251159668,
          10.624136924743652,
          17.539552688598633,
          20.09839630126953,
          5.940122604370117,
          7.561218738555908,
          2.4113361835479736,
          13.812191009521484,
          17.005725860595703,
          4.357143402099609,
          21.365753173828125,
          12.528592109680176,
          21.61109161376953,
          2.3268182277679443,
          22.060449600219727,
          1.8028513193130493,
          4.940288543701172,
          21.63542366027832,
          5.799261569976807,
          5.3820624351501465,
          7.3290791511535645,
          4.082326412200928,
          7.327778339385986,
          13.164512634277344,
          21.790321350097656,
          21.663822174072266,
          1.5028188228607178,
          2.9207959175109863,
          21.61370086669922,
          21.702678680419922,
          9.333420753479004,
          3.714142322540283,
          3.669649124145508,
          18.735490798950195,
          20.23671531677246,
          8.363259315490723,
          8.790358543395996,
          12.527461051940918,
          8.286774635314941,
          5.9304351806640625,
          21.862228393554688,
          7.342264175415039,
          4.99068021774292,
          17.647544860839844,
          3.2692184448242188,
          21.771387100219727,
          5.136147499084473,
          4.98010778427124,
          4.035772800445557,
          21.926345825195312,
          5.732172012329102,
          15.624863624572754,
          20.82248306274414,
          12.54291820526123,
          13.15731430053711,
          3.9852664470672607,
          21.84367561340332,
          5.035133361816406,
          16.617591857910156,
          17.133941650390625,
          15.644628524780273,
          7.314736843109131,
          7.310391902923584,
          7.003021240234375,
          17.15032196044922,
          21.80158042907715,
          18.141935348510742,
          2.8169384002685547,
          21.504138946533203,
          20.965091705322266,
          8.359722137451172,
          4.59691047668457,
          5.301878452301025,
          14.1473388671875,
          21.492019653320312,
          16.64772605895996,
          21.591007232666016,
          5.00001859664917,
          5.1404709815979,
          3.443086624145508,
          3.7958648204803467,
          13.828691482543945,
          21.718658447265625,
          4.898808479309082,
          18.56827735900879,
          17.741228103637695,
          2.6082351207733154,
          13.833842277526855,
          19.935903549194336,
          3.2327897548675537,
          5.249047756195068,
          8.323419570922852,
          22.06471061706543,
          10.189671516418457,
          19.026185989379883,
          6.204999923706055,
          17.98478889465332,
          1.8153173923492432,
          4.261253356933594,
          21.431255340576172,
          4.4906792640686035,
          4.490034103393555,
          22.628690719604492,
          4.459078311920166,
          3.5911126136779785,
          17.85857582092285,
          12.52569580078125,
          21.15273666381836,
          1.3828314542770386,
          18.517398834228516,
          6.8305182456970215,
          19.028499603271484,
          2.8159542083740234,
          3.656191825866699,
          9.327991485595703,
          9.335007667541504,
          9.32718276977539,
          15.631780624389648,
          1.9588505029678345,
          16.17426109313965,
          11.780806541442871,
          4.122767448425293,
          4.021897315979004,
          7.3112921714782715,
          21.033191680908203,
          4.931520462036133,
          14.508777618408203,
          20.814844131469727,
          7.29243278503418,
          18.24573516845703,
          18.723705291748047,
          15.642865180969238,
          16.67555046081543,
          21.68929672241211,
          5.17407751083374,
          2.5566866397857666,
          2.880823850631714,
          21.703365325927734,
          3.9449360370635986,
          3.5427160263061523,
          11.032021522521973,
          21.783740997314453,
          19.936418533325195,
          3.5986483097076416,
          10.229363441467285,
          19.547134399414062,
          8.354530334472656,
          17.692834854125977,
          21.197162628173828,
          21.036264419555664,
          6.25039529800415,
          18.49297523498535,
          13.186257362365723,
          20.102815628051758,
          10.22255802154541,
          2.2818257808685303,
          2.372619867324829,
          9.33926010131836,
          1.2321910858154297,
          21.59913444519043,
          3.598921298980713,
          7.31662654876709,
          14.511716842651367,
          3.6802287101745605,
          7.3249897956848145,
          11.033443450927734,
          7.9273881912231445,
          14.513650894165039,
          13.817874908447266,
          10.213293075561523,
          21.866233825683594,
          4.980038642883301,
          3.424049139022827,
          21.804798126220703,
          17.477231979370117,
          20.563858032226562,
          8.086848258972168,
          6.261460304260254,
          5.3614912033081055,
          21.95809555053711,
          21.645174026489258,
          3.212932586669922,
          17.617807388305664,
          13.183463096618652,
          9.03278636932373,
          20.118330001831055,
          10.222803115844727,
          3.431096315383911,
          5.98807430267334,
          10.760255813598633,
          1.5197408199310303,
          21.10585594177246,
          21.865337371826172,
          15.662428855895996,
          2.7655348777770996,
          5.156825542449951,
          7.280737400054932,
          8.389366149902344,
          5.622562885284424,
          6.387648105621338,
          12.47687816619873,
          2.153818130493164,
          4.050787448883057,
          5.1674699783325195,
          7.263799667358398,
          7.873900890350342,
          17.998485565185547,
          4.018950462341309,
          16.665245056152344,
          6.275279521942139,
          4.004238128662109,
          5.60001802444458,
          21.152740478515625,
          6.162015438079834,
          21.971010208129883,
          3.947845220565796,
          2.80741548538208,
          21.687747955322266,
          18.373193740844727,
          14.523202896118164,
          20.36104965209961,
          14.517621040344238,
          21.764707565307617,
          20.896480560302734,
          18.175567626953125,
          3.5989675521850586,
          4.995692729949951,
          22.1392765045166,
          21.6687068939209,
          15.644637107849121,
          3.678191900253296,
          16.1632022857666,
          11.04667854309082,
          10.426565170288086,
          18.729433059692383,
          1.6648465394973755,
          15.054706573486328,
          21.544803619384766,
          4.991902828216553,
          5.633705139160156,
          4.939496994018555,
          21.964017868041992,
          8.36434555053711
         ],
         "z": [
          -1.0709174871444702,
          -0.5820427536964417,
          1.5724921226501465,
          -5.183887004852295,
          -5.886621475219727,
          -1.5838007926940918,
          3.726092576980591,
          -1.584013819694519,
          6.535311698913574,
          -2.510889768600464,
          2.592292308807373,
          -0.7299416065216064,
          -4.82647705078125,
          3.9912140369415283,
          3.2235541343688965,
          -2.337369441986084,
          3.7177085876464844,
          -2.2358999252319336,
          -2.6170332431793213,
          2.220360279083252,
          -2.6258935928344727,
          3.425934314727783,
          4.408323764801025,
          5.464445114135742,
          -1.0421040058135986,
          -1.964741826057434,
          6.170010566711426,
          -4.779749870300293,
          -1.9609991312026978,
          -2.1569881439208984,
          1.1752427816390991,
          -2.641831159591675,
          -2.5065648555755615,
          -4.645664691925049,
          -4.800786018371582,
          4.043478965759277,
          -1.9819163084030151,
          6.810916423797607,
          -2.0091090202331543,
          -5.383970260620117,
          -1.4672106504440308,
          1.2839884757995605,
          1.0585376024246216,
          -2.6432080268859863,
          -5.759754657745361,
          -1.977444052696228,
          2.2308764457702637,
          2.081209182739258,
          -4.728562355041504,
          5.761453628540039,
          2.0898144245147705,
          -2.2386741638183594,
          -1.4969046115875244,
          -1.6742626428604126,
          1.3184841871261597,
          -0.52278733253479,
          -5.926736354827881,
          -2.530172348022461,
          2.3791921138763428,
          -5.538325786590576,
          -5.666842937469482,
          -2.512956142425537,
          -5.371629238128662,
          -2.151681423187256,
          -4.733617305755615,
          -0.6412122249603271,
          1.5609862804412842,
          -1.897009253501892,
          -1.4750008583068848,
          -6.088378429412842,
          -2.646354913711548,
          -2.262791872024536,
          -4.650346755981445,
          3.938626289367676,
          -2.3582470417022705,
          4.418510913848877,
          -4.635582447052002,
          6.2530012130737305,
          -6.339779376983643,
          -1.6200692653656006,
          4.058310508728027,
          -4.759161949157715,
          3.295893430709839,
          -2.806149959564209,
          -5.348076820373535,
          -2.77921462059021,
          -2.528076171875,
          6.152195930480957,
          5.907383441925049,
          -6.5523858070373535,
          -5.487889766693115,
          6.789439678192139,
          5.858023166656494,
          -2.2748870849609375,
          -4.649385929107666,
          -4.64658260345459,
          0.0871567577123642,
          1.7366924285888672,
          -2.6340301036834717,
          0.3887225091457367,
          -2.341658353805542,
          0.636130154132843,
          -4.755558490753174,
          5.461863040924072,
          1.072117805480957,
          -2.2379653453826904,
          -0.807802677154541,
          -3.2965030670166016,
          4.9919610023498535,
          3.748913049697876,
          -2.2359490394592285,
          -0.8294061422348022,
          5.613038063049316,
          -1.8297059535980225,
          -1.9565074443817139,
          2.678795337677002,
          -2.3536019325256348,
          -2.5328032970428467,
          -4.6872735023498535,
          5.449287414550781,
          -1.6257414817810059,
          -1.4015854597091675,
          -1.0516480207443237,
          -1.9522649049758911,
          -2.7762978076934814,
          -2.7043800354003906,
          1.048367977142334,
          -1.0491145849227905,
          6.509359836578369,
          2.2217795848846436,
          -5.925734519958496,
          4.194884300231934,
          2.9620940685272217,
          -2.6352057456970215,
          -1.6673091650009155,
          3.4087846279144287,
          -0.4639091491699219,
          6.5624470710754395,
          -1.3618502616882324,
          3.945735216140747,
          -2.240330457687378,
          3.431612968444824,
          -4.284231185913086,
          -5.147460460662842,
          -2.6538143157958984,
          4.808794021606445,
          -4.72837495803833,
          -0.3787161409854889,
          -0.983235239982605,
          -3.005096673965454,
          -2.607935905456543,
          1.3582756519317627,
          -0.20733048021793365,
          -4.721540451049805,
          -2.1749496459960938,
          5.543406009674072,
          -1.966542363166809,
          0.37152817845344543,
          -1.9641268253326416,
          -0.31982627511024475,
          -6.385214328765869,
          -1.6551330089569092,
          4.240653991699219,
          -4.516835689544678,
          -1.4451836347579956,
          5.397663593292236,
          -1.4279015064239502,
          -0.56131911277771,
          -0.23059788346290588,
          -2.3470892906188965,
          3.3684370517730713,
          -6.618124961853027,
          -0.24279528856277466,
          1.2458741664886475,
          0.3710164427757263,
          -2.7578563690185547,
          -0.5916914939880371,
          -2.282116174697876,
          -2.27591872215271,
          -2.2807276248931885,
          -1.954399585723877,
          -5.679880142211914,
          -1.6542515754699707,
          -4.20806360244751,
          -4.704946041107178,
          -0.9473200440406799,
          -2.700838804244995,
          3.0857527256011963,
          -1.7182291746139526,
          -2.51134991645813,
          2.6657352447509766,
          -2.673698902130127,
          -0.06211673468351364,
          0.08238457143306732,
          -1.9583251476287842,
          -1.3580677509307861,
          4.682717800140381,
          3.716651678085327,
          -6.078274250030518,
          -4.640923976898193,
          4.7388916015625,
          -5.3225860595703125,
          -4.226527690887451,
          -1.9754198789596558,
          5.038926601409912,
          1.3581281900405884,
          -1.5837291479110718,
          -2.0388948917388916,
          0.9108147025108337,
          -2.6376237869262695,
          -0.9877835512161255,
          3.461150884628296,
          3.0800440311431885,
          -2.5247931480407715,
          -0.3368900716304779,
          -2.5450077056884766,
          1.5627871751785278,
          -2.0358760356903076,
          -5.776827335357666,
          -6.061972141265869,
          -2.2755041122436523,
          -4.835230827331543,
          6.805778503417969,
          -1.5839124917984009,
          -2.7738943099975586,
          -2.5144903659820557,
          -4.687427043914795,
          -2.7774782180786133,
          -1.9784735441207886,
          -1.51325261592865,
          -2.5125067234039307,
          -2.6517112255096436,
          -1.9453849792480469,
          5.33306884765625,
          -2.2359421253204346,
          -5.59213399887085,
          5.572183132171631,
          -0.5670782923698425,
          2.237541913986206,
          0.7274250388145447,
          -2.524224281311035,
          3.140446424484253,
          6.180417537689209,
          5.744004249572754,
          -5.671247959136963,
          -0.8458868861198425,
          -2.532633066177368,
          0.27238044142723083,
          1.5821484327316284,
          -2.0284323692321777,
          -5.576546669006348,
          -4.778050899505615,
          -4.651886940002441,
          -4.791164398193359,
          3.6582534313201904,
          5.2948713302612305,
          -1.9572103023529053,
          -4.626852512359619,
          2.1712491512298584,
          1.0852528810501099,
          -2.174299955368042,
          -1.8001219034194946,
          -1.9891964197158813,
          -2.324573278427124,
          -4.705084323883057,
          -0.9103658199310303,
          1.5165125131607056,
          -2.647031784057617,
          -1.5021977424621582,
          -0.48336440324783325,
          -1.2097631692886353,
          -1.3626067638397217,
          -2.529005765914917,
          -1.2073280811309814,
          -4.734592437744141,
          3.3682303428649902,
          2.110903263092041,
          5.89188289642334,
          -1.178800106048584,
          -4.654434680938721,
          4.679416656494141,
          -0.05502418428659439,
          -2.5058631896972656,
          1.9103895425796509,
          -2.5094239711761475,
          6.515774250030518,
          2.824639081954956,
          -0.5595771074295044,
          -1.5839704275131226,
          -2.2424328327178955,
          5.953271865844727,
          6.167428970336914,
          -1.9548496007919312,
          -0.6565200686454773,
          -1.6607803106307983,
          -1.9809802770614624,
          -4.788588523864746,
          0.08233902603387833,
          -5.651623725891113,
          -0.6413646340370178,
          6.547463417053223,
          -2.2395012378692627,
          2.8555424213409424,
          -4.702173709869385,
          6.707733631134033,
          -2.6347193717956543
         ]
        },
        {
         "hovertemplate": "Dominant_Topic=Topic 3<br>0=%{x}<br>1=%{y}<br>2=%{z}<extra></extra>",
         "legendgroup": "Topic 3",
         "marker": {
          "color": "#ab63fa",
          "opacity": 0.7,
          "symbol": "circle"
         },
         "mode": "markers",
         "name": "Topic 3",
         "scene": "scene",
         "showlegend": true,
         "type": "scatter3d",
         "x": [
          -5.946826934814453,
          -5.161915302276611,
          -5.145288467407227,
          -5.18014669418335,
          -6.047820568084717,
          -5.933745861053467,
          -5.998380661010742,
          -3.7720277309417725,
          -3.691760301589966,
          -5.975409507751465,
          -5.114485740661621,
          -4.008200168609619,
          -2.618198871612549,
          -5.543138027191162,
          -1.0363088846206665,
          -5.709170341491699,
          -4.22633171081543,
          -6.011281490325928,
          -1.9035927057266235,
          -2.8957626819610596,
          -4.325856685638428,
          -2.6061134338378906,
          -3.3412325382232666,
          -5.630492210388184,
          -3.7707998752593994,
          -5.967308044433594,
          -5.941656112670898,
          -3.9810826778411865,
          -4.905594348907471,
          -4.219915866851807,
          -4.101991653442383,
          -4.909701824188232,
          -3.9607505798339844,
          -5.626613616943359,
          -3.3230278491973877,
          -3.770136594772339,
          -4.909248352050781,
          -5.700248718261719,
          -4.254256725311279,
          -5.6903815269470215,
          -3.766789197921753
         ],
         "y": [
          0.862548828125,
          0.6676529049873352,
          0.6840476393699646,
          1.2135748863220215,
          1.0391393899917603,
          0.5314883589744568,
          0.5174481868743896,
          0.4250640273094177,
          1.8970521688461304,
          0.8426934480667114,
          0.7426691055297852,
          0.42945393919944763,
          -1.1847997903823853,
          0.8238779306411743,
          -0.07607024163007736,
          1.1928586959838867,
          -0.4716133177280426,
          0.6209874153137207,
          0.08761284500360489,
          -0.9229507446289062,
          1.5545865297317505,
          0.4066845178604126,
          2.324110269546509,
          1.0052664279937744,
          0.424083948135376,
          1.0910959243774414,
          0.7986569404602051,
          1.786909818649292,
          0.64205002784729,
          0.48098480701446533,
          -0.6142556071281433,
          0.64582759141922,
          1.724060297012329,
          0.3989204168319702,
          2.2458651065826416,
          0.42551764845848083,
          0.6455329060554504,
          0.5138944983482361,
          -0.23344314098358154,
          1.1811085939407349,
          0.4238264560699463
         ],
         "z": [
          2.460984230041504,
          2.538830041885376,
          2.554755449295044,
          2.224801540374756,
          2.8765811920166016,
          2.975287914276123,
          2.846604108810425,
          1.9404048919677734,
          1.0070728063583374,
          2.470163106918335,
          2.6203644275665283,
          2.8898606300354004,
          0.44234582781791687,
          3.1312739849090576,
          3.5382285118103027,
          2.8653204441070557,
          1.5155894756317139,
          2.573211193084717,
          4.210389614105225,
          0.6888025999069214,
          1.5674089193344116,
          2.0362420082092285,
          0.6279466152191162,
          3.1131460666656494,
          1.9408563375473022,
          2.625638246536255,
          3.1217615604400635,
          1.2480859756469727,
          2.4391417503356934,
          2.8867571353912354,
          1.4024840593338013,
          2.4430322647094727,
          1.2746047973632812,
          2.51495099067688,
          0.7435594797134399,
          1.9395508766174316,
          2.4432318210601807,
          3.067890167236328,
          1.6662319898605347,
          2.908804178237915,
          1.9380956888198853
         ]
        },
        {
         "hovertemplate": "Dominant_Topic=Topic 4<br>0=%{x}<br>1=%{y}<br>2=%{z}<extra></extra>",
         "legendgroup": "Topic 4",
         "marker": {
          "color": "#FFA15A",
          "opacity": 0.7,
          "symbol": "circle"
         },
         "mode": "markers",
         "name": "Topic 4",
         "scene": "scene",
         "showlegend": true,
         "type": "scatter3d",
         "x": [
          -5.417485237121582,
          -0.5003922581672668,
          0.9384838938713074,
          -0.6590566635131836,
          -3.4757120609283447,
          -1.7726339101791382,
          1.5232948064804077,
          -2.578829526901245,
          3.265018939971924,
          1.2771786451339722,
          1.841270923614502,
          0.22854554653167725,
          3.905519485473633,
          0.9547601938247681,
          -0.40391772985458374,
          -5.514260768890381,
          -2.275197744369507,
          -4.676903247833252,
          2.019946813583374,
          -2.2967939376831055,
          0.5285988450050354,
          0.8569052219390869,
          1.1655495166778564,
          -0.46299469470977783,
          1.2777546644210815,
          1.5522496700286865,
          -3.7786026000976562,
          1.1655510663986206,
          -0.33186599612236023,
          -4.5435686111450195,
          3.0850107669830322,
          -1.0633068084716797,
          0.8017117977142334,
          -5.222496509552002,
          -3.4620285034179688,
          -0.8181436657905579,
          0.1733020693063736,
          -4.748909950256348,
          1.1608775854110718,
          -5.3193888664245605,
          -2.8515732288360596,
          1.9068496227264404,
          0.9759663939476013,
          -5.616015911102295,
          -2.346508264541626,
          1.8184415102005005,
          -1.6727840900421143,
          3.1164321899414062,
          -5.400669574737549,
          -1.455441951751709,
          -3.7080631256103516,
          -2.250067710876465,
          0.3668452799320221,
          0.8714262843132019,
          -1.0803099870681763,
          -1.1435450315475464,
          1.815422534942627,
          2.1222410202026367,
          3.7654147148132324,
          -0.40496426820755005,
          -1.6899516582489014,
          -3.8676533699035645,
          -0.6442118287086487,
          -1.3196022510528564,
          0.528361976146698,
          0.858280599117279,
          -4.06864595413208,
          -4.964048862457275,
          0.8649638891220093,
          -1.953628659248352,
          -4.716516017913818,
          -0.9841844439506531,
          -1.3449938297271729,
          -0.6892008185386658,
          1.2674672603607178,
          -5.182190418243408,
          -2.1221861839294434,
          1.5370359420776367,
          -4.079517841339111,
          -3.7182743549346924,
          -4.545428276062012,
          -1.650861144065857,
          -0.2745198607444763,
          1.272735595703125,
          -0.9061400294303894,
          -1.1439605951309204,
          0.8556530475616455,
          1.4054406881332397,
          0.896621823310852,
          -4.784693241119385,
          -5.0572285652160645,
          -1.6322221755981445,
          1.273492693901062,
          -1.2270833253860474,
          0.16167525947093964,
          -2.1232261657714844,
          -2.350867748260498,
          0.8420825004577637,
          3.9833364486694336,
          0.5383851528167725,
          1.1655417680740356,
          -3.595790386199951,
          -1.4046144485473633,
          1.393609881401062,
          1.1672743558883667,
          -0.7275130748748779,
          -3.286005735397339,
          -3.4458606243133545,
          0.41996827721595764,
          -0.6610716581344604,
          0.5254412293434143,
          -5.706017017364502,
          0.9549121856689453,
          -4.259034156799316,
          -0.7423701286315918,
          -3.502250909805298,
          -0.4574201703071594,
          1.1662706136703491,
          -1.2394057512283325,
          -5.236608028411865,
          -0.9466345906257629,
          -0.6436120271682739,
          -0.4664625823497772,
          -3.0964913368225098,
          0.8772909045219421,
          3.240335702896118,
          -0.4474385380744934,
          -5.602178573608398,
          -2.833742618560791,
          0.3633893132209778,
          -4.257598876953125,
          -1.7116409540176392,
          -5.231535911560059,
          1.1642199754714966,
          -0.5416682958602905,
          -1.9598766565322876,
          -0.2523598074913025,
          -0.4016435742378235,
          -0.6387866735458374,
          -0.6785169839859009,
          -1.0602885484695435,
          0.8380449414253235,
          -3.9812426567077637,
          -4.975337982177734,
          -3.982726812362671,
          1.1662755012512207,
          1.4768481254577637,
          -4.934084892272949,
          3.5228750705718994,
          -4.645819187164307,
          -3.4548277854919434,
          1.8258461952209473,
          -5.44057035446167,
          -1.4297022819519043,
          3.0824472904205322,
          -0.25963476300239563,
          0.5278664827346802,
          3.776700258255005,
          1.6850584745407104,
          -4.81854772567749,
          1.6626818180084229,
          -0.7583011388778687,
          1.5355064868927002,
          1.1279618740081787,
          1.591471791267395,
          0.888771116733551,
          -0.6957334876060486,
          0.5278524160385132,
          0.5318154692649841,
          -0.47772425413131714,
          -2.8552615642547607,
          -1.0796010494232178,
          1.2715277671813965,
          -0.25160396099090576,
          0.5287065505981445,
          1.2755168676376343,
          -0.6338569521903992,
          -4.877765655517578,
          -0.4924219250679016,
          -2.1494600772857666,
          3.6155874729156494,
          -2.8371007442474365,
          0.16582639515399933
         ],
         "y": [
          1.0517330169677734,
          -5.332638740539551,
          4.705117702484131,
          -3.4569082260131836,
          -1.509661316871643,
          -3.0987672805786133,
          -0.9479286670684814,
          -2.3613498210906982,
          1.0005706548690796,
          -1.8736109733581543,
          -1.1345558166503906,
          -3.1255345344543457,
          0.12143619358539581,
          4.693343639373779,
          -5.0971784591674805,
          0.7069368362426758,
          -2.6896982192993164,
          0.07909493893384933,
          -1.7333905696868896,
          -2.69159197807312,
          -2.8688552379608154,
          4.891772270202637,
          0.08465506881475449,
          -5.246059894561768,
          -1.874497413635254,
          -1.3037431240081787,
          -1.302890419960022,
          0.08465050905942917,
          -1.7437459230422974,
          -0.15564469993114471,
          0.72573322057724,
          -3.3812906742095947,
          3.0312509536743164,
          0.8181622624397278,
          -1.5060116052627563,
          -5.952484607696533,
          -3.1545631885528564,
          0.10749101638793945,
          3.510953664779663,
          1.2158974409103394,
          -2.103043556213379,
          -1.8409479856491089,
          4.756411552429199,
          1.308458685874939,
          -2.596569776535034,
          -1.213979959487915,
          -2.917656660079956,
          0.7742138504981995,
          0.45678842067718506,
          -3.349273681640625,
          -1.1993931531906128,
          -2.5261566638946533,
          0.4278610348701477,
          4.91467809677124,
          -3.3856430053710938,
          -0.04484371840953827,
          -1.046392560005188,
          -1.6113831996917725,
          0.061670709401369095,
          -5.08693790435791,
          -3.2523627281188965,
          -1.1837526559829712,
          -3.4681856632232666,
          -3.0709335803985596,
          -2.87489652633667,
          -2.452016830444336,
          -0.7492543458938599,
          0.787534773349762,
          -2.442363739013672,
          -2.6847686767578125,
          0.5546247959136963,
          -0.1191694587469101,
          -3.232908248901367,
          -5.751418113708496,
          -1.8885829448699951,
          0.41140028834342957,
          -3.0838141441345215,
          -1.317810297012329,
          -0.7412892580032349,
          -1.4733632802963257,
          -0.15457697212696075,
          -3.0541040897369385,
          -1.6557493209838867,
          -1.881320834159851,
          -0.06810694932937622,
          -0.04488717019557953,
          -2.4555130004882812,
          -1.1966125965118408,
          4.804895877838135,
          0.11343573033809662,
          0.24649086594581604,
          -3.337364673614502,
          -1.8801896572113037,
          -0.07278172671794891,
          -3.1601524353027344,
          -2.8435757160186768,
          -2.6660807132720947,
          4.820676803588867,
          0.23169270157814026,
          -2.8620824813842773,
          0.0846698060631752,
          -1.1292264461517334,
          -0.043033428490161896,
          -1.0501201152801514,
          0.08001534640789032,
          -5.886241436004639,
          -1.6757103204727173,
          -1.5128169059753418,
          0.5495901703834534,
          -3.4552524089813232,
          -2.8810017108917236,
          0.9979462623596191,
          4.657180309295654,
          -0.5050888061523438,
          -4.571649074554443,
          -1.3947399854660034,
          -4.168791201664135e-05,
          0.08251355588436127,
          -0.04504779726266861,
          1.3768144845962524,
          -0.05486951395869255,
          -3.4575846195220947,
          -4.805569171905518,
          -1.8729844093322754,
          -2.428586721420288,
          -0.5410257577896118,
          -4.766458034515381,
          1.2542154788970947,
          -2.121204137802124,
          0.40225523710250854,
          -0.5086644887924194,
          -2.6824123859405518,
          1.2726863622665405,
          0.086800217628479,
          -5.425508975982666,
          -3.186663866043091,
          -3.351802349090576,
          -4.885954856872559,
          -3.4641926288604736,
          -0.09550753235816956,
          -3.3788299560546875,
          3.17793345451355,
          -0.8698083758354187,
          0.49293604493141174,
          -0.868019700050354,
          0.08250371366739273,
          -0.9549328684806824,
          1.0010560750961304,
          0.5661496520042419,
          -0.03023480996489525,
          -1.1977112293243408,
          -1.0775363445281982,
          0.7324173450469971,
          -2.9612340927124023,
          1.1502459049224854,
          -3.3551077842712402,
          -2.8783226013183594,
          0.19732341170310974,
          -1.309493899345398,
          0.8246909379959106,
          -0.9520367980003357,
          -5.904648780822754,
          -1.2800159454345703,
          3.354677200317383,
          -0.9181204438209534,
          4.622846603393555,
          -5.760717868804932,
          -2.8759360313415527,
          -2.8670854568481445,
          -4.793925762176514,
          -2.1003003120422363,
          -3.3759548664093018,
          -1.8830355405807495,
          -3.3504574298858643,
          -2.8771891593933105,
          -1.8739724159240723,
          -3.4543468952178955,
          0.3641049861907959,
          -4.812677383422852,
          -2.594203233718872,
          -0.07151535153388977,
          -2.116468667984009,
          -3.158895492553711
         ],
         "z": [
          19.73238754272461,
          6.022653579711914,
          4.455200672149658,
          12.297181129455566,
          16.565237045288086,
          14.38636302947998,
          7.318521499633789,
          15.238720893859863,
          8.106526374816895,
          8.432119369506836,
          7.204486846923828,
          10.784598350524902,
          4.020789623260498,
          4.549421310424805,
          6.554432392120361,
          18.936290740966797,
          14.846285820007324,
          18.375450134277344,
          10.668366432189941,
          14.841919898986816,
          10.174309730529785,
          4.164825916290283,
          5.916370868682861,
          6.1780266761779785,
          8.434617042541504,
          7.028356075286865,
          16.677318572998047,
          5.916375637054443,
          7.734823226928711,
          18.158241271972656,
          8.139762878417969,
          12.936450958251953,
          5.115512847900391,
          18.70163345336914,
          16.554841995239258,
          4.648528575897217,
          10.883329391479492,
          18.580223083496094,
          3.978504180908203,
          19.018720626831055,
          15.652262687683105,
          10.753218650817871,
          4.727035045623779,
          19.316823959350586,
          14.722893714904785,
          7.136804580688477,
          14.375360488891602,
          8.134955406188965,
          19.056488037109375,
          13.695839881896973,
          17.09604835510254,
          14.754521369934082,
          8.970706939697266,
          4.2577643394470215,
          12.977609634399414,
          4.609805583953857,
          7.22047758102417,
          10.483675956726074,
          4.2406511306762695,
          6.65760612487793,
          13.5089111328125,
          16.946008682250977,
          12.28293228149414,
          13.7169771194458,
          10.183351516723633,
          9.40656852722168,
          17.4718074798584,
          19.44816780090332,
          9.388286590576172,
          14.044763565063477,
          18.732666015625,
          5.251286029815674,
          13.768983840942383,
          5.117979049682617,
          8.456680297851562,
          19.248685836791992,
          14.1553373336792,
          7.05222225189209,
          17.487178802490234,
          16.852909088134766,
          18.161579132080078,
          13.481396675109863,
          7.591440200805664,
          8.444865226745605,
          5.039734363555908,
          4.60930061340332,
          9.412165641784668,
          7.078783988952637,
          4.304143905639648,
          18.557703018188477,
          18.608999252319336,
          13.573389053344727,
          8.441893577575684,
          4.965930938720703,
          10.90234088897705,
          14.064223289489746,
          14.771671295166016,
          4.033418655395508,
          3.751278877258301,
          10.160615921020508,
          5.916356086730957,
          16.699522018432617,
          4.817883014678955,
          7.196747779846191,
          5.921470642089844,
          4.740474224090576,
          16.297040939331055,
          16.52691078186035,
          8.745166778564453,
          12.299858093261719,
          10.191971778869629,
          19.330995559692383,
          4.52113676071167,
          17.7277889251709,
          13.017844200134277,
          16.931486129760742,
          5.407973766326904,
          5.918971538543701,
          4.744401931762695,
          19.3857421875,
          4.852274417877197,
          12.274545669555664,
          8.763249397277832,
          16.013824462890625,
          9.371454238891602,
          5.35903263092041,
          8.806221961975098,
          19.630640029907227,
          15.62530517578125,
          8.996296882629395,
          17.724910736083984,
          14.198478698730469,
          19.631553649902344,
          5.913637638092041,
          5.835887432098389,
          14.28805160522461,
          11.618535041809082,
          7.845468521118164,
          12.273296356201172,
          4.7236528396606445,
          12.926172256469727,
          5.007749557495117,
          17.326698303222656,
          18.519493103027344,
          17.3287410736084,
          5.918981075286865,
          7.279036998748779,
          18.939302444458008,
          4.062577247619629,
          18.3288631439209,
          16.810869216918945,
          7.152755260467529,
          19.54206657409668,
          13.5745849609375,
          4.128532886505127,
          11.632052421569824,
          10.189929008483887,
          4.056159496307373,
          7.054958343505859,
          19.188663482666016,
          7.327500820159912,
          4.726333141326904,
          7.014301300048828,
          3.979951858520508,
          7.298099040985107,
          3.9748735427856445,
          5.098608493804932,
          10.180855751037598,
          10.174452781677246,
          8.889640808105469,
          15.657618522644043,
          12.966253280639648,
          8.448700904846191,
          11.614304542541504,
          10.189921379089355,
          8.432711601257324,
          12.258848190307617,
          19.082149505615234,
          8.903288841247559,
          14.807400703430176,
          4.529253959655762,
          15.630231857299805,
          10.894493103027344
         ]
        },
        {
         "hovertemplate": "Dominant_Topic=Topic 5<br>0=%{x}<br>1=%{y}<br>2=%{z}<extra></extra>",
         "legendgroup": "Topic 5",
         "marker": {
          "color": "#19d3f3",
          "opacity": 0.7,
          "symbol": "circle"
         },
         "mode": "markers",
         "name": "Topic 5",
         "scene": "scene",
         "showlegend": true,
         "type": "scatter3d",
         "x": [
          7.198109149932861,
          1.8004045486450195,
          5.857278823852539,
          6.270866870880127,
          1.83433997631073,
          6.090548515319824,
          5.6466827392578125,
          6.8898396492004395,
          6.881985664367676,
          3.375950813293457,
          5.854472637176514,
          2.9851107597351074,
          7.364923477172852,
          6.805419921875,
          6.268890857696533,
          -2.5830891132354736,
          7.6035003662109375,
          6.104887008666992,
          7.881948471069336,
          5.850907325744629,
          2.152022123336792,
          2.3166000843048096,
          7.368710517883301,
          5.857995510101318,
          1.2633918523788452,
          7.076973915100098,
          3.740084171295166,
          5.46867036819458,
          7.157011032104492,
          3.0241239070892334,
          2.0378878116607666,
          5.647143363952637,
          5.94320821762085,
          6.885382175445557,
          6.865983009338379,
          2.880014419555664,
          7.74062967300415,
          2.9397459030151367,
          6.264753341674805,
          5.46696662902832,
          6.597763538360596,
          7.120650768280029,
          7.619535446166992,
          6.101972579956055,
          7.403417110443115,
          5.468599319458008,
          6.595370769500732,
          6.105215549468994,
          6.749655723571777,
          6.579941749572754,
          3.2159698009490967,
          7.201771259307861,
          7.810747146606445,
          7.237497329711914,
          6.9317827224731445,
          7.880722999572754,
          7.095632553100586,
          1.9755278825759888,
          6.796902179718018,
          3.741633892059326,
          2.405226230621338,
          7.430442810058594,
          6.107572555541992,
          7.488210678100586,
          5.851252555847168,
          2.920520305633545,
          5.857407569885254,
          4.047006130218506,
          7.366980075836182,
          7.531590938568115,
          3.7238247394561768,
          7.869233131408691,
          7.090124607086182,
          5.786767959594727,
          5.858400821685791,
          5.466299057006836,
          5.647257328033447,
          2.9101858139038086,
          7.066860198974609,
          2.903520107269287,
          7.2051544189453125,
          5.647141456604004,
          4.9236578941345215,
          4.394739627838135,
          6.744075298309326,
          5.651203155517578,
          6.533022880554199,
          7.5672078132629395,
          7.731210231781006,
          6.580948829650879,
          6.4231858253479,
          7.493533611297607,
          7.640605926513672,
          5.638087272644043,
          7.622046947479248,
          6.267021656036377,
          7.3562541007995605,
          6.496260166168213,
          5.647059440612793,
          4.0193352699279785,
          7.495545387268066,
          3.834780216217041,
          7.643210411071777,
          6.746138095855713,
          7.498639106750488,
          5.649811267852783,
          6.5330424308776855,
          6.58029317855835,
          6.2691850662231445,
          7.730268955230713,
          6.535939693450928,
          4.913748741149902,
          -2.1880457401275635,
          3.2363998889923096,
          1.7637598514556885,
          6.598791122436523,
          6.120390892028809,
          3.526329517364502,
          3.8128793239593506,
          4.949319362640381,
          5.646214008331299,
          3.9251291751861572,
          7.010129451751709,
          6.265035629272461,
          6.67115592956543,
          4.961405277252197
         ],
         "y": [
          -3.5300309658050537,
          -3.44118332862854,
          -2.9495246410369873,
          -2.8826611042022705,
          -2.4223687648773193,
          -2.987431764602661,
          -2.636035919189453,
          -3.7052760124206543,
          -3.700847625732422,
          1.133703351020813,
          -2.948169469833374,
          1.0291210412979126,
          -2.7953648567199707,
          -2.7641584873199463,
          -2.8882641792297363,
          -1.243024468421936,
          -2.782323122024536,
          -2.9876558780670166,
          -2.607182025909424,
          -2.946213483810425,
          -3.386002779006958,
          0.12548954784870148,
          -2.7710816860198975,
          -2.9476747512817383,
          3.0824992656707764,
          -3.038360118865967,
          0.4522989094257355,
          -1.7502208948135376,
          -2.5791027545928955,
          -3.444427967071533,
          -3.425023078918457,
          -2.6362061500549316,
          -1.5876524448394775,
          -2.7735092639923096,
          -2.5844569206237793,
          1.195961594581604,
          -2.553980588912964,
          -3.4238572120666504,
          -2.88565731048584,
          -1.7528607845306396,
          -2.7519850730895996,
          -3.0849339962005615,
          -2.779850721359253,
          -2.98557448387146,
          -2.8861331939697266,
          -1.7489533424377441,
          -2.7542672157287598,
          -2.989278554916382,
          -2.754774808883667,
          -2.754795551300049,
          -3.4643900394439697,
          -2.4801173210144043,
          -3.8530147075653076,
          -2.757974147796631,
          -2.76352858543396,
          -2.630347728729248,
          -2.8622162342071533,
          -1.5594794750213623,
          -2.852060556411743,
          0.4817907214164734,
          -3.322946786880493,
          -2.7989895343780518,
          -2.9860332012176514,
          -2.08828067779541,
          -2.9445300102233887,
          1.13703453540802,
          -2.9489455223083496,
          0.20943748950958252,
          -2.7878546714782715,
          -2.6038806438446045,
          0.4641166925430298,
          -2.6652467250823975,
          -2.4493231773376465,
          -1.717077612876892,
          -2.949425220489502,
          -1.745511531829834,
          -2.636167526245117,
          0.9408957958221436,
          -2.399286985397339,
          1.1368608474731445,
          -1.69428288936615,
          -2.636141300201416,
          -0.7567511200904846,
          -0.09774365276098251,
          -2.7577147483825684,
          -2.635854482650757,
          -0.9526368975639343,
          -2.6965925693511963,
          -2.574230670928955,
          -2.7522876262664795,
          -2.7948684692382812,
          -2.703380823135376,
          -2.7849979400634766,
          -2.6371216773986816,
          -2.7813777923583984,
          -2.8844857215881348,
          -2.7813260555267334,
          -0.9803967475891113,
          -2.6411221027374268,
          0.24579590559005737,
          -2.779754638671875,
          -3.4681427478790283,
          -2.8430135250091553,
          -2.7550268173217773,
          -2.7296040058135986,
          -2.644092559814453,
          -0.872494637966156,
          -2.756126880645752,
          -2.883197546005249,
          -2.5754480361938477,
          -1.0020039081573486,
          -0.7499517202377319,
          -1.5928317308425903,
          -3.4708917140960693,
          -3.379239082336426,
          -2.7509665489196777,
          -0.6904791593551636,
          0.6151294112205505,
          0.41148409247398376,
          -0.7856263518333435,
          -2.6359238624572754,
          -3.420485496520996,
          -2.9975929260253906,
          -2.886986494064331,
          -2.521914482116699,
          -0.5968354344367981
         ],
         "z": [
          -9.656166076660156,
          -5.273016929626465,
          -8.557046890258789,
          -10.389836311340332,
          -5.4111480712890625,
          -9.496583938598633,
          -7.3774285316467285,
          -6.5627360343933105,
          -6.573448657989502,
          8.114974975585938,
          -8.55059814453125,
          -6.7916035652160645,
          -14.523994445800781,
          -13.717761993408203,
          -10.367471694946289,
          0.35712435841560364,
          -15.581483840942383,
          -9.528661727905273,
          -16.29458236694336,
          -8.538007736206055,
          -5.555301666259766,
          -6.169827461242676,
          -14.509921073913574,
          -8.555810928344727,
          3.757874011993408,
          -14.009061813354492,
          -7.269571304321289,
          -6.273313522338867,
          -13.200035095214844,
          -6.216394901275635,
          -5.466403007507324,
          -7.378057956695557,
          -5.723383903503418,
          -12.793244361877441,
          -13.24824333190918,
          -6.768317222595215,
          -16.710586547851562,
          -6.148330211639404,
          -10.366586685180664,
          -6.279717445373535,
          -11.711938858032227,
          -13.623147010803223,
          -15.655741691589355,
          -9.538809776306152,
          -13.5681734085083,
          -6.2744550704956055,
          -11.70749568939209,
          -9.527295112609863,
          -12.320738792419434,
          -11.734818458557129,
          -6.364190101623535,
          -13.972207069396973,
          -14.509786605834961,
          -13.163244247436523,
          -14.072861671447754,
          -16.238414764404297,
          -14.323216438293457,
          -5.640407562255859,
          -13.269466400146484,
          -7.349493503570557,
          -5.745776653289795,
          -14.89950180053711,
          -9.550321578979492,
          -15.947922706604004,
          -8.53490161895752,
          -6.782727241516113,
          -8.558053016662598,
          -7.557687759399414,
          -14.509209632873535,
          -16.532550811767578,
          -7.258718967437744,
          -16.183500289916992,
          -13.623769760131836,
          -10.945115089416504,
          -8.558001518249512,
          -6.271852493286133,
          -7.3782525062561035,
          -6.642804145812988,
          -8.00084114074707,
          -6.759284019470215,
          -15.0272216796875,
          -7.378051280975342,
          -9.413186073303223,
          -7.104452610015869,
          -12.306649208068848,
          -7.379116058349609,
          -4.132536888122559,
          -16.579341888427734,
          -16.768596649169922,
          -11.73199462890625,
          -11.088544845581055,
          -13.916951179504395,
          -15.789960861206055,
          -7.371103286743164,
          -15.660632133483887,
          -10.372467994689941,
          -14.519558906555176,
          -4.216894626617432,
          -7.387330532073975,
          -7.624679088592529,
          -16.198781967163086,
          -6.841363906860352,
          -16.13153076171875,
          -12.310505867004395,
          -13.924972534179688,
          -7.393324851989746,
          -3.9874775409698486,
          -11.7328462600708,
          -10.382661819458008,
          -16.78379249572754,
          -4.216833114624023,
          -9.381863594055176,
          0.20026913285255432,
          -6.383697986602783,
          -5.238282680511475,
          -11.71467399597168,
          -4.366328239440918,
          -7.14611291885376,
          -7.358448028564453,
          -9.46243667602539,
          -7.372354030609131,
          -6.855884552001953,
          -13.217103004455566,
          -10.365592002868652,
          -7.818239212036133,
          -6.719452857971191
         ]
        }
       ],
       "layout": {
        "height": 800,
        "legend": {
         "title": {
          "text": "Dominant_Topic"
         },
         "tracegroupgap": 0
        },
        "scene": {
         "domain": {
          "x": [
           0,
           1
          ],
          "y": [
           0,
           1
          ]
         },
         "xaxis": {
          "title": {
           "text": "0"
          }
         },
         "yaxis": {
          "title": {
           "text": "1"
          }
         },
         "zaxis": {
          "title": {
           "text": "2"
          }
         }
        },
        "template": {
         "data": {
          "bar": [
           {
            "error_x": {
             "color": "#2a3f5f"
            },
            "error_y": {
             "color": "#2a3f5f"
            },
            "marker": {
             "line": {
              "color": "#E5ECF6",
              "width": 0.5
             }
            },
            "type": "bar"
           }
          ],
          "barpolar": [
           {
            "marker": {
             "line": {
              "color": "#E5ECF6",
              "width": 0.5
             }
            },
            "type": "barpolar"
           }
          ],
          "carpet": [
           {
            "aaxis": {
             "endlinecolor": "#2a3f5f",
             "gridcolor": "white",
             "linecolor": "white",
             "minorgridcolor": "white",
             "startlinecolor": "#2a3f5f"
            },
            "baxis": {
             "endlinecolor": "#2a3f5f",
             "gridcolor": "white",
             "linecolor": "white",
             "minorgridcolor": "white",
             "startlinecolor": "#2a3f5f"
            },
            "type": "carpet"
           }
          ],
          "choropleth": [
           {
            "colorbar": {
             "outlinewidth": 0,
             "ticks": ""
            },
            "type": "choropleth"
           }
          ],
          "contour": [
           {
            "colorbar": {
             "outlinewidth": 0,
             "ticks": ""
            },
            "colorscale": [
             [
              0,
              "#0d0887"
             ],
             [
              0.1111111111111111,
              "#46039f"
             ],
             [
              0.2222222222222222,
              "#7201a8"
             ],
             [
              0.3333333333333333,
              "#9c179e"
             ],
             [
              0.4444444444444444,
              "#bd3786"
             ],
             [
              0.5555555555555556,
              "#d8576b"
             ],
             [
              0.6666666666666666,
              "#ed7953"
             ],
             [
              0.7777777777777778,
              "#fb9f3a"
             ],
             [
              0.8888888888888888,
              "#fdca26"
             ],
             [
              1,
              "#f0f921"
             ]
            ],
            "type": "contour"
           }
          ],
          "contourcarpet": [
           {
            "colorbar": {
             "outlinewidth": 0,
             "ticks": ""
            },
            "type": "contourcarpet"
           }
          ],
          "heatmap": [
           {
            "colorbar": {
             "outlinewidth": 0,
             "ticks": ""
            },
            "colorscale": [
             [
              0,
              "#0d0887"
             ],
             [
              0.1111111111111111,
              "#46039f"
             ],
             [
              0.2222222222222222,
              "#7201a8"
             ],
             [
              0.3333333333333333,
              "#9c179e"
             ],
             [
              0.4444444444444444,
              "#bd3786"
             ],
             [
              0.5555555555555556,
              "#d8576b"
             ],
             [
              0.6666666666666666,
              "#ed7953"
             ],
             [
              0.7777777777777778,
              "#fb9f3a"
             ],
             [
              0.8888888888888888,
              "#fdca26"
             ],
             [
              1,
              "#f0f921"
             ]
            ],
            "type": "heatmap"
           }
          ],
          "heatmapgl": [
           {
            "colorbar": {
             "outlinewidth": 0,
             "ticks": ""
            },
            "colorscale": [
             [
              0,
              "#0d0887"
             ],
             [
              0.1111111111111111,
              "#46039f"
             ],
             [
              0.2222222222222222,
              "#7201a8"
             ],
             [
              0.3333333333333333,
              "#9c179e"
             ],
             [
              0.4444444444444444,
              "#bd3786"
             ],
             [
              0.5555555555555556,
              "#d8576b"
             ],
             [
              0.6666666666666666,
              "#ed7953"
             ],
             [
              0.7777777777777778,
              "#fb9f3a"
             ],
             [
              0.8888888888888888,
              "#fdca26"
             ],
             [
              1,
              "#f0f921"
             ]
            ],
            "type": "heatmapgl"
           }
          ],
          "histogram": [
           {
            "marker": {
             "colorbar": {
              "outlinewidth": 0,
              "ticks": ""
             }
            },
            "type": "histogram"
           }
          ],
          "histogram2d": [
           {
            "colorbar": {
             "outlinewidth": 0,
             "ticks": ""
            },
            "colorscale": [
             [
              0,
              "#0d0887"
             ],
             [
              0.1111111111111111,
              "#46039f"
             ],
             [
              0.2222222222222222,
              "#7201a8"
             ],
             [
              0.3333333333333333,
              "#9c179e"
             ],
             [
              0.4444444444444444,
              "#bd3786"
             ],
             [
              0.5555555555555556,
              "#d8576b"
             ],
             [
              0.6666666666666666,
              "#ed7953"
             ],
             [
              0.7777777777777778,
              "#fb9f3a"
             ],
             [
              0.8888888888888888,
              "#fdca26"
             ],
             [
              1,
              "#f0f921"
             ]
            ],
            "type": "histogram2d"
           }
          ],
          "histogram2dcontour": [
           {
            "colorbar": {
             "outlinewidth": 0,
             "ticks": ""
            },
            "colorscale": [
             [
              0,
              "#0d0887"
             ],
             [
              0.1111111111111111,
              "#46039f"
             ],
             [
              0.2222222222222222,
              "#7201a8"
             ],
             [
              0.3333333333333333,
              "#9c179e"
             ],
             [
              0.4444444444444444,
              "#bd3786"
             ],
             [
              0.5555555555555556,
              "#d8576b"
             ],
             [
              0.6666666666666666,
              "#ed7953"
             ],
             [
              0.7777777777777778,
              "#fb9f3a"
             ],
             [
              0.8888888888888888,
              "#fdca26"
             ],
             [
              1,
              "#f0f921"
             ]
            ],
            "type": "histogram2dcontour"
           }
          ],
          "mesh3d": [
           {
            "colorbar": {
             "outlinewidth": 0,
             "ticks": ""
            },
            "type": "mesh3d"
           }
          ],
          "parcoords": [
           {
            "line": {
             "colorbar": {
              "outlinewidth": 0,
              "ticks": ""
             }
            },
            "type": "parcoords"
           }
          ],
          "pie": [
           {
            "automargin": true,
            "type": "pie"
           }
          ],
          "scatter": [
           {
            "marker": {
             "colorbar": {
              "outlinewidth": 0,
              "ticks": ""
             }
            },
            "type": "scatter"
           }
          ],
          "scatter3d": [
           {
            "line": {
             "colorbar": {
              "outlinewidth": 0,
              "ticks": ""
             }
            },
            "marker": {
             "colorbar": {
              "outlinewidth": 0,
              "ticks": ""
             }
            },
            "type": "scatter3d"
           }
          ],
          "scattercarpet": [
           {
            "marker": {
             "colorbar": {
              "outlinewidth": 0,
              "ticks": ""
             }
            },
            "type": "scattercarpet"
           }
          ],
          "scattergeo": [
           {
            "marker": {
             "colorbar": {
              "outlinewidth": 0,
              "ticks": ""
             }
            },
            "type": "scattergeo"
           }
          ],
          "scattergl": [
           {
            "marker": {
             "colorbar": {
              "outlinewidth": 0,
              "ticks": ""
             }
            },
            "type": "scattergl"
           }
          ],
          "scattermapbox": [
           {
            "marker": {
             "colorbar": {
              "outlinewidth": 0,
              "ticks": ""
             }
            },
            "type": "scattermapbox"
           }
          ],
          "scatterpolar": [
           {
            "marker": {
             "colorbar": {
              "outlinewidth": 0,
              "ticks": ""
             }
            },
            "type": "scatterpolar"
           }
          ],
          "scatterpolargl": [
           {
            "marker": {
             "colorbar": {
              "outlinewidth": 0,
              "ticks": ""
             }
            },
            "type": "scatterpolargl"
           }
          ],
          "scatterternary": [
           {
            "marker": {
             "colorbar": {
              "outlinewidth": 0,
              "ticks": ""
             }
            },
            "type": "scatterternary"
           }
          ],
          "surface": [
           {
            "colorbar": {
             "outlinewidth": 0,
             "ticks": ""
            },
            "colorscale": [
             [
              0,
              "#0d0887"
             ],
             [
              0.1111111111111111,
              "#46039f"
             ],
             [
              0.2222222222222222,
              "#7201a8"
             ],
             [
              0.3333333333333333,
              "#9c179e"
             ],
             [
              0.4444444444444444,
              "#bd3786"
             ],
             [
              0.5555555555555556,
              "#d8576b"
             ],
             [
              0.6666666666666666,
              "#ed7953"
             ],
             [
              0.7777777777777778,
              "#fb9f3a"
             ],
             [
              0.8888888888888888,
              "#fdca26"
             ],
             [
              1,
              "#f0f921"
             ]
            ],
            "type": "surface"
           }
          ],
          "table": [
           {
            "cells": {
             "fill": {
              "color": "#EBF0F8"
             },
             "line": {
              "color": "white"
             }
            },
            "header": {
             "fill": {
              "color": "#C8D4E3"
             },
             "line": {
              "color": "white"
             }
            },
            "type": "table"
           }
          ]
         },
         "layout": {
          "annotationdefaults": {
           "arrowcolor": "#2a3f5f",
           "arrowhead": 0,
           "arrowwidth": 1
          },
          "coloraxis": {
           "colorbar": {
            "outlinewidth": 0,
            "ticks": ""
           }
          },
          "colorscale": {
           "diverging": [
            [
             0,
             "#8e0152"
            ],
            [
             0.1,
             "#c51b7d"
            ],
            [
             0.2,
             "#de77ae"
            ],
            [
             0.3,
             "#f1b6da"
            ],
            [
             0.4,
             "#fde0ef"
            ],
            [
             0.5,
             "#f7f7f7"
            ],
            [
             0.6,
             "#e6f5d0"
            ],
            [
             0.7,
             "#b8e186"
            ],
            [
             0.8,
             "#7fbc41"
            ],
            [
             0.9,
             "#4d9221"
            ],
            [
             1,
             "#276419"
            ]
           ],
           "sequential": [
            [
             0,
             "#0d0887"
            ],
            [
             0.1111111111111111,
             "#46039f"
            ],
            [
             0.2222222222222222,
             "#7201a8"
            ],
            [
             0.3333333333333333,
             "#9c179e"
            ],
            [
             0.4444444444444444,
             "#bd3786"
            ],
            [
             0.5555555555555556,
             "#d8576b"
            ],
            [
             0.6666666666666666,
             "#ed7953"
            ],
            [
             0.7777777777777778,
             "#fb9f3a"
            ],
            [
             0.8888888888888888,
             "#fdca26"
            ],
            [
             1,
             "#f0f921"
            ]
           ],
           "sequentialminus": [
            [
             0,
             "#0d0887"
            ],
            [
             0.1111111111111111,
             "#46039f"
            ],
            [
             0.2222222222222222,
             "#7201a8"
            ],
            [
             0.3333333333333333,
             "#9c179e"
            ],
            [
             0.4444444444444444,
             "#bd3786"
            ],
            [
             0.5555555555555556,
             "#d8576b"
            ],
            [
             0.6666666666666666,
             "#ed7953"
            ],
            [
             0.7777777777777778,
             "#fb9f3a"
            ],
            [
             0.8888888888888888,
             "#fdca26"
            ],
            [
             1,
             "#f0f921"
            ]
           ]
          },
          "colorway": [
           "#636efa",
           "#EF553B",
           "#00cc96",
           "#ab63fa",
           "#FFA15A",
           "#19d3f3",
           "#FF6692",
           "#B6E880",
           "#FF97FF",
           "#FECB52"
          ],
          "font": {
           "color": "#2a3f5f"
          },
          "geo": {
           "bgcolor": "white",
           "lakecolor": "white",
           "landcolor": "#E5ECF6",
           "showlakes": true,
           "showland": true,
           "subunitcolor": "white"
          },
          "hoverlabel": {
           "align": "left"
          },
          "hovermode": "closest",
          "mapbox": {
           "style": "light"
          },
          "paper_bgcolor": "white",
          "plot_bgcolor": "#E5ECF6",
          "polar": {
           "angularaxis": {
            "gridcolor": "white",
            "linecolor": "white",
            "ticks": ""
           },
           "bgcolor": "#E5ECF6",
           "radialaxis": {
            "gridcolor": "white",
            "linecolor": "white",
            "ticks": ""
           }
          },
          "scene": {
           "xaxis": {
            "backgroundcolor": "#E5ECF6",
            "gridcolor": "white",
            "gridwidth": 2,
            "linecolor": "white",
            "showbackground": true,
            "ticks": "",
            "zerolinecolor": "white"
           },
           "yaxis": {
            "backgroundcolor": "#E5ECF6",
            "gridcolor": "white",
            "gridwidth": 2,
            "linecolor": "white",
            "showbackground": true,
            "ticks": "",
            "zerolinecolor": "white"
           },
           "zaxis": {
            "backgroundcolor": "#E5ECF6",
            "gridcolor": "white",
            "gridwidth": 2,
            "linecolor": "white",
            "showbackground": true,
            "ticks": "",
            "zerolinecolor": "white"
           }
          },
          "shapedefaults": {
           "line": {
            "color": "#2a3f5f"
           }
          },
          "ternary": {
           "aaxis": {
            "gridcolor": "white",
            "linecolor": "white",
            "ticks": ""
           },
           "baxis": {
            "gridcolor": "white",
            "linecolor": "white",
            "ticks": ""
           },
           "bgcolor": "#E5ECF6",
           "caxis": {
            "gridcolor": "white",
            "linecolor": "white",
            "ticks": ""
           }
          },
          "title": {
           "x": 0.05
          },
          "xaxis": {
           "automargin": true,
           "gridcolor": "white",
           "linecolor": "white",
           "ticks": "",
           "title": {
            "standoff": 15
           },
           "zerolinecolor": "white",
           "zerolinewidth": 2
          },
          "yaxis": {
           "automargin": true,
           "gridcolor": "white",
           "linecolor": "white",
           "ticks": "",
           "title": {
            "standoff": 15
           },
           "zerolinecolor": "white",
           "zerolinewidth": 2
          }
         }
        },
        "title": {
         "text": "3d TSNE Plot for Topic Model"
        },
        "width": 900
       }
      },
      "text/html": [
       "<div>\n",
       "        \n",
       "        \n",
       "            <div id=\"7f459781-beed-43eb-975f-7f995c1436a0\" class=\"plotly-graph-div\" style=\"height:800px; width:900px;\"></div>\n",
       "            <script type=\"text/javascript\">\n",
       "                require([\"plotly\"], function(Plotly) {\n",
       "                    window.PLOTLYENV=window.PLOTLYENV || {};\n",
       "                    \n",
       "                if (document.getElementById(\"7f459781-beed-43eb-975f-7f995c1436a0\")) {\n",
       "                    Plotly.newPlot(\n",
       "                        '7f459781-beed-43eb-975f-7f995c1436a0',\n",
       "                        [{\"hovertemplate\": \"Dominant_Topic=Topic 0<br>0=%{x}<br>1=%{y}<br>2=%{z}<extra></extra>\", \"legendgroup\": \"Topic 0\", \"marker\": {\"color\": \"#636efa\", \"opacity\": 0.7, \"symbol\": \"circle\"}, \"mode\": \"markers\", \"name\": \"Topic 0\", \"scene\": \"scene\", \"showlegend\": true, \"type\": \"scatter3d\", \"x\": [-0.5735564231872559, -5.898778915405273, -2.423429012298584, -3.0325963497161865, -0.13703496754169464, 1.48806893825531, 1.0221915245056152, 2.3539347648620605, 2.649604082107544, -5.711067199707031, -5.274833679199219, 0.5224083065986633, -5.183427810668945, -0.1369631439447403, -3.0326526165008545, 2.999828338623047, -2.465402126312256, -5.900791168212891, 2.541188955307007, -1.713962197303772, -0.13703203201293945, 2.786715269088745, 1.5916129350662231, -5.734364032745361, -5.328393936157227, -0.1370878964662552, -2.435781955718994, -1.0457873344421387, -2.427489995956421, -3.4318010807037354, -0.8471664786338806, -0.5695268511772156, -1.3795336484909058, -1.7875797748565674, -0.8890453577041626, -4.459426403045654, -1.6696888208389282, -5.117499828338623, -2.0524721145629883, -5.936497211456299, -6.0161662101745605, -4.838654518127441, 1.432094693183899, 2.587376356124878, 1.8431987762451172, -0.22125647962093353, -5.90151309967041, -2.467262029647827, 3.0117106437683105, -2.5907230377197266, -2.608924388885498, -5.683571815490723, 2.7070910930633545, -1.6818277835845947, -0.5740182399749756, -5.82835054397583, -5.054535388946533, -1.3636497259140015, -2.095421314239502, 1.2165327072143555, -4.475693702697754, -1.573718547821045, -5.899405002593994, -3.420893907546997, -4.704830169677734, -1.414804458618164, -5.0735039710998535, -5.173619747161865, 2.4136548042297363, -0.5698647499084473, -3.3935484886169434, -4.432071208953857, -1.574684500694275, -1.102770209312439, 1.6471115350723267, -0.45114266872406006, 2.625638484954834, -5.936222076416016, -4.463524341583252, -4.138089179992676, -5.625051021575928, -0.4502035081386566, -4.267005920410156, -5.689077377319336, -1.8431127071380615, 1.573354959487915, -1.5546820163726807, -5.468954086303711, -3.5562634468078613, -3.023451089859009, -4.9985222816467285, -3.8890583515167236, 0.7012528777122498, -1.3074461221694946, -0.9561609625816345, 0.7568264603614807, 3.0365612506866455, -5.147706031799316, -5.198009490966797, 1.9240148067474365, -3.545792818069458, -3.672720193862915, -5.139305591583252, -4.269406318664551, -4.0804314613342285, 2.892015218734741, -6.02893590927124, -0.13706310093402863, 3.0698821544647217, -5.322926044464111, -1.5477794408798218, -0.5757283568382263, -5.788478851318359, -1.3468875885009766, -5.194088935852051, -5.261872291564941, -6.021751880645752, -0.5696713924407959, 1.1036285161972046, -0.4150077700614929, -5.4342732429504395, -5.971584796905518, -4.700750827789307, -5.994406700134277, -5.330286502838135, 1.354284644126892, -4.6841630935668945, -2.2567055225372314, -2.607158899307251, -1.01521897315979, -4.272096157073975, -1.547846794128418, -1.428454875946045, -0.7661994695663452, -3.3735275268554688, -4.907708644866943, 2.4907374382019043, -4.57378625869751, 1.7281683683395386, 1.4144920110702515, -1.5476633310317993, -5.749955654144287, -3.965329885482788, 2.017328977584839, -3.371272563934326, -0.13704080879688263, -4.460443496704102, -4.246030807495117, -0.569634199142456, -4.077639579772949, -1.5469964742660522, 2.116880178451538, -6.974339962005615, 1.141174554824829, -2.2553911209106445, -5.281295299530029, -0.1371002197265625, -1.5478112697601318, 1.6163347959518433, -4.266974449157715, -1.9379438161849976, -5.9529242515563965, -5.0481038093566895, 0.10508658736944199, -1.7129052877426147, -4.604574680328369, -4.942523002624512, -5.529844760894775, -5.250926494598389, -5.60692834854126, 1.0374442338943481, 1.5905014276504517, -5.052188873291016, -5.173885345458984, -4.116941928863525, -5.5144243240356445, -4.791839122772217, -4.69584846496582, -5.754588603973389, 1.4267522096633911, -1.3418656587600708, -0.9688959717750549, -4.7405171394348145, -0.5731539130210876, 2.58143949508667, -3.952150821685791, -5.80599308013916, -3.0631136894226074, -0.6257044076919556, -4.889259338378906, -3.4129090309143066, -5.272129058837891, -6.0104875564575195, -4.799208164215088, -6.9605913162231445, -1.5531096458435059, -5.330305576324463, -5.795029640197754, -5.196051597595215, -5.186911106109619, -4.085937976837158, -4.483012676239014, -0.7478516101837158, -4.669356346130371, -1.9882045984268188, -5.284616470336914, -0.5733126997947693, -2.8675756454467773, 1.5330220460891724, -5.903112411499023, -3.026921272277832, -5.2376275062561035, -5.695106506347656, 2.860109806060791, -4.5987324714660645, -0.5764073729515076, -4.0738067626953125, 2.428614616394043, -3.4741263389587402, 1.1636370420455933, -5.012295722961426, -1.550358772277832, -0.13703501224517822, -5.7128777503967285, 1.7751317024230957, -2.7083029747009277, 2.980400323867798, -5.914438247680664, 0.8837604522705078, -4.473595142364502, -3.4048068523406982, -4.461137294769287, -0.9683877229690552, -5.752242088317871, 1.2678699493408203, -2.437256336212158, -4.705479145050049, -5.951930522918701, -1.8478368520736694, -5.980106830596924, 0.955230176448822, 1.3493678569793701, -4.4497833251953125, 1.9251368045806885, 1.718940258026123, -3.4066357612609863, -1.0272672176361084, -1.206256628036499, -3.424060344696045, -0.8822243213653564, -5.905905723571777, 2.904418706893921, -4.680794715881348], \"y\": [-4.652107238769531, -11.458767890930176, -7.177952766418457, -17.008760452270508, -0.32550013065338135, -6.055387496948242, -18.642250061035156, -19.26665687561035, -19.274463653564453, -10.297406196594238, -9.218957901000977, -18.51111602783203, -1.838219165802002, -0.3254832327365875, -16.967348098754883, -5.5021138191223145, -18.902746200561523, -11.47655963897705, -5.5567169189453125, -17.566625595092773, -0.32544222474098206, -19.49966049194336, -6.009801387786865, -10.277562141418457, -14.970935821533203, -0.32544782757759094, -7.186185836791992, -18.04722023010254, -7.180224418640137, -7.7402873039245605, -6.029030799865723, -4.6421709060668945, -6.5950927734375, -6.91513729095459, -6.092136383056641, -8.279096603393555, -6.831422805786133, -14.857227325439453, -17.483030319213867, -12.57149600982666, -12.679305076599121, -0.24553216993808746, -3.487607717514038, -5.221019744873047, -18.715229034423828, -4.874401569366455, -11.495149612426758, -16.83786392211914, -19.895763397216797, -17.389053344726562, -17.386842727661133, -10.404831886291504, -19.984342575073242, -2.273139715194702, -4.657769203186035, -13.802608489990234, -1.140038013458252, -17.941635131835938, -17.54616928100586, -18.884553909301758, -8.293764114379883, -2.618500232696533, -11.48838996887207, -7.787764549255371, -15.574641227722168, -17.953107833862305, -1.1494237184524536, -2.5190811157226562, -5.670589923858643, -4.644329071044922, -7.76478910446167, -8.266737937927246, -2.6091983318328857, -6.342379093170166, -3.117743968963623, -18.22639274597168, -5.360178470611572, -12.721711158752441, -8.28325366973877, -15.675888061523438, -10.378141403198242, -18.226882934570312, -12.416655540466309, -13.760414123535156, -17.929637908935547, -18.739953994750977, -6.740209579467773, -14.921443939208984, -16.59621238708496, -16.982057571411133, -0.5857723355293274, -10.608256340026855, -18.55986785888672, -6.532493591308594, -6.1848673820495605, -4.0694074630737305, -20.03135108947754, -14.863934516906738, -2.041215658187866, -18.777082443237305, -16.606420516967773, -0.7364500761032104, -14.808857917785645, -12.329534530639648, -16.16578483581543, -20.050369262695312, -12.784900665283203, -0.3254249095916748, -20.049732208251953, -14.957935333251953, -6.240557670593262, -4.65684175491333, -10.339406967163086, -6.539414405822754, -1.1393935680389404, -9.197638511657715, -12.75910472869873, -4.642494201660156, -3.796607732772827, -6.221443176269531, -14.837547302246094, -14.042646408081055, -15.57724666595459, -12.758790969848633, -14.837481498718262, -18.6236629486084, -15.59821891784668, -17.634239196777344, -17.360496520996094, -6.239710807800293, -0.3762202262878418, -6.240649700164795, -17.940683364868164, -18.142688751220703, -7.752846717834473, -0.9413854479789734, -19.16156578063965, 0.9543365240097046, -19.25965118408203, -6.155092716217041, -6.240400314331055, -10.287283897399902, -0.5067874789237976, -19.078285217285156, -7.768054962158203, -0.3255313038825989, -8.28116512298584, -12.673813819885254, -4.642411231994629, -16.168720245361328, -6.239444732666016, -19.53014373779297, -10.369928359985352, -18.727643966674805, -17.603931427001953, -9.238916397094727, -0.32552972435951233, -6.240602493286133, -2.6852810382843018, -12.592013359069824, -7.038018226623535, -13.924086570739746, -1.8032842874526978, -18.387916564941406, -17.82851219177246, -1.9173102378845215, -0.7537941932678223, -13.844752311706543, -3.3595151901245117, -13.946564674377441, -17.595565795898438, -18.758148193359375, -0.5196998715400696, -2.137883424758911, -16.1370849609375, -13.806557655334473, -0.07337763160467148, -15.583075523376465, -10.237249374389648, -3.262510061264038, -17.896434783935547, -6.306900501251221, 0.09319834411144257, -4.652537822723389, -19.462339401245117, -6.63150691986084, -14.028075218200684, -16.956846237182617, -5.597259998321533, -0.014638683758676052, -7.784573078155518, -9.221921920776367, -13.931089401245117, 0.37705621123313904, -13.731131553649902, -6.247953414916992, -14.848267555236816, -10.275672912597656, -2.1651644706726074, -2.4915771484375, -16.162883758544922, -8.297883987426758, -18.146390914916992, -0.9378376007080078, -7.531796932220459, -9.23457145690918, -4.6529011726379395, -5.3657732009887695, -19.058826446533203, -11.48735237121582, -16.979570388793945, -2.8894386291503906, -10.311452865600586, -5.510711669921875, 0.9387510418891907, -4.657805442810059, -16.17320442199707, -19.717567443847656, -9.842071533203125, -3.736764907836914, -0.006591979879885912, -6.24473237991333, -0.32550013065338135, -14.014065742492676, -5.822197437286377, -5.272980690002441, -19.74774169921875, -13.880730628967285, -18.610126495361328, -8.28882122039795, -7.730681419372559, -8.279726028442383, -6.132960319519043, -10.239492416381836, -3.606117010116577, -7.1876959800720215, 0.32343241572380066, -12.71232795715332, -17.75607681274414, -12.741289138793945, -3.9006714820861816, -18.98003578186035, -8.284991264343262, -5.808456897735596, -18.950654983520508, -7.7625226974487305, -6.255176544189453, -6.441399097442627, -7.775619029998779, -6.236660480499268, -11.495868682861328, -5.520022392272949, 0.6384084820747375], \"z\": [-0.9477167725563049, -2.604647159576416, -1.2387328147888184, -5.455469608306885, 1.8103764057159424, -0.6886799335479736, -6.541446685791016, -6.913405895233154, -6.586239337921143, -2.4522767066955566, -2.073202133178711, -6.4870219230651855, -4.601020812988281, 1.810490608215332, -5.423556804656982, -0.25525447726249695, -5.944634914398193, -2.6064460277557373, -0.25518807768821716, -6.040506362915039, 1.8103593587875366, -6.858526229858398, -0.6523204445838928, -2.440343141555786, -3.8584389686584473, 1.810394287109375, -1.2419042587280273, -6.1379075050354, -1.24113929271698, -1.437016248703003, 4.377512454986572, -0.9479668736457825, 2.724539041519165, 1.7440241575241089, 4.155418872833252, -1.7713112831115723, 2.0593926906585693, -3.9202961921691895, -5.646795749664307, -2.9130916595458984, -3.0246949195861816, -4.981188774108887, -4.91524600982666, 0.7640203833580017, -6.629354953765869, 2.9916975498199463, -2.611821413040161, -6.073512077331543, -6.814540863037109, -5.633790969848633, -5.646973609924316, -2.211026668548584, -6.5431647300720215, -0.17346324026584625, -0.9491585493087769, -3.6931464672088623, -4.78314208984375, -5.976939678192139, -5.615903377532959, -6.772571086883545, -1.7802575826644897, -0.3212091028690338, -2.611705780029297, -1.4058905839920044, -4.475584030151367, -6.131570339202881, -4.758814811706543, -4.430484294891357, -0.3676806092262268, -0.9474497437477112, -1.432875394821167, -1.761479377746582, -0.32643765211105347, 3.3979883193969727, -5.1271891593933105, -6.277085781097412, 0.2745417356491089, -2.9327917098999023, -1.7753280401229858, -5.4545769691467285, -2.2306435108184814, -6.278205394744873, -5.545619964599609, -3.667442560195923, -5.837071418762207, -6.858457088470459, 2.324960231781006, -3.973623752593994, -5.183945655822754, -5.432735919952393, -4.825473308563232, -1.9213989973068237, -6.518758773803711, 2.957447052001953, 3.862314462661743, -4.377297878265381, -6.715660572052002, -3.8678600788116455, -4.550741672515869, -6.734895706176758, -5.187439441680908, -5.653043746948242, -4.087456226348877, -5.5378899574279785, -4.877955436706543, -6.611966609954834, -2.9270458221435547, 1.8103841543197632, -6.722840785980225, -3.8415796756744385, -1.0728693008422852, -0.949030339717865, -2.210388660430908, 2.5987391471862793, -5.406249523162842, -2.0681557655334473, -2.9140465259552, -0.94795823097229, -4.685179710388184, 4.271533966064453, -4.11286735534668, -3.41143536567688, -4.4773736000061035, -2.993051052093506, -4.164770603179932, -6.481550216674805, -4.485997676849365, -5.969818592071533, -5.619704723358154, 3.7777223587036133, -5.360976696014404, -1.0728833675384521, -6.140368461608887, -6.20378303527832, -1.5656365156173706, -4.969953536987305, -6.634385108947754, -4.886796951293945, -6.643009662628174, -0.7308846712112427, -1.0728647708892822, -2.1901285648345947, -5.517970561981201, -6.395369052886963, -1.5611201524734497, 1.8103631734848022, -1.7707104682922363, -5.5737762451171875, -0.9479583501815796, -4.877556324005127, -1.07267165184021, -6.618025302886963, -2.1063692569732666, -6.67709493637085, -5.976789951324463, -2.0791194438934326, 1.810404658317566, -1.0728799104690552, -5.1551384925842285, -5.548623085021973, 1.4788631200790405, -3.6416056156158447, -4.7266364097595215, -6.399653434753418, -5.72812557220459, -4.9270524978637695, -4.921599388122559, -3.3355600833892822, -4.120777130126953, -3.2406558990478516, -7.196871280670166, -6.400215148925781, -4.749124050140381, -4.5488080978393555, -4.850447177886963, -3.4481163024902344, -4.997192859649658, -4.47848653793335, -2.4322338104248047, -4.666651248931885, -5.985921859741211, 3.8171546459198, -5.012382984161377, -0.9488888382911682, -6.001595973968506, -1.512320876121521, -3.231294631958008, -5.41775369644165, 3.343764066696167, -4.8542656898498535, -1.3993310928344727, -2.0752696990966797, -3.4074411392211914, -4.86773157119751, -2.5510387420654297, -1.073507308959961, -4.1647515296936035, -2.218766689300537, -4.525327682495117, -4.434991836547852, -4.873218536376953, -1.783087968826294, -6.2078094482421875, -5.084153652191162, -1.368223786354065, -2.078383445739746, -0.9487377405166626, -1.21586012840271, -6.876138687133789, -2.611518621444702, -5.433363914489746, -4.286895751953125, -2.4432880878448486, -0.24849162995815277, -4.874603748321533, -0.9499287009239197, -4.879905700683594, -6.852688789367676, -1.7261227369308472, -4.7316412925720215, -5.622587203979492, -1.072824239730835, 1.8103762865066528, -3.219205617904663, -0.5484835505485535, -1.1763174533843994, -6.516180515289307, -3.675238847732544, -6.5440754890441895, -1.7785418033599854, -1.4859626293182373, -1.7744686603546143, 4.169341564178467, -2.439530849456787, -4.8068528175354, -1.2421050071716309, -4.994409561157227, -2.9774348735809326, -6.151452541351318, -2.9959330558776855, -4.5516510009765625, -6.4575276374816895, -1.7752056121826172, -0.5050731301307678, -6.936230182647705, -1.5958424806594849, 3.7336182594299316, 3.1851963996887207, -1.4053527116775513, 3.7791666984558105, -2.613266944885254, -0.26317593455314636, -4.912755012512207]}, {\"hovertemplate\": \"Dominant_Topic=Topic 1<br>0=%{x}<br>1=%{y}<br>2=%{z}<extra></extra>\", \"legendgroup\": \"Topic 1\", \"marker\": {\"color\": \"#EF553B\", \"opacity\": 0.7, \"symbol\": \"circle\"}, \"mode\": \"markers\", \"name\": \"Topic 1\", \"scene\": \"scene\", \"showlegend\": true, \"type\": \"scatter3d\", \"x\": [11.593886375427246, 7.3946003913879395, 5.710629463195801, 8.610888481140137, 6.669410705566406, 6.676347732543945, 4.807992935180664, 6.763016223907471, 8.57511043548584, 12.48523998260498, 5.280089378356934, 6.673093795776367, 12.688135147094727, 12.4666748046875, 5.850404739379883, 7.5495476722717285, -2.277402639389038, 4.473827362060547, 12.556290626525879, 10.82569694519043, 12.816065788269043, 10.14588451385498, 11.116166114807129, 7.417734146118164, 9.831597328186035, 12.155085563659668, 9.469590187072754, 11.53065299987793, 12.178378105163574, 4.444274425506592, 10.629343032836914, 9.470144271850586, 7.399979114532471, 4.1874542236328125, 6.751667022705078, 7.148462772369385, 10.147862434387207, 3.383913516998291, 3.7384893894195557, 9.820588111877441, 5.871221542358398, 4.405370712280273, 6.6920270919799805, 4.869104385375977, 4.245903491973877, 3.3845248222351074, 12.854019165039062, 8.059432983398438, 12.770957946777344, 11.136652946472168, 8.587259292602539, 5.759911060333252, 11.674911499023438, 4.818951606750488, 6.646613597869873, 7.377206802368164, 8.045061111450195, 3.4156553745269775, 6.672962665557861, 8.060980796813965, 9.824424743652344, 9.07120418548584, 4.367771148681641, 6.764456272125244, 7.420042037963867, 8.048800468444824, 12.400276184082031, 9.085235595703125, 11.987759590148926, 5.870741367340088, 10.404611587524414, 10.415611267089844, 3.3058066368103027, 12.201139450073242, 11.392414093017578, 9.069762229919434, 12.985629081726074, 12.187227249145508, 8.049869537353516, 9.50585651397705, 11.030890464782715, 11.930394172668457, 3.2525172233581543, 4.6613688468933105, 3.745293617248535, 11.038152694702148, 6.770484924316406, 11.475220680236816, 4.417519569396973, 3.446033477783203, 11.755481719970703], \"y\": [0.20075610280036926, 0.5326239466667175, 2.2810840606689453, 0.478191077709198, 0.5982646942138672, 0.5972803235054016, 3.0919060707092285, -0.5318686962127686, 0.5192880630493164, 0.484218567609787, 2.7388224601745605, 0.5986064672470093, 0.23435884714126587, 0.25453418493270874, 1.745194435119629, -1.0051409006118774, 0.36067795753479004, 0.2676541805267334, -0.19044500589370728, 0.2886451184749603, -0.2425292730331421, 0.3595975935459137, 0.3268400728702545, -1.0512737035751343, 0.3906208574771881, 0.16030138731002808, 0.42312532663345337, 0.41909220814704895, -0.061480771750211716, 0.25263509154319763, 0.3130719065666199, 0.42843005061149597, 0.5341830849647522, 0.24521611630916595, -0.5541461110115051, -1.3112865686416626, 0.3569406569004059, -4.617193222045898, -5.0362749099731445, 0.3930756449699402, 0.6728484034538269, 0.20029079914093018, 0.9145629405975342, 3.2017080783843994, 0.2660459578037262, -5.301506996154785, 0.13130755722522736, 0.5413419604301453, -0.1442835032939911, 0.40508049726486206, 0.5188223719596863, 2.2559423446655273, -0.12394718080759048, 3.212476968765259, 0.9215254783630371, 0.28365558385849, 0.5425145626068115, -5.114354610443115, 0.5987039804458618, 0.5422213077545166, 0.39450496435165405, 0.4657945930957794, 0.20155401527881622, -0.49849751591682434, 0.5337781310081482, 0.5417357087135315, 0.43942520022392273, 0.46395576000213623, 0.20028860867023468, 0.672956645488739, 1.3456573486328125, 0.3300725221633911, -5.333139419555664, -0.2730967700481415, 0.1833379715681076, 0.46560433506965637, 0.13181942701339722, -0.17043575644493103, 0.5406422019004822, -0.7168076038360596, 0.21868003904819489, 0.5200997591018677, -5.3564066886901855, 3.4065988063812256, -5.203930854797363, 0.23236259818077087, -0.5316780209541321, -0.0362560860812664, 0.23386217653751373, -5.283268928527832, 0.4841535985469818], \"z\": [1.6790930032730103, 0.060777921229600906, -0.41489681601524353, -0.6660540103912354, -0.05257780849933624, -0.05222906172275543, -0.6481814384460449, -2.9978463649749756, 0.278384804725647, 1.6763579845428467, -0.6061775088310242, -0.053246062248945236, 1.3994461297988892, 1.2588406801223755, -0.1198195070028305, 0.45380038022994995, 2.0009946823120117, 2.8630242347717285, 1.3852450847625732, 1.0395079851150513, 1.7535414695739746, 0.7620788216590881, 1.3501126766204834, 0.4315810799598694, 0.6563313007354736, 1.9911102056503296, 0.5356011390686035, 1.0874351263046265, 1.9682834148406982, 3.1878883838653564, 0.9640235304832458, 0.5346658229827881, 0.061431363224983215, 3.4660608768463135, -3.0585567951202393, 0.41412705183029175, 0.765489935874939, 0.06619449704885483, -0.015215829014778137, 0.6518730521202087, -0.12080180644989014, 3.4188780784606934, 1.147243857383728, -0.8105043768882751, 3.287510633468628, -0.12721917033195496, 2.0143425464630127, 0.16586877405643463, 2.007211446762085, 1.298145055770874, 0.28099849820137024, -0.4030199348926544, 1.3578548431396484, -0.8042081594467163, 1.1727252006530762, -1.165347933769226, 0.16363394260406494, 0.0028631072491407394, -0.05205276608467102, 0.16662631928920746, 0.6530027389526367, 0.4126966595649719, 3.437467575073242, -2.9114162921905518, 0.06401078402996063, 0.1636812537908554, 1.8569008111953735, 0.41620591282844543, 1.0992159843444824, -0.12090475857257843, 0.4769396185874939, 0.8813905715942383, -0.1418389081954956, 1.7169256210327148, 0.9856666922569275, 0.41357603669166565, 1.770765781402588, 1.294345736503601, 0.16270361840724945, 0.9438472390174866, 1.043595314025879, 1.35732102394104, -0.15405018627643585, -0.8993297219276428, -0.11443836241960526, 1.0202540159225464, -2.993238925933838, 1.3892238140106201, 3.289527654647827, -0.12447922676801682, 1.583613634109497]}, {\"hovertemplate\": \"Dominant_Topic=Topic 2<br>0=%{x}<br>1=%{y}<br>2=%{z}<extra></extra>\", \"legendgroup\": \"Topic 2\", \"marker\": {\"color\": \"#00cc96\", \"opacity\": 0.7, \"symbol\": \"circle\"}, \"mode\": \"markers\", \"name\": \"Topic 2\", \"scene\": \"scene\", \"showlegend\": true, \"type\": \"scatter3d\", \"x\": [4.368575096130371, -2.741586446762085, -0.6298165321350098, 0.5387595295906067, 1.992268681526184, 0.07932885736227036, -2.541912317276001, 0.07936548441648483, -7.203267574310303, 0.05326903611421585, 0.3300028443336487, 0.5182205438613892, -0.048106782138347626, -3.0723893642425537, 0.5755124688148499, -0.4918082356452942, -2.977579355239868, -0.4745792746543884, -0.21829593181610107, 0.47450336813926697, -0.9963446855545044, -2.3973231315612793, -3.5862178802490234, -5.746115207672119, 4.3738861083984375, -0.9199671745300293, -6.6589508056640625, -0.05757441744208336, -0.9339418411254883, -0.6850576996803284, -0.1967795491218567, -0.9966152310371399, -3.0126214027404785, -3.793767213821411, -3.1248414516448975, -2.7914092540740967, -0.8879408836364746, -7.032681941986084, -1.1247743368148804, 0.6238821744918823, 3.573735475540161, -0.1494724452495575, -0.23586729168891907, -0.9966495633125305, 1.4159204959869385, -0.8952798843383789, -1.1593165397644043, -1.0189675092697144, -4.3045525550842285, -5.912936210632324, -1.0280849933624268, -0.47522979974746704, 3.4836959838867188, 2.9967901706695557, -0.12403534352779388, -2.7782812118530273, 2.0402591228485107, -0.6444843411445618, -1.2921677827835083, 1.224658727645874, 1.3064415454864502, 0.07439124584197998, 0.5860214829444885, -0.6892099380493164, -0.05150945857167244, 0.8226035237312317, -0.6208963394165039, 2.420667886734009, -2.995107650756836, 1.8762311935424805, -0.06928852945566177, 1.3550719022750854, -0.6412249207496643, -3.266876459121704, -0.49091896414756775, -3.6023201942443848, -4.090238571166992, -6.282456398010254, 2.3071112632751465, 3.1683952808380127, -3.1148600578308105, -3.09379243850708, 0.5851424932479858, -0.8524314761161804, 0.5418645143508911, -0.7896023392677307, -0.3335876166820526, -6.944477081298828, -6.332823753356934, 2.567530393600464, 1.1746183633804321, -7.45367956161499, -6.3178534507751465, -1.0517901182174683, -3.5175230503082275, -3.538034677505493, 0.32099878787994385, -0.7356759905815125, -0.9966987371444702, -0.46789273619651794, -0.4900333881378174, -0.3930562138557434, -3.0834591388702393, -5.240236759185791, -0.2379910945892334, -0.4740796685218811, 0.8642116189002991, 2.1318156719207764, -4.484611511230469, 0.7312697768211365, -0.474580854177475, -2.5595016479492188, -6.049337387084961, 2.640536069869995, 0.43672072887420654, -1.5810986757278442, -0.48302027583122253, -0.32601428031921387, -3.428861379623413, -5.247820854187012, 3.1882965564727783, 0.6191278100013733, 0.638505220413208, 0.445385605096817, -0.9280927777290344, -0.7982184886932373, -0.22396495938301086, 0.6463345289230347, -7.373205184936523, 0.4906821548938751, 1.5919544696807861, -3.050900459289551, -1.8563313484191895, -0.9955244660377502, 2.5777063369750977, 0.6278071999549866, 0.8209547996520996, -7.053764820098877, 0.6199802160263062, -3.202056407928467, -0.47614261507987976, 0.6626395583152771, 1.459647297859192, 0.7222602963447571, -0.06647572666406631, -4.206172466278076, -3.163355827331543, 0.4232400357723236, 0.688269853591919, -3.37280011177063, -0.2238313853740692, -0.48540762066841125, -2.969877004623413, -3.0776262283325195, 1.4580720663070679, -5.510592937469482, -0.9168785810470581, 0.1442396193742752, 2.2239348888397217, 0.798800528049469, 2.315995693206787, -1.470884919166565, -3.237400770187378, -1.3354253768920898, 3.6173665523529053, -3.7770400047302246, 3.6497642993927, -2.7552146911621094, 0.570209801197052, -0.49096596240997314, -2.266653060913086, 2.675513982772827, 0.6767005324363708, -0.15091043710708618, 0.14249521493911743, -3.1910414695739746, -2.7352564334869385, -1.04941725730896, -1.0528204441070557, -1.052985429763794, 0.4379032850265503, 1.9520186185836792, 0.5746046304702759, -0.030028268694877625, -3.393162488937378, -2.4039156436920166, -0.7825790047645569, -1.9903501272201538, 2.5910935401916504, 0.08424583077430725, -1.5650932788848877, -0.929705023765564, 0.2861063480377197, 0.3278868496417999, 0.4460543692111969, 0.6177229285240173, -4.010313034057617, 0.7177026867866516, 1.7862402200698853, -3.8864004611968994, -4.092652320861816, 0.6331443786621094, 1.3781219720840454, -0.8934353590011597, -4.553126335144043, -0.4854021668434143, 0.07936247438192368, -1.1298351287841797, -0.1962844282388687, -0.991643488407135, 0.4971020817756653, -2.6396656036376953, -1.9995774030685425, -0.6400614976882935, 0.25607964396476746, -0.2699364125728607, -0.6229085922241211, -1.1316291093826294, 1.8770214319229126, 1.8915401697158813, -1.0529733896255493, -4.487760066986084, -7.487199306488037, 0.07942163199186325, -0.8675057888031006, 0.08543477952480316, -3.5721025466918945, -0.8139157891273499, -0.8930984735488892, -2.999601364135742, 0.07842209935188293, -0.07077952474355698, -0.9382613897323608, -5.0706987380981445, -0.47457537055015564, 1.1133935451507568, -5.266050815582275, 0.4953354597091675, -1.1656745672225952, -0.3620625138282776, -0.6418904662132263, 0.5613217353820801, -5.935173511505127, -5.650809288024902, 1.2853325605392456, 0.3505547344684601, -0.28734132647514343, -0.5013204216957092, -0.6342207789421082, -1.1332662105560303, 1.105173110961914, -3.1070973873138428, -0.05676596611738205, -4.4018402099609375, -2.515199661254883, -4.988214492797852, 0.446616530418396, -3.9271745681762695, 0.5736123919487, -0.23023556172847748, 1.43719482421875, 2.7223215103149414, 2.175833225250244, -0.5074627995491028, -4.176141262054443, -2.4611661434173584, -0.10303414613008499, -0.8920630216598511, -3.013740301132202, 0.25172215700149536, 4.112334251403809, 0.6156115531921387, -0.6439081430435181, 4.11530065536499, -3.0703957080841064, -2.266295909881592, 0.15343520045280457, -5.559909820556641, 4.127723693847656, -3.9214961528778076, -4.005857467651367, 0.6699840426445007, 0.08850659430027008, -0.8702250123023987, 0.07105646282434464, -6.567845344543457, -1.7206374406814575, 0.8221344947814941, 0.07939483970403671, -0.47718530893325806, -6.2411322593688965, -6.0573649406433105, 0.44489601254463196, -2.6852705478668213, 0.568338930606842, -0.8919053077697754, -0.05669766664505005, 0.32364127039909363, 2.585118532180786, 0.8526353240013123, -7.300739288330078, -0.4748634397983551, 0.42956405878067017, -3.082709550857544, -7.002028465270996, -0.9921597838401794], \"y\": [3.7429332733154297, 3.629856586456299, 20.11105728149414, 3.9956464767456055, -0.17459936439990997, 3.5986695289611816, 21.442468643188477, 3.5990216732025146, 21.98419189453125, 14.517972946166992, 5.808742046356201, 18.228126525878906, 10.389140129089355, 21.21978759765625, 5.368009090423584, 12.512825012207031, 21.51022720336914, 4.9801554679870605, 13.851906776428223, 18.176271438598633, 8.380578994750977, 21.317832946777344, 21.60858154296875, 21.87550163269043, 3.709160566329956, 10.185894012451172, 22.0843563079834, 10.446419715881348, 10.187179565429688, 11.85702133178711, 7.130719184875488, 8.353878021240234, 2.9774117469787598, 3.109663486480713, 6.1873931884765625, 21.34281349182129, 11.058679580688477, 21.71751594543457, 10.246482849121094, 3.986711025238037, 4.582474231719971, 6.917236804962158, 7.276374340057373, 8.348745346069336, 3.043044090270996, 11.038392066955566, 20.5609073638916, 20.474483489990234, 1.7513093948364258, 22.161130905151367, 20.479013442993164, 4.992034912109375, 4.482250690460205, 5.055488586425781, 6.744015216827393, 3.5160763263702393, -0.11143955588340759, 6.273501396179199, 20.647058486938477, 3.2789151668548584, 3.1831843852996826, 14.51733684539795, 4.032968997955322, 11.845515251159668, 10.624136924743652, 17.539552688598633, 20.09839630126953, 5.940122604370117, 7.561218738555908, 2.4113361835479736, 13.812191009521484, 17.005725860595703, 4.357143402099609, 21.365753173828125, 12.528592109680176, 21.61109161376953, 2.3268182277679443, 22.060449600219727, 1.8028513193130493, 4.940288543701172, 21.63542366027832, 5.799261569976807, 5.3820624351501465, 7.3290791511535645, 4.082326412200928, 7.327778339385986, 13.164512634277344, 21.790321350097656, 21.663822174072266, 1.5028188228607178, 2.9207959175109863, 21.61370086669922, 21.702678680419922, 9.333420753479004, 3.714142322540283, 3.669649124145508, 18.735490798950195, 20.23671531677246, 8.363259315490723, 8.790358543395996, 12.527461051940918, 8.286774635314941, 5.9304351806640625, 21.862228393554688, 7.342264175415039, 4.99068021774292, 17.647544860839844, 3.2692184448242188, 21.771387100219727, 5.136147499084473, 4.98010778427124, 4.035772800445557, 21.926345825195312, 5.732172012329102, 15.624863624572754, 20.82248306274414, 12.54291820526123, 13.15731430053711, 3.9852664470672607, 21.84367561340332, 5.035133361816406, 16.617591857910156, 17.133941650390625, 15.644628524780273, 7.314736843109131, 7.310391902923584, 7.003021240234375, 17.15032196044922, 21.80158042907715, 18.141935348510742, 2.8169384002685547, 21.504138946533203, 20.965091705322266, 8.359722137451172, 4.59691047668457, 5.301878452301025, 14.1473388671875, 21.492019653320312, 16.64772605895996, 21.591007232666016, 5.00001859664917, 5.1404709815979, 3.443086624145508, 3.7958648204803467, 13.828691482543945, 21.718658447265625, 4.898808479309082, 18.56827735900879, 17.741228103637695, 2.6082351207733154, 13.833842277526855, 19.935903549194336, 3.2327897548675537, 5.249047756195068, 8.323419570922852, 22.06471061706543, 10.189671516418457, 19.026185989379883, 6.204999923706055, 17.98478889465332, 1.8153173923492432, 4.261253356933594, 21.431255340576172, 4.4906792640686035, 4.490034103393555, 22.628690719604492, 4.459078311920166, 3.5911126136779785, 17.85857582092285, 12.52569580078125, 21.15273666381836, 1.3828314542770386, 18.517398834228516, 6.8305182456970215, 19.028499603271484, 2.8159542083740234, 3.656191825866699, 9.327991485595703, 9.335007667541504, 9.32718276977539, 15.631780624389648, 1.9588505029678345, 16.17426109313965, 11.780806541442871, 4.122767448425293, 4.021897315979004, 7.3112921714782715, 21.033191680908203, 4.931520462036133, 14.508777618408203, 20.814844131469727, 7.29243278503418, 18.24573516845703, 18.723705291748047, 15.642865180969238, 16.67555046081543, 21.68929672241211, 5.17407751083374, 2.5566866397857666, 2.880823850631714, 21.703365325927734, 3.9449360370635986, 3.5427160263061523, 11.032021522521973, 21.783740997314453, 19.936418533325195, 3.5986483097076416, 10.229363441467285, 19.547134399414062, 8.354530334472656, 17.692834854125977, 21.197162628173828, 21.036264419555664, 6.25039529800415, 18.49297523498535, 13.186257362365723, 20.102815628051758, 10.22255802154541, 2.2818257808685303, 2.372619867324829, 9.33926010131836, 1.2321910858154297, 21.59913444519043, 3.598921298980713, 7.31662654876709, 14.511716842651367, 3.6802287101745605, 7.3249897956848145, 11.033443450927734, 7.9273881912231445, 14.513650894165039, 13.817874908447266, 10.213293075561523, 21.866233825683594, 4.980038642883301, 3.424049139022827, 21.804798126220703, 17.477231979370117, 20.563858032226562, 8.086848258972168, 6.261460304260254, 5.3614912033081055, 21.95809555053711, 21.645174026489258, 3.212932586669922, 17.617807388305664, 13.183463096618652, 9.03278636932373, 20.118330001831055, 10.222803115844727, 3.431096315383911, 5.98807430267334, 10.760255813598633, 1.5197408199310303, 21.10585594177246, 21.865337371826172, 15.662428855895996, 2.7655348777770996, 5.156825542449951, 7.280737400054932, 8.389366149902344, 5.622562885284424, 6.387648105621338, 12.47687816619873, 2.153818130493164, 4.050787448883057, 5.1674699783325195, 7.263799667358398, 7.873900890350342, 17.998485565185547, 4.018950462341309, 16.665245056152344, 6.275279521942139, 4.004238128662109, 5.60001802444458, 21.152740478515625, 6.162015438079834, 21.971010208129883, 3.947845220565796, 2.80741548538208, 21.687747955322266, 18.373193740844727, 14.523202896118164, 20.36104965209961, 14.517621040344238, 21.764707565307617, 20.896480560302734, 18.175567626953125, 3.5989675521850586, 4.995692729949951, 22.1392765045166, 21.6687068939209, 15.644637107849121, 3.678191900253296, 16.1632022857666, 11.04667854309082, 10.426565170288086, 18.729433059692383, 1.6648465394973755, 15.054706573486328, 21.544803619384766, 4.991902828216553, 5.633705139160156, 4.939496994018555, 21.964017868041992, 8.36434555053711], \"z\": [-1.0709174871444702, -0.5820427536964417, 1.5724921226501465, -5.183887004852295, -5.886621475219727, -1.5838007926940918, 3.726092576980591, -1.584013819694519, 6.535311698913574, -2.510889768600464, 2.592292308807373, -0.7299416065216064, -4.82647705078125, 3.9912140369415283, 3.2235541343688965, -2.337369441986084, 3.7177085876464844, -2.2358999252319336, -2.6170332431793213, 2.220360279083252, -2.6258935928344727, 3.425934314727783, 4.408323764801025, 5.464445114135742, -1.0421040058135986, -1.964741826057434, 6.170010566711426, -4.779749870300293, -1.9609991312026978, -2.1569881439208984, 1.1752427816390991, -2.641831159591675, -2.5065648555755615, -4.645664691925049, -4.800786018371582, 4.043478965759277, -1.9819163084030151, 6.810916423797607, -2.0091090202331543, -5.383970260620117, -1.4672106504440308, 1.2839884757995605, 1.0585376024246216, -2.6432080268859863, -5.759754657745361, -1.977444052696228, 2.2308764457702637, 2.081209182739258, -4.728562355041504, 5.761453628540039, 2.0898144245147705, -2.2386741638183594, -1.4969046115875244, -1.6742626428604126, 1.3184841871261597, -0.52278733253479, -5.926736354827881, -2.530172348022461, 2.3791921138763428, -5.538325786590576, -5.666842937469482, -2.512956142425537, -5.371629238128662, -2.151681423187256, -4.733617305755615, -0.6412122249603271, 1.5609862804412842, -1.897009253501892, -1.4750008583068848, -6.088378429412842, -2.646354913711548, -2.262791872024536, -4.650346755981445, 3.938626289367676, -2.3582470417022705, 4.418510913848877, -4.635582447052002, 6.2530012130737305, -6.339779376983643, -1.6200692653656006, 4.058310508728027, -4.759161949157715, 3.295893430709839, -2.806149959564209, -5.348076820373535, -2.77921462059021, -2.528076171875, 6.152195930480957, 5.907383441925049, -6.5523858070373535, -5.487889766693115, 6.789439678192139, 5.858023166656494, -2.2748870849609375, -4.649385929107666, -4.64658260345459, 0.0871567577123642, 1.7366924285888672, -2.6340301036834717, 0.3887225091457367, -2.341658353805542, 0.636130154132843, -4.755558490753174, 5.461863040924072, 1.072117805480957, -2.2379653453826904, -0.807802677154541, -3.2965030670166016, 4.9919610023498535, 3.748913049697876, -2.2359490394592285, -0.8294061422348022, 5.613038063049316, -1.8297059535980225, -1.9565074443817139, 2.678795337677002, -2.3536019325256348, -2.5328032970428467, -4.6872735023498535, 5.449287414550781, -1.6257414817810059, -1.4015854597091675, -1.0516480207443237, -1.9522649049758911, -2.7762978076934814, -2.7043800354003906, 1.048367977142334, -1.0491145849227905, 6.509359836578369, 2.2217795848846436, -5.925734519958496, 4.194884300231934, 2.9620940685272217, -2.6352057456970215, -1.6673091650009155, 3.4087846279144287, -0.4639091491699219, 6.5624470710754395, -1.3618502616882324, 3.945735216140747, -2.240330457687378, 3.431612968444824, -4.284231185913086, -5.147460460662842, -2.6538143157958984, 4.808794021606445, -4.72837495803833, -0.3787161409854889, -0.983235239982605, -3.005096673965454, -2.607935905456543, 1.3582756519317627, -0.20733048021793365, -4.721540451049805, -2.1749496459960938, 5.543406009674072, -1.966542363166809, 0.37152817845344543, -1.9641268253326416, -0.31982627511024475, -6.385214328765869, -1.6551330089569092, 4.240653991699219, -4.516835689544678, -1.4451836347579956, 5.397663593292236, -1.4279015064239502, -0.56131911277771, -0.23059788346290588, -2.3470892906188965, 3.3684370517730713, -6.618124961853027, -0.24279528856277466, 1.2458741664886475, 0.3710164427757263, -2.7578563690185547, -0.5916914939880371, -2.282116174697876, -2.27591872215271, -2.2807276248931885, -1.954399585723877, -5.679880142211914, -1.6542515754699707, -4.20806360244751, -4.704946041107178, -0.9473200440406799, -2.700838804244995, 3.0857527256011963, -1.7182291746139526, -2.51134991645813, 2.6657352447509766, -2.673698902130127, -0.06211673468351364, 0.08238457143306732, -1.9583251476287842, -1.3580677509307861, 4.682717800140381, 3.716651678085327, -6.078274250030518, -4.640923976898193, 4.7388916015625, -5.3225860595703125, -4.226527690887451, -1.9754198789596558, 5.038926601409912, 1.3581281900405884, -1.5837291479110718, -2.0388948917388916, 0.9108147025108337, -2.6376237869262695, -0.9877835512161255, 3.461150884628296, 3.0800440311431885, -2.5247931480407715, -0.3368900716304779, -2.5450077056884766, 1.5627871751785278, -2.0358760356903076, -5.776827335357666, -6.061972141265869, -2.2755041122436523, -4.835230827331543, 6.805778503417969, -1.5839124917984009, -2.7738943099975586, -2.5144903659820557, -4.687427043914795, -2.7774782180786133, -1.9784735441207886, -1.51325261592865, -2.5125067234039307, -2.6517112255096436, -1.9453849792480469, 5.33306884765625, -2.2359421253204346, -5.59213399887085, 5.572183132171631, -0.5670782923698425, 2.237541913986206, 0.7274250388145447, -2.524224281311035, 3.140446424484253, 6.180417537689209, 5.744004249572754, -5.671247959136963, -0.8458868861198425, -2.532633066177368, 0.27238044142723083, 1.5821484327316284, -2.0284323692321777, -5.576546669006348, -4.778050899505615, -4.651886940002441, -4.791164398193359, 3.6582534313201904, 5.2948713302612305, -1.9572103023529053, -4.626852512359619, 2.1712491512298584, 1.0852528810501099, -2.174299955368042, -1.8001219034194946, -1.9891964197158813, -2.324573278427124, -4.705084323883057, -0.9103658199310303, 1.5165125131607056, -2.647031784057617, -1.5021977424621582, -0.48336440324783325, -1.2097631692886353, -1.3626067638397217, -2.529005765914917, -1.2073280811309814, -4.734592437744141, 3.3682303428649902, 2.110903263092041, 5.89188289642334, -1.178800106048584, -4.654434680938721, 4.679416656494141, -0.05502418428659439, -2.5058631896972656, 1.9103895425796509, -2.5094239711761475, 6.515774250030518, 2.824639081954956, -0.5595771074295044, -1.5839704275131226, -2.2424328327178955, 5.953271865844727, 6.167428970336914, -1.9548496007919312, -0.6565200686454773, -1.6607803106307983, -1.9809802770614624, -4.788588523864746, 0.08233902603387833, -5.651623725891113, -0.6413646340370178, 6.547463417053223, -2.2395012378692627, 2.8555424213409424, -4.702173709869385, 6.707733631134033, -2.6347193717956543]}, {\"hovertemplate\": \"Dominant_Topic=Topic 3<br>0=%{x}<br>1=%{y}<br>2=%{z}<extra></extra>\", \"legendgroup\": \"Topic 3\", \"marker\": {\"color\": \"#ab63fa\", \"opacity\": 0.7, \"symbol\": \"circle\"}, \"mode\": \"markers\", \"name\": \"Topic 3\", \"scene\": \"scene\", \"showlegend\": true, \"type\": \"scatter3d\", \"x\": [-5.946826934814453, -5.161915302276611, -5.145288467407227, -5.18014669418335, -6.047820568084717, -5.933745861053467, -5.998380661010742, -3.7720277309417725, -3.691760301589966, -5.975409507751465, -5.114485740661621, -4.008200168609619, -2.618198871612549, -5.543138027191162, -1.0363088846206665, -5.709170341491699, -4.22633171081543, -6.011281490325928, -1.9035927057266235, -2.8957626819610596, -4.325856685638428, -2.6061134338378906, -3.3412325382232666, -5.630492210388184, -3.7707998752593994, -5.967308044433594, -5.941656112670898, -3.9810826778411865, -4.905594348907471, -4.219915866851807, -4.101991653442383, -4.909701824188232, -3.9607505798339844, -5.626613616943359, -3.3230278491973877, -3.770136594772339, -4.909248352050781, -5.700248718261719, -4.254256725311279, -5.6903815269470215, -3.766789197921753], \"y\": [0.862548828125, 0.6676529049873352, 0.6840476393699646, 1.2135748863220215, 1.0391393899917603, 0.5314883589744568, 0.5174481868743896, 0.4250640273094177, 1.8970521688461304, 0.8426934480667114, 0.7426691055297852, 0.42945393919944763, -1.1847997903823853, 0.8238779306411743, -0.07607024163007736, 1.1928586959838867, -0.4716133177280426, 0.6209874153137207, 0.08761284500360489, -0.9229507446289062, 1.5545865297317505, 0.4066845178604126, 2.324110269546509, 1.0052664279937744, 0.424083948135376, 1.0910959243774414, 0.7986569404602051, 1.786909818649292, 0.64205002784729, 0.48098480701446533, -0.6142556071281433, 0.64582759141922, 1.724060297012329, 0.3989204168319702, 2.2458651065826416, 0.42551764845848083, 0.6455329060554504, 0.5138944983482361, -0.23344314098358154, 1.1811085939407349, 0.4238264560699463], \"z\": [2.460984230041504, 2.538830041885376, 2.554755449295044, 2.224801540374756, 2.8765811920166016, 2.975287914276123, 2.846604108810425, 1.9404048919677734, 1.0070728063583374, 2.470163106918335, 2.6203644275665283, 2.8898606300354004, 0.44234582781791687, 3.1312739849090576, 3.5382285118103027, 2.8653204441070557, 1.5155894756317139, 2.573211193084717, 4.210389614105225, 0.6888025999069214, 1.5674089193344116, 2.0362420082092285, 0.6279466152191162, 3.1131460666656494, 1.9408563375473022, 2.625638246536255, 3.1217615604400635, 1.2480859756469727, 2.4391417503356934, 2.8867571353912354, 1.4024840593338013, 2.4430322647094727, 1.2746047973632812, 2.51495099067688, 0.7435594797134399, 1.9395508766174316, 2.4432318210601807, 3.067890167236328, 1.6662319898605347, 2.908804178237915, 1.9380956888198853]}, {\"hovertemplate\": \"Dominant_Topic=Topic 4<br>0=%{x}<br>1=%{y}<br>2=%{z}<extra></extra>\", \"legendgroup\": \"Topic 4\", \"marker\": {\"color\": \"#FFA15A\", \"opacity\": 0.7, \"symbol\": \"circle\"}, \"mode\": \"markers\", \"name\": \"Topic 4\", \"scene\": \"scene\", \"showlegend\": true, \"type\": \"scatter3d\", \"x\": [-5.417485237121582, -0.5003922581672668, 0.9384838938713074, -0.6590566635131836, -3.4757120609283447, -1.7726339101791382, 1.5232948064804077, -2.578829526901245, 3.265018939971924, 1.2771786451339722, 1.841270923614502, 0.22854554653167725, 3.905519485473633, 0.9547601938247681, -0.40391772985458374, -5.514260768890381, -2.275197744369507, -4.676903247833252, 2.019946813583374, -2.2967939376831055, 0.5285988450050354, 0.8569052219390869, 1.1655495166778564, -0.46299469470977783, 1.2777546644210815, 1.5522496700286865, -3.7786026000976562, 1.1655510663986206, -0.33186599612236023, -4.5435686111450195, 3.0850107669830322, -1.0633068084716797, 0.8017117977142334, -5.222496509552002, -3.4620285034179688, -0.8181436657905579, 0.1733020693063736, -4.748909950256348, 1.1608775854110718, -5.3193888664245605, -2.8515732288360596, 1.9068496227264404, 0.9759663939476013, -5.616015911102295, -2.346508264541626, 1.8184415102005005, -1.6727840900421143, 3.1164321899414062, -5.400669574737549, -1.455441951751709, -3.7080631256103516, -2.250067710876465, 0.3668452799320221, 0.8714262843132019, -1.0803099870681763, -1.1435450315475464, 1.815422534942627, 2.1222410202026367, 3.7654147148132324, -0.40496426820755005, -1.6899516582489014, -3.8676533699035645, -0.6442118287086487, -1.3196022510528564, 0.528361976146698, 0.858280599117279, -4.06864595413208, -4.964048862457275, 0.8649638891220093, -1.953628659248352, -4.716516017913818, -0.9841844439506531, -1.3449938297271729, -0.6892008185386658, 1.2674672603607178, -5.182190418243408, -2.1221861839294434, 1.5370359420776367, -4.079517841339111, -3.7182743549346924, -4.545428276062012, -1.650861144065857, -0.2745198607444763, 1.272735595703125, -0.9061400294303894, -1.1439605951309204, 0.8556530475616455, 1.4054406881332397, 0.896621823310852, -4.784693241119385, -5.0572285652160645, -1.6322221755981445, 1.273492693901062, -1.2270833253860474, 0.16167525947093964, -2.1232261657714844, -2.350867748260498, 0.8420825004577637, 3.9833364486694336, 0.5383851528167725, 1.1655417680740356, -3.595790386199951, -1.4046144485473633, 1.393609881401062, 1.1672743558883667, -0.7275130748748779, -3.286005735397339, -3.4458606243133545, 0.41996827721595764, -0.6610716581344604, 0.5254412293434143, -5.706017017364502, 0.9549121856689453, -4.259034156799316, -0.7423701286315918, -3.502250909805298, -0.4574201703071594, 1.1662706136703491, -1.2394057512283325, -5.236608028411865, -0.9466345906257629, -0.6436120271682739, -0.4664625823497772, -3.0964913368225098, 0.8772909045219421, 3.240335702896118, -0.4474385380744934, -5.602178573608398, -2.833742618560791, 0.3633893132209778, -4.257598876953125, -1.7116409540176392, -5.231535911560059, 1.1642199754714966, -0.5416682958602905, -1.9598766565322876, -0.2523598074913025, -0.4016435742378235, -0.6387866735458374, -0.6785169839859009, -1.0602885484695435, 0.8380449414253235, -3.9812426567077637, -4.975337982177734, -3.982726812362671, 1.1662755012512207, 1.4768481254577637, -4.934084892272949, 3.5228750705718994, -4.645819187164307, -3.4548277854919434, 1.8258461952209473, -5.44057035446167, -1.4297022819519043, 3.0824472904205322, -0.25963476300239563, 0.5278664827346802, 3.776700258255005, 1.6850584745407104, -4.81854772567749, 1.6626818180084229, -0.7583011388778687, 1.5355064868927002, 1.1279618740081787, 1.591471791267395, 0.888771116733551, -0.6957334876060486, 0.5278524160385132, 0.5318154692649841, -0.47772425413131714, -2.8552615642547607, -1.0796010494232178, 1.2715277671813965, -0.25160396099090576, 0.5287065505981445, 1.2755168676376343, -0.6338569521903992, -4.877765655517578, -0.4924219250679016, -2.1494600772857666, 3.6155874729156494, -2.8371007442474365, 0.16582639515399933], \"y\": [1.0517330169677734, -5.332638740539551, 4.705117702484131, -3.4569082260131836, -1.509661316871643, -3.0987672805786133, -0.9479286670684814, -2.3613498210906982, 1.0005706548690796, -1.8736109733581543, -1.1345558166503906, -3.1255345344543457, 0.12143619358539581, 4.693343639373779, -5.0971784591674805, 0.7069368362426758, -2.6896982192993164, 0.07909493893384933, -1.7333905696868896, -2.69159197807312, -2.8688552379608154, 4.891772270202637, 0.08465506881475449, -5.246059894561768, -1.874497413635254, -1.3037431240081787, -1.302890419960022, 0.08465050905942917, -1.7437459230422974, -0.15564469993114471, 0.72573322057724, -3.3812906742095947, 3.0312509536743164, 0.8181622624397278, -1.5060116052627563, -5.952484607696533, -3.1545631885528564, 0.10749101638793945, 3.510953664779663, 1.2158974409103394, -2.103043556213379, -1.8409479856491089, 4.756411552429199, 1.308458685874939, -2.596569776535034, -1.213979959487915, -2.917656660079956, 0.7742138504981995, 0.45678842067718506, -3.349273681640625, -1.1993931531906128, -2.5261566638946533, 0.4278610348701477, 4.91467809677124, -3.3856430053710938, -0.04484371840953827, -1.046392560005188, -1.6113831996917725, 0.061670709401369095, -5.08693790435791, -3.2523627281188965, -1.1837526559829712, -3.4681856632232666, -3.0709335803985596, -2.87489652633667, -2.452016830444336, -0.7492543458938599, 0.787534773349762, -2.442363739013672, -2.6847686767578125, 0.5546247959136963, -0.1191694587469101, -3.232908248901367, -5.751418113708496, -1.8885829448699951, 0.41140028834342957, -3.0838141441345215, -1.317810297012329, -0.7412892580032349, -1.4733632802963257, -0.15457697212696075, -3.0541040897369385, -1.6557493209838867, -1.881320834159851, -0.06810694932937622, -0.04488717019557953, -2.4555130004882812, -1.1966125965118408, 4.804895877838135, 0.11343573033809662, 0.24649086594581604, -3.337364673614502, -1.8801896572113037, -0.07278172671794891, -3.1601524353027344, -2.8435757160186768, -2.6660807132720947, 4.820676803588867, 0.23169270157814026, -2.8620824813842773, 0.0846698060631752, -1.1292264461517334, -0.043033428490161896, -1.0501201152801514, 0.08001534640789032, -5.886241436004639, -1.6757103204727173, -1.5128169059753418, 0.5495901703834534, -3.4552524089813232, -2.8810017108917236, 0.9979462623596191, 4.657180309295654, -0.5050888061523438, -4.571649074554443, -1.3947399854660034, -4.168791201664135e-05, 0.08251355588436127, -0.04504779726266861, 1.3768144845962524, -0.05486951395869255, -3.4575846195220947, -4.805569171905518, -1.8729844093322754, -2.428586721420288, -0.5410257577896118, -4.766458034515381, 1.2542154788970947, -2.121204137802124, 0.40225523710250854, -0.5086644887924194, -2.6824123859405518, 1.2726863622665405, 0.086800217628479, -5.425508975982666, -3.186663866043091, -3.351802349090576, -4.885954856872559, -3.4641926288604736, -0.09550753235816956, -3.3788299560546875, 3.17793345451355, -0.8698083758354187, 0.49293604493141174, -0.868019700050354, 0.08250371366739273, -0.9549328684806824, 1.0010560750961304, 0.5661496520042419, -0.03023480996489525, -1.1977112293243408, -1.0775363445281982, 0.7324173450469971, -2.9612340927124023, 1.1502459049224854, -3.3551077842712402, -2.8783226013183594, 0.19732341170310974, -1.309493899345398, 0.8246909379959106, -0.9520367980003357, -5.904648780822754, -1.2800159454345703, 3.354677200317383, -0.9181204438209534, 4.622846603393555, -5.760717868804932, -2.8759360313415527, -2.8670854568481445, -4.793925762176514, -2.1003003120422363, -3.3759548664093018, -1.8830355405807495, -3.3504574298858643, -2.8771891593933105, -1.8739724159240723, -3.4543468952178955, 0.3641049861907959, -4.812677383422852, -2.594203233718872, -0.07151535153388977, -2.116468667984009, -3.158895492553711], \"z\": [19.73238754272461, 6.022653579711914, 4.455200672149658, 12.297181129455566, 16.565237045288086, 14.38636302947998, 7.318521499633789, 15.238720893859863, 8.106526374816895, 8.432119369506836, 7.204486846923828, 10.784598350524902, 4.020789623260498, 4.549421310424805, 6.554432392120361, 18.936290740966797, 14.846285820007324, 18.375450134277344, 10.668366432189941, 14.841919898986816, 10.174309730529785, 4.164825916290283, 5.916370868682861, 6.1780266761779785, 8.434617042541504, 7.028356075286865, 16.677318572998047, 5.916375637054443, 7.734823226928711, 18.158241271972656, 8.139762878417969, 12.936450958251953, 5.115512847900391, 18.70163345336914, 16.554841995239258, 4.648528575897217, 10.883329391479492, 18.580223083496094, 3.978504180908203, 19.018720626831055, 15.652262687683105, 10.753218650817871, 4.727035045623779, 19.316823959350586, 14.722893714904785, 7.136804580688477, 14.375360488891602, 8.134955406188965, 19.056488037109375, 13.695839881896973, 17.09604835510254, 14.754521369934082, 8.970706939697266, 4.2577643394470215, 12.977609634399414, 4.609805583953857, 7.22047758102417, 10.483675956726074, 4.2406511306762695, 6.65760612487793, 13.5089111328125, 16.946008682250977, 12.28293228149414, 13.7169771194458, 10.183351516723633, 9.40656852722168, 17.4718074798584, 19.44816780090332, 9.388286590576172, 14.044763565063477, 18.732666015625, 5.251286029815674, 13.768983840942383, 5.117979049682617, 8.456680297851562, 19.248685836791992, 14.1553373336792, 7.05222225189209, 17.487178802490234, 16.852909088134766, 18.161579132080078, 13.481396675109863, 7.591440200805664, 8.444865226745605, 5.039734363555908, 4.60930061340332, 9.412165641784668, 7.078783988952637, 4.304143905639648, 18.557703018188477, 18.608999252319336, 13.573389053344727, 8.441893577575684, 4.965930938720703, 10.90234088897705, 14.064223289489746, 14.771671295166016, 4.033418655395508, 3.751278877258301, 10.160615921020508, 5.916356086730957, 16.699522018432617, 4.817883014678955, 7.196747779846191, 5.921470642089844, 4.740474224090576, 16.297040939331055, 16.52691078186035, 8.745166778564453, 12.299858093261719, 10.191971778869629, 19.330995559692383, 4.52113676071167, 17.7277889251709, 13.017844200134277, 16.931486129760742, 5.407973766326904, 5.918971538543701, 4.744401931762695, 19.3857421875, 4.852274417877197, 12.274545669555664, 8.763249397277832, 16.013824462890625, 9.371454238891602, 5.35903263092041, 8.806221961975098, 19.630640029907227, 15.62530517578125, 8.996296882629395, 17.724910736083984, 14.198478698730469, 19.631553649902344, 5.913637638092041, 5.835887432098389, 14.28805160522461, 11.618535041809082, 7.845468521118164, 12.273296356201172, 4.7236528396606445, 12.926172256469727, 5.007749557495117, 17.326698303222656, 18.519493103027344, 17.3287410736084, 5.918981075286865, 7.279036998748779, 18.939302444458008, 4.062577247619629, 18.3288631439209, 16.810869216918945, 7.152755260467529, 19.54206657409668, 13.5745849609375, 4.128532886505127, 11.632052421569824, 10.189929008483887, 4.056159496307373, 7.054958343505859, 19.188663482666016, 7.327500820159912, 4.726333141326904, 7.014301300048828, 3.979951858520508, 7.298099040985107, 3.9748735427856445, 5.098608493804932, 10.180855751037598, 10.174452781677246, 8.889640808105469, 15.657618522644043, 12.966253280639648, 8.448700904846191, 11.614304542541504, 10.189921379089355, 8.432711601257324, 12.258848190307617, 19.082149505615234, 8.903288841247559, 14.807400703430176, 4.529253959655762, 15.630231857299805, 10.894493103027344]}, {\"hovertemplate\": \"Dominant_Topic=Topic 5<br>0=%{x}<br>1=%{y}<br>2=%{z}<extra></extra>\", \"legendgroup\": \"Topic 5\", \"marker\": {\"color\": \"#19d3f3\", \"opacity\": 0.7, \"symbol\": \"circle\"}, \"mode\": \"markers\", \"name\": \"Topic 5\", \"scene\": \"scene\", \"showlegend\": true, \"type\": \"scatter3d\", \"x\": [7.198109149932861, 1.8004045486450195, 5.857278823852539, 6.270866870880127, 1.83433997631073, 6.090548515319824, 5.6466827392578125, 6.8898396492004395, 6.881985664367676, 3.375950813293457, 5.854472637176514, 2.9851107597351074, 7.364923477172852, 6.805419921875, 6.268890857696533, -2.5830891132354736, 7.6035003662109375, 6.104887008666992, 7.881948471069336, 5.850907325744629, 2.152022123336792, 2.3166000843048096, 7.368710517883301, 5.857995510101318, 1.2633918523788452, 7.076973915100098, 3.740084171295166, 5.46867036819458, 7.157011032104492, 3.0241239070892334, 2.0378878116607666, 5.647143363952637, 5.94320821762085, 6.885382175445557, 6.865983009338379, 2.880014419555664, 7.74062967300415, 2.9397459030151367, 6.264753341674805, 5.46696662902832, 6.597763538360596, 7.120650768280029, 7.619535446166992, 6.101972579956055, 7.403417110443115, 5.468599319458008, 6.595370769500732, 6.105215549468994, 6.749655723571777, 6.579941749572754, 3.2159698009490967, 7.201771259307861, 7.810747146606445, 7.237497329711914, 6.9317827224731445, 7.880722999572754, 7.095632553100586, 1.9755278825759888, 6.796902179718018, 3.741633892059326, 2.405226230621338, 7.430442810058594, 6.107572555541992, 7.488210678100586, 5.851252555847168, 2.920520305633545, 5.857407569885254, 4.047006130218506, 7.366980075836182, 7.531590938568115, 3.7238247394561768, 7.869233131408691, 7.090124607086182, 5.786767959594727, 5.858400821685791, 5.466299057006836, 5.647257328033447, 2.9101858139038086, 7.066860198974609, 2.903520107269287, 7.2051544189453125, 5.647141456604004, 4.9236578941345215, 4.394739627838135, 6.744075298309326, 5.651203155517578, 6.533022880554199, 7.5672078132629395, 7.731210231781006, 6.580948829650879, 6.4231858253479, 7.493533611297607, 7.640605926513672, 5.638087272644043, 7.622046947479248, 6.267021656036377, 7.3562541007995605, 6.496260166168213, 5.647059440612793, 4.0193352699279785, 7.495545387268066, 3.834780216217041, 7.643210411071777, 6.746138095855713, 7.498639106750488, 5.649811267852783, 6.5330424308776855, 6.58029317855835, 6.2691850662231445, 7.730268955230713, 6.535939693450928, 4.913748741149902, -2.1880457401275635, 3.2363998889923096, 1.7637598514556885, 6.598791122436523, 6.120390892028809, 3.526329517364502, 3.8128793239593506, 4.949319362640381, 5.646214008331299, 3.9251291751861572, 7.010129451751709, 6.265035629272461, 6.67115592956543, 4.961405277252197], \"y\": [-3.5300309658050537, -3.44118332862854, -2.9495246410369873, -2.8826611042022705, -2.4223687648773193, -2.987431764602661, -2.636035919189453, -3.7052760124206543, -3.700847625732422, 1.133703351020813, -2.948169469833374, 1.0291210412979126, -2.7953648567199707, -2.7641584873199463, -2.8882641792297363, -1.243024468421936, -2.782323122024536, -2.9876558780670166, -2.607182025909424, -2.946213483810425, -3.386002779006958, 0.12548954784870148, -2.7710816860198975, -2.9476747512817383, 3.0824992656707764, -3.038360118865967, 0.4522989094257355, -1.7502208948135376, -2.5791027545928955, -3.444427967071533, -3.425023078918457, -2.6362061500549316, -1.5876524448394775, -2.7735092639923096, -2.5844569206237793, 1.195961594581604, -2.553980588912964, -3.4238572120666504, -2.88565731048584, -1.7528607845306396, -2.7519850730895996, -3.0849339962005615, -2.779850721359253, -2.98557448387146, -2.8861331939697266, -1.7489533424377441, -2.7542672157287598, -2.989278554916382, -2.754774808883667, -2.754795551300049, -3.4643900394439697, -2.4801173210144043, -3.8530147075653076, -2.757974147796631, -2.76352858543396, -2.630347728729248, -2.8622162342071533, -1.5594794750213623, -2.852060556411743, 0.4817907214164734, -3.322946786880493, -2.7989895343780518, -2.9860332012176514, -2.08828067779541, -2.9445300102233887, 1.13703453540802, -2.9489455223083496, 0.20943748950958252, -2.7878546714782715, -2.6038806438446045, 0.4641166925430298, -2.6652467250823975, -2.4493231773376465, -1.717077612876892, -2.949425220489502, -1.745511531829834, -2.636167526245117, 0.9408957958221436, -2.399286985397339, 1.1368608474731445, -1.69428288936615, -2.636141300201416, -0.7567511200904846, -0.09774365276098251, -2.7577147483825684, -2.635854482650757, -0.9526368975639343, -2.6965925693511963, -2.574230670928955, -2.7522876262664795, -2.7948684692382812, -2.703380823135376, -2.7849979400634766, -2.6371216773986816, -2.7813777923583984, -2.8844857215881348, -2.7813260555267334, -0.9803967475891113, -2.6411221027374268, 0.24579590559005737, -2.779754638671875, -3.4681427478790283, -2.8430135250091553, -2.7550268173217773, -2.7296040058135986, -2.644092559814453, -0.872494637966156, -2.756126880645752, -2.883197546005249, -2.5754480361938477, -1.0020039081573486, -0.7499517202377319, -1.5928317308425903, -3.4708917140960693, -3.379239082336426, -2.7509665489196777, -0.6904791593551636, 0.6151294112205505, 0.41148409247398376, -0.7856263518333435, -2.6359238624572754, -3.420485496520996, -2.9975929260253906, -2.886986494064331, -2.521914482116699, -0.5968354344367981], \"z\": [-9.656166076660156, -5.273016929626465, -8.557046890258789, -10.389836311340332, -5.4111480712890625, -9.496583938598633, -7.3774285316467285, -6.5627360343933105, -6.573448657989502, 8.114974975585938, -8.55059814453125, -6.7916035652160645, -14.523994445800781, -13.717761993408203, -10.367471694946289, 0.35712435841560364, -15.581483840942383, -9.528661727905273, -16.29458236694336, -8.538007736206055, -5.555301666259766, -6.169827461242676, -14.509921073913574, -8.555810928344727, 3.757874011993408, -14.009061813354492, -7.269571304321289, -6.273313522338867, -13.200035095214844, -6.216394901275635, -5.466403007507324, -7.378057956695557, -5.723383903503418, -12.793244361877441, -13.24824333190918, -6.768317222595215, -16.710586547851562, -6.148330211639404, -10.366586685180664, -6.279717445373535, -11.711938858032227, -13.623147010803223, -15.655741691589355, -9.538809776306152, -13.5681734085083, -6.2744550704956055, -11.70749568939209, -9.527295112609863, -12.320738792419434, -11.734818458557129, -6.364190101623535, -13.972207069396973, -14.509786605834961, -13.163244247436523, -14.072861671447754, -16.238414764404297, -14.323216438293457, -5.640407562255859, -13.269466400146484, -7.349493503570557, -5.745776653289795, -14.89950180053711, -9.550321578979492, -15.947922706604004, -8.53490161895752, -6.782727241516113, -8.558053016662598, -7.557687759399414, -14.509209632873535, -16.532550811767578, -7.258718967437744, -16.183500289916992, -13.623769760131836, -10.945115089416504, -8.558001518249512, -6.271852493286133, -7.3782525062561035, -6.642804145812988, -8.00084114074707, -6.759284019470215, -15.0272216796875, -7.378051280975342, -9.413186073303223, -7.104452610015869, -12.306649208068848, -7.379116058349609, -4.132536888122559, -16.579341888427734, -16.768596649169922, -11.73199462890625, -11.088544845581055, -13.916951179504395, -15.789960861206055, -7.371103286743164, -15.660632133483887, -10.372467994689941, -14.519558906555176, -4.216894626617432, -7.387330532073975, -7.624679088592529, -16.198781967163086, -6.841363906860352, -16.13153076171875, -12.310505867004395, -13.924972534179688, -7.393324851989746, -3.9874775409698486, -11.7328462600708, -10.382661819458008, -16.78379249572754, -4.216833114624023, -9.381863594055176, 0.20026913285255432, -6.383697986602783, -5.238282680511475, -11.71467399597168, -4.366328239440918, -7.14611291885376, -7.358448028564453, -9.46243667602539, -7.372354030609131, -6.855884552001953, -13.217103004455566, -10.365592002868652, -7.818239212036133, -6.719452857971191]}],\n",
       "                        {\"height\": 800, \"legend\": {\"title\": {\"text\": \"Dominant_Topic\"}, \"tracegroupgap\": 0}, \"scene\": {\"domain\": {\"x\": [0.0, 1.0], \"y\": [0.0, 1.0]}, \"xaxis\": {\"title\": {\"text\": \"0\"}}, \"yaxis\": {\"title\": {\"text\": \"1\"}}, \"zaxis\": {\"title\": {\"text\": \"2\"}}}, \"template\": {\"data\": {\"bar\": [{\"error_x\": {\"color\": \"#2a3f5f\"}, \"error_y\": {\"color\": \"#2a3f5f\"}, \"marker\": {\"line\": {\"color\": \"#E5ECF6\", \"width\": 0.5}}, \"type\": \"bar\"}], \"barpolar\": [{\"marker\": {\"line\": {\"color\": \"#E5ECF6\", \"width\": 0.5}}, \"type\": \"barpolar\"}], \"carpet\": [{\"aaxis\": {\"endlinecolor\": \"#2a3f5f\", \"gridcolor\": \"white\", \"linecolor\": \"white\", \"minorgridcolor\": \"white\", \"startlinecolor\": \"#2a3f5f\"}, \"baxis\": {\"endlinecolor\": \"#2a3f5f\", \"gridcolor\": \"white\", \"linecolor\": \"white\", \"minorgridcolor\": \"white\", \"startlinecolor\": \"#2a3f5f\"}, \"type\": \"carpet\"}], \"choropleth\": [{\"colorbar\": {\"outlinewidth\": 0, \"ticks\": \"\"}, \"type\": \"choropleth\"}], \"contour\": [{\"colorbar\": {\"outlinewidth\": 0, \"ticks\": \"\"}, \"colorscale\": [[0.0, \"#0d0887\"], [0.1111111111111111, \"#46039f\"], [0.2222222222222222, \"#7201a8\"], [0.3333333333333333, \"#9c179e\"], [0.4444444444444444, \"#bd3786\"], [0.5555555555555556, \"#d8576b\"], [0.6666666666666666, \"#ed7953\"], [0.7777777777777778, \"#fb9f3a\"], [0.8888888888888888, \"#fdca26\"], [1.0, \"#f0f921\"]], \"type\": \"contour\"}], \"contourcarpet\": [{\"colorbar\": {\"outlinewidth\": 0, \"ticks\": \"\"}, \"type\": \"contourcarpet\"}], \"heatmap\": [{\"colorbar\": {\"outlinewidth\": 0, \"ticks\": \"\"}, \"colorscale\": [[0.0, \"#0d0887\"], [0.1111111111111111, \"#46039f\"], [0.2222222222222222, \"#7201a8\"], [0.3333333333333333, \"#9c179e\"], [0.4444444444444444, \"#bd3786\"], [0.5555555555555556, \"#d8576b\"], [0.6666666666666666, \"#ed7953\"], [0.7777777777777778, \"#fb9f3a\"], [0.8888888888888888, \"#fdca26\"], [1.0, \"#f0f921\"]], \"type\": \"heatmap\"}], \"heatmapgl\": [{\"colorbar\": {\"outlinewidth\": 0, \"ticks\": \"\"}, \"colorscale\": [[0.0, \"#0d0887\"], [0.1111111111111111, \"#46039f\"], [0.2222222222222222, \"#7201a8\"], [0.3333333333333333, \"#9c179e\"], [0.4444444444444444, \"#bd3786\"], [0.5555555555555556, \"#d8576b\"], [0.6666666666666666, \"#ed7953\"], [0.7777777777777778, \"#fb9f3a\"], [0.8888888888888888, \"#fdca26\"], [1.0, \"#f0f921\"]], \"type\": \"heatmapgl\"}], \"histogram\": [{\"marker\": {\"colorbar\": {\"outlinewidth\": 0, \"ticks\": \"\"}}, \"type\": \"histogram\"}], \"histogram2d\": [{\"colorbar\": {\"outlinewidth\": 0, \"ticks\": \"\"}, \"colorscale\": [[0.0, \"#0d0887\"], [0.1111111111111111, \"#46039f\"], [0.2222222222222222, \"#7201a8\"], [0.3333333333333333, \"#9c179e\"], [0.4444444444444444, \"#bd3786\"], [0.5555555555555556, \"#d8576b\"], [0.6666666666666666, \"#ed7953\"], [0.7777777777777778, \"#fb9f3a\"], [0.8888888888888888, \"#fdca26\"], [1.0, \"#f0f921\"]], \"type\": \"histogram2d\"}], \"histogram2dcontour\": [{\"colorbar\": {\"outlinewidth\": 0, \"ticks\": \"\"}, \"colorscale\": [[0.0, \"#0d0887\"], [0.1111111111111111, \"#46039f\"], [0.2222222222222222, \"#7201a8\"], [0.3333333333333333, \"#9c179e\"], [0.4444444444444444, \"#bd3786\"], [0.5555555555555556, \"#d8576b\"], [0.6666666666666666, \"#ed7953\"], [0.7777777777777778, \"#fb9f3a\"], [0.8888888888888888, \"#fdca26\"], [1.0, \"#f0f921\"]], \"type\": \"histogram2dcontour\"}], \"mesh3d\": [{\"colorbar\": {\"outlinewidth\": 0, \"ticks\": \"\"}, \"type\": \"mesh3d\"}], \"parcoords\": [{\"line\": {\"colorbar\": {\"outlinewidth\": 0, \"ticks\": \"\"}}, \"type\": \"parcoords\"}], \"pie\": [{\"automargin\": true, \"type\": \"pie\"}], \"scatter\": [{\"marker\": {\"colorbar\": {\"outlinewidth\": 0, \"ticks\": \"\"}}, \"type\": \"scatter\"}], \"scatter3d\": [{\"line\": {\"colorbar\": {\"outlinewidth\": 0, \"ticks\": \"\"}}, \"marker\": {\"colorbar\": {\"outlinewidth\": 0, \"ticks\": \"\"}}, \"type\": \"scatter3d\"}], \"scattercarpet\": [{\"marker\": {\"colorbar\": {\"outlinewidth\": 0, \"ticks\": \"\"}}, \"type\": \"scattercarpet\"}], \"scattergeo\": [{\"marker\": {\"colorbar\": {\"outlinewidth\": 0, \"ticks\": \"\"}}, \"type\": \"scattergeo\"}], \"scattergl\": [{\"marker\": {\"colorbar\": {\"outlinewidth\": 0, \"ticks\": \"\"}}, \"type\": \"scattergl\"}], \"scattermapbox\": [{\"marker\": {\"colorbar\": {\"outlinewidth\": 0, \"ticks\": \"\"}}, \"type\": \"scattermapbox\"}], \"scatterpolar\": [{\"marker\": {\"colorbar\": {\"outlinewidth\": 0, \"ticks\": \"\"}}, \"type\": \"scatterpolar\"}], \"scatterpolargl\": [{\"marker\": {\"colorbar\": {\"outlinewidth\": 0, \"ticks\": \"\"}}, \"type\": \"scatterpolargl\"}], \"scatterternary\": [{\"marker\": {\"colorbar\": {\"outlinewidth\": 0, \"ticks\": \"\"}}, \"type\": \"scatterternary\"}], \"surface\": [{\"colorbar\": {\"outlinewidth\": 0, \"ticks\": \"\"}, \"colorscale\": [[0.0, \"#0d0887\"], [0.1111111111111111, \"#46039f\"], [0.2222222222222222, \"#7201a8\"], [0.3333333333333333, \"#9c179e\"], [0.4444444444444444, \"#bd3786\"], [0.5555555555555556, \"#d8576b\"], [0.6666666666666666, \"#ed7953\"], [0.7777777777777778, \"#fb9f3a\"], [0.8888888888888888, \"#fdca26\"], [1.0, \"#f0f921\"]], \"type\": \"surface\"}], \"table\": [{\"cells\": {\"fill\": {\"color\": \"#EBF0F8\"}, \"line\": {\"color\": \"white\"}}, \"header\": {\"fill\": {\"color\": \"#C8D4E3\"}, \"line\": {\"color\": \"white\"}}, \"type\": \"table\"}]}, \"layout\": {\"annotationdefaults\": {\"arrowcolor\": \"#2a3f5f\", \"arrowhead\": 0, \"arrowwidth\": 1}, \"coloraxis\": {\"colorbar\": {\"outlinewidth\": 0, \"ticks\": \"\"}}, \"colorscale\": {\"diverging\": [[0, \"#8e0152\"], [0.1, \"#c51b7d\"], [0.2, \"#de77ae\"], [0.3, \"#f1b6da\"], [0.4, \"#fde0ef\"], [0.5, \"#f7f7f7\"], [0.6, \"#e6f5d0\"], [0.7, \"#b8e186\"], [0.8, \"#7fbc41\"], [0.9, \"#4d9221\"], [1, \"#276419\"]], \"sequential\": [[0.0, \"#0d0887\"], [0.1111111111111111, \"#46039f\"], [0.2222222222222222, \"#7201a8\"], [0.3333333333333333, \"#9c179e\"], [0.4444444444444444, \"#bd3786\"], [0.5555555555555556, \"#d8576b\"], [0.6666666666666666, \"#ed7953\"], [0.7777777777777778, \"#fb9f3a\"], [0.8888888888888888, \"#fdca26\"], [1.0, \"#f0f921\"]], \"sequentialminus\": [[0.0, \"#0d0887\"], [0.1111111111111111, \"#46039f\"], [0.2222222222222222, \"#7201a8\"], [0.3333333333333333, \"#9c179e\"], [0.4444444444444444, \"#bd3786\"], [0.5555555555555556, \"#d8576b\"], [0.6666666666666666, \"#ed7953\"], [0.7777777777777778, \"#fb9f3a\"], [0.8888888888888888, \"#fdca26\"], [1.0, \"#f0f921\"]]}, \"colorway\": [\"#636efa\", \"#EF553B\", \"#00cc96\", \"#ab63fa\", \"#FFA15A\", \"#19d3f3\", \"#FF6692\", \"#B6E880\", \"#FF97FF\", \"#FECB52\"], \"font\": {\"color\": \"#2a3f5f\"}, \"geo\": {\"bgcolor\": \"white\", \"lakecolor\": \"white\", \"landcolor\": \"#E5ECF6\", \"showlakes\": true, \"showland\": true, \"subunitcolor\": \"white\"}, \"hoverlabel\": {\"align\": \"left\"}, \"hovermode\": \"closest\", \"mapbox\": {\"style\": \"light\"}, \"paper_bgcolor\": \"white\", \"plot_bgcolor\": \"#E5ECF6\", \"polar\": {\"angularaxis\": {\"gridcolor\": \"white\", \"linecolor\": \"white\", \"ticks\": \"\"}, \"bgcolor\": \"#E5ECF6\", \"radialaxis\": {\"gridcolor\": \"white\", \"linecolor\": \"white\", \"ticks\": \"\"}}, \"scene\": {\"xaxis\": {\"backgroundcolor\": \"#E5ECF6\", \"gridcolor\": \"white\", \"gridwidth\": 2, \"linecolor\": \"white\", \"showbackground\": true, \"ticks\": \"\", \"zerolinecolor\": \"white\"}, \"yaxis\": {\"backgroundcolor\": \"#E5ECF6\", \"gridcolor\": \"white\", \"gridwidth\": 2, \"linecolor\": \"white\", \"showbackground\": true, \"ticks\": \"\", \"zerolinecolor\": \"white\"}, \"zaxis\": {\"backgroundcolor\": \"#E5ECF6\", \"gridcolor\": \"white\", \"gridwidth\": 2, \"linecolor\": \"white\", \"showbackground\": true, \"ticks\": \"\", \"zerolinecolor\": \"white\"}}, \"shapedefaults\": {\"line\": {\"color\": \"#2a3f5f\"}}, \"ternary\": {\"aaxis\": {\"gridcolor\": \"white\", \"linecolor\": \"white\", \"ticks\": \"\"}, \"baxis\": {\"gridcolor\": \"white\", \"linecolor\": \"white\", \"ticks\": \"\"}, \"bgcolor\": \"#E5ECF6\", \"caxis\": {\"gridcolor\": \"white\", \"linecolor\": \"white\", \"ticks\": \"\"}}, \"title\": {\"x\": 0.05}, \"xaxis\": {\"automargin\": true, \"gridcolor\": \"white\", \"linecolor\": \"white\", \"ticks\": \"\", \"title\": {\"standoff\": 15}, \"zerolinecolor\": \"white\", \"zerolinewidth\": 2}, \"yaxis\": {\"automargin\": true, \"gridcolor\": \"white\", \"linecolor\": \"white\", \"ticks\": \"\", \"title\": {\"standoff\": 15}, \"zerolinecolor\": \"white\", \"zerolinewidth\": 2}}}, \"title\": {\"text\": \"3d TSNE Plot for Topic Model\"}, \"width\": 900},\n",
       "                        {\"responsive\": true}\n",
       "                    ).then(function(){\n",
       "                            \n",
       "var gd = document.getElementById('7f459781-beed-43eb-975f-7f995c1436a0');\n",
       "var x = new MutationObserver(function (mutations, observer) {{\n",
       "        var display = window.getComputedStyle(gd).display;\n",
       "        if (!display || display === 'none') {{\n",
       "            console.log([gd, 'removed!']);\n",
       "            Plotly.purge(gd);\n",
       "            observer.disconnect();\n",
       "        }}\n",
       "}});\n",
       "\n",
       "// Listen for the removal of the full notebook cells\n",
       "var notebookContainer = gd.closest('#notebook-container');\n",
       "if (notebookContainer) {{\n",
       "    x.observe(notebookContainer, {childList: true});\n",
       "}}\n",
       "\n",
       "// Listen for the clearing of the current output cell\n",
       "var outputEl = gd.closest('.output');\n",
       "if (outputEl) {{\n",
       "    x.observe(outputEl, {childList: true});\n",
       "}}\n",
       "\n",
       "                        })\n",
       "                };\n",
       "                });\n",
       "            </script>\n",
       "        </div>"
      ]
     },
     "metadata": {},
     "output_type": "display_data"
    }
   ],
   "source": [
    "plot_model(lda, plot = 'tsne')"
   ]
  },
  {
   "cell_type": "markdown",
   "metadata": {},
   "source": [
    "T-distributed Stochastic Neighbor Embedding (t-SNE) is a nonlinear dimensionality reduction technique well-suited for embedding high-dimensional data for visualization in a low-dimensional space of two or three dimensions."
   ]
  },
  {
   "cell_type": "markdown",
   "metadata": {},
   "source": [
    "## Uniform Manifold Approximation and Projection Plot"
   ]
  },
  {
   "cell_type": "code",
   "execution_count": 23,
   "metadata": {},
   "outputs": [
    {
     "data": {
      "text/html": [
       "        <script type=\"text/javascript\">\n",
       "        window.PlotlyConfig = {MathJaxConfig: 'local'};\n",
       "        if (window.MathJax) {MathJax.Hub.Config({SVG: {font: \"STIX-Web\"}});}\n",
       "        if (typeof require !== 'undefined') {\n",
       "        require.undef(\"plotly\");\n",
       "        requirejs.config({\n",
       "            paths: {\n",
       "                'plotly': ['https://cdn.plot.ly/plotly-latest.min']\n",
       "            }\n",
       "        });\n",
       "        require(['plotly'], function(Plotly) {\n",
       "            window._Plotly = Plotly;\n",
       "        });\n",
       "        }\n",
       "        </script>\n",
       "        "
      ]
     },
     "metadata": {},
     "output_type": "display_data"
    },
    {
     "data": {
      "image/png": "[encoded data removed]",
      "text/plain": [
       "<Figure size 720x432 with 1 Axes>"
      ]
     },
     "metadata": {},
     "output_type": "display_data"
    }
   ],
   "source": [
    "plot_model(lda, plot = 'umap')"
   ]
  },
  {
   "cell_type": "markdown",
   "metadata": {},
   "source": [
    "UMAP (Uniform Manifold Approximation and Projection) is a novel manifold learning technique for dimensionality reduction. It is similar to tSNE and PCA in its purpose as all of them are techniques to reduce dimensionality for 2d/3d projections. UMAP is constructed from a theoretical framework based in Riemannian geometry and algebraic topology"
   ]
  },
  {
   "cell_type": "markdown",
   "metadata": {},
   "source": [
    "# Evaluate Model"
   ]
  },
  {
   "cell_type": "code",
   "execution_count": 24,
   "metadata": {},
   "outputs": [
    {
     "data": {
      "application/vnd.jupyter.widget-view+json": {
       "model_id": "26c4246f48834638900a115f1ff4d770",
       "version_major": 2,
       "version_minor": 0
      },
      "text/plain": [
       "interactive(children=(ToggleButtons(description='Plot Type:', icons=('',), options=(('Frequency Plot', 'freque…"
      ]
     },
     "metadata": {},
     "output_type": "display_data"
    }
   ],
   "source": [
    "evaluate_model(lda)"
   ]
  },
  {
   "cell_type": "markdown",
   "metadata": {},
   "source": [
    "## Saving the model"
   ]
  },
  {
   "cell_type": "code",
   "execution_count": 25,
   "metadata": {
    "tags": []
   },
   "outputs": [
    {
     "name": "stdout",
     "output_type": "stream",
     "text": [
      "Model Succesfully Saved\n"
     ]
    }
   ],
   "source": [
    "save_model(lda,'Final LDA Model 02Nov2020')"
   ]
  },
  {
   "cell_type": "markdown",
   "metadata": {},
   "source": [
    "## Loading the model"
   ]
  },
  {
   "cell_type": "code",
   "execution_count": 26,
   "metadata": {
    "tags": []
   },
   "outputs": [
    {
     "name": "stdout",
     "output_type": "stream",
     "text": [
      "Model Sucessfully Loaded\n"
     ]
    }
   ],
   "source": [
    "saved_lda = load_model('Final LDA Model 02Nov2020')"
   ]
  },
  {
   "cell_type": "code",
   "execution_count": 27,
   "metadata": {
    "tags": []
   },
   "outputs": [
    {
     "name": "stdout",
     "output_type": "stream",
     "text": [
      "LdaModel(num_terms=3668, num_topics=6, decay=0.5, chunksize=100)\n"
     ]
    }
   ],
   "source": [
    "print(saved_lda)"
   ]
  },
  {
   "cell_type": "markdown",
   "metadata": {},
   "source": [
    "## Binary Classification Model"
   ]
  },
  {
   "cell_type": "code",
   "execution_count": 28,
   "metadata": {},
   "outputs": [
    {
     "name": "stdout",
     "output_type": "stream",
     "text": [
      "Data for Modeling: (950, 5)\n",
      "Unseen Data For Predictions: (50, 5)\n"
     ]
    }
   ],
   "source": [
    "# sampling the data to select only 1000 documents\n",
    "df_classification = df_reviews.sample(1000, random_state=786).drop(['star_rating'], axis=1).reset_index(drop=True)\n",
    "df = df_classification.reset_index(drop=True)\n",
    "\n",
    "# sampling the data to select only 1000 documents\n",
    "data = df.sample(frac=0.95, random_state=786).reset_index(drop=True)\n",
    "data_unseen = df_classification.drop(data.index).reset_index(drop=True)\n",
    "\n",
    "print('Data for Modeling: ' + str(data.shape))\n",
    "print('Unseen Data For Predictions: ' + str(data_unseen.shape))"
   ]
  },
  {
   "cell_type": "code",
   "execution_count": 29,
   "metadata": {},
   "outputs": [
    {
     "name": "stdout",
     "output_type": "stream",
     "text": [
      "Setup Succesfully Completed!\n"
     ]
    },
    {
     "data": {
      "text/html": [
       "<style  type=\"text/css\" >\n",
       "</style><table id=\"T_2ca639ae_1cf1_11eb_92ff_f82819a27b0c\" ><thead>    <tr>        <th class=\"blank level0\" ></th>        <th class=\"col_heading level0 col0\" >Description</th>        <th class=\"col_heading level0 col1\" >Value</th>    </tr></thead><tbody>\n",
       "                <tr>\n",
       "                        <th id=\"T_2ca639ae_1cf1_11eb_92ff_f82819a27b0clevel0_row0\" class=\"row_heading level0 row0\" >0</th>\n",
       "                        <td id=\"T_2ca639ae_1cf1_11eb_92ff_f82819a27b0crow0_col0\" class=\"data row0 col0\" >session_id</td>\n",
       "                        <td id=\"T_2ca639ae_1cf1_11eb_92ff_f82819a27b0crow0_col1\" class=\"data row0 col1\" >123</td>\n",
       "            </tr>\n",
       "            <tr>\n",
       "                        <th id=\"T_2ca639ae_1cf1_11eb_92ff_f82819a27b0clevel0_row1\" class=\"row_heading level0 row1\" >1</th>\n",
       "                        <td id=\"T_2ca639ae_1cf1_11eb_92ff_f82819a27b0crow1_col0\" class=\"data row1 col0\" >Target Type</td>\n",
       "                        <td id=\"T_2ca639ae_1cf1_11eb_92ff_f82819a27b0crow1_col1\" class=\"data row1 col1\" >Binary</td>\n",
       "            </tr>\n",
       "            <tr>\n",
       "                        <th id=\"T_2ca639ae_1cf1_11eb_92ff_f82819a27b0clevel0_row2\" class=\"row_heading level0 row2\" >2</th>\n",
       "                        <td id=\"T_2ca639ae_1cf1_11eb_92ff_f82819a27b0crow2_col0\" class=\"data row2 col0\" >Label Encoded</td>\n",
       "                        <td id=\"T_2ca639ae_1cf1_11eb_92ff_f82819a27b0crow2_col1\" class=\"data row2 col1\" >Negative: 0, Positive: 1</td>\n",
       "            </tr>\n",
       "            <tr>\n",
       "                        <th id=\"T_2ca639ae_1cf1_11eb_92ff_f82819a27b0clevel0_row3\" class=\"row_heading level0 row3\" >3</th>\n",
       "                        <td id=\"T_2ca639ae_1cf1_11eb_92ff_f82819a27b0crow3_col0\" class=\"data row3 col0\" >Original Data</td>\n",
       "                        <td id=\"T_2ca639ae_1cf1_11eb_92ff_f82819a27b0crow3_col1\" class=\"data row3 col1\" >(950, 5)</td>\n",
       "            </tr>\n",
       "            <tr>\n",
       "                        <th id=\"T_2ca639ae_1cf1_11eb_92ff_f82819a27b0clevel0_row4\" class=\"row_heading level0 row4\" >4</th>\n",
       "                        <td id=\"T_2ca639ae_1cf1_11eb_92ff_f82819a27b0crow4_col0\" class=\"data row4 col0\" >Missing Values </td>\n",
       "                        <td id=\"T_2ca639ae_1cf1_11eb_92ff_f82819a27b0crow4_col1\" class=\"data row4 col1\" >False</td>\n",
       "            </tr>\n",
       "            <tr>\n",
       "                        <th id=\"T_2ca639ae_1cf1_11eb_92ff_f82819a27b0clevel0_row5\" class=\"row_heading level0 row5\" >5</th>\n",
       "                        <td id=\"T_2ca639ae_1cf1_11eb_92ff_f82819a27b0crow5_col0\" class=\"data row5 col0\" >Numeric Features </td>\n",
       "                        <td id=\"T_2ca639ae_1cf1_11eb_92ff_f82819a27b0crow5_col1\" class=\"data row5 col1\" >1</td>\n",
       "            </tr>\n",
       "            <tr>\n",
       "                        <th id=\"T_2ca639ae_1cf1_11eb_92ff_f82819a27b0clevel0_row6\" class=\"row_heading level0 row6\" >6</th>\n",
       "                        <td id=\"T_2ca639ae_1cf1_11eb_92ff_f82819a27b0crow6_col0\" class=\"data row6 col0\" >Categorical Features </td>\n",
       "                        <td id=\"T_2ca639ae_1cf1_11eb_92ff_f82819a27b0crow6_col1\" class=\"data row6 col1\" >3</td>\n",
       "            </tr>\n",
       "            <tr>\n",
       "                        <th id=\"T_2ca639ae_1cf1_11eb_92ff_f82819a27b0clevel0_row7\" class=\"row_heading level0 row7\" >7</th>\n",
       "                        <td id=\"T_2ca639ae_1cf1_11eb_92ff_f82819a27b0crow7_col0\" class=\"data row7 col0\" >Ordinal Features </td>\n",
       "                        <td id=\"T_2ca639ae_1cf1_11eb_92ff_f82819a27b0crow7_col1\" class=\"data row7 col1\" >False</td>\n",
       "            </tr>\n",
       "            <tr>\n",
       "                        <th id=\"T_2ca639ae_1cf1_11eb_92ff_f82819a27b0clevel0_row8\" class=\"row_heading level0 row8\" >8</th>\n",
       "                        <td id=\"T_2ca639ae_1cf1_11eb_92ff_f82819a27b0crow8_col0\" class=\"data row8 col0\" >High Cardinality Features </td>\n",
       "                        <td id=\"T_2ca639ae_1cf1_11eb_92ff_f82819a27b0crow8_col1\" class=\"data row8 col1\" >False</td>\n",
       "            </tr>\n",
       "            <tr>\n",
       "                        <th id=\"T_2ca639ae_1cf1_11eb_92ff_f82819a27b0clevel0_row9\" class=\"row_heading level0 row9\" >9</th>\n",
       "                        <td id=\"T_2ca639ae_1cf1_11eb_92ff_f82819a27b0crow9_col0\" class=\"data row9 col0\" >High Cardinality Method </td>\n",
       "                        <td id=\"T_2ca639ae_1cf1_11eb_92ff_f82819a27b0crow9_col1\" class=\"data row9 col1\" >None</td>\n",
       "            </tr>\n",
       "            <tr>\n",
       "                        <th id=\"T_2ca639ae_1cf1_11eb_92ff_f82819a27b0clevel0_row10\" class=\"row_heading level0 row10\" >10</th>\n",
       "                        <td id=\"T_2ca639ae_1cf1_11eb_92ff_f82819a27b0crow10_col0\" class=\"data row10 col0\" >Sampled Data</td>\n",
       "                        <td id=\"T_2ca639ae_1cf1_11eb_92ff_f82819a27b0crow10_col1\" class=\"data row10 col1\" >(950, 5)</td>\n",
       "            </tr>\n",
       "            <tr>\n",
       "                        <th id=\"T_2ca639ae_1cf1_11eb_92ff_f82819a27b0clevel0_row11\" class=\"row_heading level0 row11\" >11</th>\n",
       "                        <td id=\"T_2ca639ae_1cf1_11eb_92ff_f82819a27b0crow11_col0\" class=\"data row11 col0\" >Transformed Train Set</td>\n",
       "                        <td id=\"T_2ca639ae_1cf1_11eb_92ff_f82819a27b0crow11_col1\" class=\"data row11 col1\" >(664, 2681)</td>\n",
       "            </tr>\n",
       "            <tr>\n",
       "                        <th id=\"T_2ca639ae_1cf1_11eb_92ff_f82819a27b0clevel0_row12\" class=\"row_heading level0 row12\" >12</th>\n",
       "                        <td id=\"T_2ca639ae_1cf1_11eb_92ff_f82819a27b0crow12_col0\" class=\"data row12 col0\" >Transformed Test Set</td>\n",
       "                        <td id=\"T_2ca639ae_1cf1_11eb_92ff_f82819a27b0crow12_col1\" class=\"data row12 col1\" >(286, 2681)</td>\n",
       "            </tr>\n",
       "            <tr>\n",
       "                        <th id=\"T_2ca639ae_1cf1_11eb_92ff_f82819a27b0clevel0_row13\" class=\"row_heading level0 row13\" >13</th>\n",
       "                        <td id=\"T_2ca639ae_1cf1_11eb_92ff_f82819a27b0crow13_col0\" class=\"data row13 col0\" >Numeric Imputer </td>\n",
       "                        <td id=\"T_2ca639ae_1cf1_11eb_92ff_f82819a27b0crow13_col1\" class=\"data row13 col1\" >mean</td>\n",
       "            </tr>\n",
       "            <tr>\n",
       "                        <th id=\"T_2ca639ae_1cf1_11eb_92ff_f82819a27b0clevel0_row14\" class=\"row_heading level0 row14\" >14</th>\n",
       "                        <td id=\"T_2ca639ae_1cf1_11eb_92ff_f82819a27b0crow14_col0\" class=\"data row14 col0\" >Categorical Imputer </td>\n",
       "                        <td id=\"T_2ca639ae_1cf1_11eb_92ff_f82819a27b0crow14_col1\" class=\"data row14 col1\" >constant</td>\n",
       "            </tr>\n",
       "            <tr>\n",
       "                        <th id=\"T_2ca639ae_1cf1_11eb_92ff_f82819a27b0clevel0_row15\" class=\"row_heading level0 row15\" >15</th>\n",
       "                        <td id=\"T_2ca639ae_1cf1_11eb_92ff_f82819a27b0crow15_col0\" class=\"data row15 col0\" >Normalize </td>\n",
       "                        <td id=\"T_2ca639ae_1cf1_11eb_92ff_f82819a27b0crow15_col1\" class=\"data row15 col1\" >False</td>\n",
       "            </tr>\n",
       "            <tr>\n",
       "                        <th id=\"T_2ca639ae_1cf1_11eb_92ff_f82819a27b0clevel0_row16\" class=\"row_heading level0 row16\" >16</th>\n",
       "                        <td id=\"T_2ca639ae_1cf1_11eb_92ff_f82819a27b0crow16_col0\" class=\"data row16 col0\" >Normalize Method </td>\n",
       "                        <td id=\"T_2ca639ae_1cf1_11eb_92ff_f82819a27b0crow16_col1\" class=\"data row16 col1\" >None</td>\n",
       "            </tr>\n",
       "            <tr>\n",
       "                        <th id=\"T_2ca639ae_1cf1_11eb_92ff_f82819a27b0clevel0_row17\" class=\"row_heading level0 row17\" >17</th>\n",
       "                        <td id=\"T_2ca639ae_1cf1_11eb_92ff_f82819a27b0crow17_col0\" class=\"data row17 col0\" >Transformation </td>\n",
       "                        <td id=\"T_2ca639ae_1cf1_11eb_92ff_f82819a27b0crow17_col1\" class=\"data row17 col1\" >False</td>\n",
       "            </tr>\n",
       "            <tr>\n",
       "                        <th id=\"T_2ca639ae_1cf1_11eb_92ff_f82819a27b0clevel0_row18\" class=\"row_heading level0 row18\" >18</th>\n",
       "                        <td id=\"T_2ca639ae_1cf1_11eb_92ff_f82819a27b0crow18_col0\" class=\"data row18 col0\" >Transformation Method </td>\n",
       "                        <td id=\"T_2ca639ae_1cf1_11eb_92ff_f82819a27b0crow18_col1\" class=\"data row18 col1\" >None</td>\n",
       "            </tr>\n",
       "            <tr>\n",
       "                        <th id=\"T_2ca639ae_1cf1_11eb_92ff_f82819a27b0clevel0_row19\" class=\"row_heading level0 row19\" >19</th>\n",
       "                        <td id=\"T_2ca639ae_1cf1_11eb_92ff_f82819a27b0crow19_col0\" class=\"data row19 col0\" >PCA </td>\n",
       "                        <td id=\"T_2ca639ae_1cf1_11eb_92ff_f82819a27b0crow19_col1\" class=\"data row19 col1\" >False</td>\n",
       "            </tr>\n",
       "            <tr>\n",
       "                        <th id=\"T_2ca639ae_1cf1_11eb_92ff_f82819a27b0clevel0_row20\" class=\"row_heading level0 row20\" >20</th>\n",
       "                        <td id=\"T_2ca639ae_1cf1_11eb_92ff_f82819a27b0crow20_col0\" class=\"data row20 col0\" >PCA Method </td>\n",
       "                        <td id=\"T_2ca639ae_1cf1_11eb_92ff_f82819a27b0crow20_col1\" class=\"data row20 col1\" >None</td>\n",
       "            </tr>\n",
       "            <tr>\n",
       "                        <th id=\"T_2ca639ae_1cf1_11eb_92ff_f82819a27b0clevel0_row21\" class=\"row_heading level0 row21\" >21</th>\n",
       "                        <td id=\"T_2ca639ae_1cf1_11eb_92ff_f82819a27b0crow21_col0\" class=\"data row21 col0\" >PCA Components </td>\n",
       "                        <td id=\"T_2ca639ae_1cf1_11eb_92ff_f82819a27b0crow21_col1\" class=\"data row21 col1\" >None</td>\n",
       "            </tr>\n",
       "            <tr>\n",
       "                        <th id=\"T_2ca639ae_1cf1_11eb_92ff_f82819a27b0clevel0_row22\" class=\"row_heading level0 row22\" >22</th>\n",
       "                        <td id=\"T_2ca639ae_1cf1_11eb_92ff_f82819a27b0crow22_col0\" class=\"data row22 col0\" >Ignore Low Variance </td>\n",
       "                        <td id=\"T_2ca639ae_1cf1_11eb_92ff_f82819a27b0crow22_col1\" class=\"data row22 col1\" >False</td>\n",
       "            </tr>\n",
       "            <tr>\n",
       "                        <th id=\"T_2ca639ae_1cf1_11eb_92ff_f82819a27b0clevel0_row23\" class=\"row_heading level0 row23\" >23</th>\n",
       "                        <td id=\"T_2ca639ae_1cf1_11eb_92ff_f82819a27b0crow23_col0\" class=\"data row23 col0\" >Combine Rare Levels </td>\n",
       "                        <td id=\"T_2ca639ae_1cf1_11eb_92ff_f82819a27b0crow23_col1\" class=\"data row23 col1\" >False</td>\n",
       "            </tr>\n",
       "            <tr>\n",
       "                        <th id=\"T_2ca639ae_1cf1_11eb_92ff_f82819a27b0clevel0_row24\" class=\"row_heading level0 row24\" >24</th>\n",
       "                        <td id=\"T_2ca639ae_1cf1_11eb_92ff_f82819a27b0crow24_col0\" class=\"data row24 col0\" >Rare Level Threshold </td>\n",
       "                        <td id=\"T_2ca639ae_1cf1_11eb_92ff_f82819a27b0crow24_col1\" class=\"data row24 col1\" >None</td>\n",
       "            </tr>\n",
       "            <tr>\n",
       "                        <th id=\"T_2ca639ae_1cf1_11eb_92ff_f82819a27b0clevel0_row25\" class=\"row_heading level0 row25\" >25</th>\n",
       "                        <td id=\"T_2ca639ae_1cf1_11eb_92ff_f82819a27b0crow25_col0\" class=\"data row25 col0\" >Numeric Binning </td>\n",
       "                        <td id=\"T_2ca639ae_1cf1_11eb_92ff_f82819a27b0crow25_col1\" class=\"data row25 col1\" >False</td>\n",
       "            </tr>\n",
       "            <tr>\n",
       "                        <th id=\"T_2ca639ae_1cf1_11eb_92ff_f82819a27b0clevel0_row26\" class=\"row_heading level0 row26\" >26</th>\n",
       "                        <td id=\"T_2ca639ae_1cf1_11eb_92ff_f82819a27b0crow26_col0\" class=\"data row26 col0\" >Remove Outliers </td>\n",
       "                        <td id=\"T_2ca639ae_1cf1_11eb_92ff_f82819a27b0crow26_col1\" class=\"data row26 col1\" >False</td>\n",
       "            </tr>\n",
       "            <tr>\n",
       "                        <th id=\"T_2ca639ae_1cf1_11eb_92ff_f82819a27b0clevel0_row27\" class=\"row_heading level0 row27\" >27</th>\n",
       "                        <td id=\"T_2ca639ae_1cf1_11eb_92ff_f82819a27b0crow27_col0\" class=\"data row27 col0\" >Outliers Threshold </td>\n",
       "                        <td id=\"T_2ca639ae_1cf1_11eb_92ff_f82819a27b0crow27_col1\" class=\"data row27 col1\" >None</td>\n",
       "            </tr>\n",
       "            <tr>\n",
       "                        <th id=\"T_2ca639ae_1cf1_11eb_92ff_f82819a27b0clevel0_row28\" class=\"row_heading level0 row28\" >28</th>\n",
       "                        <td id=\"T_2ca639ae_1cf1_11eb_92ff_f82819a27b0crow28_col0\" class=\"data row28 col0\" >Remove Multicollinearity </td>\n",
       "                        <td id=\"T_2ca639ae_1cf1_11eb_92ff_f82819a27b0crow28_col1\" class=\"data row28 col1\" >False</td>\n",
       "            </tr>\n",
       "            <tr>\n",
       "                        <th id=\"T_2ca639ae_1cf1_11eb_92ff_f82819a27b0clevel0_row29\" class=\"row_heading level0 row29\" >29</th>\n",
       "                        <td id=\"T_2ca639ae_1cf1_11eb_92ff_f82819a27b0crow29_col0\" class=\"data row29 col0\" >Multicollinearity Threshold </td>\n",
       "                        <td id=\"T_2ca639ae_1cf1_11eb_92ff_f82819a27b0crow29_col1\" class=\"data row29 col1\" >None</td>\n",
       "            </tr>\n",
       "            <tr>\n",
       "                        <th id=\"T_2ca639ae_1cf1_11eb_92ff_f82819a27b0clevel0_row30\" class=\"row_heading level0 row30\" >30</th>\n",
       "                        <td id=\"T_2ca639ae_1cf1_11eb_92ff_f82819a27b0crow30_col0\" class=\"data row30 col0\" >Clustering </td>\n",
       "                        <td id=\"T_2ca639ae_1cf1_11eb_92ff_f82819a27b0crow30_col1\" class=\"data row30 col1\" >False</td>\n",
       "            </tr>\n",
       "            <tr>\n",
       "                        <th id=\"T_2ca639ae_1cf1_11eb_92ff_f82819a27b0clevel0_row31\" class=\"row_heading level0 row31\" >31</th>\n",
       "                        <td id=\"T_2ca639ae_1cf1_11eb_92ff_f82819a27b0crow31_col0\" class=\"data row31 col0\" >Clustering Iteration </td>\n",
       "                        <td id=\"T_2ca639ae_1cf1_11eb_92ff_f82819a27b0crow31_col1\" class=\"data row31 col1\" >None</td>\n",
       "            </tr>\n",
       "            <tr>\n",
       "                        <th id=\"T_2ca639ae_1cf1_11eb_92ff_f82819a27b0clevel0_row32\" class=\"row_heading level0 row32\" >32</th>\n",
       "                        <td id=\"T_2ca639ae_1cf1_11eb_92ff_f82819a27b0crow32_col0\" class=\"data row32 col0\" >Polynomial Features </td>\n",
       "                        <td id=\"T_2ca639ae_1cf1_11eb_92ff_f82819a27b0crow32_col1\" class=\"data row32 col1\" >False</td>\n",
       "            </tr>\n",
       "            <tr>\n",
       "                        <th id=\"T_2ca639ae_1cf1_11eb_92ff_f82819a27b0clevel0_row33\" class=\"row_heading level0 row33\" >33</th>\n",
       "                        <td id=\"T_2ca639ae_1cf1_11eb_92ff_f82819a27b0crow33_col0\" class=\"data row33 col0\" >Polynomial Degree </td>\n",
       "                        <td id=\"T_2ca639ae_1cf1_11eb_92ff_f82819a27b0crow33_col1\" class=\"data row33 col1\" >None</td>\n",
       "            </tr>\n",
       "            <tr>\n",
       "                        <th id=\"T_2ca639ae_1cf1_11eb_92ff_f82819a27b0clevel0_row34\" class=\"row_heading level0 row34\" >34</th>\n",
       "                        <td id=\"T_2ca639ae_1cf1_11eb_92ff_f82819a27b0crow34_col0\" class=\"data row34 col0\" >Trignometry Features </td>\n",
       "                        <td id=\"T_2ca639ae_1cf1_11eb_92ff_f82819a27b0crow34_col1\" class=\"data row34 col1\" >False</td>\n",
       "            </tr>\n",
       "            <tr>\n",
       "                        <th id=\"T_2ca639ae_1cf1_11eb_92ff_f82819a27b0clevel0_row35\" class=\"row_heading level0 row35\" >35</th>\n",
       "                        <td id=\"T_2ca639ae_1cf1_11eb_92ff_f82819a27b0crow35_col0\" class=\"data row35 col0\" >Polynomial Threshold </td>\n",
       "                        <td id=\"T_2ca639ae_1cf1_11eb_92ff_f82819a27b0crow35_col1\" class=\"data row35 col1\" >None</td>\n",
       "            </tr>\n",
       "            <tr>\n",
       "                        <th id=\"T_2ca639ae_1cf1_11eb_92ff_f82819a27b0clevel0_row36\" class=\"row_heading level0 row36\" >36</th>\n",
       "                        <td id=\"T_2ca639ae_1cf1_11eb_92ff_f82819a27b0crow36_col0\" class=\"data row36 col0\" >Group Features </td>\n",
       "                        <td id=\"T_2ca639ae_1cf1_11eb_92ff_f82819a27b0crow36_col1\" class=\"data row36 col1\" >False</td>\n",
       "            </tr>\n",
       "            <tr>\n",
       "                        <th id=\"T_2ca639ae_1cf1_11eb_92ff_f82819a27b0clevel0_row37\" class=\"row_heading level0 row37\" >37</th>\n",
       "                        <td id=\"T_2ca639ae_1cf1_11eb_92ff_f82819a27b0crow37_col0\" class=\"data row37 col0\" >Feature Selection </td>\n",
       "                        <td id=\"T_2ca639ae_1cf1_11eb_92ff_f82819a27b0crow37_col1\" class=\"data row37 col1\" >False</td>\n",
       "            </tr>\n",
       "            <tr>\n",
       "                        <th id=\"T_2ca639ae_1cf1_11eb_92ff_f82819a27b0clevel0_row38\" class=\"row_heading level0 row38\" >38</th>\n",
       "                        <td id=\"T_2ca639ae_1cf1_11eb_92ff_f82819a27b0crow38_col0\" class=\"data row38 col0\" >Features Selection Threshold </td>\n",
       "                        <td id=\"T_2ca639ae_1cf1_11eb_92ff_f82819a27b0crow38_col1\" class=\"data row38 col1\" >None</td>\n",
       "            </tr>\n",
       "            <tr>\n",
       "                        <th id=\"T_2ca639ae_1cf1_11eb_92ff_f82819a27b0clevel0_row39\" class=\"row_heading level0 row39\" >39</th>\n",
       "                        <td id=\"T_2ca639ae_1cf1_11eb_92ff_f82819a27b0crow39_col0\" class=\"data row39 col0\" >Feature Interaction </td>\n",
       "                        <td id=\"T_2ca639ae_1cf1_11eb_92ff_f82819a27b0crow39_col1\" class=\"data row39 col1\" >False</td>\n",
       "            </tr>\n",
       "            <tr>\n",
       "                        <th id=\"T_2ca639ae_1cf1_11eb_92ff_f82819a27b0clevel0_row40\" class=\"row_heading level0 row40\" >40</th>\n",
       "                        <td id=\"T_2ca639ae_1cf1_11eb_92ff_f82819a27b0crow40_col0\" class=\"data row40 col0\" >Feature Ratio </td>\n",
       "                        <td id=\"T_2ca639ae_1cf1_11eb_92ff_f82819a27b0crow40_col1\" class=\"data row40 col1\" >False</td>\n",
       "            </tr>\n",
       "            <tr>\n",
       "                        <th id=\"T_2ca639ae_1cf1_11eb_92ff_f82819a27b0clevel0_row41\" class=\"row_heading level0 row41\" >41</th>\n",
       "                        <td id=\"T_2ca639ae_1cf1_11eb_92ff_f82819a27b0crow41_col0\" class=\"data row41 col0\" >Interaction Threshold </td>\n",
       "                        <td id=\"T_2ca639ae_1cf1_11eb_92ff_f82819a27b0crow41_col1\" class=\"data row41 col1\" >None</td>\n",
       "            </tr>\n",
       "            <tr>\n",
       "                        <th id=\"T_2ca639ae_1cf1_11eb_92ff_f82819a27b0clevel0_row42\" class=\"row_heading level0 row42\" >42</th>\n",
       "                        <td id=\"T_2ca639ae_1cf1_11eb_92ff_f82819a27b0crow42_col0\" class=\"data row42 col0\" >Fix Imbalance</td>\n",
       "                        <td id=\"T_2ca639ae_1cf1_11eb_92ff_f82819a27b0crow42_col1\" class=\"data row42 col1\" >False</td>\n",
       "            </tr>\n",
       "            <tr>\n",
       "                        <th id=\"T_2ca639ae_1cf1_11eb_92ff_f82819a27b0clevel0_row43\" class=\"row_heading level0 row43\" >43</th>\n",
       "                        <td id=\"T_2ca639ae_1cf1_11eb_92ff_f82819a27b0crow43_col0\" class=\"data row43 col0\" >Fix Imbalance Method</td>\n",
       "                        <td id=\"T_2ca639ae_1cf1_11eb_92ff_f82819a27b0crow43_col1\" class=\"data row43 col1\" >SMOTE</td>\n",
       "            </tr>\n",
       "    </tbody></table>"
      ],
      "text/plain": [
       "<pandas.io.formats.style.Styler at 0x285cb0155c8>"
      ]
     },
     "metadata": {},
     "output_type": "display_data"
    }
   ],
   "source": [
    "from pycaret.classification import *\n",
    "exp_clf101 = setup(data = data, target = 'sentiment', session_id=123)"
   ]
  },
  {
   "cell_type": "code",
   "execution_count": 31,
   "metadata": {},
   "outputs": [
    {
     "data": {
      "application/vnd.jupyter.widget-view+json": {
       "model_id": "1592a45fbcae45dd99b38f7ce55d4c81",
       "version_major": 2,
       "version_minor": 0
      },
      "text/plain": [
       "IntProgress(value=0, description='Processing: ', max=176)"
      ]
     },
     "metadata": {},
     "output_type": "display_data"
    },
    {
     "data": {
      "text/html": [
       "<div>\n",
       "<style scoped>\n",
       "    .dataframe tbody tr th:only-of-type {\n",
       "        vertical-align: middle;\n",
       "    }\n",
       "\n",
       "    .dataframe tbody tr th {\n",
       "        vertical-align: top;\n",
       "    }\n",
       "\n",
       "    .dataframe thead th {\n",
       "        text-align: right;\n",
       "    }\n",
       "</style>\n",
       "<table border=\"1\" class=\"dataframe\">\n",
       "  <thead>\n",
       "    <tr style=\"text-align: right;\">\n",
       "      <th></th>\n",
       "      <th></th>\n",
       "      <th></th>\n",
       "    </tr>\n",
       "    <tr>\n",
       "      <th></th>\n",
       "      <th></th>\n",
       "      <th></th>\n",
       "    </tr>\n",
       "  </thead>\n",
       "  <tbody>\n",
       "    <tr>\n",
       "      <th>Initiated</th>\n",
       "      <td>. . . . . . . . . . . . . . . . . .</td>\n",
       "      <td>01:55:30</td>\n",
       "    </tr>\n",
       "    <tr>\n",
       "      <th>Status</th>\n",
       "      <td>. . . . . . . . . . . . . . . . . .</td>\n",
       "      <td>Finalizing Model</td>\n",
       "    </tr>\n",
       "    <tr>\n",
       "      <th>ETC</th>\n",
       "      <td>. . . . . . . . . . . . . . . . . .</td>\n",
       "      <td>Almost Finished</td>\n",
       "    </tr>\n",
       "  </tbody>\n",
       "</table>\n",
       "</div>"
      ],
      "text/plain": [
       "                                                                \n",
       "                                                                \n",
       "Initiated  . . . . . . . . . . . . . . . . . .          01:55:30\n",
       "Status     . . . . . . . . . . . . . . . . . .  Finalizing Model\n",
       "ETC        . . . . . . . . . . . . . . . . . .   Almost Finished"
      ]
     },
     "metadata": {},
     "output_type": "display_data"
    },
    {
     "data": {
      "text/html": [
       "<div>\n",
       "<style scoped>\n",
       "    .dataframe tbody tr th:only-of-type {\n",
       "        vertical-align: middle;\n",
       "    }\n",
       "\n",
       "    .dataframe tbody tr th {\n",
       "        vertical-align: top;\n",
       "    }\n",
       "\n",
       "    .dataframe thead th {\n",
       "        text-align: right;\n",
       "    }\n",
       "</style>\n",
       "<table border=\"1\" class=\"dataframe\">\n",
       "  <thead>\n",
       "    <tr style=\"text-align: right;\">\n",
       "      <th></th>\n",
       "      <th>Model</th>\n",
       "      <th>Accuracy</th>\n",
       "      <th>AUC</th>\n",
       "      <th>Recall</th>\n",
       "      <th>Prec.</th>\n",
       "      <th>F1</th>\n",
       "      <th>Kappa</th>\n",
       "      <th>MCC</th>\n",
       "      <th>TT (Sec)</th>\n",
       "    </tr>\n",
       "  </thead>\n",
       "  <tbody>\n",
       "    <tr>\n",
       "      <th>0</th>\n",
       "      <td>Gradient Boosting Classifier</td>\n",
       "      <td>0.6128</td>\n",
       "      <td>0.6256</td>\n",
       "      <td>0.1568</td>\n",
       "      <td>0.6653</td>\n",
       "      <td>0.2442</td>\n",
       "      <td>0.1161</td>\n",
       "      <td>0.1763</td>\n",
       "      <td>1.5084</td>\n",
       "    </tr>\n",
       "    <tr>\n",
       "      <th>1</th>\n",
       "      <td>Random Forest Classifier</td>\n",
       "      <td>0.5979</td>\n",
       "      <td>0.5720</td>\n",
       "      <td>0.0499</td>\n",
       "      <td>0.7000</td>\n",
       "      <td>0.0915</td>\n",
       "      <td>0.0568</td>\n",
       "      <td>0.1394</td>\n",
       "      <td>0.1444</td>\n",
       "    </tr>\n",
       "    <tr>\n",
       "      <th>2</th>\n",
       "      <td>Ridge Classifier</td>\n",
       "      <td>0.5844</td>\n",
       "      <td>0.0000</td>\n",
       "      <td>0.1500</td>\n",
       "      <td>0.4117</td>\n",
       "      <td>0.1954</td>\n",
       "      <td>0.0576</td>\n",
       "      <td>0.0799</td>\n",
       "      <td>0.1493</td>\n",
       "    </tr>\n",
       "    <tr>\n",
       "      <th>3</th>\n",
       "      <td>Ada Boost Classifier</td>\n",
       "      <td>0.5843</td>\n",
       "      <td>0.6270</td>\n",
       "      <td>0.3454</td>\n",
       "      <td>0.5227</td>\n",
       "      <td>0.4100</td>\n",
       "      <td>0.1107</td>\n",
       "      <td>0.1193</td>\n",
       "      <td>0.8751</td>\n",
       "    </tr>\n",
       "    <tr>\n",
       "      <th>4</th>\n",
       "      <td>Logistic Regression</td>\n",
       "      <td>0.5768</td>\n",
       "      <td>0.4768</td>\n",
       "      <td>0.0000</td>\n",
       "      <td>0.0000</td>\n",
       "      <td>0.0000</td>\n",
       "      <td>0.0000</td>\n",
       "      <td>0.0000</td>\n",
       "      <td>0.0604</td>\n",
       "    </tr>\n",
       "    <tr>\n",
       "      <th>5</th>\n",
       "      <td>Naive Bayes</td>\n",
       "      <td>0.5768</td>\n",
       "      <td>0.5235</td>\n",
       "      <td>0.0000</td>\n",
       "      <td>0.0000</td>\n",
       "      <td>0.0000</td>\n",
       "      <td>0.0000</td>\n",
       "      <td>0.0000</td>\n",
       "      <td>0.0602</td>\n",
       "    </tr>\n",
       "    <tr>\n",
       "      <th>6</th>\n",
       "      <td>Decision Tree Classifier</td>\n",
       "      <td>0.5768</td>\n",
       "      <td>0.5571</td>\n",
       "      <td>0.4275</td>\n",
       "      <td>0.4997</td>\n",
       "      <td>0.4588</td>\n",
       "      <td>0.1162</td>\n",
       "      <td>0.1173</td>\n",
       "      <td>0.0819</td>\n",
       "    </tr>\n",
       "    <tr>\n",
       "      <th>7</th>\n",
       "      <td>K Neighbors Classifier</td>\n",
       "      <td>0.5709</td>\n",
       "      <td>0.5615</td>\n",
       "      <td>0.4341</td>\n",
       "      <td>0.4942</td>\n",
       "      <td>0.4602</td>\n",
       "      <td>0.1072</td>\n",
       "      <td>0.1084</td>\n",
       "      <td>0.2595</td>\n",
       "    </tr>\n",
       "    <tr>\n",
       "      <th>8</th>\n",
       "      <td>SVM - Linear Kernel</td>\n",
       "      <td>0.4846</td>\n",
       "      <td>0.0000</td>\n",
       "      <td>0.6000</td>\n",
       "      <td>0.2539</td>\n",
       "      <td>0.3568</td>\n",
       "      <td>0.0000</td>\n",
       "      <td>0.0000</td>\n",
       "      <td>0.2131</td>\n",
       "    </tr>\n",
       "    <tr>\n",
       "      <th>9</th>\n",
       "      <td>Quadratic Discriminant Analysis</td>\n",
       "      <td>0.4232</td>\n",
       "      <td>0.5000</td>\n",
       "      <td>1.0000</td>\n",
       "      <td>0.4232</td>\n",
       "      <td>0.5947</td>\n",
       "      <td>0.0000</td>\n",
       "      <td>0.0000</td>\n",
       "      <td>0.1979</td>\n",
       "    </tr>\n",
       "  </tbody>\n",
       "</table>\n",
       "</div>"
      ],
      "text/plain": [
       "                             Model  Accuracy     AUC  Recall   Prec.      F1  \\\n",
       "0     Gradient Boosting Classifier    0.6128  0.6256  0.1568  0.6653  0.2442   \n",
       "1         Random Forest Classifier    0.5979  0.5720  0.0499  0.7000  0.0915   \n",
       "2                 Ridge Classifier    0.5844  0.0000  0.1500  0.4117  0.1954   \n",
       "3             Ada Boost Classifier    0.5843  0.6270  0.3454  0.5227  0.4100   \n",
       "4              Logistic Regression    0.5768  0.4768  0.0000  0.0000  0.0000   \n",
       "5                      Naive Bayes    0.5768  0.5235  0.0000  0.0000  0.0000   \n",
       "6         Decision Tree Classifier    0.5768  0.5571  0.4275  0.4997  0.4588   \n",
       "7           K Neighbors Classifier    0.5709  0.5615  0.4341  0.4942  0.4602   \n",
       "8              SVM - Linear Kernel    0.4846  0.0000  0.6000  0.2539  0.3568   \n",
       "9  Quadratic Discriminant Analysis    0.4232  0.5000  1.0000  0.4232  0.5947   \n",
       "\n",
       "    Kappa     MCC  TT (Sec)  \n",
       "0  0.1161  0.1763    1.5084  \n",
       "1  0.0568  0.1394    0.1444  \n",
       "2  0.0576  0.0799    0.1493  \n",
       "3  0.1107  0.1193    0.8751  \n",
       "4  0.0000  0.0000    0.0604  \n",
       "5  0.0000  0.0000    0.0602  \n",
       "6  0.1162  0.1173    0.0819  \n",
       "7  0.1072  0.1084    0.2595  \n",
       "8  0.0000  0.0000    0.2131  \n",
       "9  0.0000  0.0000    0.1979  "
      ]
     },
     "metadata": {},
     "output_type": "display_data"
    },
    {
     "ename": "LinAlgError",
     "evalue": "SVD did not converge",
     "output_type": "error",
     "traceback": [
      "\u001b[1;31m---------------------------------------------------------------------------\u001b[0m",
      "\u001b[1;31mLinAlgError\u001b[0m                               Traceback (most recent call last)",
      "\u001b[1;32m<ipython-input-31-9ff5ccfe3077>\u001b[0m in \u001b[0;36m<module>\u001b[1;34m\u001b[0m\n\u001b[1;32m----> 1\u001b[1;33m \u001b[0mcompare_models\u001b[0m\u001b[1;33m(\u001b[0m\u001b[1;33m)\u001b[0m\u001b[1;33m\u001b[0m\u001b[1;33m\u001b[0m\u001b[0m\n\u001b[0m",
      "\u001b[1;32m~\\Anaconda3\\lib\\site-packages\\pycaret\\classification.py\u001b[0m in \u001b[0;36mcompare_models\u001b[1;34m(exclude, include, fold, round, sort, n_select, budget_time, turbo, verbose)\u001b[0m\n\u001b[0;32m   2455\u001b[0m                 \u001b[0mtime_start\u001b[0m\u001b[1;33m=\u001b[0m\u001b[0mtime\u001b[0m\u001b[1;33m.\u001b[0m\u001b[0mtime\u001b[0m\u001b[1;33m(\u001b[0m\u001b[1;33m)\u001b[0m\u001b[1;33m\u001b[0m\u001b[1;33m\u001b[0m\u001b[0m\n\u001b[0;32m   2456\u001b[0m                 \u001b[0mlogger\u001b[0m\u001b[1;33m.\u001b[0m\u001b[0minfo\u001b[0m\u001b[1;33m(\u001b[0m\u001b[1;34m\"Fitting Model\"\u001b[0m\u001b[1;33m)\u001b[0m\u001b[1;33m\u001b[0m\u001b[1;33m\u001b[0m\u001b[0m\n\u001b[1;32m-> 2457\u001b[1;33m                 \u001b[0mmodel\u001b[0m\u001b[1;33m.\u001b[0m\u001b[0mfit\u001b[0m\u001b[1;33m(\u001b[0m\u001b[0mXtrain\u001b[0m\u001b[1;33m,\u001b[0m\u001b[0mytrain\u001b[0m\u001b[1;33m)\u001b[0m\u001b[1;33m\u001b[0m\u001b[1;33m\u001b[0m\u001b[0m\n\u001b[0m\u001b[0;32m   2458\u001b[0m                 \u001b[0mlogger\u001b[0m\u001b[1;33m.\u001b[0m\u001b[0minfo\u001b[0m\u001b[1;33m(\u001b[0m\u001b[1;34m\"Evaluating Metrics\"\u001b[0m\u001b[1;33m)\u001b[0m\u001b[1;33m\u001b[0m\u001b[1;33m\u001b[0m\u001b[0m\n\u001b[0;32m   2459\u001b[0m                 \u001b[0mtime_end\u001b[0m\u001b[1;33m=\u001b[0m\u001b[0mtime\u001b[0m\u001b[1;33m.\u001b[0m\u001b[0mtime\u001b[0m\u001b[1;33m(\u001b[0m\u001b[1;33m)\u001b[0m\u001b[1;33m\u001b[0m\u001b[1;33m\u001b[0m\u001b[0m\n",
      "\u001b[1;32m~\\Anaconda3\\lib\\site-packages\\sklearn\\discriminant_analysis.py\u001b[0m in \u001b[0;36mfit\u001b[1;34m(self, X, y)\u001b[0m\n\u001b[0;32m    462\u001b[0m             \u001b[1;32mif\u001b[0m \u001b[0mself\u001b[0m\u001b[1;33m.\u001b[0m\u001b[0mshrinkage\u001b[0m \u001b[1;32mis\u001b[0m \u001b[1;32mnot\u001b[0m \u001b[1;32mNone\u001b[0m\u001b[1;33m:\u001b[0m\u001b[1;33m\u001b[0m\u001b[1;33m\u001b[0m\u001b[0m\n\u001b[0;32m    463\u001b[0m                 \u001b[1;32mraise\u001b[0m \u001b[0mNotImplementedError\u001b[0m\u001b[1;33m(\u001b[0m\u001b[1;34m'shrinkage not supported'\u001b[0m\u001b[1;33m)\u001b[0m\u001b[1;33m\u001b[0m\u001b[1;33m\u001b[0m\u001b[0m\n\u001b[1;32m--> 464\u001b[1;33m             \u001b[0mself\u001b[0m\u001b[1;33m.\u001b[0m\u001b[0m_solve_svd\u001b[0m\u001b[1;33m(\u001b[0m\u001b[0mX\u001b[0m\u001b[1;33m,\u001b[0m \u001b[0my\u001b[0m\u001b[1;33m)\u001b[0m\u001b[1;33m\u001b[0m\u001b[1;33m\u001b[0m\u001b[0m\n\u001b[0m\u001b[0;32m    465\u001b[0m         \u001b[1;32melif\u001b[0m \u001b[0mself\u001b[0m\u001b[1;33m.\u001b[0m\u001b[0msolver\u001b[0m \u001b[1;33m==\u001b[0m \u001b[1;34m'lsqr'\u001b[0m\u001b[1;33m:\u001b[0m\u001b[1;33m\u001b[0m\u001b[1;33m\u001b[0m\u001b[0m\n\u001b[0;32m    466\u001b[0m             \u001b[0mself\u001b[0m\u001b[1;33m.\u001b[0m\u001b[0m_solve_lsqr\u001b[0m\u001b[1;33m(\u001b[0m\u001b[0mX\u001b[0m\u001b[1;33m,\u001b[0m \u001b[0my\u001b[0m\u001b[1;33m,\u001b[0m \u001b[0mshrinkage\u001b[0m\u001b[1;33m=\u001b[0m\u001b[0mself\u001b[0m\u001b[1;33m.\u001b[0m\u001b[0mshrinkage\u001b[0m\u001b[1;33m)\u001b[0m\u001b[1;33m\u001b[0m\u001b[1;33m\u001b[0m\u001b[0m\n",
      "\u001b[1;32m~\\Anaconda3\\lib\\site-packages\\sklearn\\discriminant_analysis.py\u001b[0m in \u001b[0;36m_solve_svd\u001b[1;34m(self, X, y)\u001b[0m\n\u001b[0;32m    379\u001b[0m         \u001b[0mX\u001b[0m \u001b[1;33m=\u001b[0m \u001b[0mnp\u001b[0m\u001b[1;33m.\u001b[0m\u001b[0msqrt\u001b[0m\u001b[1;33m(\u001b[0m\u001b[0mfac\u001b[0m\u001b[1;33m)\u001b[0m \u001b[1;33m*\u001b[0m \u001b[1;33m(\u001b[0m\u001b[0mXc\u001b[0m \u001b[1;33m/\u001b[0m \u001b[0mstd\u001b[0m\u001b[1;33m)\u001b[0m\u001b[1;33m\u001b[0m\u001b[1;33m\u001b[0m\u001b[0m\n\u001b[0;32m    380\u001b[0m         \u001b[1;31m# SVD of centered (within)scaled data\u001b[0m\u001b[1;33m\u001b[0m\u001b[1;33m\u001b[0m\u001b[1;33m\u001b[0m\u001b[0m\n\u001b[1;32m--> 381\u001b[1;33m         \u001b[0mU\u001b[0m\u001b[1;33m,\u001b[0m \u001b[0mS\u001b[0m\u001b[1;33m,\u001b[0m \u001b[0mV\u001b[0m \u001b[1;33m=\u001b[0m \u001b[0mlinalg\u001b[0m\u001b[1;33m.\u001b[0m\u001b[0msvd\u001b[0m\u001b[1;33m(\u001b[0m\u001b[0mX\u001b[0m\u001b[1;33m,\u001b[0m \u001b[0mfull_matrices\u001b[0m\u001b[1;33m=\u001b[0m\u001b[1;32mFalse\u001b[0m\u001b[1;33m)\u001b[0m\u001b[1;33m\u001b[0m\u001b[1;33m\u001b[0m\u001b[0m\n\u001b[0m\u001b[0;32m    382\u001b[0m \u001b[1;33m\u001b[0m\u001b[0m\n\u001b[0;32m    383\u001b[0m         \u001b[0mrank\u001b[0m \u001b[1;33m=\u001b[0m \u001b[0mnp\u001b[0m\u001b[1;33m.\u001b[0m\u001b[0msum\u001b[0m\u001b[1;33m(\u001b[0m\u001b[0mS\u001b[0m \u001b[1;33m>\u001b[0m \u001b[0mself\u001b[0m\u001b[1;33m.\u001b[0m\u001b[0mtol\u001b[0m\u001b[1;33m)\u001b[0m\u001b[1;33m\u001b[0m\u001b[1;33m\u001b[0m\u001b[0m\n",
      "\u001b[1;32m~\\Anaconda3\\lib\\site-packages\\scipy\\linalg\\decomp_svd.py\u001b[0m in \u001b[0;36msvd\u001b[1;34m(a, full_matrices, compute_uv, overwrite_a, check_finite, lapack_driver)\u001b[0m\n\u001b[0;32m    130\u001b[0m \u001b[1;33m\u001b[0m\u001b[0m\n\u001b[0;32m    131\u001b[0m     \u001b[1;32mif\u001b[0m \u001b[0minfo\u001b[0m \u001b[1;33m>\u001b[0m \u001b[1;36m0\u001b[0m\u001b[1;33m:\u001b[0m\u001b[1;33m\u001b[0m\u001b[1;33m\u001b[0m\u001b[0m\n\u001b[1;32m--> 132\u001b[1;33m         \u001b[1;32mraise\u001b[0m \u001b[0mLinAlgError\u001b[0m\u001b[1;33m(\u001b[0m\u001b[1;34m\"SVD did not converge\"\u001b[0m\u001b[1;33m)\u001b[0m\u001b[1;33m\u001b[0m\u001b[1;33m\u001b[0m\u001b[0m\n\u001b[0m\u001b[0;32m    133\u001b[0m     \u001b[1;32mif\u001b[0m \u001b[0minfo\u001b[0m \u001b[1;33m<\u001b[0m \u001b[1;36m0\u001b[0m\u001b[1;33m:\u001b[0m\u001b[1;33m\u001b[0m\u001b[1;33m\u001b[0m\u001b[0m\n\u001b[0;32m    134\u001b[0m         raise ValueError('illegal value in %d-th argument of internal gesdd'\n",
      "\u001b[1;31mLinAlgError\u001b[0m: SVD did not converge"
     ]
    }
   ],
   "source": [
    "compare_models()"
   ]
  },
  {
   "cell_type": "code",
   "execution_count": 32,
   "metadata": {},
   "outputs": [
    {
     "data": {
      "text/html": [
       "<style  type=\"text/css\" >\n",
       "    #T_8aef4ea4_1cf1_11eb_bd5e_f82819a27b0crow10_col0 {\n",
       "            background:  yellow;\n",
       "        }    #T_8aef4ea4_1cf1_11eb_bd5e_f82819a27b0crow10_col1 {\n",
       "            background:  yellow;\n",
       "        }    #T_8aef4ea4_1cf1_11eb_bd5e_f82819a27b0crow10_col2 {\n",
       "            background:  yellow;\n",
       "        }    #T_8aef4ea4_1cf1_11eb_bd5e_f82819a27b0crow10_col3 {\n",
       "            background:  yellow;\n",
       "        }    #T_8aef4ea4_1cf1_11eb_bd5e_f82819a27b0crow10_col4 {\n",
       "            background:  yellow;\n",
       "        }    #T_8aef4ea4_1cf1_11eb_bd5e_f82819a27b0crow10_col5 {\n",
       "            background:  yellow;\n",
       "        }    #T_8aef4ea4_1cf1_11eb_bd5e_f82819a27b0crow10_col6 {\n",
       "            background:  yellow;\n",
       "        }</style><table id=\"T_8aef4ea4_1cf1_11eb_bd5e_f82819a27b0c\" ><thead>    <tr>        <th class=\"blank level0\" ></th>        <th class=\"col_heading level0 col0\" >Accuracy</th>        <th class=\"col_heading level0 col1\" >AUC</th>        <th class=\"col_heading level0 col2\" >Recall</th>        <th class=\"col_heading level0 col3\" >Prec.</th>        <th class=\"col_heading level0 col4\" >F1</th>        <th class=\"col_heading level0 col5\" >Kappa</th>        <th class=\"col_heading level0 col6\" >MCC</th>    </tr></thead><tbody>\n",
       "                <tr>\n",
       "                        <th id=\"T_8aef4ea4_1cf1_11eb_bd5e_f82819a27b0clevel0_row0\" class=\"row_heading level0 row0\" >0</th>\n",
       "                        <td id=\"T_8aef4ea4_1cf1_11eb_bd5e_f82819a27b0crow0_col0\" class=\"data row0 col0\" >0.6567</td>\n",
       "                        <td id=\"T_8aef4ea4_1cf1_11eb_bd5e_f82819a27b0crow0_col1\" class=\"data row0 col1\" >0.6410</td>\n",
       "                        <td id=\"T_8aef4ea4_1cf1_11eb_bd5e_f82819a27b0crow0_col2\" class=\"data row0 col2\" >0.2857</td>\n",
       "                        <td id=\"T_8aef4ea4_1cf1_11eb_bd5e_f82819a27b0crow0_col3\" class=\"data row0 col3\" >0.7273</td>\n",
       "                        <td id=\"T_8aef4ea4_1cf1_11eb_bd5e_f82819a27b0crow0_col4\" class=\"data row0 col4\" >0.4103</td>\n",
       "                        <td id=\"T_8aef4ea4_1cf1_11eb_bd5e_f82819a27b0crow0_col5\" class=\"data row0 col5\" >0.2283</td>\n",
       "                        <td id=\"T_8aef4ea4_1cf1_11eb_bd5e_f82819a27b0crow0_col6\" class=\"data row0 col6\" >0.2780</td>\n",
       "            </tr>\n",
       "            <tr>\n",
       "                        <th id=\"T_8aef4ea4_1cf1_11eb_bd5e_f82819a27b0clevel0_row1\" class=\"row_heading level0 row1\" >1</th>\n",
       "                        <td id=\"T_8aef4ea4_1cf1_11eb_bd5e_f82819a27b0crow1_col0\" class=\"data row1 col0\" >0.6418</td>\n",
       "                        <td id=\"T_8aef4ea4_1cf1_11eb_bd5e_f82819a27b0crow1_col1\" class=\"data row1 col1\" >0.6900</td>\n",
       "                        <td id=\"T_8aef4ea4_1cf1_11eb_bd5e_f82819a27b0crow1_col2\" class=\"data row1 col2\" >0.1786</td>\n",
       "                        <td id=\"T_8aef4ea4_1cf1_11eb_bd5e_f82819a27b0crow1_col3\" class=\"data row1 col3\" >0.8333</td>\n",
       "                        <td id=\"T_8aef4ea4_1cf1_11eb_bd5e_f82819a27b0crow1_col4\" class=\"data row1 col4\" >0.2941</td>\n",
       "                        <td id=\"T_8aef4ea4_1cf1_11eb_bd5e_f82819a27b0crow1_col5\" class=\"data row1 col5\" >0.1720</td>\n",
       "                        <td id=\"T_8aef4ea4_1cf1_11eb_bd5e_f82819a27b0crow1_col6\" class=\"data row1 col6\" >0.2642</td>\n",
       "            </tr>\n",
       "            <tr>\n",
       "                        <th id=\"T_8aef4ea4_1cf1_11eb_bd5e_f82819a27b0clevel0_row2\" class=\"row_heading level0 row2\" >2</th>\n",
       "                        <td id=\"T_8aef4ea4_1cf1_11eb_bd5e_f82819a27b0crow2_col0\" class=\"data row2 col0\" >0.6567</td>\n",
       "                        <td id=\"T_8aef4ea4_1cf1_11eb_bd5e_f82819a27b0crow2_col1\" class=\"data row2 col1\" >0.5994</td>\n",
       "                        <td id=\"T_8aef4ea4_1cf1_11eb_bd5e_f82819a27b0crow2_col2\" class=\"data row2 col2\" >0.3214</td>\n",
       "                        <td id=\"T_8aef4ea4_1cf1_11eb_bd5e_f82819a27b0crow2_col3\" class=\"data row2 col3\" >0.6923</td>\n",
       "                        <td id=\"T_8aef4ea4_1cf1_11eb_bd5e_f82819a27b0crow2_col4\" class=\"data row2 col4\" >0.4390</td>\n",
       "                        <td id=\"T_8aef4ea4_1cf1_11eb_bd5e_f82819a27b0crow2_col5\" class=\"data row2 col5\" >0.2368</td>\n",
       "                        <td id=\"T_8aef4ea4_1cf1_11eb_bd5e_f82819a27b0crow2_col6\" class=\"data row2 col6\" >0.2730</td>\n",
       "            </tr>\n",
       "            <tr>\n",
       "                        <th id=\"T_8aef4ea4_1cf1_11eb_bd5e_f82819a27b0clevel0_row3\" class=\"row_heading level0 row3\" >3</th>\n",
       "                        <td id=\"T_8aef4ea4_1cf1_11eb_bd5e_f82819a27b0crow3_col0\" class=\"data row3 col0\" >0.5672</td>\n",
       "                        <td id=\"T_8aef4ea4_1cf1_11eb_bd5e_f82819a27b0crow3_col1\" class=\"data row3 col1\" >0.5422</td>\n",
       "                        <td id=\"T_8aef4ea4_1cf1_11eb_bd5e_f82819a27b0crow3_col2\" class=\"data row3 col2\" >0.1034</td>\n",
       "                        <td id=\"T_8aef4ea4_1cf1_11eb_bd5e_f82819a27b0crow3_col3\" class=\"data row3 col3\" >0.5000</td>\n",
       "                        <td id=\"T_8aef4ea4_1cf1_11eb_bd5e_f82819a27b0crow3_col4\" class=\"data row3 col4\" >0.1714</td>\n",
       "                        <td id=\"T_8aef4ea4_1cf1_11eb_bd5e_f82819a27b0crow3_col5\" class=\"data row3 col5\" >0.0270</td>\n",
       "                        <td id=\"T_8aef4ea4_1cf1_11eb_bd5e_f82819a27b0crow3_col6\" class=\"data row3 col6\" >0.0425</td>\n",
       "            </tr>\n",
       "            <tr>\n",
       "                        <th id=\"T_8aef4ea4_1cf1_11eb_bd5e_f82819a27b0clevel0_row4\" class=\"row_heading level0 row4\" >4</th>\n",
       "                        <td id=\"T_8aef4ea4_1cf1_11eb_bd5e_f82819a27b0crow4_col0\" class=\"data row4 col0\" >0.5152</td>\n",
       "                        <td id=\"T_8aef4ea4_1cf1_11eb_bd5e_f82819a27b0crow4_col1\" class=\"data row4 col1\" >0.5334</td>\n",
       "                        <td id=\"T_8aef4ea4_1cf1_11eb_bd5e_f82819a27b0crow4_col2\" class=\"data row4 col2\" >0.1071</td>\n",
       "                        <td id=\"T_8aef4ea4_1cf1_11eb_bd5e_f82819a27b0crow4_col3\" class=\"data row4 col3\" >0.3000</td>\n",
       "                        <td id=\"T_8aef4ea4_1cf1_11eb_bd5e_f82819a27b0crow4_col4\" class=\"data row4 col4\" >0.1579</td>\n",
       "                        <td id=\"T_8aef4ea4_1cf1_11eb_bd5e_f82819a27b0crow4_col5\" class=\"data row4 col5\" >-0.0842</td>\n",
       "                        <td id=\"T_8aef4ea4_1cf1_11eb_bd5e_f82819a27b0crow4_col6\" class=\"data row4 col6\" >-0.1062</td>\n",
       "            </tr>\n",
       "            <tr>\n",
       "                        <th id=\"T_8aef4ea4_1cf1_11eb_bd5e_f82819a27b0clevel0_row5\" class=\"row_heading level0 row5\" >5</th>\n",
       "                        <td id=\"T_8aef4ea4_1cf1_11eb_bd5e_f82819a27b0crow5_col0\" class=\"data row5 col0\" >0.6818</td>\n",
       "                        <td id=\"T_8aef4ea4_1cf1_11eb_bd5e_f82819a27b0crow5_col1\" class=\"data row5 col1\" >0.6922</td>\n",
       "                        <td id=\"T_8aef4ea4_1cf1_11eb_bd5e_f82819a27b0crow5_col2\" class=\"data row5 col2\" >0.2500</td>\n",
       "                        <td id=\"T_8aef4ea4_1cf1_11eb_bd5e_f82819a27b0crow5_col3\" class=\"data row5 col3\" >1.0000</td>\n",
       "                        <td id=\"T_8aef4ea4_1cf1_11eb_bd5e_f82819a27b0crow5_col4\" class=\"data row5 col4\" >0.4000</td>\n",
       "                        <td id=\"T_8aef4ea4_1cf1_11eb_bd5e_f82819a27b0crow5_col5\" class=\"data row5 col5\" >0.2774</td>\n",
       "                        <td id=\"T_8aef4ea4_1cf1_11eb_bd5e_f82819a27b0crow5_col6\" class=\"data row5 col6\" >0.4013</td>\n",
       "            </tr>\n",
       "            <tr>\n",
       "                        <th id=\"T_8aef4ea4_1cf1_11eb_bd5e_f82819a27b0clevel0_row6\" class=\"row_heading level0 row6\" >6</th>\n",
       "                        <td id=\"T_8aef4ea4_1cf1_11eb_bd5e_f82819a27b0crow6_col0\" class=\"data row6 col0\" >0.6212</td>\n",
       "                        <td id=\"T_8aef4ea4_1cf1_11eb_bd5e_f82819a27b0crow6_col1\" class=\"data row6 col1\" >0.5855</td>\n",
       "                        <td id=\"T_8aef4ea4_1cf1_11eb_bd5e_f82819a27b0crow6_col2\" class=\"data row6 col2\" >0.1071</td>\n",
       "                        <td id=\"T_8aef4ea4_1cf1_11eb_bd5e_f82819a27b0crow6_col3\" class=\"data row6 col3\" >1.0000</td>\n",
       "                        <td id=\"T_8aef4ea4_1cf1_11eb_bd5e_f82819a27b0crow6_col4\" class=\"data row6 col4\" >0.1935</td>\n",
       "                        <td id=\"T_8aef4ea4_1cf1_11eb_bd5e_f82819a27b0crow6_col5\" class=\"data row6 col5\" >0.1214</td>\n",
       "                        <td id=\"T_8aef4ea4_1cf1_11eb_bd5e_f82819a27b0crow6_col6\" class=\"data row6 col6\" >0.2542</td>\n",
       "            </tr>\n",
       "            <tr>\n",
       "                        <th id=\"T_8aef4ea4_1cf1_11eb_bd5e_f82819a27b0clevel0_row7\" class=\"row_heading level0 row7\" >7</th>\n",
       "                        <td id=\"T_8aef4ea4_1cf1_11eb_bd5e_f82819a27b0crow7_col0\" class=\"data row7 col0\" >0.5909</td>\n",
       "                        <td id=\"T_8aef4ea4_1cf1_11eb_bd5e_f82819a27b0crow7_col1\" class=\"data row7 col1\" >0.6208</td>\n",
       "                        <td id=\"T_8aef4ea4_1cf1_11eb_bd5e_f82819a27b0crow7_col2\" class=\"data row7 col2\" >0.1071</td>\n",
       "                        <td id=\"T_8aef4ea4_1cf1_11eb_bd5e_f82819a27b0crow7_col3\" class=\"data row7 col3\" >0.6000</td>\n",
       "                        <td id=\"T_8aef4ea4_1cf1_11eb_bd5e_f82819a27b0crow7_col4\" class=\"data row7 col4\" >0.1818</td>\n",
       "                        <td id=\"T_8aef4ea4_1cf1_11eb_bd5e_f82819a27b0crow7_col5\" class=\"data row7 col5\" >0.0611</td>\n",
       "                        <td id=\"T_8aef4ea4_1cf1_11eb_bd5e_f82819a27b0crow7_col6\" class=\"data row7 col6\" >0.1018</td>\n",
       "            </tr>\n",
       "            <tr>\n",
       "                        <th id=\"T_8aef4ea4_1cf1_11eb_bd5e_f82819a27b0clevel0_row8\" class=\"row_heading level0 row8\" >8</th>\n",
       "                        <td id=\"T_8aef4ea4_1cf1_11eb_bd5e_f82819a27b0crow8_col0\" class=\"data row8 col0\" >0.6212</td>\n",
       "                        <td id=\"T_8aef4ea4_1cf1_11eb_bd5e_f82819a27b0crow8_col1\" class=\"data row8 col1\" >0.7928</td>\n",
       "                        <td id=\"T_8aef4ea4_1cf1_11eb_bd5e_f82819a27b0crow8_col2\" class=\"data row8 col2\" >0.1071</td>\n",
       "                        <td id=\"T_8aef4ea4_1cf1_11eb_bd5e_f82819a27b0crow8_col3\" class=\"data row8 col3\" >1.0000</td>\n",
       "                        <td id=\"T_8aef4ea4_1cf1_11eb_bd5e_f82819a27b0crow8_col4\" class=\"data row8 col4\" >0.1935</td>\n",
       "                        <td id=\"T_8aef4ea4_1cf1_11eb_bd5e_f82819a27b0crow8_col5\" class=\"data row8 col5\" >0.1214</td>\n",
       "                        <td id=\"T_8aef4ea4_1cf1_11eb_bd5e_f82819a27b0crow8_col6\" class=\"data row8 col6\" >0.2542</td>\n",
       "            </tr>\n",
       "            <tr>\n",
       "                        <th id=\"T_8aef4ea4_1cf1_11eb_bd5e_f82819a27b0clevel0_row9\" class=\"row_heading level0 row9\" >9</th>\n",
       "                        <td id=\"T_8aef4ea4_1cf1_11eb_bd5e_f82819a27b0crow9_col0\" class=\"data row9 col0\" >0.5758</td>\n",
       "                        <td id=\"T_8aef4ea4_1cf1_11eb_bd5e_f82819a27b0crow9_col1\" class=\"data row9 col1\" >0.5592</td>\n",
       "                        <td id=\"T_8aef4ea4_1cf1_11eb_bd5e_f82819a27b0crow9_col2\" class=\"data row9 col2\" >0.0000</td>\n",
       "                        <td id=\"T_8aef4ea4_1cf1_11eb_bd5e_f82819a27b0crow9_col3\" class=\"data row9 col3\" >0.0000</td>\n",
       "                        <td id=\"T_8aef4ea4_1cf1_11eb_bd5e_f82819a27b0crow9_col4\" class=\"data row9 col4\" >0.0000</td>\n",
       "                        <td id=\"T_8aef4ea4_1cf1_11eb_bd5e_f82819a27b0crow9_col5\" class=\"data row9 col5\" >0.0000</td>\n",
       "                        <td id=\"T_8aef4ea4_1cf1_11eb_bd5e_f82819a27b0crow9_col6\" class=\"data row9 col6\" >0.0000</td>\n",
       "            </tr>\n",
       "            <tr>\n",
       "                        <th id=\"T_8aef4ea4_1cf1_11eb_bd5e_f82819a27b0clevel0_row10\" class=\"row_heading level0 row10\" >Mean</th>\n",
       "                        <td id=\"T_8aef4ea4_1cf1_11eb_bd5e_f82819a27b0crow10_col0\" class=\"data row10 col0\" >0.6128</td>\n",
       "                        <td id=\"T_8aef4ea4_1cf1_11eb_bd5e_f82819a27b0crow10_col1\" class=\"data row10 col1\" >0.6256</td>\n",
       "                        <td id=\"T_8aef4ea4_1cf1_11eb_bd5e_f82819a27b0crow10_col2\" class=\"data row10 col2\" >0.1568</td>\n",
       "                        <td id=\"T_8aef4ea4_1cf1_11eb_bd5e_f82819a27b0crow10_col3\" class=\"data row10 col3\" >0.6653</td>\n",
       "                        <td id=\"T_8aef4ea4_1cf1_11eb_bd5e_f82819a27b0crow10_col4\" class=\"data row10 col4\" >0.2442</td>\n",
       "                        <td id=\"T_8aef4ea4_1cf1_11eb_bd5e_f82819a27b0crow10_col5\" class=\"data row10 col5\" >0.1161</td>\n",
       "                        <td id=\"T_8aef4ea4_1cf1_11eb_bd5e_f82819a27b0crow10_col6\" class=\"data row10 col6\" >0.1763</td>\n",
       "            </tr>\n",
       "            <tr>\n",
       "                        <th id=\"T_8aef4ea4_1cf1_11eb_bd5e_f82819a27b0clevel0_row11\" class=\"row_heading level0 row11\" >SD</th>\n",
       "                        <td id=\"T_8aef4ea4_1cf1_11eb_bd5e_f82819a27b0crow11_col0\" class=\"data row11 col0\" >0.0480</td>\n",
       "                        <td id=\"T_8aef4ea4_1cf1_11eb_bd5e_f82819a27b0crow11_col1\" class=\"data row11 col1\" >0.0768</td>\n",
       "                        <td id=\"T_8aef4ea4_1cf1_11eb_bd5e_f82819a27b0crow11_col2\" class=\"data row11 col2\" >0.0950</td>\n",
       "                        <td id=\"T_8aef4ea4_1cf1_11eb_bd5e_f82819a27b0crow11_col3\" class=\"data row11 col3\" >0.3125</td>\n",
       "                        <td id=\"T_8aef4ea4_1cf1_11eb_bd5e_f82819a27b0crow11_col4\" class=\"data row11 col4\" >0.1318</td>\n",
       "                        <td id=\"T_8aef4ea4_1cf1_11eb_bd5e_f82819a27b0crow11_col5\" class=\"data row11 col5\" >0.1100</td>\n",
       "                        <td id=\"T_8aef4ea4_1cf1_11eb_bd5e_f82819a27b0crow11_col6\" class=\"data row11 col6\" >0.1498</td>\n",
       "            </tr>\n",
       "    </tbody></table>"
      ],
      "text/plain": [
       "<pandas.io.formats.style.Styler at 0x285cc4a1bc8>"
      ]
     },
     "metadata": {},
     "output_type": "display_data"
    }
   ],
   "source": [
    "gbc = create_model('gbc')"
   ]
  },
  {
   "cell_type": "code",
   "execution_count": 33,
   "metadata": {},
   "outputs": [
    {
     "data": {
      "text/html": [
       "<style  type=\"text/css\" >\n",
       "    #T_933eaed0_1cf1_11eb_9e20_f82819a27b0crow10_col0 {\n",
       "            background:  yellow;\n",
       "        }    #T_933eaed0_1cf1_11eb_9e20_f82819a27b0crow10_col1 {\n",
       "            background:  yellow;\n",
       "        }    #T_933eaed0_1cf1_11eb_9e20_f82819a27b0crow10_col2 {\n",
       "            background:  yellow;\n",
       "        }    #T_933eaed0_1cf1_11eb_9e20_f82819a27b0crow10_col3 {\n",
       "            background:  yellow;\n",
       "        }    #T_933eaed0_1cf1_11eb_9e20_f82819a27b0crow10_col4 {\n",
       "            background:  yellow;\n",
       "        }    #T_933eaed0_1cf1_11eb_9e20_f82819a27b0crow10_col5 {\n",
       "            background:  yellow;\n",
       "        }    #T_933eaed0_1cf1_11eb_9e20_f82819a27b0crow10_col6 {\n",
       "            background:  yellow;\n",
       "        }</style><table id=\"T_933eaed0_1cf1_11eb_9e20_f82819a27b0c\" ><thead>    <tr>        <th class=\"blank level0\" ></th>        <th class=\"col_heading level0 col0\" >Accuracy</th>        <th class=\"col_heading level0 col1\" >AUC</th>        <th class=\"col_heading level0 col2\" >Recall</th>        <th class=\"col_heading level0 col3\" >Prec.</th>        <th class=\"col_heading level0 col4\" >F1</th>        <th class=\"col_heading level0 col5\" >Kappa</th>        <th class=\"col_heading level0 col6\" >MCC</th>    </tr></thead><tbody>\n",
       "                <tr>\n",
       "                        <th id=\"T_933eaed0_1cf1_11eb_9e20_f82819a27b0clevel0_row0\" class=\"row_heading level0 row0\" >0</th>\n",
       "                        <td id=\"T_933eaed0_1cf1_11eb_9e20_f82819a27b0crow0_col0\" class=\"data row0 col0\" >0.6269</td>\n",
       "                        <td id=\"T_933eaed0_1cf1_11eb_9e20_f82819a27b0crow0_col1\" class=\"data row0 col1\" >0.6497</td>\n",
       "                        <td id=\"T_933eaed0_1cf1_11eb_9e20_f82819a27b0crow0_col2\" class=\"data row0 col2\" >0.5714</td>\n",
       "                        <td id=\"T_933eaed0_1cf1_11eb_9e20_f82819a27b0crow0_col3\" class=\"data row0 col3\" >0.5517</td>\n",
       "                        <td id=\"T_933eaed0_1cf1_11eb_9e20_f82819a27b0crow0_col4\" class=\"data row0 col4\" >0.5614</td>\n",
       "                        <td id=\"T_933eaed0_1cf1_11eb_9e20_f82819a27b0crow0_col5\" class=\"data row0 col5\" >0.2369</td>\n",
       "                        <td id=\"T_933eaed0_1cf1_11eb_9e20_f82819a27b0crow0_col6\" class=\"data row0 col6\" >0.2370</td>\n",
       "            </tr>\n",
       "            <tr>\n",
       "                        <th id=\"T_933eaed0_1cf1_11eb_9e20_f82819a27b0clevel0_row1\" class=\"row_heading level0 row1\" >1</th>\n",
       "                        <td id=\"T_933eaed0_1cf1_11eb_9e20_f82819a27b0crow1_col0\" class=\"data row1 col0\" >0.6269</td>\n",
       "                        <td id=\"T_933eaed0_1cf1_11eb_9e20_f82819a27b0crow1_col1\" class=\"data row1 col1\" >0.6465</td>\n",
       "                        <td id=\"T_933eaed0_1cf1_11eb_9e20_f82819a27b0crow1_col2\" class=\"data row1 col2\" >0.5357</td>\n",
       "                        <td id=\"T_933eaed0_1cf1_11eb_9e20_f82819a27b0crow1_col3\" class=\"data row1 col3\" >0.5556</td>\n",
       "                        <td id=\"T_933eaed0_1cf1_11eb_9e20_f82819a27b0crow1_col4\" class=\"data row1 col4\" >0.5455</td>\n",
       "                        <td id=\"T_933eaed0_1cf1_11eb_9e20_f82819a27b0crow1_col5\" class=\"data row1 col5\" >0.2292</td>\n",
       "                        <td id=\"T_933eaed0_1cf1_11eb_9e20_f82819a27b0crow1_col6\" class=\"data row1 col6\" >0.2293</td>\n",
       "            </tr>\n",
       "            <tr>\n",
       "                        <th id=\"T_933eaed0_1cf1_11eb_9e20_f82819a27b0clevel0_row2\" class=\"row_heading level0 row2\" >2</th>\n",
       "                        <td id=\"T_933eaed0_1cf1_11eb_9e20_f82819a27b0crow2_col0\" class=\"data row2 col0\" >0.5821</td>\n",
       "                        <td id=\"T_933eaed0_1cf1_11eb_9e20_f82819a27b0crow2_col1\" class=\"data row2 col1\" >0.6126</td>\n",
       "                        <td id=\"T_933eaed0_1cf1_11eb_9e20_f82819a27b0crow2_col2\" class=\"data row2 col2\" >0.4643</td>\n",
       "                        <td id=\"T_933eaed0_1cf1_11eb_9e20_f82819a27b0crow2_col3\" class=\"data row2 col3\" >0.5000</td>\n",
       "                        <td id=\"T_933eaed0_1cf1_11eb_9e20_f82819a27b0crow2_col4\" class=\"data row2 col4\" >0.4815</td>\n",
       "                        <td id=\"T_933eaed0_1cf1_11eb_9e20_f82819a27b0crow2_col5\" class=\"data row2 col5\" >0.1323</td>\n",
       "                        <td id=\"T_933eaed0_1cf1_11eb_9e20_f82819a27b0crow2_col6\" class=\"data row2 col6\" >0.1325</td>\n",
       "            </tr>\n",
       "            <tr>\n",
       "                        <th id=\"T_933eaed0_1cf1_11eb_9e20_f82819a27b0clevel0_row3\" class=\"row_heading level0 row3\" >3</th>\n",
       "                        <td id=\"T_933eaed0_1cf1_11eb_9e20_f82819a27b0crow3_col0\" class=\"data row3 col0\" >0.5522</td>\n",
       "                        <td id=\"T_933eaed0_1cf1_11eb_9e20_f82819a27b0crow3_col1\" class=\"data row3 col1\" >0.6098</td>\n",
       "                        <td id=\"T_933eaed0_1cf1_11eb_9e20_f82819a27b0crow3_col2\" class=\"data row3 col2\" >0.4828</td>\n",
       "                        <td id=\"T_933eaed0_1cf1_11eb_9e20_f82819a27b0crow3_col3\" class=\"data row3 col3\" >0.4828</td>\n",
       "                        <td id=\"T_933eaed0_1cf1_11eb_9e20_f82819a27b0crow3_col4\" class=\"data row3 col4\" >0.4828</td>\n",
       "                        <td id=\"T_933eaed0_1cf1_11eb_9e20_f82819a27b0crow3_col5\" class=\"data row3 col5\" >0.0880</td>\n",
       "                        <td id=\"T_933eaed0_1cf1_11eb_9e20_f82819a27b0crow3_col6\" class=\"data row3 col6\" >0.0880</td>\n",
       "            </tr>\n",
       "            <tr>\n",
       "                        <th id=\"T_933eaed0_1cf1_11eb_9e20_f82819a27b0clevel0_row4\" class=\"row_heading level0 row4\" >4</th>\n",
       "                        <td id=\"T_933eaed0_1cf1_11eb_9e20_f82819a27b0crow4_col0\" class=\"data row4 col0\" >0.5606</td>\n",
       "                        <td id=\"T_933eaed0_1cf1_11eb_9e20_f82819a27b0crow4_col1\" class=\"data row4 col1\" >0.5503</td>\n",
       "                        <td id=\"T_933eaed0_1cf1_11eb_9e20_f82819a27b0crow4_col2\" class=\"data row4 col2\" >0.3929</td>\n",
       "                        <td id=\"T_933eaed0_1cf1_11eb_9e20_f82819a27b0crow4_col3\" class=\"data row4 col3\" >0.4783</td>\n",
       "                        <td id=\"T_933eaed0_1cf1_11eb_9e20_f82819a27b0crow4_col4\" class=\"data row4 col4\" >0.4314</td>\n",
       "                        <td id=\"T_933eaed0_1cf1_11eb_9e20_f82819a27b0crow4_col5\" class=\"data row4 col5\" >0.0789</td>\n",
       "                        <td id=\"T_933eaed0_1cf1_11eb_9e20_f82819a27b0crow4_col6\" class=\"data row4 col6\" >0.0799</td>\n",
       "            </tr>\n",
       "            <tr>\n",
       "                        <th id=\"T_933eaed0_1cf1_11eb_9e20_f82819a27b0clevel0_row5\" class=\"row_heading level0 row5\" >5</th>\n",
       "                        <td id=\"T_933eaed0_1cf1_11eb_9e20_f82819a27b0crow5_col0\" class=\"data row5 col0\" >0.5909</td>\n",
       "                        <td id=\"T_933eaed0_1cf1_11eb_9e20_f82819a27b0crow5_col1\" class=\"data row5 col1\" >0.6767</td>\n",
       "                        <td id=\"T_933eaed0_1cf1_11eb_9e20_f82819a27b0crow5_col2\" class=\"data row5 col2\" >0.4286</td>\n",
       "                        <td id=\"T_933eaed0_1cf1_11eb_9e20_f82819a27b0crow5_col3\" class=\"data row5 col3\" >0.5217</td>\n",
       "                        <td id=\"T_933eaed0_1cf1_11eb_9e20_f82819a27b0crow5_col4\" class=\"data row5 col4\" >0.4706</td>\n",
       "                        <td id=\"T_933eaed0_1cf1_11eb_9e20_f82819a27b0crow5_col5\" class=\"data row5 col5\" >0.1424</td>\n",
       "                        <td id=\"T_933eaed0_1cf1_11eb_9e20_f82819a27b0crow5_col6\" class=\"data row5 col6\" >0.1443</td>\n",
       "            </tr>\n",
       "            <tr>\n",
       "                        <th id=\"T_933eaed0_1cf1_11eb_9e20_f82819a27b0clevel0_row6\" class=\"row_heading level0 row6\" >6</th>\n",
       "                        <td id=\"T_933eaed0_1cf1_11eb_9e20_f82819a27b0crow6_col0\" class=\"data row6 col0\" >0.5909</td>\n",
       "                        <td id=\"T_933eaed0_1cf1_11eb_9e20_f82819a27b0crow6_col1\" class=\"data row6 col1\" >0.6335</td>\n",
       "                        <td id=\"T_933eaed0_1cf1_11eb_9e20_f82819a27b0crow6_col2\" class=\"data row6 col2\" >0.3571</td>\n",
       "                        <td id=\"T_933eaed0_1cf1_11eb_9e20_f82819a27b0crow6_col3\" class=\"data row6 col3\" >0.5263</td>\n",
       "                        <td id=\"T_933eaed0_1cf1_11eb_9e20_f82819a27b0crow6_col4\" class=\"data row6 col4\" >0.4255</td>\n",
       "                        <td id=\"T_933eaed0_1cf1_11eb_9e20_f82819a27b0crow6_col5\" class=\"data row6 col5\" >0.1256</td>\n",
       "                        <td id=\"T_933eaed0_1cf1_11eb_9e20_f82819a27b0crow6_col6\" class=\"data row6 col6\" >0.1313</td>\n",
       "            </tr>\n",
       "            <tr>\n",
       "                        <th id=\"T_933eaed0_1cf1_11eb_9e20_f82819a27b0clevel0_row7\" class=\"row_heading level0 row7\" >7</th>\n",
       "                        <td id=\"T_933eaed0_1cf1_11eb_9e20_f82819a27b0crow7_col0\" class=\"data row7 col0\" >0.5303</td>\n",
       "                        <td id=\"T_933eaed0_1cf1_11eb_9e20_f82819a27b0crow7_col1\" class=\"data row7 col1\" >0.6156</td>\n",
       "                        <td id=\"T_933eaed0_1cf1_11eb_9e20_f82819a27b0crow7_col2\" class=\"data row7 col2\" >0.3214</td>\n",
       "                        <td id=\"T_933eaed0_1cf1_11eb_9e20_f82819a27b0crow7_col3\" class=\"data row7 col3\" >0.4286</td>\n",
       "                        <td id=\"T_933eaed0_1cf1_11eb_9e20_f82819a27b0crow7_col4\" class=\"data row7 col4\" >0.3673</td>\n",
       "                        <td id=\"T_933eaed0_1cf1_11eb_9e20_f82819a27b0crow7_col5\" class=\"data row7 col5\" >0.0058</td>\n",
       "                        <td id=\"T_933eaed0_1cf1_11eb_9e20_f82819a27b0crow7_col6\" class=\"data row7 col6\" >0.0060</td>\n",
       "            </tr>\n",
       "            <tr>\n",
       "                        <th id=\"T_933eaed0_1cf1_11eb_9e20_f82819a27b0clevel0_row8\" class=\"row_heading level0 row8\" >8</th>\n",
       "                        <td id=\"T_933eaed0_1cf1_11eb_9e20_f82819a27b0crow8_col0\" class=\"data row8 col0\" >0.7121</td>\n",
       "                        <td id=\"T_933eaed0_1cf1_11eb_9e20_f82819a27b0crow8_col1\" class=\"data row8 col1\" >0.8045</td>\n",
       "                        <td id=\"T_933eaed0_1cf1_11eb_9e20_f82819a27b0crow8_col2\" class=\"data row8 col2\" >0.4643</td>\n",
       "                        <td id=\"T_933eaed0_1cf1_11eb_9e20_f82819a27b0crow8_col3\" class=\"data row8 col3\" >0.7647</td>\n",
       "                        <td id=\"T_933eaed0_1cf1_11eb_9e20_f82819a27b0crow8_col4\" class=\"data row8 col4\" >0.5778</td>\n",
       "                        <td id=\"T_933eaed0_1cf1_11eb_9e20_f82819a27b0crow8_col5\" class=\"data row8 col5\" >0.3786</td>\n",
       "                        <td id=\"T_933eaed0_1cf1_11eb_9e20_f82819a27b0crow8_col6\" class=\"data row8 col6\" >0.4058</td>\n",
       "            </tr>\n",
       "            <tr>\n",
       "                        <th id=\"T_933eaed0_1cf1_11eb_9e20_f82819a27b0clevel0_row9\" class=\"row_heading level0 row9\" >9</th>\n",
       "                        <td id=\"T_933eaed0_1cf1_11eb_9e20_f82819a27b0crow9_col0\" class=\"data row9 col0\" >0.5303</td>\n",
       "                        <td id=\"T_933eaed0_1cf1_11eb_9e20_f82819a27b0crow9_col1\" class=\"data row9 col1\" >0.5982</td>\n",
       "                        <td id=\"T_933eaed0_1cf1_11eb_9e20_f82819a27b0crow9_col2\" class=\"data row9 col2\" >0.4286</td>\n",
       "                        <td id=\"T_933eaed0_1cf1_11eb_9e20_f82819a27b0crow9_col3\" class=\"data row9 col3\" >0.4444</td>\n",
       "                        <td id=\"T_933eaed0_1cf1_11eb_9e20_f82819a27b0crow9_col4\" class=\"data row9 col4\" >0.4364</td>\n",
       "                        <td id=\"T_933eaed0_1cf1_11eb_9e20_f82819a27b0crow9_col5\" class=\"data row9 col5\" >0.0340</td>\n",
       "                        <td id=\"T_933eaed0_1cf1_11eb_9e20_f82819a27b0crow9_col6\" class=\"data row9 col6\" >0.0340</td>\n",
       "            </tr>\n",
       "            <tr>\n",
       "                        <th id=\"T_933eaed0_1cf1_11eb_9e20_f82819a27b0clevel0_row10\" class=\"row_heading level0 row10\" >Mean</th>\n",
       "                        <td id=\"T_933eaed0_1cf1_11eb_9e20_f82819a27b0crow10_col0\" class=\"data row10 col0\" >0.5903</td>\n",
       "                        <td id=\"T_933eaed0_1cf1_11eb_9e20_f82819a27b0crow10_col1\" class=\"data row10 col1\" >0.6397</td>\n",
       "                        <td id=\"T_933eaed0_1cf1_11eb_9e20_f82819a27b0crow10_col2\" class=\"data row10 col2\" >0.4447</td>\n",
       "                        <td id=\"T_933eaed0_1cf1_11eb_9e20_f82819a27b0crow10_col3\" class=\"data row10 col3\" >0.5254</td>\n",
       "                        <td id=\"T_933eaed0_1cf1_11eb_9e20_f82819a27b0crow10_col4\" class=\"data row10 col4\" >0.4780</td>\n",
       "                        <td id=\"T_933eaed0_1cf1_11eb_9e20_f82819a27b0crow10_col5\" class=\"data row10 col5\" >0.1452</td>\n",
       "                        <td id=\"T_933eaed0_1cf1_11eb_9e20_f82819a27b0crow10_col6\" class=\"data row10 col6\" >0.1488</td>\n",
       "            </tr>\n",
       "            <tr>\n",
       "                        <th id=\"T_933eaed0_1cf1_11eb_9e20_f82819a27b0clevel0_row11\" class=\"row_heading level0 row11\" >SD</th>\n",
       "                        <td id=\"T_933eaed0_1cf1_11eb_9e20_f82819a27b0crow11_col0\" class=\"data row11 col0\" >0.0521</td>\n",
       "                        <td id=\"T_933eaed0_1cf1_11eb_9e20_f82819a27b0crow11_col1\" class=\"data row11 col1\" >0.0638</td>\n",
       "                        <td id=\"T_933eaed0_1cf1_11eb_9e20_f82819a27b0crow11_col2\" class=\"data row11 col2\" >0.0725</td>\n",
       "                        <td id=\"T_933eaed0_1cf1_11eb_9e20_f82819a27b0crow11_col3\" class=\"data row11 col3\" >0.0892</td>\n",
       "                        <td id=\"T_933eaed0_1cf1_11eb_9e20_f82819a27b0crow11_col4\" class=\"data row11 col4\" >0.0636</td>\n",
       "                        <td id=\"T_933eaed0_1cf1_11eb_9e20_f82819a27b0crow11_col5\" class=\"data row11 col5\" >0.1049</td>\n",
       "                        <td id=\"T_933eaed0_1cf1_11eb_9e20_f82819a27b0crow11_col6\" class=\"data row11 col6\" >0.1109</td>\n",
       "            </tr>\n",
       "    </tbody></table>"
      ],
      "text/plain": [
       "<pandas.io.formats.style.Styler at 0x285b45a4b48>"
      ]
     },
     "metadata": {},
     "output_type": "display_data"
    }
   ],
   "source": [
    "tuned_gbc = tune_model(gbc)"
   ]
  },
  {
   "cell_type": "code",
   "execution_count": 34,
   "metadata": {},
   "outputs": [
    {
     "name": "stdout",
     "output_type": "stream",
     "text": [
      "GradientBoostingClassifier(ccp_alpha=0.0, criterion='friedman_mse', init=None,\n",
      "                           learning_rate=0.04, loss='deviance', max_depth=70,\n",
      "                           max_features='auto', max_leaf_nodes=None,\n",
      "                           min_impurity_decrease=0.0, min_impurity_split=None,\n",
      "                           min_samples_leaf=3, min_samples_split=5,\n",
      "                           min_weight_fraction_leaf=0.0, n_estimators=115,\n",
      "                           n_iter_no_change=None, presort='deprecated',\n",
      "                           random_state=123, subsample=0.15000000000000002,\n",
      "                           tol=0.0001, validation_fraction=0.1, verbose=0,\n",
      "                           warm_start=False)\n"
     ]
    }
   ],
   "source": [
    "#tuned model object is stored in the variable 'tuned_dt'. \n",
    "print(tuned_gbc)"
   ]
  },
  {
   "cell_type": "code",
   "execution_count": 35,
   "metadata": {},
   "outputs": [
    {
     "data": {
      "image/png": "[encoded data removed]",
      "text/plain": [
       "<Figure size 576x396 with 1 Axes>"
      ]
     },
     "metadata": {},
     "output_type": "display_data"
    }
   ],
   "source": [
    "plot_model(tuned_gbc, plot = 'auc')"
   ]
  },
  {
   "cell_type": "code",
   "execution_count": 36,
   "metadata": {},
   "outputs": [
    {
     "data": {
      "image/png": "[encoded data removed]",
      "text/plain": [
       "<Figure size 576x396 with 1 Axes>"
      ]
     },
     "metadata": {},
     "output_type": "display_data"
    }
   ],
   "source": [
    "plot_model(tuned_gbc, plot = 'pr')"
   ]
  },
  {
   "cell_type": "code",
   "execution_count": 37,
   "metadata": {},
   "outputs": [
    {
     "data": {
      "image/png": "[encoded data removed]",
      "text/plain": [
       "<Figure size 800x500 with 1 Axes>"
      ]
     },
     "metadata": {},
     "output_type": "display_data"
    }
   ],
   "source": [
    "plot_model(tuned_gbc, plot='feature')"
   ]
  },
  {
   "cell_type": "code",
   "execution_count": 38,
   "metadata": {},
   "outputs": [
    {
     "data": {
      "image/png": "[encoded data removed]",
      "text/plain": [
       "<Figure size 576x396 with 1 Axes>"
      ]
     },
     "metadata": {},
     "output_type": "display_data"
    }
   ],
   "source": [
    "plot_model(tuned_gbc, plot = 'confusion_matrix')"
   ]
  },
  {
   "cell_type": "code",
   "execution_count": 39,
   "metadata": {},
   "outputs": [
    {
     "data": {
      "application/vnd.jupyter.widget-view+json": {
       "model_id": "8fc50195e5854ff48d775f68445532f0",
       "version_major": 2,
       "version_minor": 0
      },
      "text/plain": [
       "interactive(children=(ToggleButtons(description='Plot Type:', icons=('',), options=(('Hyperparameters', 'param…"
      ]
     },
     "metadata": {},
     "output_type": "display_data"
    }
   ],
   "source": [
    "evaluate_model(tuned_gbc)"
   ]
  },
  {
   "cell_type": "code",
   "execution_count": 40,
   "metadata": {},
   "outputs": [
    {
     "data": {
      "text/html": [
       "<div>\n",
       "<style scoped>\n",
       "    .dataframe tbody tr th:only-of-type {\n",
       "        vertical-align: middle;\n",
       "    }\n",
       "\n",
       "    .dataframe tbody tr th {\n",
       "        vertical-align: top;\n",
       "    }\n",
       "\n",
       "    .dataframe thead th {\n",
       "        text-align: right;\n",
       "    }\n",
       "</style>\n",
       "<table border=\"1\" class=\"dataframe\">\n",
       "  <thead>\n",
       "    <tr style=\"text-align: right;\">\n",
       "      <th></th>\n",
       "      <th>Model</th>\n",
       "      <th>Accuracy</th>\n",
       "      <th>AUC</th>\n",
       "      <th>Recall</th>\n",
       "      <th>Prec.</th>\n",
       "      <th>F1</th>\n",
       "      <th>Kappa</th>\n",
       "      <th>MCC</th>\n",
       "    </tr>\n",
       "  </thead>\n",
       "  <tbody>\n",
       "    <tr>\n",
       "      <th>0</th>\n",
       "      <td>Gradient Boosting Classifier</td>\n",
       "      <td>0.528</td>\n",
       "      <td>0.5777</td>\n",
       "      <td>0.3719</td>\n",
       "      <td>0.4327</td>\n",
       "      <td>0.4</td>\n",
       "      <td>0.0146</td>\n",
       "      <td>0.0147</td>\n",
       "    </tr>\n",
       "  </tbody>\n",
       "</table>\n",
       "</div>"
      ],
      "text/plain": [
       "                          Model  Accuracy     AUC  Recall   Prec.   F1  \\\n",
       "0  Gradient Boosting Classifier     0.528  0.5777  0.3719  0.4327  0.4   \n",
       "\n",
       "    Kappa     MCC  \n",
       "0  0.0146  0.0147  "
      ]
     },
     "metadata": {},
     "output_type": "display_data"
    }
   ],
   "source": [
    "predict_model(tuned_gbc);"
   ]
  },
  {
   "cell_type": "code",
   "execution_count": 41,
   "metadata": {},
   "outputs": [
    {
     "data": {
      "text/html": [
       "<div>\n",
       "<style scoped>\n",
       "    .dataframe tbody tr th:only-of-type {\n",
       "        vertical-align: middle;\n",
       "    }\n",
       "\n",
       "    .dataframe tbody tr th {\n",
       "        vertical-align: top;\n",
       "    }\n",
       "\n",
       "    .dataframe thead th {\n",
       "        text-align: right;\n",
       "    }\n",
       "</style>\n",
       "<table border=\"1\" class=\"dataframe\">\n",
       "  <thead>\n",
       "    <tr style=\"text-align: right;\">\n",
       "      <th></th>\n",
       "      <th>Model</th>\n",
       "      <th>Accuracy</th>\n",
       "      <th>AUC</th>\n",
       "      <th>Recall</th>\n",
       "      <th>Prec.</th>\n",
       "      <th>F1</th>\n",
       "      <th>Kappa</th>\n",
       "      <th>MCC</th>\n",
       "    </tr>\n",
       "  </thead>\n",
       "  <tbody>\n",
       "    <tr>\n",
       "      <th>0</th>\n",
       "      <td>Gradient Boosting Classifier</td>\n",
       "      <td>0.6993</td>\n",
       "      <td>0.792</td>\n",
       "      <td>0.5455</td>\n",
       "      <td>0.6804</td>\n",
       "      <td>0.6055</td>\n",
       "      <td>0.3673</td>\n",
       "      <td>0.3732</td>\n",
       "    </tr>\n",
       "  </tbody>\n",
       "</table>\n",
       "</div>"
      ],
      "text/plain": [
       "                          Model  Accuracy    AUC  Recall   Prec.      F1  \\\n",
       "0  Gradient Boosting Classifier    0.6993  0.792  0.5455  0.6804  0.6055   \n",
       "\n",
       "    Kappa     MCC  \n",
       "0  0.3673  0.3732  "
      ]
     },
     "metadata": {},
     "output_type": "display_data"
    }
   ],
   "source": [
    "final_gbc = finalize_model(tuned_gbc)\n",
    "predict_model(final_gbc);"
   ]
  },
  {
   "cell_type": "code",
   "execution_count": 42,
   "metadata": {},
   "outputs": [
    {
     "data": {
      "text/html": [
       "<div>\n",
       "<style scoped>\n",
       "    .dataframe tbody tr th:only-of-type {\n",
       "        vertical-align: middle;\n",
       "    }\n",
       "\n",
       "    .dataframe tbody tr th {\n",
       "        vertical-align: top;\n",
       "    }\n",
       "\n",
       "    .dataframe thead th {\n",
       "        text-align: right;\n",
       "    }\n",
       "</style>\n",
       "<table border=\"1\" class=\"dataframe\">\n",
       "  <thead>\n",
       "    <tr style=\"text-align: right;\">\n",
       "      <th></th>\n",
       "      <th>review_id</th>\n",
       "      <th>customer_id</th>\n",
       "      <th>review_headline</th>\n",
       "      <th>review_body</th>\n",
       "      <th>sentiment</th>\n",
       "      <th>Label</th>\n",
       "      <th>Score</th>\n",
       "    </tr>\n",
       "  </thead>\n",
       "  <tbody>\n",
       "    <tr>\n",
       "      <th>0</th>\n",
       "      <td>R5QP9BEQHCHXU</td>\n",
       "      <td>14237851</td>\n",
       "      <td>cables</td>\n",
       "      <td>Cables work well and I needed some longer HDMI...</td>\n",
       "      <td>Negative</td>\n",
       "      <td>Positive</td>\n",
       "      <td>0.5697</td>\n",
       "    </tr>\n",
       "    <tr>\n",
       "      <th>1</th>\n",
       "      <td>R1ZG28PSYYTZ76</td>\n",
       "      <td>32189944</td>\n",
       "      <td>Good sound, Easy to use</td>\n",
       "      <td>I haven't had it but for a few weeks. So far i...</td>\n",
       "      <td>Negative</td>\n",
       "      <td>Positive</td>\n",
       "      <td>0.7925</td>\n",
       "    </tr>\n",
       "    <tr>\n",
       "      <th>2</th>\n",
       "      <td>RNDE78F9PG152</td>\n",
       "      <td>28826538</td>\n",
       "      <td>Fast shipping unlike others -- Beware</td>\n",
       "      <td>My new laptop did not support VGA cables, so I...</td>\n",
       "      <td>Negative</td>\n",
       "      <td>Negative</td>\n",
       "      <td>0.2867</td>\n",
       "    </tr>\n",
       "    <tr>\n",
       "      <th>3</th>\n",
       "      <td>R16PQ52CH1LPJ2</td>\n",
       "      <td>4361260</td>\n",
       "      <td>great buy!</td>\n",
       "      <td>cheap and great quality. I swear these are bet...</td>\n",
       "      <td>Negative</td>\n",
       "      <td>Negative</td>\n",
       "      <td>0.1713</td>\n",
       "    </tr>\n",
       "    <tr>\n",
       "      <th>4</th>\n",
       "      <td>RFJGBT2CL0BE9</td>\n",
       "      <td>52637759</td>\n",
       "      <td>Five Stars</td>\n",
       "      <td>Item delivered on time, was as described</td>\n",
       "      <td>Negative</td>\n",
       "      <td>Negative</td>\n",
       "      <td>0.1197</td>\n",
       "    </tr>\n",
       "  </tbody>\n",
       "</table>\n",
       "</div>"
      ],
      "text/plain": [
       "        review_id  customer_id                        review_headline  \\\n",
       "0   R5QP9BEQHCHXU     14237851                                 cables   \n",
       "1  R1ZG28PSYYTZ76     32189944                Good sound, Easy to use   \n",
       "2   RNDE78F9PG152     28826538  Fast shipping unlike others -- Beware   \n",
       "3  R16PQ52CH1LPJ2      4361260                             great buy!   \n",
       "4   RFJGBT2CL0BE9     52637759                             Five Stars   \n",
       "\n",
       "                                         review_body sentiment     Label  \\\n",
       "0  Cables work well and I needed some longer HDMI...  Negative  Positive   \n",
       "1  I haven't had it but for a few weeks. So far i...  Negative  Positive   \n",
       "2  My new laptop did not support VGA cables, so I...  Negative  Negative   \n",
       "3  cheap and great quality. I swear these are bet...  Negative  Negative   \n",
       "4           Item delivered on time, was as described  Negative  Negative   \n",
       "\n",
       "    Score  \n",
       "0  0.5697  \n",
       "1  0.7925  \n",
       "2  0.2867  \n",
       "3  0.1713  \n",
       "4  0.1197  "
      ]
     },
     "execution_count": 42,
     "metadata": {},
     "output_type": "execute_result"
    }
   ],
   "source": [
    "unseen_predictions = predict_model(final_gbc, data=data_unseen)\n",
    "unseen_predictions.head()"
   ]
  },
  {
   "cell_type": "code",
   "execution_count": 43,
   "metadata": {},
   "outputs": [
    {
     "name": "stdout",
     "output_type": "stream",
     "text": [
      "Transformation Pipeline and Model Succesfully Saved\n"
     ]
    }
   ],
   "source": [
    "save_model(final_gbc,'Final GBC Model 02Nov2020')"
   ]
  },
  {
   "cell_type": "code",
   "execution_count": 44,
   "metadata": {},
   "outputs": [
    {
     "name": "stdout",
     "output_type": "stream",
     "text": [
      "Transformation Pipeline and Model Successfully Loaded\n"
     ]
    }
   ],
   "source": [
    "saved_final_gbc = load_model('Final GBC Model 02Nov2020')"
   ]
  },
  {
   "cell_type": "code",
   "execution_count": 45,
   "metadata": {},
   "outputs": [],
   "source": [
    "new_prediction = predict_model(saved_final_gbc, data=data_unseen)"
   ]
  },
  {
   "cell_type": "code",
   "execution_count": 46,
   "metadata": {},
   "outputs": [
    {
     "data": {
      "text/html": [
       "<div>\n",
       "<style scoped>\n",
       "    .dataframe tbody tr th:only-of-type {\n",
       "        vertical-align: middle;\n",
       "    }\n",
       "\n",
       "    .dataframe tbody tr th {\n",
       "        vertical-align: top;\n",
       "    }\n",
       "\n",
       "    .dataframe thead th {\n",
       "        text-align: right;\n",
       "    }\n",
       "</style>\n",
       "<table border=\"1\" class=\"dataframe\">\n",
       "  <thead>\n",
       "    <tr style=\"text-align: right;\">\n",
       "      <th></th>\n",
       "      <th>review_id</th>\n",
       "      <th>customer_id</th>\n",
       "      <th>review_headline</th>\n",
       "      <th>review_body</th>\n",
       "      <th>sentiment</th>\n",
       "      <th>Label</th>\n",
       "      <th>Score</th>\n",
       "    </tr>\n",
       "  </thead>\n",
       "  <tbody>\n",
       "    <tr>\n",
       "      <th>0</th>\n",
       "      <td>R5QP9BEQHCHXU</td>\n",
       "      <td>14237851</td>\n",
       "      <td>cables</td>\n",
       "      <td>Cables work well and I needed some longer HDMI...</td>\n",
       "      <td>Negative</td>\n",
       "      <td>Positive</td>\n",
       "      <td>0.5697</td>\n",
       "    </tr>\n",
       "    <tr>\n",
       "      <th>1</th>\n",
       "      <td>R1ZG28PSYYTZ76</td>\n",
       "      <td>32189944</td>\n",
       "      <td>Good sound, Easy to use</td>\n",
       "      <td>I haven't had it but for a few weeks. So far i...</td>\n",
       "      <td>Negative</td>\n",
       "      <td>Positive</td>\n",
       "      <td>0.7925</td>\n",
       "    </tr>\n",
       "    <tr>\n",
       "      <th>2</th>\n",
       "      <td>RNDE78F9PG152</td>\n",
       "      <td>28826538</td>\n",
       "      <td>Fast shipping unlike others -- Beware</td>\n",
       "      <td>My new laptop did not support VGA cables, so I...</td>\n",
       "      <td>Negative</td>\n",
       "      <td>Negative</td>\n",
       "      <td>0.2867</td>\n",
       "    </tr>\n",
       "    <tr>\n",
       "      <th>3</th>\n",
       "      <td>R16PQ52CH1LPJ2</td>\n",
       "      <td>4361260</td>\n",
       "      <td>great buy!</td>\n",
       "      <td>cheap and great quality. I swear these are bet...</td>\n",
       "      <td>Negative</td>\n",
       "      <td>Negative</td>\n",
       "      <td>0.1713</td>\n",
       "    </tr>\n",
       "    <tr>\n",
       "      <th>4</th>\n",
       "      <td>RFJGBT2CL0BE9</td>\n",
       "      <td>52637759</td>\n",
       "      <td>Five Stars</td>\n",
       "      <td>Item delivered on time, was as described</td>\n",
       "      <td>Negative</td>\n",
       "      <td>Negative</td>\n",
       "      <td>0.1197</td>\n",
       "    </tr>\n",
       "  </tbody>\n",
       "</table>\n",
       "</div>"
      ],
      "text/plain": [
       "        review_id  customer_id                        review_headline  \\\n",
       "0   R5QP9BEQHCHXU     14237851                                 cables   \n",
       "1  R1ZG28PSYYTZ76     32189944                Good sound, Easy to use   \n",
       "2   RNDE78F9PG152     28826538  Fast shipping unlike others -- Beware   \n",
       "3  R16PQ52CH1LPJ2      4361260                             great buy!   \n",
       "4   RFJGBT2CL0BE9     52637759                             Five Stars   \n",
       "\n",
       "                                         review_body sentiment     Label  \\\n",
       "0  Cables work well and I needed some longer HDMI...  Negative  Positive   \n",
       "1  I haven't had it but for a few weeks. So far i...  Negative  Positive   \n",
       "2  My new laptop did not support VGA cables, so I...  Negative  Negative   \n",
       "3  cheap and great quality. I swear these are bet...  Negative  Negative   \n",
       "4           Item delivered on time, was as described  Negative  Negative   \n",
       "\n",
       "    Score  \n",
       "0  0.5697  \n",
       "1  0.7925  \n",
       "2  0.2867  \n",
       "3  0.1713  \n",
       "4  0.1197  "
      ]
     },
     "execution_count": 46,
     "metadata": {},
     "output_type": "execute_result"
    }
   ],
   "source": [
    "new_prediction.head()"
   ]
  },
  {
   "cell_type": "markdown",
   "metadata": {},
   "source": [
    "## TF-IDF Logistic Regression"
   ]
  },
  {
   "cell_type": "code",
   "execution_count": 47,
   "metadata": {},
   "outputs": [
    {
     "data": {
      "text/html": [
       "<div>\n",
       "<style scoped>\n",
       "    .dataframe tbody tr th:only-of-type {\n",
       "        vertical-align: middle;\n",
       "    }\n",
       "\n",
       "    .dataframe tbody tr th {\n",
       "        vertical-align: top;\n",
       "    }\n",
       "\n",
       "    .dataframe thead th {\n",
       "        text-align: right;\n",
       "    }\n",
       "</style>\n",
       "<table border=\"1\" class=\"dataframe\">\n",
       "  <thead>\n",
       "    <tr style=\"text-align: right;\">\n",
       "      <th></th>\n",
       "      <th>review_id</th>\n",
       "      <th>customer_id</th>\n",
       "      <th>review_headline</th>\n",
       "      <th>review_body</th>\n",
       "      <th>sentiment</th>\n",
       "    </tr>\n",
       "  </thead>\n",
       "  <tbody>\n",
       "    <tr>\n",
       "      <th>0</th>\n",
       "      <td>R3FCHTWDX6M0NY</td>\n",
       "      <td>43758182</td>\n",
       "      <td>Five Stars</td>\n",
       "      <td>nice!</td>\n",
       "      <td>0</td>\n",
       "    </tr>\n",
       "    <tr>\n",
       "      <th>1</th>\n",
       "      <td>R1GNTVXZQMKWHW</td>\n",
       "      <td>30156333</td>\n",
       "      <td>as advertised</td>\n",
       "      <td>had to build custom boxes and this worked perf...</td>\n",
       "      <td>0</td>\n",
       "    </tr>\n",
       "    <tr>\n",
       "      <th>2</th>\n",
       "      <td>R1UXFD06PQXGF8</td>\n",
       "      <td>47478367</td>\n",
       "      <td>I need help!</td>\n",
       "      <td>The instructions are so difficult I cant get i...</td>\n",
       "      <td>1</td>\n",
       "    </tr>\n",
       "    <tr>\n",
       "      <th>3</th>\n",
       "      <td>RSPOKAESK9MEY</td>\n",
       "      <td>36856462</td>\n",
       "      <td>It's a battery.</td>\n",
       "      <td>It's a battery.</td>\n",
       "      <td>0</td>\n",
       "    </tr>\n",
       "    <tr>\n",
       "      <th>4</th>\n",
       "      <td>R25JSD0FT6NTJC</td>\n",
       "      <td>23678831</td>\n",
       "      <td>Replaiment</td>\n",
       "      <td>I have not uses it yet but I'm sure it will wo...</td>\n",
       "      <td>1</td>\n",
       "    </tr>\n",
       "  </tbody>\n",
       "</table>\n",
       "</div>"
      ],
      "text/plain": [
       "        review_id  customer_id  review_headline  \\\n",
       "0  R3FCHTWDX6M0NY     43758182       Five Stars   \n",
       "1  R1GNTVXZQMKWHW     30156333    as advertised   \n",
       "2  R1UXFD06PQXGF8     47478367     I need help!   \n",
       "3   RSPOKAESK9MEY     36856462  It's a battery.   \n",
       "4  R25JSD0FT6NTJC     23678831       Replaiment   \n",
       "\n",
       "                                         review_body  sentiment  \n",
       "0                                              nice!          0  \n",
       "1  had to build custom boxes and this worked perf...          0  \n",
       "2  The instructions are so difficult I cant get i...          1  \n",
       "3                                    It's a battery.          0  \n",
       "4  I have not uses it yet but I'm sure it will wo...          1  "
      ]
     },
     "execution_count": 47,
     "metadata": {},
     "output_type": "execute_result"
    }
   ],
   "source": [
    "df_classification['sentiment'] = df_classification['sentiment'].apply(lambda x: 1 if x == 'Positive' else 0)\n",
    "df_classification.head()"
   ]
  },
  {
   "cell_type": "code",
   "execution_count": 48,
   "metadata": {},
   "outputs": [
    {
     "name": "stdout",
     "output_type": "stream",
     "text": [
      "X_train first entry: \n",
      "\n",
      " nice!\n",
      "\n",
      "\n",
      "X_train shape:  (750,)\n"
     ]
    }
   ],
   "source": [
    "from sklearn.model_selection import train_test_split\n",
    "X_train, X_test, y_train, y_test = train_test_split(df_classification['review_body'], df_classification['sentiment'], random_state = 0)\n",
    "print('X_train first entry: \\n\\n', X_train[0])\n",
    "print('\\n\\nX_train shape: ', X_train.shape)"
   ]
  },
  {
   "cell_type": "code",
   "execution_count": 49,
   "metadata": {},
   "outputs": [
    {
     "data": {
      "text/plain": [
       "CountVectorizer(analyzer='word', binary=False, decode_error='strict',\n",
       "                dtype=<class 'numpy.int64'>, encoding='utf-8', input='content',\n",
       "                lowercase=True, max_df=1.0, max_features=None, min_df=1,\n",
       "                ngram_range=(1, 1), preprocessor=None, stop_words=None,\n",
       "                strip_accents=None, token_pattern='(?u)\\\\b\\\\w\\\\w+\\\\b',\n",
       "                tokenizer=None, vocabulary=None)"
      ]
     },
     "execution_count": 49,
     "metadata": {},
     "output_type": "execute_result"
    }
   ],
   "source": [
    "from sklearn.feature_extraction.text import CountVectorizer\n",
    "vect = CountVectorizer().fit(X_train)\n",
    "vect"
   ]
  },
  {
   "cell_type": "code",
   "execution_count": 50,
   "metadata": {},
   "outputs": [
    {
     "data": {
      "text/plain": [
       "['00', 'forum', 'say']"
      ]
     },
     "execution_count": 50,
     "metadata": {},
     "output_type": "execute_result"
    }
   ],
   "source": [
    "vect.get_feature_names()[::2000]"
   ]
  },
  {
   "cell_type": "code",
   "execution_count": 51,
   "metadata": {},
   "outputs": [
    {
     "data": {
      "text/plain": [
       "5238"
      ]
     },
     "execution_count": 51,
     "metadata": {},
     "output_type": "execute_result"
    }
   ],
   "source": [
    "len(vect.get_feature_names())"
   ]
  },
  {
   "cell_type": "code",
   "execution_count": 52,
   "metadata": {},
   "outputs": [
    {
     "data": {
      "text/plain": [
       "<750x5238 sparse matrix of type '<class 'numpy.int64'>'\n",
       "\twith 34164 stored elements in Compressed Sparse Row format>"
      ]
     },
     "execution_count": 52,
     "metadata": {},
     "output_type": "execute_result"
    }
   ],
   "source": [
    "X_train_vectorized = vect.transform(X_train)\n",
    "X_train_vectorized"
   ]
  },
  {
   "cell_type": "code",
   "execution_count": 53,
   "metadata": {},
   "outputs": [
    {
     "data": {
      "text/plain": [
       "array([[0, 0, 0, ..., 0, 0, 0],\n",
       "       [0, 0, 0, ..., 0, 0, 0],\n",
       "       [0, 0, 0, ..., 0, 0, 0],\n",
       "       ...,\n",
       "       [0, 0, 0, ..., 0, 0, 0],\n",
       "       [0, 0, 0, ..., 0, 0, 0],\n",
       "       [0, 0, 0, ..., 0, 0, 0]], dtype=int64)"
      ]
     },
     "execution_count": 53,
     "metadata": {},
     "output_type": "execute_result"
    }
   ],
   "source": [
    "X_train_vectorized.toarray()"
   ]
  },
  {
   "cell_type": "code",
   "execution_count": 54,
   "metadata": {},
   "outputs": [
    {
     "data": {
      "text/plain": [
       "LogisticRegression(C=1.0, class_weight=None, dual=False, fit_intercept=True,\n",
       "                   intercept_scaling=1, l1_ratio=None, max_iter=100,\n",
       "                   multi_class='auto', n_jobs=None, penalty='l2',\n",
       "                   random_state=None, solver='lbfgs', tol=0.0001, verbose=0,\n",
       "                   warm_start=False)"
      ]
     },
     "execution_count": 54,
     "metadata": {},
     "output_type": "execute_result"
    }
   ],
   "source": [
    "from sklearn.linear_model import LogisticRegression\n",
    "model = LogisticRegression()\n",
    "model.fit(X_train_vectorized, y_train)"
   ]
  },
  {
   "cell_type": "code",
   "execution_count": 55,
   "metadata": {},
   "outputs": [
    {
     "name": "stdout",
     "output_type": "stream",
     "text": [
      "AUC:  0.7136561021453107\n"
     ]
    }
   ],
   "source": [
    "from sklearn.metrics import roc_auc_score\n",
    "predictions = model.predict(vect.transform(X_test))\n",
    "print('AUC: ', roc_auc_score(y_test, predictions))"
   ]
  },
  {
   "cell_type": "code",
   "execution_count": 56,
   "metadata": {},
   "outputs": [
    {
     "name": "stdout",
     "output_type": "stream",
     "text": [
      "Smallest Coefs: \n",
      "['best' 'perfect' 'used' 'great' 'take' 'easy' 'any' 'highly' 'perfectly'\n",
      " 'works']\n",
      "\n",
      "Largest Coefs: \n",
      "['not' 'delivery' 'didn' 'however' 'wish' 'does' 'poor' 'ok' 'advertised'\n",
      " 'bit']\n",
      "\n"
     ]
    }
   ],
   "source": [
    "import numpy as np\n",
    "feature_names = np.array(vect.get_feature_names())\n",
    "sorted_coef_index = model.coef_[0].argsort()\n",
    "print('Smallest Coefs: \\n{}\\n'.format(feature_names[sorted_coef_index[:10]]))\n",
    "print('Largest Coefs: \\n{}\\n'.format(feature_names[sorted_coef_index[:-11:-1]]))"
   ]
  },
  {
   "cell_type": "code",
   "execution_count": 57,
   "metadata": {},
   "outputs": [
    {
     "data": {
      "text/plain": [
       "1115"
      ]
     },
     "execution_count": 57,
     "metadata": {},
     "output_type": "execute_result"
    }
   ],
   "source": [
    "from sklearn.feature_extraction.text import TfidfVectorizer\n",
    "vect = TfidfVectorizer(min_df = 5).fit(X_train)\n",
    "len(vect.get_feature_names())"
   ]
  },
  {
   "cell_type": "code",
   "execution_count": 58,
   "metadata": {},
   "outputs": [
    {
     "name": "stdout",
     "output_type": "stream",
     "text": [
      "AUC:  0.7361462181606068\n"
     ]
    }
   ],
   "source": [
    "X_train_vectorized = vect.transform(X_train)\n",
    "model = LogisticRegression()\n",
    "model.fit(X_train_vectorized, y_train)\n",
    "predictions = model.predict(vect.transform(X_test))\n",
    "print('AUC: ', roc_auc_score(y_test, predictions))"
   ]
  },
  {
   "cell_type": "code",
   "execution_count": 59,
   "metadata": {},
   "outputs": [
    {
     "name": "stdout",
     "output_type": "stream",
     "text": [
      "Smallest Tfidf: \n",
      "['updated' 'menu' 'shocked' 'today' 'modes' '16' 'tech' 'example' 'users'\n",
      " 'background']\n",
      "\n",
      "Largest Tfidf: \n",
      "['wonderful' 'nice' 'excellent' 'amazing' 'good' 'product' 'perfect' 'ok'\n",
      " 'great' 'br']\n",
      "\n"
     ]
    }
   ],
   "source": [
    "feature_names = np.array(vect.get_feature_names())\n",
    "sorted_tfidf_index = X_train_vectorized.max(0).toarray()[0].argsort()\n",
    "print('Smallest Tfidf: \\n{}\\n'.format(feature_names[sorted_tfidf_index[:10]]))\n",
    "print('Largest Tfidf: \\n{}\\n'.format(feature_names[sorted_tfidf_index[:-11:-1]]))"
   ]
  },
  {
   "cell_type": "code",
   "execution_count": 60,
   "metadata": {},
   "outputs": [
    {
     "data": {
      "text/plain": [
       "2223"
      ]
     },
     "execution_count": 60,
     "metadata": {},
     "output_type": "execute_result"
    }
   ],
   "source": [
    "vect = CountVectorizer(min_df = 5, ngram_range = (1,2)).fit(X_train)\n",
    "X_train_vectorized = vect.transform(X_train)\n",
    "len(vect.get_feature_names())"
   ]
  },
  {
   "cell_type": "code",
   "execution_count": 61,
   "metadata": {},
   "outputs": [
    {
     "name": "stdout",
     "output_type": "stream",
     "text": [
      "AUC:  0.7271696156588242\n"
     ]
    }
   ],
   "source": [
    "model = LogisticRegression()\n",
    "model.fit(X_train_vectorized, y_train)\n",
    "predictions = model.predict(vect.transform(X_test))\n",
    "print('AUC: ', roc_auc_score(y_test, predictions))"
   ]
  },
  {
   "cell_type": "code",
   "execution_count": 62,
   "metadata": {},
   "outputs": [
    {
     "name": "stdout",
     "output_type": "stream",
     "text": [
      "Smallest Coef: \n",
      "['perfect' 'best' 'great' 'used' 'take' 'easy' 'any' 'not the' 'how'\n",
      " 'perfectly']\n",
      "\n",
      "Largest Coef: \n",
      "['delivery' 'not' 'bit' 'ok' 'the price' 'long' 'wrong' 'good product'\n",
      " 'channels' 'dont']\n",
      "\n"
     ]
    }
   ],
   "source": [
    "feature_names = np.array(vect.get_feature_names())\n",
    "sorted_coef_index = model.coef_[0].argsort()\n",
    "print('Smallest Coef: \\n{}\\n'.format(feature_names[sorted_coef_index][:10]))\n",
    "print('Largest Coef: \\n{}\\n'.format(feature_names[sorted_coef_index][:-11:-1]))"
   ]
  },
  {
   "cell_type": "code",
   "execution_count": 63,
   "metadata": {},
   "outputs": [],
   "source": [
    "data_unseen['Prediction'] = model.predict(vect.transform(data_unseen['review_body']))\n",
    "data_unseen['Prediction'] = data_unseen['Prediction'].apply(lambda x: 'Positive' if x == 1 else 'Negative')"
   ]
  },
  {
   "cell_type": "code",
   "execution_count": 64,
   "metadata": {},
   "outputs": [
    {
     "data": {
      "text/html": [
       "<div>\n",
       "<style scoped>\n",
       "    .dataframe tbody tr th:only-of-type {\n",
       "        vertical-align: middle;\n",
       "    }\n",
       "\n",
       "    .dataframe tbody tr th {\n",
       "        vertical-align: top;\n",
       "    }\n",
       "\n",
       "    .dataframe thead th {\n",
       "        text-align: right;\n",
       "    }\n",
       "</style>\n",
       "<table border=\"1\" class=\"dataframe\">\n",
       "  <thead>\n",
       "    <tr style=\"text-align: right;\">\n",
       "      <th></th>\n",
       "      <th>review_id</th>\n",
       "      <th>customer_id</th>\n",
       "      <th>review_headline</th>\n",
       "      <th>review_body</th>\n",
       "      <th>sentiment</th>\n",
       "      <th>Prediction</th>\n",
       "    </tr>\n",
       "  </thead>\n",
       "  <tbody>\n",
       "    <tr>\n",
       "      <th>0</th>\n",
       "      <td>R5QP9BEQHCHXU</td>\n",
       "      <td>14237851</td>\n",
       "      <td>cables</td>\n",
       "      <td>Cables work well and I needed some longer HDMI...</td>\n",
       "      <td>Negative</td>\n",
       "      <td>Negative</td>\n",
       "    </tr>\n",
       "    <tr>\n",
       "      <th>1</th>\n",
       "      <td>R1ZG28PSYYTZ76</td>\n",
       "      <td>32189944</td>\n",
       "      <td>Good sound, Easy to use</td>\n",
       "      <td>I haven't had it but for a few weeks. So far i...</td>\n",
       "      <td>Negative</td>\n",
       "      <td>Negative</td>\n",
       "    </tr>\n",
       "    <tr>\n",
       "      <th>2</th>\n",
       "      <td>RNDE78F9PG152</td>\n",
       "      <td>28826538</td>\n",
       "      <td>Fast shipping unlike others -- Beware</td>\n",
       "      <td>My new laptop did not support VGA cables, so I...</td>\n",
       "      <td>Negative</td>\n",
       "      <td>Negative</td>\n",
       "    </tr>\n",
       "    <tr>\n",
       "      <th>3</th>\n",
       "      <td>R16PQ52CH1LPJ2</td>\n",
       "      <td>4361260</td>\n",
       "      <td>great buy!</td>\n",
       "      <td>cheap and great quality. I swear these are bet...</td>\n",
       "      <td>Negative</td>\n",
       "      <td>Negative</td>\n",
       "    </tr>\n",
       "    <tr>\n",
       "      <th>4</th>\n",
       "      <td>RFJGBT2CL0BE9</td>\n",
       "      <td>52637759</td>\n",
       "      <td>Five Stars</td>\n",
       "      <td>Item delivered on time, was as described</td>\n",
       "      <td>Negative</td>\n",
       "      <td>Negative</td>\n",
       "    </tr>\n",
       "  </tbody>\n",
       "</table>\n",
       "</div>"
      ],
      "text/plain": [
       "        review_id  customer_id                        review_headline  \\\n",
       "0   R5QP9BEQHCHXU     14237851                                 cables   \n",
       "1  R1ZG28PSYYTZ76     32189944                Good sound, Easy to use   \n",
       "2   RNDE78F9PG152     28826538  Fast shipping unlike others -- Beware   \n",
       "3  R16PQ52CH1LPJ2      4361260                             great buy!   \n",
       "4   RFJGBT2CL0BE9     52637759                             Five Stars   \n",
       "\n",
       "                                         review_body sentiment Prediction  \n",
       "0  Cables work well and I needed some longer HDMI...  Negative   Negative  \n",
       "1  I haven't had it but for a few weeks. So far i...  Negative   Negative  \n",
       "2  My new laptop did not support VGA cables, so I...  Negative   Negative  \n",
       "3  cheap and great quality. I swear these are bet...  Negative   Negative  \n",
       "4           Item delivered on time, was as described  Negative   Negative  "
      ]
     },
     "execution_count": 64,
     "metadata": {},
     "output_type": "execute_result"
    }
   ],
   "source": [
    "data_unseen.head()"
   ]
  },
  {
   "cell_type": "markdown",
   "metadata": {},
   "source": [
    "## Confusion Matrix"
   ]
  },
  {
   "cell_type": "code",
   "execution_count": 65,
   "metadata": {},
   "outputs": [
    {
     "data": {
      "image/png": "[encoded data removed]",
      "text/plain": [
       "<Figure size 576x396 with 2 Axes>"
      ]
     },
     "metadata": {},
     "output_type": "display_data"
    }
   ],
   "source": [
    "import pandas as pd\n",
    "import seaborn as sn\n",
    "import matplotlib.pyplot as plt\n",
    "\n",
    "data = {'y_Actual':    data_unseen['sentiment'],\n",
    "        'y_Predicted': data_unseen['Prediction']\n",
    "        }\n",
    "\n",
    "df = pd.DataFrame(data, columns=['y_Actual','y_Predicted'])\n",
    "confusion_matrix = pd.crosstab(df['y_Actual'], df['y_Predicted'], rownames=['Actual'], colnames=['Predicted'])\n",
    "\n",
    "sn.heatmap(confusion_matrix, annot=True)\n",
    "plt.show()"
   ]
  }
 ],
 "metadata": {
  "kernelspec": {
   "display_name": "Python 3",
   "language": "python",
   "name": "python3"
  },
  "language_info": {
   "codemirror_mode": {
    "name": "ipython",
    "version": 3
   },
   "file_extension": ".py",
   "mimetype": "text/x-python",
   "name": "python",
   "nbconvert_exporter": "python",
   "pygments_lexer": "ipython3",
   "version": "3.7.7"
  }
 },
 "nbformat": 4,
 "nbformat_minor": 4
}
