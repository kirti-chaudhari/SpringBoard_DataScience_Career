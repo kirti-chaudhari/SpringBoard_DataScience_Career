{
 "cells": [
  {
   "cell_type": "code",
   "execution_count": 7,
   "metadata": {},
   "outputs": [],
   "source": [
    "import pandas as pd\n",
    "\n",
    "import seaborn as sns\n",
    "import matplotlib.pyplot as plt\n",
    "sns.set(style=\"whitegrid\")"
   ]
  },
  {
   "cell_type": "code",
   "execution_count": 8,
   "metadata": {
    "tags": []
   },
   "outputs": [
    {
     "output_type": "stream",
     "name": "stdout",
     "text": "Volume in drive C is Local Disk\n Volume Serial Number is 8471-B1A1\n\n Directory of C:\\Users\\kirti\\Downloads\\AmazonReviewData\n\n08/17/2020  06:10 PM    <DIR>          .\n08/17/2020  06:10 PM    <DIR>          ..\n08/17/2020  06:10 PM       698,828,243 amazon_reviews_us_Electronics_v1_00.tsv.gz\n               1 File(s)    698,828,243 bytes\n               2 Dir(s)  12,549,308,416 bytes free\n"
    }
   ],
   "source": [
    "!dir \"C:\\Users\\kirti\\Downloads\\AmazonReviewData\""
   ]
  },
  {
   "cell_type": "markdown",
   "metadata": {},
   "source": [
    "## Dataset\n",
    "\n",
    "Amazon Customer Reviews (a.k.a. Product Reviews) is one of Amazon’s iconic products. In a period of over two decades since the first review in 1995, millions of Amazon customers have contributed over a hundred million reviews to express opinions and describe their experiences regarding products on the Amazon.com website.\n",
    "\n",
    "The data is available in TSV files in the amazon-reviews-pds S3 bucket in AWS US East Region. Each line in the data files corresponds to an individual review (tab delimited, with no quote and escape characters)\n",
    "\n",
    "### DATA COLUMNS:\n",
    "\n",
    "\n",
    "| Column Name | Description |\n",
    "| ------------| --------|\n",
    "| marketplace | 2 letter country code of the marketplace where the review was written.|\n",
    "| customer_id |Random identifier that can be used to aggregate reviews written by a single author.|\n",
    "| review_id   | The unique ID of the review.|\n",
    "| product_id  | The unique Product ID the review pertains to. In the multilingual dataset the reviews.for the same product in different countries can be grouped by the same product_id.|\n",
    "| product_parent | Random identifier that can be used to aggregate reviews for the same product.|\n",
    "| product_title  | Title of the product.|\n",
    "| product_category |Broad product category that can be used to group reviews.|\n",
    "                    (also used to group the dataset into coherent parts).\n",
    "| star_rating |The 1-5 star rating of the review.|\n",
    "| helpful_votes |Number of helpful votes.|\n",
    "| total_votes |  Number of total votes the review received.|\n",
    "| vine | Review was written as part of the Vine program.|\n",
    "| verified_purchase| The review is on a verified purchase.|\n",
    "| review_headline | The title of the review.|\n",
    "| review_body | The review text.|\n",
    "| review_date |The date the review was written.|\n",
    "\n",
    "\n",
    "\n",
    "### DATA FORMAT\n",
    "Tab ('\\t') separated text file, without quote or escape characters.\n",
    "First line in each file is header; 1 line corresponds to 1 record.\n",
    "\n",
    "### US REVIEWS DATASET\n",
    "**Electronics Category** : https://s3.amazonaws.com/amazon-reviews-pds/tsv/amazon_reviews_us_Electronics_v1_00.tsv.gz"
   ]
  },
  {
   "cell_type": "code",
   "execution_count": 6,
   "metadata": {},
   "outputs": [
    {
     "output_type": "error",
     "ename": "NameError",
     "evalue": "name 'pd' is not defined",
     "traceback": [
      "\u001b[1;31m---------------------------------------------------------------------------\u001b[0m",
      "\u001b[1;31mNameError\u001b[0m                                 Traceback (most recent call last)",
      "\u001b[1;32m<ipython-input-6-8fa94eb0bd52>\u001b[0m in \u001b[0;36m<module>\u001b[1;34m\u001b[0m\n\u001b[0;32m      1\u001b[0m \u001b[0mDATA_HOME\u001b[0m\u001b[1;33m=\u001b[0m\u001b[1;34m\"C:/Users/kirti/Downloads/AmazonReviewData/\"\u001b[0m\u001b[1;33m\u001b[0m\u001b[1;33m\u001b[0m\u001b[0m\n\u001b[1;32m----> 2\u001b[1;33m \u001b[0mdf_electronics\u001b[0m \u001b[1;33m=\u001b[0m \u001b[0mpd\u001b[0m\u001b[1;33m.\u001b[0m\u001b[0mread_csv\u001b[0m\u001b[1;33m(\u001b[0m\u001b[0mDATA_HOME\u001b[0m \u001b[1;33m+\u001b[0m\u001b[1;34m'amazon_reviews_us_Electronics_v1_00.tsv.gz'\u001b[0m\u001b[1;33m,\u001b[0m \u001b[0msep\u001b[0m\u001b[1;33m=\u001b[0m\u001b[1;34m\"\\t\"\u001b[0m\u001b[1;33m,\u001b[0m \u001b[0mheader\u001b[0m\u001b[1;33m=\u001b[0m\u001b[1;36m0\u001b[0m\u001b[1;33m,\u001b[0m \u001b[0merror_bad_lines\u001b[0m\u001b[1;33m=\u001b[0m\u001b[1;32mFalse\u001b[0m\u001b[1;33m)\u001b[0m\u001b[1;33m\u001b[0m\u001b[1;33m\u001b[0m\u001b[0m\n\u001b[0m",
      "\u001b[1;31mNameError\u001b[0m: name 'pd' is not defined"
     ]
    }
   ],
   "source": [
    "DATA_HOME=\"C:/Users/kirti/Downloads/AmazonReviewData/\"\n",
    "df_electronics = pd.read_csv(DATA_HOME +'amazon_reviews_us_Electronics_v1_00.tsv.gz', sep=\"\\t\", header=0, error_bad_lines=False)"
   ]
  },
  {
   "cell_type": "code",
   "execution_count": 4,
   "metadata": {},
   "outputs": [
    {
     "data": {
      "text/html": [
       "<div>\n",
       "<style scoped>\n",
       "    .dataframe tbody tr th:only-of-type {\n",
       "        vertical-align: middle;\n",
       "    }\n",
       "\n",
       "    .dataframe tbody tr th {\n",
       "        vertical-align: top;\n",
       "    }\n",
       "\n",
       "    .dataframe thead th {\n",
       "        text-align: right;\n",
       "    }\n",
       "</style>\n",
       "<table border=\"1\" class=\"dataframe\">\n",
       "  <thead>\n",
       "    <tr style=\"text-align: right;\">\n",
       "      <th></th>\n",
       "      <th>marketplace</th>\n",
       "      <th>customer_id</th>\n",
       "      <th>review_id</th>\n",
       "      <th>product_id</th>\n",
       "      <th>product_parent</th>\n",
       "      <th>product_title</th>\n",
       "      <th>product_category</th>\n",
       "      <th>star_rating</th>\n",
       "      <th>helpful_votes</th>\n",
       "      <th>total_votes</th>\n",
       "      <th>vine</th>\n",
       "      <th>verified_purchase</th>\n",
       "      <th>review_headline</th>\n",
       "      <th>review_body</th>\n",
       "      <th>review_date</th>\n",
       "    </tr>\n",
       "  </thead>\n",
       "  <tbody>\n",
       "    <tr>\n",
       "      <th>0</th>\n",
       "      <td>US</td>\n",
       "      <td>41409413</td>\n",
       "      <td>R2MTG1GCZLR2DK</td>\n",
       "      <td>B00428R89M</td>\n",
       "      <td>112201306</td>\n",
       "      <td>yoomall 5M Antenna WIFI RP-SMA Female to Male ...</td>\n",
       "      <td>Electronics</td>\n",
       "      <td>5</td>\n",
       "      <td>0</td>\n",
       "      <td>0</td>\n",
       "      <td>N</td>\n",
       "      <td>Y</td>\n",
       "      <td>Five Stars</td>\n",
       "      <td>As described.</td>\n",
       "      <td>2015-08-31</td>\n",
       "    </tr>\n",
       "    <tr>\n",
       "      <th>1</th>\n",
       "      <td>US</td>\n",
       "      <td>49668221</td>\n",
       "      <td>R2HBOEM8LE9928</td>\n",
       "      <td>B000068O48</td>\n",
       "      <td>734576678</td>\n",
       "      <td>Hosa GPM-103 3.5mm TRS to 1/4\" TRS Adaptor</td>\n",
       "      <td>Electronics</td>\n",
       "      <td>5</td>\n",
       "      <td>0</td>\n",
       "      <td>0</td>\n",
       "      <td>N</td>\n",
       "      <td>Y</td>\n",
       "      <td>It works as advertising.</td>\n",
       "      <td>It works as advertising.</td>\n",
       "      <td>2015-08-31</td>\n",
       "    </tr>\n",
       "    <tr>\n",
       "      <th>2</th>\n",
       "      <td>US</td>\n",
       "      <td>12338275</td>\n",
       "      <td>R1P4RW1R9FDPEE</td>\n",
       "      <td>B000GGKOG8</td>\n",
       "      <td>614448099</td>\n",
       "      <td>Channel Master Titan 2 Antenna Preamplifier</td>\n",
       "      <td>Electronics</td>\n",
       "      <td>5</td>\n",
       "      <td>1</td>\n",
       "      <td>1</td>\n",
       "      <td>N</td>\n",
       "      <td>Y</td>\n",
       "      <td>Five Stars</td>\n",
       "      <td>Works pissa</td>\n",
       "      <td>2015-08-31</td>\n",
       "    </tr>\n",
       "    <tr>\n",
       "      <th>3</th>\n",
       "      <td>US</td>\n",
       "      <td>38487968</td>\n",
       "      <td>R1EBPM82ENI67M</td>\n",
       "      <td>B000NU4OTA</td>\n",
       "      <td>72265257</td>\n",
       "      <td>LIMTECH Wall charger + USB Hotsync &amp; Charging ...</td>\n",
       "      <td>Electronics</td>\n",
       "      <td>1</td>\n",
       "      <td>0</td>\n",
       "      <td>0</td>\n",
       "      <td>N</td>\n",
       "      <td>Y</td>\n",
       "      <td>One Star</td>\n",
       "      <td>Did not work at all.</td>\n",
       "      <td>2015-08-31</td>\n",
       "    </tr>\n",
       "    <tr>\n",
       "      <th>4</th>\n",
       "      <td>US</td>\n",
       "      <td>23732619</td>\n",
       "      <td>R372S58V6D11AT</td>\n",
       "      <td>B00JOQIO6S</td>\n",
       "      <td>308169188</td>\n",
       "      <td>Skullcandy Air Raid Portable Bluetooth Speaker</td>\n",
       "      <td>Electronics</td>\n",
       "      <td>5</td>\n",
       "      <td>1</td>\n",
       "      <td>1</td>\n",
       "      <td>N</td>\n",
       "      <td>Y</td>\n",
       "      <td>Overall pleased with the item</td>\n",
       "      <td>Works well. Bass is somewhat lacking but is pr...</td>\n",
       "      <td>2015-08-31</td>\n",
       "    </tr>\n",
       "  </tbody>\n",
       "</table>\n",
       "</div>"
      ],
      "text/plain": [
       "  marketplace  customer_id       review_id  product_id  product_parent  \\\n",
       "0          US     41409413  R2MTG1GCZLR2DK  B00428R89M       112201306   \n",
       "1          US     49668221  R2HBOEM8LE9928  B000068O48       734576678   \n",
       "2          US     12338275  R1P4RW1R9FDPEE  B000GGKOG8       614448099   \n",
       "3          US     38487968  R1EBPM82ENI67M  B000NU4OTA        72265257   \n",
       "4          US     23732619  R372S58V6D11AT  B00JOQIO6S       308169188   \n",
       "\n",
       "                                       product_title product_category  \\\n",
       "0  yoomall 5M Antenna WIFI RP-SMA Female to Male ...      Electronics   \n",
       "1         Hosa GPM-103 3.5mm TRS to 1/4\" TRS Adaptor      Electronics   \n",
       "2        Channel Master Titan 2 Antenna Preamplifier      Electronics   \n",
       "3  LIMTECH Wall charger + USB Hotsync & Charging ...      Electronics   \n",
       "4     Skullcandy Air Raid Portable Bluetooth Speaker      Electronics   \n",
       "\n",
       "   star_rating  helpful_votes  total_votes vine verified_purchase  \\\n",
       "0            5              0            0    N                 Y   \n",
       "1            5              0            0    N                 Y   \n",
       "2            5              1            1    N                 Y   \n",
       "3            1              0            0    N                 Y   \n",
       "4            5              1            1    N                 Y   \n",
       "\n",
       "                 review_headline  \\\n",
       "0                     Five Stars   \n",
       "1       It works as advertising.   \n",
       "2                     Five Stars   \n",
       "3                       One Star   \n",
       "4  Overall pleased with the item   \n",
       "\n",
       "                                         review_body review_date  \n",
       "0                                      As described.  2015-08-31  \n",
       "1                           It works as advertising.  2015-08-31  \n",
       "2                                        Works pissa  2015-08-31  \n",
       "3                               Did not work at all.  2015-08-31  \n",
       "4  Works well. Bass is somewhat lacking but is pr...  2015-08-31  "
      ]
     },
     "execution_count": 4,
     "metadata": {},
     "output_type": "execute_result"
    }
   ],
   "source": [
    "df_electronics.head()"
   ]
  },
  {
   "cell_type": "code",
   "execution_count": 5,
   "metadata": {},
   "outputs": [],
   "source": [
    "df_electronics['review_date'] = pd.to_datetime(df_electronics.review_date)"
   ]
  },
  {
   "cell_type": "code",
   "execution_count": 6,
   "metadata": {},
   "outputs": [
    {
     "data": {
      "text/html": [
       "<div>\n",
       "<style scoped>\n",
       "    .dataframe tbody tr th:only-of-type {\n",
       "        vertical-align: middle;\n",
       "    }\n",
       "\n",
       "    .dataframe tbody tr th {\n",
       "        vertical-align: top;\n",
       "    }\n",
       "\n",
       "    .dataframe thead th {\n",
       "        text-align: right;\n",
       "    }\n",
       "</style>\n",
       "<table border=\"1\" class=\"dataframe\">\n",
       "  <thead>\n",
       "    <tr style=\"text-align: right;\">\n",
       "      <th></th>\n",
       "      <th>marketplace</th>\n",
       "      <th>customer_id</th>\n",
       "      <th>review_id</th>\n",
       "      <th>product_id</th>\n",
       "      <th>product_parent</th>\n",
       "      <th>product_title</th>\n",
       "      <th>product_category</th>\n",
       "      <th>star_rating</th>\n",
       "      <th>helpful_votes</th>\n",
       "      <th>total_votes</th>\n",
       "      <th>vine</th>\n",
       "      <th>verified_purchase</th>\n",
       "      <th>review_headline</th>\n",
       "      <th>review_body</th>\n",
       "      <th>review_date</th>\n",
       "    </tr>\n",
       "  </thead>\n",
       "  <tbody>\n",
       "    <tr>\n",
       "      <th>0</th>\n",
       "      <td>US</td>\n",
       "      <td>41409413</td>\n",
       "      <td>R2MTG1GCZLR2DK</td>\n",
       "      <td>B00428R89M</td>\n",
       "      <td>112201306</td>\n",
       "      <td>yoomall 5M Antenna WIFI RP-SMA Female to Male ...</td>\n",
       "      <td>Electronics</td>\n",
       "      <td>5</td>\n",
       "      <td>0</td>\n",
       "      <td>0</td>\n",
       "      <td>N</td>\n",
       "      <td>Y</td>\n",
       "      <td>Five Stars</td>\n",
       "      <td>As described.</td>\n",
       "      <td>2015-08-31</td>\n",
       "    </tr>\n",
       "    <tr>\n",
       "      <th>1</th>\n",
       "      <td>US</td>\n",
       "      <td>49668221</td>\n",
       "      <td>R2HBOEM8LE9928</td>\n",
       "      <td>B000068O48</td>\n",
       "      <td>734576678</td>\n",
       "      <td>Hosa GPM-103 3.5mm TRS to 1/4\" TRS Adaptor</td>\n",
       "      <td>Electronics</td>\n",
       "      <td>5</td>\n",
       "      <td>0</td>\n",
       "      <td>0</td>\n",
       "      <td>N</td>\n",
       "      <td>Y</td>\n",
       "      <td>It works as advertising.</td>\n",
       "      <td>It works as advertising.</td>\n",
       "      <td>2015-08-31</td>\n",
       "    </tr>\n",
       "    <tr>\n",
       "      <th>2</th>\n",
       "      <td>US</td>\n",
       "      <td>12338275</td>\n",
       "      <td>R1P4RW1R9FDPEE</td>\n",
       "      <td>B000GGKOG8</td>\n",
       "      <td>614448099</td>\n",
       "      <td>Channel Master Titan 2 Antenna Preamplifier</td>\n",
       "      <td>Electronics</td>\n",
       "      <td>5</td>\n",
       "      <td>1</td>\n",
       "      <td>1</td>\n",
       "      <td>N</td>\n",
       "      <td>Y</td>\n",
       "      <td>Five Stars</td>\n",
       "      <td>Works pissa</td>\n",
       "      <td>2015-08-31</td>\n",
       "    </tr>\n",
       "    <tr>\n",
       "      <th>3</th>\n",
       "      <td>US</td>\n",
       "      <td>38487968</td>\n",
       "      <td>R1EBPM82ENI67M</td>\n",
       "      <td>B000NU4OTA</td>\n",
       "      <td>72265257</td>\n",
       "      <td>LIMTECH Wall charger + USB Hotsync &amp; Charging ...</td>\n",
       "      <td>Electronics</td>\n",
       "      <td>1</td>\n",
       "      <td>0</td>\n",
       "      <td>0</td>\n",
       "      <td>N</td>\n",
       "      <td>Y</td>\n",
       "      <td>One Star</td>\n",
       "      <td>Did not work at all.</td>\n",
       "      <td>2015-08-31</td>\n",
       "    </tr>\n",
       "    <tr>\n",
       "      <th>4</th>\n",
       "      <td>US</td>\n",
       "      <td>23732619</td>\n",
       "      <td>R372S58V6D11AT</td>\n",
       "      <td>B00JOQIO6S</td>\n",
       "      <td>308169188</td>\n",
       "      <td>Skullcandy Air Raid Portable Bluetooth Speaker</td>\n",
       "      <td>Electronics</td>\n",
       "      <td>5</td>\n",
       "      <td>1</td>\n",
       "      <td>1</td>\n",
       "      <td>N</td>\n",
       "      <td>Y</td>\n",
       "      <td>Overall pleased with the item</td>\n",
       "      <td>Works well. Bass is somewhat lacking but is pr...</td>\n",
       "      <td>2015-08-31</td>\n",
       "    </tr>\n",
       "  </tbody>\n",
       "</table>\n",
       "</div>"
      ],
      "text/plain": [
       "  marketplace  customer_id       review_id  product_id  product_parent  \\\n",
       "0          US     41409413  R2MTG1GCZLR2DK  B00428R89M       112201306   \n",
       "1          US     49668221  R2HBOEM8LE9928  B000068O48       734576678   \n",
       "2          US     12338275  R1P4RW1R9FDPEE  B000GGKOG8       614448099   \n",
       "3          US     38487968  R1EBPM82ENI67M  B000NU4OTA        72265257   \n",
       "4          US     23732619  R372S58V6D11AT  B00JOQIO6S       308169188   \n",
       "\n",
       "                                       product_title product_category  \\\n",
       "0  yoomall 5M Antenna WIFI RP-SMA Female to Male ...      Electronics   \n",
       "1         Hosa GPM-103 3.5mm TRS to 1/4\" TRS Adaptor      Electronics   \n",
       "2        Channel Master Titan 2 Antenna Preamplifier      Electronics   \n",
       "3  LIMTECH Wall charger + USB Hotsync & Charging ...      Electronics   \n",
       "4     Skullcandy Air Raid Portable Bluetooth Speaker      Electronics   \n",
       "\n",
       "   star_rating  helpful_votes  total_votes vine verified_purchase  \\\n",
       "0            5              0            0    N                 Y   \n",
       "1            5              0            0    N                 Y   \n",
       "2            5              1            1    N                 Y   \n",
       "3            1              0            0    N                 Y   \n",
       "4            5              1            1    N                 Y   \n",
       "\n",
       "                 review_headline  \\\n",
       "0                     Five Stars   \n",
       "1       It works as advertising.   \n",
       "2                     Five Stars   \n",
       "3                       One Star   \n",
       "4  Overall pleased with the item   \n",
       "\n",
       "                                         review_body review_date  \n",
       "0                                      As described.  2015-08-31  \n",
       "1                           It works as advertising.  2015-08-31  \n",
       "2                                        Works pissa  2015-08-31  \n",
       "3                               Did not work at all.  2015-08-31  \n",
       "4  Works well. Bass is somewhat lacking but is pr...  2015-08-31  "
      ]
     },
     "execution_count": 6,
     "metadata": {},
     "output_type": "execute_result"
    }
   ],
   "source": [
    "df_electronics.head()"
   ]
  },
  {
   "cell_type": "code",
   "execution_count": 7,
   "metadata": {},
   "outputs": [
    {
     "data": {
      "text/plain": [
       "marketplace                  object\n",
       "customer_id                   int64\n",
       "review_id                    object\n",
       "product_id                   object\n",
       "product_parent                int64\n",
       "product_title                object\n",
       "product_category             object\n",
       "star_rating                   int64\n",
       "helpful_votes                 int64\n",
       "total_votes                   int64\n",
       "vine                         object\n",
       "verified_purchase            object\n",
       "review_headline              object\n",
       "review_body                  object\n",
       "review_date          datetime64[ns]\n",
       "dtype: object"
      ]
     },
     "execution_count": 7,
     "metadata": {},
     "output_type": "execute_result"
    }
   ],
   "source": [
    "df_electronics.dtypes"
   ]
  },
  {
   "cell_type": "markdown",
   "metadata": {},
   "source": [
    "## Monthly Trend of Review\n"
   ]
  },
  {
   "cell_type": "code",
   "execution_count": 8,
   "metadata": {},
   "outputs": [
    {
     "data": {
      "image/png": "[encoded data removed]",
      "text/plain": [
       "<Figure size 1440x864 with 1 Axes>"
      ]
     },
     "metadata": {},
     "output_type": "display_data"
    }
   ],
   "source": [
    "df_review_trend = df_electronics.groupby(['review_date'])['review_id'].count().reset_index()\n",
    "\n",
    "f, ax = plt.subplots(figsize=(20, 12))\n",
    "\n",
    "ax = sns.lineplot(x=\"review_date\", y=\"review_id\",\n",
    "                  markers=True, dashes=False, data=df_review_trend)"
   ]
  },
  {
   "cell_type": "markdown",
   "metadata": {},
   "source": [
    "## Count Per Review"
   ]
  },
  {
   "cell_type": "code",
   "execution_count": 9,
   "metadata": {},
   "outputs": [
    {
     "data": {
      "image/png": "[encoded data removed]",
      "text/plain": [
       "<Figure size 1440x864 with 1 Axes>"
      ]
     },
     "metadata": {},
     "output_type": "display_data"
    }
   ],
   "source": [
    "df_star_rating = df_electronics.groupby(['star_rating'])['review_id'].count()\n",
    "df_star_rating = df_star_rating.to_frame(name='count').sort_values(by='count', ascending=False).reset_index()\n",
    "\n",
    "f, ax = plt.subplots(figsize=(20, 12))\n",
    "\n",
    "ax = sns.barplot(x=\"star_rating\", y=\"count\",data=df_star_rating)"
   ]
  },
  {
   "cell_type": "markdown",
   "metadata": {},
   "source": [
    "## Data Preparation"
   ]
  },
  {
   "cell_type": "markdown",
   "metadata": {},
   "source": [
    "### Check and Replace Null values"
   ]
  },
  {
   "cell_type": "code",
   "execution_count": 10,
   "metadata": {},
   "outputs": [
    {
     "data": {
      "text/plain": [
       "customer_id         0\n",
       "star_rating         0\n",
       "review_headline    31\n",
       "review_body        88\n",
       "dtype: int64"
      ]
     },
     "execution_count": 10,
     "metadata": {},
     "output_type": "execute_result"
    }
   ],
   "source": [
    "df_reviews = df_electronics[['customer_id','star_rating','review_headline','review_body']]\n",
    "df_reviews.isnull().sum()"
   ]
  },
  {
   "cell_type": "code",
   "execution_count": 11,
   "metadata": {},
   "outputs": [
    {
     "data": {
      "text/plain": [
       "customer_id        0\n",
       "star_rating        0\n",
       "review_headline    0\n",
       "review_body        0\n",
       "dtype: int64"
      ]
     },
     "execution_count": 11,
     "metadata": {},
     "output_type": "execute_result"
    }
   ],
   "source": [
    "df_reviews = df_reviews.dropna()\n",
    "df_reviews.isnull().sum()"
   ]
  },
  {
   "cell_type": "code",
   "execution_count": 12,
   "metadata": {},
   "outputs": [
    {
     "data": {
      "image/png": "[encoded data removed]",
      "text/plain": [
       "<Figure size 1440x864 with 1 Axes>"
      ]
     },
     "metadata": {},
     "output_type": "display_data"
    }
   ],
   "source": [
    "df_reviews['sentiment'] = df_reviews['star_rating'].apply(lambda x: 'Positive' if x <= 4 else 'Negative')\n",
    "\n",
    "df_sentiments = df_reviews['sentiment'].value_counts().reset_index(name='Count').rename(columns={'index': 'Sentiment'})\n",
    "\n",
    "f, ax = plt.subplots(figsize=(20, 12))\n",
    "\n",
    "ax = sns.barplot(x=\"Sentiment\", y=\"Count\",data=df_sentiments)"
   ]
  },
  {
   "cell_type": "markdown",
   "metadata": {},
   "source": [
    "### NLTK Work\n",
    "\n",
    "- Cleanup - lowercase , remove special chars\n",
    "- remove stop words\n",
    "- Tokenizer\n",
    "- Train, Test data, Fewature extraction\n",
    "- Visualization (Wordcloud, word frequency)\n",
    "- Final Conclusion"
   ]
  }
 ],
 "metadata": {
  "kernelspec": {
   "display_name": "Python 3",
   "language": "python",
   "name": "python3"
  },
  "language_info": {
   "codemirror_mode": {
    "name": "ipython",
    "version": 3
   },
   "file_extension": ".py",
   "mimetype": "text/x-python",
   "name": "python",
   "nbconvert_exporter": "python",
   "pygments_lexer": "ipython3",
   "version": "3.7.7"
  }
 },
 "nbformat": 4,
 "nbformat_minor": 4
}