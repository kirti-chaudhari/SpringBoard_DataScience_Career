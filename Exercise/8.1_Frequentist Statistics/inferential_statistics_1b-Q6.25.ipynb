{
 "cells": [
  {
   "cell_type": "markdown",
   "metadata": {},
   "source": [
    "# Inferential Statistics Ib - Frequentism"
   ]
  },
  {
   "cell_type": "markdown",
   "metadata": {},
   "source": [
    "## Learning objectives"
   ]
  },
  {
   "cell_type": "markdown",
   "metadata": {},
   "source": [
    "Welcome to the second Frequentist inference mini-project! Over the course of working on this mini-project and the previous frequentist mini-project, you'll learn the fundamental concepts associated with frequentist inference. The following list includes the topics you will become familiar with as you work through these two mini-projects:\n",
    "* the _z_-statistic\n",
    "* the _t_-statistic\n",
    "* the difference and relationship between the two\n",
    "* the Central Limit Theorem, its assumptions and consequences\n",
    "* how to estimate the population mean and standard deviation from a sample\n",
    "* the concept of a sampling distribution of a test statistic, particularly for the mean\n",
    "* how to combine these concepts to calculate confidence intervals and p-values\n",
    "* how those confidence intervals and p-values allow you to perform hypothesis (or A/B) tests"
   ]
  },
  {
   "cell_type": "markdown",
   "metadata": {},
   "source": [
    "## Prerequisites"
   ]
  },
  {
   "cell_type": "markdown",
   "metadata": {},
   "source": [
    "* what a random variable is\n",
    "* what a probability density function (pdf) is\n",
    "* what the cumulative density function is\n",
    "* a high-level sense of what the Normal distribution\n",
    "\n",
    "If these concepts are new to you, please take a few moments to Google these topics in order to get a sense of what they are and how you might use them.\n",
    "\n",
    "These two notebooks were designed to bridge the gap between having a basic understanding of probability and random variables and being able to apply these concepts in Python. This second frequentist inference mini-project focuses on a real-world application of this type of inference to give you further practice using these concepts. "
   ]
  },
  {
   "cell_type": "markdown",
   "metadata": {},
   "source": [
    "In the previous notebook, we used only data from a known normal distribution. You'll now tackle real data, rather than simulated data, and answer some relevant real-world business problems using the data."
   ]
  },
  {
   "cell_type": "markdown",
   "metadata": {},
   "source": [
    "## Hospital medical charges"
   ]
  },
  {
   "cell_type": "markdown",
   "metadata": {},
   "source": [
    "Imagine that a hospital has hired you as their data analyst. An administrator is working on the hospital's business operations plan and needs you to help them answer some business questions. This mini-project, as well as the bootstrap and Bayesian inference mini-projects also found in this unit are designed to illustrate how each of the inferential statistics methods have their uses for different use cases. In this assignment notebook, you're going to use frequentist statistical inference on a data sample to answer the questions:\n",
    "* has the hospital's revenue stream fallen below a key threshold?\n",
    "* are patients with insurance really charged different amounts than those without?\n",
    "Answering that last question with a frequentist approach makes some assumptions, or requires some knowledge, about the two groups. In the next mini-project, you'll use bootstrapping to test that assumption. And in the final mini-project of the unit, you're going to create a model for simulating _individual_ charges (not a sampling distribution) that the hospital can use to model a range of scenarios."
   ]
  },
  {
   "cell_type": "markdown",
   "metadata": {},
   "source": [
    "We are going to use some data on medical charges obtained from [Kaggle](https://www.kaggle.com/easonlai/sample-insurance-claim-prediction-dataset). For the purposes of this exercise, assume the observations are the result of random sampling from our one hospital. Recall in the previous assignment, we introduced the Central Limit Theorem (CLT), and how it tells us that the distributions of sample statistics approach a normal distribution as $n$ increases. The amazing thing about this is that it applies to the sampling distributions of statistics that have been calculated from even highly non-normal distributions of data. Remember, also, that hypothesis testing is very much based on making inferences about such sample statistics. You're going to rely heavily on the CLT to apply frequentist (parametric) tests to answer the questions in this notebook."
   ]
  },
  {
   "cell_type": "code",
   "execution_count": 2,
   "metadata": {},
   "outputs": [],
   "source": [
    "import pandas as pd\n",
    "import numpy as np\n",
    "import matplotlib.pyplot as plt\n",
    "from scipy.stats import t\n",
    "from numpy.random import seed\n",
    "medical = pd.read_csv('data/insurance2.csv')"
   ]
  },
  {
   "cell_type": "code",
   "execution_count": 3,
   "metadata": {},
   "outputs": [
    {
     "output_type": "execute_result",
     "data": {
      "text/plain": "(1338, 8)"
     },
     "metadata": {},
     "execution_count": 3
    }
   ],
   "source": [
    "medical.shape"
   ]
  },
  {
   "cell_type": "code",
   "execution_count": 4,
   "metadata": {},
   "outputs": [
    {
     "output_type": "execute_result",
     "data": {
      "text/plain": "   age  sex     bmi  children  smoker  region      charges  insuranceclaim\n0   19    0  27.900         0       1       3  16884.92400               1\n1   18    1  33.770         1       0       2   1725.55230               1\n2   28    1  33.000         3       0       2   4449.46200               0\n3   33    1  22.705         0       0       1  21984.47061               0\n4   32    1  28.880         0       0       1   3866.85520               1",
      "text/html": "<div>\n<style scoped>\n    .dataframe tbody tr th:only-of-type {\n        vertical-align: middle;\n    }\n\n    .dataframe tbody tr th {\n        vertical-align: top;\n    }\n\n    .dataframe thead th {\n        text-align: right;\n    }\n</style>\n<table border=\"1\" class=\"dataframe\">\n  <thead>\n    <tr style=\"text-align: right;\">\n      <th></th>\n      <th>age</th>\n      <th>sex</th>\n      <th>bmi</th>\n      <th>children</th>\n      <th>smoker</th>\n      <th>region</th>\n      <th>charges</th>\n      <th>insuranceclaim</th>\n    </tr>\n  </thead>\n  <tbody>\n    <tr>\n      <th>0</th>\n      <td>19</td>\n      <td>0</td>\n      <td>27.900</td>\n      <td>0</td>\n      <td>1</td>\n      <td>3</td>\n      <td>16884.92400</td>\n      <td>1</td>\n    </tr>\n    <tr>\n      <th>1</th>\n      <td>18</td>\n      <td>1</td>\n      <td>33.770</td>\n      <td>1</td>\n      <td>0</td>\n      <td>2</td>\n      <td>1725.55230</td>\n      <td>1</td>\n    </tr>\n    <tr>\n      <th>2</th>\n      <td>28</td>\n      <td>1</td>\n      <td>33.000</td>\n      <td>3</td>\n      <td>0</td>\n      <td>2</td>\n      <td>4449.46200</td>\n      <td>0</td>\n    </tr>\n    <tr>\n      <th>3</th>\n      <td>33</td>\n      <td>1</td>\n      <td>22.705</td>\n      <td>0</td>\n      <td>0</td>\n      <td>1</td>\n      <td>21984.47061</td>\n      <td>0</td>\n    </tr>\n    <tr>\n      <th>4</th>\n      <td>32</td>\n      <td>1</td>\n      <td>28.880</td>\n      <td>0</td>\n      <td>0</td>\n      <td>1</td>\n      <td>3866.85520</td>\n      <td>1</td>\n    </tr>\n  </tbody>\n</table>\n</div>"
     },
     "metadata": {},
     "execution_count": 4
    }
   ],
   "source": [
    "medical.head()"
   ]
  },
  {
   "cell_type": "markdown",
   "metadata": {},
   "source": [
    "__Q:__ Plot the histogram of charges and calculate the mean and standard deviation. Comment on the appropriateness of these statistics for the data."
   ]
  },
  {
   "cell_type": "markdown",
   "metadata": {},
   "source": [
    "__A:__"
   ]
  },
  {
   "cell_type": "code",
   "execution_count": 5,
   "metadata": {},
   "outputs": [
    {
     "output_type": "display_data",
     "data": {
      "text/plain": "<Figure size 432x288 with 1 Axes>",
      "image/svg+xml": "<?xml version=\"1.0\" encoding=\"utf-8\" standalone=\"no\"?>\r\n<!DOCTYPE svg PUBLIC \"-//W3C//DTD SVG 1.1//EN\"\r\n  \"http://www.w3.org/Graphics/SVG/1.1/DTD/svg11.dtd\">\r\n<!-- Created with matplotlib (https://matplotlib.org/) -->\r\n<svg height=\"252.018125pt\" version=\"1.1\" viewBox=\"0 0 372.425 252.018125\" width=\"372.425pt\" xmlns=\"http://www.w3.org/2000/svg\" xmlns:xlink=\"http://www.w3.org/1999/xlink\">\r\n <defs>\r\n  <style type=\"text/css\">\r\n*{stroke-linecap:butt;stroke-linejoin:round;}\r\n  </style>\r\n </defs>\r\n <g id=\"figure_1\">\r\n  <g id=\"patch_1\">\r\n   <path d=\"M -0 252.018125 \r\nL 372.425 252.018125 \r\nL 372.425 0 \r\nL -0 0 \r\nz\r\n\" style=\"fill:none;\"/>\r\n  </g>\r\n  <g id=\"axes_1\">\r\n   <g id=\"patch_2\">\r\n    <path d=\"M 26.925 228.14 \r\nL 361.725 228.14 \r\nL 361.725 10.7 \r\nL 26.925 10.7 \r\nz\r\n\" style=\"fill:#ffffff;\"/>\r\n   </g>\r\n   <g id=\"patch_3\">\r\n    <path clip-path=\"url(#p5c17d46a25)\" d=\"M 42.143182 228.14 \r\nL 45.186818 228.14 \r\nL 45.186818 32.887755 \r\nL 42.143182 32.887755 \r\nz\r\n\" style=\"fill:#1f77b4;\"/>\r\n   </g>\r\n   <g id=\"patch_4\">\r\n    <path clip-path=\"url(#p5c17d46a25)\" d=\"M 45.186818 228.14 \r\nL 48.230455 228.14 \r\nL 48.230455 21.054286 \r\nL 45.186818 21.054286 \r\nz\r\n\" style=\"fill:#1f77b4;\"/>\r\n   </g>\r\n   <g id=\"patch_5\">\r\n    <path clip-path=\"url(#p5c17d46a25)\" d=\"M 48.230455 228.14 \r\nL 51.274091 228.14 \r\nL 51.274091 65.429796 \r\nL 48.230455 65.429796 \r\nz\r\n\" style=\"fill:#1f77b4;\"/>\r\n   </g>\r\n   <g id=\"patch_6\">\r\n    <path clip-path=\"url(#p5c17d46a25)\" d=\"M 51.274091 228.14 \r\nL 54.317727 228.14 \r\nL 54.317727 77.263265 \r\nL 51.274091 77.263265 \r\nz\r\n\" style=\"fill:#1f77b4;\"/>\r\n   </g>\r\n   <g id=\"patch_7\">\r\n    <path clip-path=\"url(#p5c17d46a25)\" d=\"M 54.317727 228.14 \r\nL 57.361364 228.14 \r\nL 57.361364 95.013469 \r\nL 54.317727 95.013469 \r\nz\r\n\" style=\"fill:#1f77b4;\"/>\r\n   </g>\r\n   <g id=\"patch_8\">\r\n    <path clip-path=\"url(#p5c17d46a25)\" d=\"M 57.361364 228.14 \r\nL 60.405 228.14 \r\nL 60.405 47.679592 \r\nL 57.361364 47.679592 \r\nz\r\n\" style=\"fill:#1f77b4;\"/>\r\n   </g>\r\n   <g id=\"patch_9\">\r\n    <path clip-path=\"url(#p5c17d46a25)\" d=\"M 60.405 228.14 \r\nL 63.448636 228.14 \r\nL 63.448636 65.429796 \r\nL 60.405 65.429796 \r\nz\r\n\" style=\"fill:#1f77b4;\"/>\r\n   </g>\r\n   <g id=\"patch_10\">\r\n    <path clip-path=\"url(#p5c17d46a25)\" d=\"M 63.448636 228.14 \r\nL 66.492273 228.14 \r\nL 66.492273 124.597143 \r\nL 63.448636 124.597143 \r\nz\r\n\" style=\"fill:#1f77b4;\"/>\r\n   </g>\r\n   <g id=\"patch_11\">\r\n    <path clip-path=\"url(#p5c17d46a25)\" d=\"M 66.492273 228.14 \r\nL 69.535909 228.14 \r\nL 69.535909 83.18 \r\nL 66.492273 83.18 \r\nz\r\n\" style=\"fill:#1f77b4;\"/>\r\n   </g>\r\n   <g id=\"patch_12\">\r\n    <path clip-path=\"url(#p5c17d46a25)\" d=\"M 69.535909 228.14 \r\nL 72.579545 228.14 \r\nL 72.579545 83.18 \r\nL 69.535909 83.18 \r\nz\r\n\" style=\"fill:#1f77b4;\"/>\r\n   </g>\r\n   <g id=\"patch_13\">\r\n    <path clip-path=\"url(#p5c17d46a25)\" d=\"M 72.579545 228.14 \r\nL 75.623182 228.14 \r\nL 75.623182 127.55551 \r\nL 72.579545 127.55551 \r\nz\r\n\" style=\"fill:#1f77b4;\"/>\r\n   </g>\r\n   <g id=\"patch_14\">\r\n    <path clip-path=\"url(#p5c17d46a25)\" d=\"M 75.623182 228.14 \r\nL 78.666818 228.14 \r\nL 78.666818 62.471429 \r\nL 75.623182 62.471429 \r\nz\r\n\" style=\"fill:#1f77b4;\"/>\r\n   </g>\r\n   <g id=\"patch_15\">\r\n    <path clip-path=\"url(#p5c17d46a25)\" d=\"M 78.666818 228.14 \r\nL 81.710455 228.14 \r\nL 81.710455 124.597143 \r\nL 78.666818 124.597143 \r\nz\r\n\" style=\"fill:#1f77b4;\"/>\r\n   </g>\r\n   <g id=\"patch_16\">\r\n    <path clip-path=\"url(#p5c17d46a25)\" d=\"M 81.710455 228.14 \r\nL 84.754091 228.14 \r\nL 84.754091 89.096735 \r\nL 81.710455 89.096735 \r\nz\r\n\" style=\"fill:#1f77b4;\"/>\r\n   </g>\r\n   <g id=\"patch_17\">\r\n    <path clip-path=\"url(#p5c17d46a25)\" d=\"M 84.754091 228.14 \r\nL 87.797727 228.14 \r\nL 87.797727 130.513878 \r\nL 84.754091 130.513878 \r\nz\r\n\" style=\"fill:#1f77b4;\"/>\r\n   </g>\r\n   <g id=\"patch_18\">\r\n    <path clip-path=\"url(#p5c17d46a25)\" d=\"M 87.797727 228.14 \r\nL 90.841364 228.14 \r\nL 90.841364 109.805306 \r\nL 87.797727 109.805306 \r\nz\r\n\" style=\"fill:#1f77b4;\"/>\r\n   </g>\r\n   <g id=\"patch_19\">\r\n    <path clip-path=\"url(#p5c17d46a25)\" d=\"M 90.841364 228.14 \r\nL 93.885 228.14 \r\nL 93.885 89.096735 \r\nL 90.841364 89.096735 \r\nz\r\n\" style=\"fill:#1f77b4;\"/>\r\n   </g>\r\n   <g id=\"patch_20\">\r\n    <path clip-path=\"url(#p5c17d46a25)\" d=\"M 93.885 228.14 \r\nL 96.928636 228.14 \r\nL 96.928636 106.846939 \r\nL 93.885 106.846939 \r\nz\r\n\" style=\"fill:#1f77b4;\"/>\r\n   </g>\r\n   <g id=\"patch_21\">\r\n    <path clip-path=\"url(#p5c17d46a25)\" d=\"M 96.928636 228.14 \r\nL 99.972273 228.14 \r\nL 99.972273 121.638776 \r\nL 96.928636 121.638776 \r\nz\r\n\" style=\"fill:#1f77b4;\"/>\r\n   </g>\r\n   <g id=\"patch_22\">\r\n    <path clip-path=\"url(#p5c17d46a25)\" d=\"M 99.972273 228.14 \r\nL 103.015909 228.14 \r\nL 103.015909 142.347347 \r\nL 99.972273 142.347347 \r\nz\r\n\" style=\"fill:#1f77b4;\"/>\r\n   </g>\r\n   <g id=\"patch_23\">\r\n    <path clip-path=\"url(#p5c17d46a25)\" d=\"M 103.015909 228.14 \r\nL 106.059545 228.14 \r\nL 106.059545 157.139184 \r\nL 103.015909 157.139184 \r\nz\r\n\" style=\"fill:#1f77b4;\"/>\r\n   </g>\r\n   <g id=\"patch_24\">\r\n    <path clip-path=\"url(#p5c17d46a25)\" d=\"M 106.059545 228.14 \r\nL 109.103182 228.14 \r\nL 109.103182 166.014286 \r\nL 106.059545 166.014286 \r\nz\r\n\" style=\"fill:#1f77b4;\"/>\r\n   </g>\r\n   <g id=\"patch_25\">\r\n    <path clip-path=\"url(#p5c17d46a25)\" d=\"M 109.103182 228.14 \r\nL 112.146818 228.14 \r\nL 112.146818 204.473061 \r\nL 109.103182 204.473061 \r\nz\r\n\" style=\"fill:#1f77b4;\"/>\r\n   </g>\r\n   <g id=\"patch_26\">\r\n    <path clip-path=\"url(#p5c17d46a25)\" d=\"M 112.146818 228.14 \r\nL 115.190455 228.14 \r\nL 115.190455 201.514694 \r\nL 112.146818 201.514694 \r\nz\r\n\" style=\"fill:#1f77b4;\"/>\r\n   </g>\r\n   <g id=\"patch_27\">\r\n    <path clip-path=\"url(#p5c17d46a25)\" d=\"M 115.190455 228.14 \r\nL 118.234091 228.14 \r\nL 118.234091 201.514694 \r\nL 115.190455 201.514694 \r\nz\r\n\" style=\"fill:#1f77b4;\"/>\r\n   </g>\r\n   <g id=\"patch_28\">\r\n    <path clip-path=\"url(#p5c17d46a25)\" d=\"M 118.234091 228.14 \r\nL 121.277727 228.14 \r\nL 121.277727 198.556327 \r\nL 118.234091 198.556327 \r\nz\r\n\" style=\"fill:#1f77b4;\"/>\r\n   </g>\r\n   <g id=\"patch_29\">\r\n    <path clip-path=\"url(#p5c17d46a25)\" d=\"M 121.277727 228.14 \r\nL 124.321364 228.14 \r\nL 124.321364 195.597959 \r\nL 121.277727 195.597959 \r\nz\r\n\" style=\"fill:#1f77b4;\"/>\r\n   </g>\r\n   <g id=\"patch_30\">\r\n    <path clip-path=\"url(#p5c17d46a25)\" d=\"M 124.321364 228.14 \r\nL 127.365 228.14 \r\nL 127.365 201.514694 \r\nL 124.321364 201.514694 \r\nz\r\n\" style=\"fill:#1f77b4;\"/>\r\n   </g>\r\n   <g id=\"patch_31\">\r\n    <path clip-path=\"url(#p5c17d46a25)\" d=\"M 127.365 228.14 \r\nL 130.408636 228.14 \r\nL 130.408636 183.76449 \r\nL 127.365 183.76449 \r\nz\r\n\" style=\"fill:#1f77b4;\"/>\r\n   </g>\r\n   <g id=\"patch_32\">\r\n    <path clip-path=\"url(#p5c17d46a25)\" d=\"M 130.408636 228.14 \r\nL 133.452273 228.14 \r\nL 133.452273 189.681224 \r\nL 130.408636 189.681224 \r\nz\r\n\" style=\"fill:#1f77b4;\"/>\r\n   </g>\r\n   <g id=\"patch_33\">\r\n    <path clip-path=\"url(#p5c17d46a25)\" d=\"M 133.452273 228.14 \r\nL 136.495909 228.14 \r\nL 136.495909 195.597959 \r\nL 133.452273 195.597959 \r\nz\r\n\" style=\"fill:#1f77b4;\"/>\r\n   </g>\r\n   <g id=\"patch_34\">\r\n    <path clip-path=\"url(#p5c17d46a25)\" d=\"M 136.495909 228.14 \r\nL 139.539545 228.14 \r\nL 139.539545 201.514694 \r\nL 136.495909 201.514694 \r\nz\r\n\" style=\"fill:#1f77b4;\"/>\r\n   </g>\r\n   <g id=\"patch_35\">\r\n    <path clip-path=\"url(#p5c17d46a25)\" d=\"M 139.539545 228.14 \r\nL 142.583182 228.14 \r\nL 142.583182 192.639592 \r\nL 139.539545 192.639592 \r\nz\r\n\" style=\"fill:#1f77b4;\"/>\r\n   </g>\r\n   <g id=\"patch_36\">\r\n    <path clip-path=\"url(#p5c17d46a25)\" d=\"M 142.583182 228.14 \r\nL 145.626818 228.14 \r\nL 145.626818 198.556327 \r\nL 142.583182 198.556327 \r\nz\r\n\" style=\"fill:#1f77b4;\"/>\r\n   </g>\r\n   <g id=\"patch_37\">\r\n    <path clip-path=\"url(#p5c17d46a25)\" d=\"M 145.626818 228.14 \r\nL 148.670455 228.14 \r\nL 148.670455 216.306531 \r\nL 145.626818 216.306531 \r\nz\r\n\" style=\"fill:#1f77b4;\"/>\r\n   </g>\r\n   <g id=\"patch_38\">\r\n    <path clip-path=\"url(#p5c17d46a25)\" d=\"M 148.670455 228.14 \r\nL 151.714091 228.14 \r\nL 151.714091 201.514694 \r\nL 148.670455 201.514694 \r\nz\r\n\" style=\"fill:#1f77b4;\"/>\r\n   </g>\r\n   <g id=\"patch_39\">\r\n    <path clip-path=\"url(#p5c17d46a25)\" d=\"M 151.714091 228.14 \r\nL 154.757727 228.14 \r\nL 154.757727 207.431429 \r\nL 151.714091 207.431429 \r\nz\r\n\" style=\"fill:#1f77b4;\"/>\r\n   </g>\r\n   <g id=\"patch_40\">\r\n    <path clip-path=\"url(#p5c17d46a25)\" d=\"M 154.757727 228.14 \r\nL 157.801364 228.14 \r\nL 157.801364 192.639592 \r\nL 154.757727 192.639592 \r\nz\r\n\" style=\"fill:#1f77b4;\"/>\r\n   </g>\r\n   <g id=\"patch_41\">\r\n    <path clip-path=\"url(#p5c17d46a25)\" d=\"M 157.801364 228.14 \r\nL 160.845 228.14 \r\nL 160.845 213.348163 \r\nL 157.801364 213.348163 \r\nz\r\n\" style=\"fill:#1f77b4;\"/>\r\n   </g>\r\n   <g id=\"patch_42\">\r\n    <path clip-path=\"url(#p5c17d46a25)\" d=\"M 160.845 228.14 \r\nL 163.888636 228.14 \r\nL 163.888636 207.431429 \r\nL 160.845 207.431429 \r\nz\r\n\" style=\"fill:#1f77b4;\"/>\r\n   </g>\r\n   <g id=\"patch_43\">\r\n    <path clip-path=\"url(#p5c17d46a25)\" d=\"M 163.888636 228.14 \r\nL 166.932273 228.14 \r\nL 166.932273 219.264898 \r\nL 163.888636 219.264898 \r\nz\r\n\" style=\"fill:#1f77b4;\"/>\r\n   </g>\r\n   <g id=\"patch_44\">\r\n    <path clip-path=\"url(#p5c17d46a25)\" d=\"M 166.932273 228.14 \r\nL 169.975909 228.14 \r\nL 169.975909 204.473061 \r\nL 166.932273 204.473061 \r\nz\r\n\" style=\"fill:#1f77b4;\"/>\r\n   </g>\r\n   <g id=\"patch_45\">\r\n    <path clip-path=\"url(#p5c17d46a25)\" d=\"M 169.975909 228.14 \r\nL 173.019545 228.14 \r\nL 173.019545 216.306531 \r\nL 169.975909 216.306531 \r\nz\r\n\" style=\"fill:#1f77b4;\"/>\r\n   </g>\r\n   <g id=\"patch_46\">\r\n    <path clip-path=\"url(#p5c17d46a25)\" d=\"M 173.019545 228.14 \r\nL 176.063182 228.14 \r\nL 176.063182 213.348163 \r\nL 173.019545 213.348163 \r\nz\r\n\" style=\"fill:#1f77b4;\"/>\r\n   </g>\r\n   <g id=\"patch_47\">\r\n    <path clip-path=\"url(#p5c17d46a25)\" d=\"M 176.063182 228.14 \r\nL 179.106818 228.14 \r\nL 179.106818 213.348163 \r\nL 176.063182 213.348163 \r\nz\r\n\" style=\"fill:#1f77b4;\"/>\r\n   </g>\r\n   <g id=\"patch_48\">\r\n    <path clip-path=\"url(#p5c17d46a25)\" d=\"M 179.106818 228.14 \r\nL 182.150455 228.14 \r\nL 182.150455 222.223265 \r\nL 179.106818 222.223265 \r\nz\r\n\" style=\"fill:#1f77b4;\"/>\r\n   </g>\r\n   <g id=\"patch_49\">\r\n    <path clip-path=\"url(#p5c17d46a25)\" d=\"M 182.150455 228.14 \r\nL 185.194091 228.14 \r\nL 185.194091 213.348163 \r\nL 182.150455 213.348163 \r\nz\r\n\" style=\"fill:#1f77b4;\"/>\r\n   </g>\r\n   <g id=\"patch_50\">\r\n    <path clip-path=\"url(#p5c17d46a25)\" d=\"M 185.194091 228.14 \r\nL 188.237727 228.14 \r\nL 188.237727 225.181633 \r\nL 185.194091 225.181633 \r\nz\r\n\" style=\"fill:#1f77b4;\"/>\r\n   </g>\r\n   <g id=\"patch_51\">\r\n    <path clip-path=\"url(#p5c17d46a25)\" d=\"M 188.237727 228.14 \r\nL 191.281364 228.14 \r\nL 191.281364 225.181633 \r\nL 188.237727 225.181633 \r\nz\r\n\" style=\"fill:#1f77b4;\"/>\r\n   </g>\r\n   <g id=\"patch_52\">\r\n    <path clip-path=\"url(#p5c17d46a25)\" d=\"M 191.281364 228.14 \r\nL 194.325 228.14 \r\nL 194.325 225.181633 \r\nL 191.281364 225.181633 \r\nz\r\n\" style=\"fill:#1f77b4;\"/>\r\n   </g>\r\n   <g id=\"patch_53\">\r\n    <path clip-path=\"url(#p5c17d46a25)\" d=\"M 194.325 228.14 \r\nL 197.368636 228.14 \r\nL 197.368636 219.264898 \r\nL 194.325 219.264898 \r\nz\r\n\" style=\"fill:#1f77b4;\"/>\r\n   </g>\r\n   <g id=\"patch_54\">\r\n    <path clip-path=\"url(#p5c17d46a25)\" d=\"M 197.368636 228.14 \r\nL 200.412273 228.14 \r\nL 200.412273 219.264898 \r\nL 197.368636 219.264898 \r\nz\r\n\" style=\"fill:#1f77b4;\"/>\r\n   </g>\r\n   <g id=\"patch_55\">\r\n    <path clip-path=\"url(#p5c17d46a25)\" d=\"M 200.412273 228.14 \r\nL 203.455909 228.14 \r\nL 203.455909 207.431429 \r\nL 200.412273 207.431429 \r\nz\r\n\" style=\"fill:#1f77b4;\"/>\r\n   </g>\r\n   <g id=\"patch_56\">\r\n    <path clip-path=\"url(#p5c17d46a25)\" d=\"M 203.455909 228.14 \r\nL 206.499545 228.14 \r\nL 206.499545 204.473061 \r\nL 203.455909 204.473061 \r\nz\r\n\" style=\"fill:#1f77b4;\"/>\r\n   </g>\r\n   <g id=\"patch_57\">\r\n    <path clip-path=\"url(#p5c17d46a25)\" d=\"M 206.499545 228.14 \r\nL 209.543182 228.14 \r\nL 209.543182 216.306531 \r\nL 206.499545 216.306531 \r\nz\r\n\" style=\"fill:#1f77b4;\"/>\r\n   </g>\r\n   <g id=\"patch_58\">\r\n    <path clip-path=\"url(#p5c17d46a25)\" d=\"M 209.543182 228.14 \r\nL 212.586818 228.14 \r\nL 212.586818 204.473061 \r\nL 209.543182 204.473061 \r\nz\r\n\" style=\"fill:#1f77b4;\"/>\r\n   </g>\r\n   <g id=\"patch_59\">\r\n    <path clip-path=\"url(#p5c17d46a25)\" d=\"M 212.586818 228.14 \r\nL 215.630455 228.14 \r\nL 215.630455 216.306531 \r\nL 212.586818 216.306531 \r\nz\r\n\" style=\"fill:#1f77b4;\"/>\r\n   </g>\r\n   <g id=\"patch_60\">\r\n    <path clip-path=\"url(#p5c17d46a25)\" d=\"M 215.630455 228.14 \r\nL 218.674091 228.14 \r\nL 218.674091 204.473061 \r\nL 215.630455 204.473061 \r\nz\r\n\" style=\"fill:#1f77b4;\"/>\r\n   </g>\r\n   <g id=\"patch_61\">\r\n    <path clip-path=\"url(#p5c17d46a25)\" d=\"M 218.674091 228.14 \r\nL 221.717727 228.14 \r\nL 221.717727 210.389796 \r\nL 218.674091 210.389796 \r\nz\r\n\" style=\"fill:#1f77b4;\"/>\r\n   </g>\r\n   <g id=\"patch_62\">\r\n    <path clip-path=\"url(#p5c17d46a25)\" d=\"M 221.717727 228.14 \r\nL 224.761364 228.14 \r\nL 224.761364 204.473061 \r\nL 221.717727 204.473061 \r\nz\r\n\" style=\"fill:#1f77b4;\"/>\r\n   </g>\r\n   <g id=\"patch_63\">\r\n    <path clip-path=\"url(#p5c17d46a25)\" d=\"M 224.761364 228.14 \r\nL 227.805 228.14 \r\nL 227.805 210.389796 \r\nL 224.761364 210.389796 \r\nz\r\n\" style=\"fill:#1f77b4;\"/>\r\n   </g>\r\n   <g id=\"patch_64\">\r\n    <path clip-path=\"url(#p5c17d46a25)\" d=\"M 227.805 228.14 \r\nL 230.848636 228.14 \r\nL 230.848636 201.514694 \r\nL 227.805 201.514694 \r\nz\r\n\" style=\"fill:#1f77b4;\"/>\r\n   </g>\r\n   <g id=\"patch_65\">\r\n    <path clip-path=\"url(#p5c17d46a25)\" d=\"M 230.848636 228.14 \r\nL 233.892273 228.14 \r\nL 233.892273 210.389796 \r\nL 230.848636 210.389796 \r\nz\r\n\" style=\"fill:#1f77b4;\"/>\r\n   </g>\r\n   <g id=\"patch_66\">\r\n    <path clip-path=\"url(#p5c17d46a25)\" d=\"M 233.892273 228.14 \r\nL 236.935909 228.14 \r\nL 236.935909 207.431429 \r\nL 233.892273 207.431429 \r\nz\r\n\" style=\"fill:#1f77b4;\"/>\r\n   </g>\r\n   <g id=\"patch_67\">\r\n    <path clip-path=\"url(#p5c17d46a25)\" d=\"M 236.935909 228.14 \r\nL 239.979545 228.14 \r\nL 239.979545 222.223265 \r\nL 236.935909 222.223265 \r\nz\r\n\" style=\"fill:#1f77b4;\"/>\r\n   </g>\r\n   <g id=\"patch_68\">\r\n    <path clip-path=\"url(#p5c17d46a25)\" d=\"M 239.979545 228.14 \r\nL 243.023182 228.14 \r\nL 243.023182 204.473061 \r\nL 239.979545 204.473061 \r\nz\r\n\" style=\"fill:#1f77b4;\"/>\r\n   </g>\r\n   <g id=\"patch_69\">\r\n    <path clip-path=\"url(#p5c17d46a25)\" d=\"M 243.023182 228.14 \r\nL 246.066818 228.14 \r\nL 246.066818 213.348163 \r\nL 243.023182 213.348163 \r\nz\r\n\" style=\"fill:#1f77b4;\"/>\r\n   </g>\r\n   <g id=\"patch_70\">\r\n    <path clip-path=\"url(#p5c17d46a25)\" d=\"M 246.066818 228.14 \r\nL 249.110455 228.14 \r\nL 249.110455 222.223265 \r\nL 246.066818 222.223265 \r\nz\r\n\" style=\"fill:#1f77b4;\"/>\r\n   </g>\r\n   <g id=\"patch_71\">\r\n    <path clip-path=\"url(#p5c17d46a25)\" d=\"M 249.110455 228.14 \r\nL 252.154091 228.14 \r\nL 252.154091 207.431429 \r\nL 249.110455 207.431429 \r\nz\r\n\" style=\"fill:#1f77b4;\"/>\r\n   </g>\r\n   <g id=\"patch_72\">\r\n    <path clip-path=\"url(#p5c17d46a25)\" d=\"M 252.154091 228.14 \r\nL 255.197727 228.14 \r\nL 255.197727 213.348163 \r\nL 252.154091 213.348163 \r\nz\r\n\" style=\"fill:#1f77b4;\"/>\r\n   </g>\r\n   <g id=\"patch_73\">\r\n    <path clip-path=\"url(#p5c17d46a25)\" d=\"M 255.197727 228.14 \r\nL 258.241364 228.14 \r\nL 258.241364 225.181633 \r\nL 255.197727 225.181633 \r\nz\r\n\" style=\"fill:#1f77b4;\"/>\r\n   </g>\r\n   <g id=\"patch_74\">\r\n    <path clip-path=\"url(#p5c17d46a25)\" d=\"M 258.241364 228.14 \r\nL 261.285 228.14 \r\nL 261.285 207.431429 \r\nL 258.241364 207.431429 \r\nz\r\n\" style=\"fill:#1f77b4;\"/>\r\n   </g>\r\n   <g id=\"patch_75\">\r\n    <path clip-path=\"url(#p5c17d46a25)\" d=\"M 261.285 228.14 \r\nL 264.328636 228.14 \r\nL 264.328636 216.306531 \r\nL 261.285 216.306531 \r\nz\r\n\" style=\"fill:#1f77b4;\"/>\r\n   </g>\r\n   <g id=\"patch_76\">\r\n    <path clip-path=\"url(#p5c17d46a25)\" d=\"M 264.328636 228.14 \r\nL 267.372273 228.14 \r\nL 267.372273 207.431429 \r\nL 264.328636 207.431429 \r\nz\r\n\" style=\"fill:#1f77b4;\"/>\r\n   </g>\r\n   <g id=\"patch_77\">\r\n    <path clip-path=\"url(#p5c17d46a25)\" d=\"M 267.372273 228.14 \r\nL 270.415909 228.14 \r\nL 270.415909 219.264898 \r\nL 267.372273 219.264898 \r\nz\r\n\" style=\"fill:#1f77b4;\"/>\r\n   </g>\r\n   <g id=\"patch_78\">\r\n    <path clip-path=\"url(#p5c17d46a25)\" d=\"M 270.415909 228.14 \r\nL 273.459545 228.14 \r\nL 273.459545 213.348163 \r\nL 270.415909 213.348163 \r\nz\r\n\" style=\"fill:#1f77b4;\"/>\r\n   </g>\r\n   <g id=\"patch_79\">\r\n    <path clip-path=\"url(#p5c17d46a25)\" d=\"M 273.459545 228.14 \r\nL 276.503182 228.14 \r\nL 276.503182 219.264898 \r\nL 273.459545 219.264898 \r\nz\r\n\" style=\"fill:#1f77b4;\"/>\r\n   </g>\r\n   <g id=\"patch_80\">\r\n    <path clip-path=\"url(#p5c17d46a25)\" d=\"M 276.503182 228.14 \r\nL 279.546818 228.14 \r\nL 279.546818 225.181633 \r\nL 276.503182 225.181633 \r\nz\r\n\" style=\"fill:#1f77b4;\"/>\r\n   </g>\r\n   <g id=\"patch_81\">\r\n    <path clip-path=\"url(#p5c17d46a25)\" d=\"M 279.546818 228.14 \r\nL 282.590455 228.14 \r\nL 282.590455 228.14 \r\nL 279.546818 228.14 \r\nz\r\n\" style=\"fill:#1f77b4;\"/>\r\n   </g>\r\n   <g id=\"patch_82\">\r\n    <path clip-path=\"url(#p5c17d46a25)\" d=\"M 282.590455 228.14 \r\nL 285.634091 228.14 \r\nL 285.634091 225.181633 \r\nL 282.590455 225.181633 \r\nz\r\n\" style=\"fill:#1f77b4;\"/>\r\n   </g>\r\n   <g id=\"patch_83\">\r\n    <path clip-path=\"url(#p5c17d46a25)\" d=\"M 285.634091 228.14 \r\nL 288.677727 228.14 \r\nL 288.677727 228.14 \r\nL 285.634091 228.14 \r\nz\r\n\" style=\"fill:#1f77b4;\"/>\r\n   </g>\r\n   <g id=\"patch_84\">\r\n    <path clip-path=\"url(#p5c17d46a25)\" d=\"M 288.677727 228.14 \r\nL 291.721364 228.14 \r\nL 291.721364 228.14 \r\nL 288.677727 228.14 \r\nz\r\n\" style=\"fill:#1f77b4;\"/>\r\n   </g>\r\n   <g id=\"patch_85\">\r\n    <path clip-path=\"url(#p5c17d46a25)\" d=\"M 291.721364 228.14 \r\nL 294.765 228.14 \r\nL 294.765 225.181633 \r\nL 291.721364 225.181633 \r\nz\r\n\" style=\"fill:#1f77b4;\"/>\r\n   </g>\r\n   <g id=\"patch_86\">\r\n    <path clip-path=\"url(#p5c17d46a25)\" d=\"M 294.765 228.14 \r\nL 297.808636 228.14 \r\nL 297.808636 228.14 \r\nL 294.765 228.14 \r\nz\r\n\" style=\"fill:#1f77b4;\"/>\r\n   </g>\r\n   <g id=\"patch_87\">\r\n    <path clip-path=\"url(#p5c17d46a25)\" d=\"M 297.808636 228.14 \r\nL 300.852273 228.14 \r\nL 300.852273 228.14 \r\nL 297.808636 228.14 \r\nz\r\n\" style=\"fill:#1f77b4;\"/>\r\n   </g>\r\n   <g id=\"patch_88\">\r\n    <path clip-path=\"url(#p5c17d46a25)\" d=\"M 300.852273 228.14 \r\nL 303.895909 228.14 \r\nL 303.895909 228.14 \r\nL 300.852273 228.14 \r\nz\r\n\" style=\"fill:#1f77b4;\"/>\r\n   </g>\r\n   <g id=\"patch_89\">\r\n    <path clip-path=\"url(#p5c17d46a25)\" d=\"M 303.895909 228.14 \r\nL 306.939545 228.14 \r\nL 306.939545 225.181633 \r\nL 303.895909 225.181633 \r\nz\r\n\" style=\"fill:#1f77b4;\"/>\r\n   </g>\r\n   <g id=\"patch_90\">\r\n    <path clip-path=\"url(#p5c17d46a25)\" d=\"M 306.939545 228.14 \r\nL 309.983182 228.14 \r\nL 309.983182 228.14 \r\nL 306.939545 228.14 \r\nz\r\n\" style=\"fill:#1f77b4;\"/>\r\n   </g>\r\n   <g id=\"patch_91\">\r\n    <path clip-path=\"url(#p5c17d46a25)\" d=\"M 309.983182 228.14 \r\nL 313.026818 228.14 \r\nL 313.026818 228.14 \r\nL 309.983182 228.14 \r\nz\r\n\" style=\"fill:#1f77b4;\"/>\r\n   </g>\r\n   <g id=\"patch_92\">\r\n    <path clip-path=\"url(#p5c17d46a25)\" d=\"M 313.026818 228.14 \r\nL 316.070455 228.14 \r\nL 316.070455 228.14 \r\nL 313.026818 228.14 \r\nz\r\n\" style=\"fill:#1f77b4;\"/>\r\n   </g>\r\n   <g id=\"patch_93\">\r\n    <path clip-path=\"url(#p5c17d46a25)\" d=\"M 316.070455 228.14 \r\nL 319.114091 228.14 \r\nL 319.114091 228.14 \r\nL 316.070455 228.14 \r\nz\r\n\" style=\"fill:#1f77b4;\"/>\r\n   </g>\r\n   <g id=\"patch_94\">\r\n    <path clip-path=\"url(#p5c17d46a25)\" d=\"M 319.114091 228.14 \r\nL 322.157727 228.14 \r\nL 322.157727 225.181633 \r\nL 319.114091 225.181633 \r\nz\r\n\" style=\"fill:#1f77b4;\"/>\r\n   </g>\r\n   <g id=\"patch_95\">\r\n    <path clip-path=\"url(#p5c17d46a25)\" d=\"M 322.157727 228.14 \r\nL 325.201364 228.14 \r\nL 325.201364 228.14 \r\nL 322.157727 228.14 \r\nz\r\n\" style=\"fill:#1f77b4;\"/>\r\n   </g>\r\n   <g id=\"patch_96\">\r\n    <path clip-path=\"url(#p5c17d46a25)\" d=\"M 325.201364 228.14 \r\nL 328.245 228.14 \r\nL 328.245 228.14 \r\nL 325.201364 228.14 \r\nz\r\n\" style=\"fill:#1f77b4;\"/>\r\n   </g>\r\n   <g id=\"patch_97\">\r\n    <path clip-path=\"url(#p5c17d46a25)\" d=\"M 328.245 228.14 \r\nL 331.288636 228.14 \r\nL 331.288636 225.181633 \r\nL 328.245 225.181633 \r\nz\r\n\" style=\"fill:#1f77b4;\"/>\r\n   </g>\r\n   <g id=\"patch_98\">\r\n    <path clip-path=\"url(#p5c17d46a25)\" d=\"M 331.288636 228.14 \r\nL 334.332273 228.14 \r\nL 334.332273 228.14 \r\nL 331.288636 228.14 \r\nz\r\n\" style=\"fill:#1f77b4;\"/>\r\n   </g>\r\n   <g id=\"patch_99\">\r\n    <path clip-path=\"url(#p5c17d46a25)\" d=\"M 334.332273 228.14 \r\nL 337.375909 228.14 \r\nL 337.375909 228.14 \r\nL 334.332273 228.14 \r\nz\r\n\" style=\"fill:#1f77b4;\"/>\r\n   </g>\r\n   <g id=\"patch_100\">\r\n    <path clip-path=\"url(#p5c17d46a25)\" d=\"M 337.375909 228.14 \r\nL 340.419545 228.14 \r\nL 340.419545 228.14 \r\nL 337.375909 228.14 \r\nz\r\n\" style=\"fill:#1f77b4;\"/>\r\n   </g>\r\n   <g id=\"patch_101\">\r\n    <path clip-path=\"url(#p5c17d46a25)\" d=\"M 340.419545 228.14 \r\nL 343.463182 228.14 \r\nL 343.463182 225.181633 \r\nL 340.419545 225.181633 \r\nz\r\n\" style=\"fill:#1f77b4;\"/>\r\n   </g>\r\n   <g id=\"patch_102\">\r\n    <path clip-path=\"url(#p5c17d46a25)\" d=\"M 343.463182 228.14 \r\nL 346.506818 228.14 \r\nL 346.506818 225.181633 \r\nL 343.463182 225.181633 \r\nz\r\n\" style=\"fill:#1f77b4;\"/>\r\n   </g>\r\n   <g id=\"matplotlib.axis_1\">\r\n    <g id=\"xtick_1\">\r\n     <g id=\"line2d_1\">\r\n      <defs>\r\n       <path d=\"M 0 0 \r\nL 0 3.5 \r\n\" id=\"ma0382c98b0\" style=\"stroke:#000000;stroke-width:0.8;\"/>\r\n      </defs>\r\n      <g>\r\n       <use style=\"stroke:#000000;stroke-width:0.8;\" x=\"36.692815\" xlink:href=\"#ma0382c98b0\" y=\"228.14\"/>\r\n      </g>\r\n     </g>\r\n     <g id=\"text_1\">\r\n      <!-- 0 -->\r\n      <defs>\r\n       <path d=\"M 31.78125 66.40625 \r\nQ 24.171875 66.40625 20.328125 58.90625 \r\nQ 16.5 51.421875 16.5 36.375 \r\nQ 16.5 21.390625 20.328125 13.890625 \r\nQ 24.171875 6.390625 31.78125 6.390625 \r\nQ 39.453125 6.390625 43.28125 13.890625 \r\nQ 47.125 21.390625 47.125 36.375 \r\nQ 47.125 51.421875 43.28125 58.90625 \r\nQ 39.453125 66.40625 31.78125 66.40625 \r\nz\r\nM 31.78125 74.21875 \r\nQ 44.046875 74.21875 50.515625 64.515625 \r\nQ 56.984375 54.828125 56.984375 36.375 \r\nQ 56.984375 17.96875 50.515625 8.265625 \r\nQ 44.046875 -1.421875 31.78125 -1.421875 \r\nQ 19.53125 -1.421875 13.0625 8.265625 \r\nQ 6.59375 17.96875 6.59375 36.375 \r\nQ 6.59375 54.828125 13.0625 64.515625 \r\nQ 19.53125 74.21875 31.78125 74.21875 \r\nz\r\n\" id=\"DejaVuSans-48\"/>\r\n      </defs>\r\n      <g transform=\"translate(33.511565 242.738437)scale(0.1 -0.1)\">\r\n       <use xlink:href=\"#DejaVuSans-48\"/>\r\n      </g>\r\n     </g>\r\n    </g>\r\n    <g id=\"xtick_2\">\r\n     <g id=\"line2d_2\">\r\n      <g>\r\n       <use style=\"stroke:#000000;stroke-width:0.8;\" x=\"85.275522\" xlink:href=\"#ma0382c98b0\" y=\"228.14\"/>\r\n      </g>\r\n     </g>\r\n     <g id=\"text_2\">\r\n      <!-- 10000 -->\r\n      <defs>\r\n       <path d=\"M 12.40625 8.296875 \r\nL 28.515625 8.296875 \r\nL 28.515625 63.921875 \r\nL 10.984375 60.40625 \r\nL 10.984375 69.390625 \r\nL 28.421875 72.90625 \r\nL 38.28125 72.90625 \r\nL 38.28125 8.296875 \r\nL 54.390625 8.296875 \r\nL 54.390625 0 \r\nL 12.40625 0 \r\nz\r\n\" id=\"DejaVuSans-49\"/>\r\n      </defs>\r\n      <g transform=\"translate(69.369272 242.738437)scale(0.1 -0.1)\">\r\n       <use xlink:href=\"#DejaVuSans-49\"/>\r\n       <use x=\"63.623047\" xlink:href=\"#DejaVuSans-48\"/>\r\n       <use x=\"127.246094\" xlink:href=\"#DejaVuSans-48\"/>\r\n       <use x=\"190.869141\" xlink:href=\"#DejaVuSans-48\"/>\r\n       <use x=\"254.492188\" xlink:href=\"#DejaVuSans-48\"/>\r\n      </g>\r\n     </g>\r\n    </g>\r\n    <g id=\"xtick_3\">\r\n     <g id=\"line2d_3\">\r\n      <g>\r\n       <use style=\"stroke:#000000;stroke-width:0.8;\" x=\"133.858229\" xlink:href=\"#ma0382c98b0\" y=\"228.14\"/>\r\n      </g>\r\n     </g>\r\n     <g id=\"text_3\">\r\n      <!-- 20000 -->\r\n      <defs>\r\n       <path d=\"M 19.1875 8.296875 \r\nL 53.609375 8.296875 \r\nL 53.609375 0 \r\nL 7.328125 0 \r\nL 7.328125 8.296875 \r\nQ 12.9375 14.109375 22.625 23.890625 \r\nQ 32.328125 33.6875 34.8125 36.53125 \r\nQ 39.546875 41.84375 41.421875 45.53125 \r\nQ 43.3125 49.21875 43.3125 52.78125 \r\nQ 43.3125 58.59375 39.234375 62.25 \r\nQ 35.15625 65.921875 28.609375 65.921875 \r\nQ 23.96875 65.921875 18.8125 64.3125 \r\nQ 13.671875 62.703125 7.8125 59.421875 \r\nL 7.8125 69.390625 \r\nQ 13.765625 71.78125 18.9375 73 \r\nQ 24.125 74.21875 28.421875 74.21875 \r\nQ 39.75 74.21875 46.484375 68.546875 \r\nQ 53.21875 62.890625 53.21875 53.421875 \r\nQ 53.21875 48.921875 51.53125 44.890625 \r\nQ 49.859375 40.875 45.40625 35.40625 \r\nQ 44.1875 33.984375 37.640625 27.21875 \r\nQ 31.109375 20.453125 19.1875 8.296875 \r\nz\r\n\" id=\"DejaVuSans-50\"/>\r\n      </defs>\r\n      <g transform=\"translate(117.951979 242.738437)scale(0.1 -0.1)\">\r\n       <use xlink:href=\"#DejaVuSans-50\"/>\r\n       <use x=\"63.623047\" xlink:href=\"#DejaVuSans-48\"/>\r\n       <use x=\"127.246094\" xlink:href=\"#DejaVuSans-48\"/>\r\n       <use x=\"190.869141\" xlink:href=\"#DejaVuSans-48\"/>\r\n       <use x=\"254.492188\" xlink:href=\"#DejaVuSans-48\"/>\r\n      </g>\r\n     </g>\r\n    </g>\r\n    <g id=\"xtick_4\">\r\n     <g id=\"line2d_4\">\r\n      <g>\r\n       <use style=\"stroke:#000000;stroke-width:0.8;\" x=\"182.440936\" xlink:href=\"#ma0382c98b0\" y=\"228.14\"/>\r\n      </g>\r\n     </g>\r\n     <g id=\"text_4\">\r\n      <!-- 30000 -->\r\n      <defs>\r\n       <path d=\"M 40.578125 39.3125 \r\nQ 47.65625 37.796875 51.625 33 \r\nQ 55.609375 28.21875 55.609375 21.1875 \r\nQ 55.609375 10.40625 48.1875 4.484375 \r\nQ 40.765625 -1.421875 27.09375 -1.421875 \r\nQ 22.515625 -1.421875 17.65625 -0.515625 \r\nQ 12.796875 0.390625 7.625 2.203125 \r\nL 7.625 11.71875 \r\nQ 11.71875 9.328125 16.59375 8.109375 \r\nQ 21.484375 6.890625 26.8125 6.890625 \r\nQ 36.078125 6.890625 40.9375 10.546875 \r\nQ 45.796875 14.203125 45.796875 21.1875 \r\nQ 45.796875 27.640625 41.28125 31.265625 \r\nQ 36.765625 34.90625 28.71875 34.90625 \r\nL 20.21875 34.90625 \r\nL 20.21875 43.015625 \r\nL 29.109375 43.015625 \r\nQ 36.375 43.015625 40.234375 45.921875 \r\nQ 44.09375 48.828125 44.09375 54.296875 \r\nQ 44.09375 59.90625 40.109375 62.90625 \r\nQ 36.140625 65.921875 28.71875 65.921875 \r\nQ 24.65625 65.921875 20.015625 65.03125 \r\nQ 15.375 64.15625 9.8125 62.3125 \r\nL 9.8125 71.09375 \r\nQ 15.4375 72.65625 20.34375 73.4375 \r\nQ 25.25 74.21875 29.59375 74.21875 \r\nQ 40.828125 74.21875 47.359375 69.109375 \r\nQ 53.90625 64.015625 53.90625 55.328125 \r\nQ 53.90625 49.265625 50.4375 45.09375 \r\nQ 46.96875 40.921875 40.578125 39.3125 \r\nz\r\n\" id=\"DejaVuSans-51\"/>\r\n      </defs>\r\n      <g transform=\"translate(166.534686 242.738437)scale(0.1 -0.1)\">\r\n       <use xlink:href=\"#DejaVuSans-51\"/>\r\n       <use x=\"63.623047\" xlink:href=\"#DejaVuSans-48\"/>\r\n       <use x=\"127.246094\" xlink:href=\"#DejaVuSans-48\"/>\r\n       <use x=\"190.869141\" xlink:href=\"#DejaVuSans-48\"/>\r\n       <use x=\"254.492188\" xlink:href=\"#DejaVuSans-48\"/>\r\n      </g>\r\n     </g>\r\n    </g>\r\n    <g id=\"xtick_5\">\r\n     <g id=\"line2d_5\">\r\n      <g>\r\n       <use style=\"stroke:#000000;stroke-width:0.8;\" x=\"231.023644\" xlink:href=\"#ma0382c98b0\" y=\"228.14\"/>\r\n      </g>\r\n     </g>\r\n     <g id=\"text_5\">\r\n      <!-- 40000 -->\r\n      <defs>\r\n       <path d=\"M 37.796875 64.3125 \r\nL 12.890625 25.390625 \r\nL 37.796875 25.390625 \r\nz\r\nM 35.203125 72.90625 \r\nL 47.609375 72.90625 \r\nL 47.609375 25.390625 \r\nL 58.015625 25.390625 \r\nL 58.015625 17.1875 \r\nL 47.609375 17.1875 \r\nL 47.609375 0 \r\nL 37.796875 0 \r\nL 37.796875 17.1875 \r\nL 4.890625 17.1875 \r\nL 4.890625 26.703125 \r\nz\r\n\" id=\"DejaVuSans-52\"/>\r\n      </defs>\r\n      <g transform=\"translate(215.117394 242.738437)scale(0.1 -0.1)\">\r\n       <use xlink:href=\"#DejaVuSans-52\"/>\r\n       <use x=\"63.623047\" xlink:href=\"#DejaVuSans-48\"/>\r\n       <use x=\"127.246094\" xlink:href=\"#DejaVuSans-48\"/>\r\n       <use x=\"190.869141\" xlink:href=\"#DejaVuSans-48\"/>\r\n       <use x=\"254.492188\" xlink:href=\"#DejaVuSans-48\"/>\r\n      </g>\r\n     </g>\r\n    </g>\r\n    <g id=\"xtick_6\">\r\n     <g id=\"line2d_6\">\r\n      <g>\r\n       <use style=\"stroke:#000000;stroke-width:0.8;\" x=\"279.606351\" xlink:href=\"#ma0382c98b0\" y=\"228.14\"/>\r\n      </g>\r\n     </g>\r\n     <g id=\"text_6\">\r\n      <!-- 50000 -->\r\n      <defs>\r\n       <path d=\"M 10.796875 72.90625 \r\nL 49.515625 72.90625 \r\nL 49.515625 64.59375 \r\nL 19.828125 64.59375 \r\nL 19.828125 46.734375 \r\nQ 21.96875 47.46875 24.109375 47.828125 \r\nQ 26.265625 48.1875 28.421875 48.1875 \r\nQ 40.625 48.1875 47.75 41.5 \r\nQ 54.890625 34.8125 54.890625 23.390625 \r\nQ 54.890625 11.625 47.5625 5.09375 \r\nQ 40.234375 -1.421875 26.90625 -1.421875 \r\nQ 22.3125 -1.421875 17.546875 -0.640625 \r\nQ 12.796875 0.140625 7.71875 1.703125 \r\nL 7.71875 11.625 \r\nQ 12.109375 9.234375 16.796875 8.0625 \r\nQ 21.484375 6.890625 26.703125 6.890625 \r\nQ 35.15625 6.890625 40.078125 11.328125 \r\nQ 45.015625 15.765625 45.015625 23.390625 \r\nQ 45.015625 31 40.078125 35.4375 \r\nQ 35.15625 39.890625 26.703125 39.890625 \r\nQ 22.75 39.890625 18.8125 39.015625 \r\nQ 14.890625 38.140625 10.796875 36.28125 \r\nz\r\n\" id=\"DejaVuSans-53\"/>\r\n      </defs>\r\n      <g transform=\"translate(263.700101 242.738437)scale(0.1 -0.1)\">\r\n       <use xlink:href=\"#DejaVuSans-53\"/>\r\n       <use x=\"63.623047\" xlink:href=\"#DejaVuSans-48\"/>\r\n       <use x=\"127.246094\" xlink:href=\"#DejaVuSans-48\"/>\r\n       <use x=\"190.869141\" xlink:href=\"#DejaVuSans-48\"/>\r\n       <use x=\"254.492188\" xlink:href=\"#DejaVuSans-48\"/>\r\n      </g>\r\n     </g>\r\n    </g>\r\n    <g id=\"xtick_7\">\r\n     <g id=\"line2d_7\">\r\n      <g>\r\n       <use style=\"stroke:#000000;stroke-width:0.8;\" x=\"328.189058\" xlink:href=\"#ma0382c98b0\" y=\"228.14\"/>\r\n      </g>\r\n     </g>\r\n     <g id=\"text_7\">\r\n      <!-- 60000 -->\r\n      <defs>\r\n       <path d=\"M 33.015625 40.375 \r\nQ 26.375 40.375 22.484375 35.828125 \r\nQ 18.609375 31.296875 18.609375 23.390625 \r\nQ 18.609375 15.53125 22.484375 10.953125 \r\nQ 26.375 6.390625 33.015625 6.390625 \r\nQ 39.65625 6.390625 43.53125 10.953125 \r\nQ 47.40625 15.53125 47.40625 23.390625 \r\nQ 47.40625 31.296875 43.53125 35.828125 \r\nQ 39.65625 40.375 33.015625 40.375 \r\nz\r\nM 52.59375 71.296875 \r\nL 52.59375 62.3125 \r\nQ 48.875 64.0625 45.09375 64.984375 \r\nQ 41.3125 65.921875 37.59375 65.921875 \r\nQ 27.828125 65.921875 22.671875 59.328125 \r\nQ 17.53125 52.734375 16.796875 39.40625 \r\nQ 19.671875 43.65625 24.015625 45.921875 \r\nQ 28.375 48.1875 33.59375 48.1875 \r\nQ 44.578125 48.1875 50.953125 41.515625 \r\nQ 57.328125 34.859375 57.328125 23.390625 \r\nQ 57.328125 12.15625 50.6875 5.359375 \r\nQ 44.046875 -1.421875 33.015625 -1.421875 \r\nQ 20.359375 -1.421875 13.671875 8.265625 \r\nQ 6.984375 17.96875 6.984375 36.375 \r\nQ 6.984375 53.65625 15.1875 63.9375 \r\nQ 23.390625 74.21875 37.203125 74.21875 \r\nQ 40.921875 74.21875 44.703125 73.484375 \r\nQ 48.484375 72.75 52.59375 71.296875 \r\nz\r\n\" id=\"DejaVuSans-54\"/>\r\n      </defs>\r\n      <g transform=\"translate(312.282808 242.738437)scale(0.1 -0.1)\">\r\n       <use xlink:href=\"#DejaVuSans-54\"/>\r\n       <use x=\"63.623047\" xlink:href=\"#DejaVuSans-48\"/>\r\n       <use x=\"127.246094\" xlink:href=\"#DejaVuSans-48\"/>\r\n       <use x=\"190.869141\" xlink:href=\"#DejaVuSans-48\"/>\r\n       <use x=\"254.492188\" xlink:href=\"#DejaVuSans-48\"/>\r\n      </g>\r\n     </g>\r\n    </g>\r\n   </g>\r\n   <g id=\"matplotlib.axis_2\">\r\n    <g id=\"ytick_1\">\r\n     <g id=\"line2d_8\">\r\n      <defs>\r\n       <path d=\"M 0 0 \r\nL -3.5 0 \r\n\" id=\"m09fbcd9518\" style=\"stroke:#000000;stroke-width:0.8;\"/>\r\n      </defs>\r\n      <g>\r\n       <use style=\"stroke:#000000;stroke-width:0.8;\" x=\"26.925\" xlink:href=\"#m09fbcd9518\" y=\"228.14\"/>\r\n      </g>\r\n     </g>\r\n     <g id=\"text_8\">\r\n      <!-- 0 -->\r\n      <g transform=\"translate(13.5625 231.939219)scale(0.1 -0.1)\">\r\n       <use xlink:href=\"#DejaVuSans-48\"/>\r\n      </g>\r\n     </g>\r\n    </g>\r\n    <g id=\"ytick_2\">\r\n     <g id=\"line2d_9\">\r\n      <g>\r\n       <use style=\"stroke:#000000;stroke-width:0.8;\" x=\"26.925\" xlink:href=\"#m09fbcd9518\" y=\"198.556327\"/>\r\n      </g>\r\n     </g>\r\n     <g id=\"text_9\">\r\n      <!-- 10 -->\r\n      <g transform=\"translate(7.2 202.355545)scale(0.1 -0.1)\">\r\n       <use xlink:href=\"#DejaVuSans-49\"/>\r\n       <use x=\"63.623047\" xlink:href=\"#DejaVuSans-48\"/>\r\n      </g>\r\n     </g>\r\n    </g>\r\n    <g id=\"ytick_3\">\r\n     <g id=\"line2d_10\">\r\n      <g>\r\n       <use style=\"stroke:#000000;stroke-width:0.8;\" x=\"26.925\" xlink:href=\"#m09fbcd9518\" y=\"168.972653\"/>\r\n      </g>\r\n     </g>\r\n     <g id=\"text_10\">\r\n      <!-- 20 -->\r\n      <g transform=\"translate(7.2 172.771872)scale(0.1 -0.1)\">\r\n       <use xlink:href=\"#DejaVuSans-50\"/>\r\n       <use x=\"63.623047\" xlink:href=\"#DejaVuSans-48\"/>\r\n      </g>\r\n     </g>\r\n    </g>\r\n    <g id=\"ytick_4\">\r\n     <g id=\"line2d_11\">\r\n      <g>\r\n       <use style=\"stroke:#000000;stroke-width:0.8;\" x=\"26.925\" xlink:href=\"#m09fbcd9518\" y=\"139.38898\"/>\r\n      </g>\r\n     </g>\r\n     <g id=\"text_11\">\r\n      <!-- 30 -->\r\n      <g transform=\"translate(7.2 143.188198)scale(0.1 -0.1)\">\r\n       <use xlink:href=\"#DejaVuSans-51\"/>\r\n       <use x=\"63.623047\" xlink:href=\"#DejaVuSans-48\"/>\r\n      </g>\r\n     </g>\r\n    </g>\r\n    <g id=\"ytick_5\">\r\n     <g id=\"line2d_12\">\r\n      <g>\r\n       <use style=\"stroke:#000000;stroke-width:0.8;\" x=\"26.925\" xlink:href=\"#m09fbcd9518\" y=\"109.805306\"/>\r\n      </g>\r\n     </g>\r\n     <g id=\"text_12\">\r\n      <!-- 40 -->\r\n      <g transform=\"translate(7.2 113.604525)scale(0.1 -0.1)\">\r\n       <use xlink:href=\"#DejaVuSans-52\"/>\r\n       <use x=\"63.623047\" xlink:href=\"#DejaVuSans-48\"/>\r\n      </g>\r\n     </g>\r\n    </g>\r\n    <g id=\"ytick_6\">\r\n     <g id=\"line2d_13\">\r\n      <g>\r\n       <use style=\"stroke:#000000;stroke-width:0.8;\" x=\"26.925\" xlink:href=\"#m09fbcd9518\" y=\"80.221633\"/>\r\n      </g>\r\n     </g>\r\n     <g id=\"text_13\">\r\n      <!-- 50 -->\r\n      <g transform=\"translate(7.2 84.020851)scale(0.1 -0.1)\">\r\n       <use xlink:href=\"#DejaVuSans-53\"/>\r\n       <use x=\"63.623047\" xlink:href=\"#DejaVuSans-48\"/>\r\n      </g>\r\n     </g>\r\n    </g>\r\n    <g id=\"ytick_7\">\r\n     <g id=\"line2d_14\">\r\n      <g>\r\n       <use style=\"stroke:#000000;stroke-width:0.8;\" x=\"26.925\" xlink:href=\"#m09fbcd9518\" y=\"50.637959\"/>\r\n      </g>\r\n     </g>\r\n     <g id=\"text_14\">\r\n      <!-- 60 -->\r\n      <g transform=\"translate(7.2 54.437178)scale(0.1 -0.1)\">\r\n       <use xlink:href=\"#DejaVuSans-54\"/>\r\n       <use x=\"63.623047\" xlink:href=\"#DejaVuSans-48\"/>\r\n      </g>\r\n     </g>\r\n    </g>\r\n    <g id=\"ytick_8\">\r\n     <g id=\"line2d_15\">\r\n      <g>\r\n       <use style=\"stroke:#000000;stroke-width:0.8;\" x=\"26.925\" xlink:href=\"#m09fbcd9518\" y=\"21.054286\"/>\r\n      </g>\r\n     </g>\r\n     <g id=\"text_15\">\r\n      <!-- 70 -->\r\n      <defs>\r\n       <path d=\"M 8.203125 72.90625 \r\nL 55.078125 72.90625 \r\nL 55.078125 68.703125 \r\nL 28.609375 0 \r\nL 18.3125 0 \r\nL 43.21875 64.59375 \r\nL 8.203125 64.59375 \r\nz\r\n\" id=\"DejaVuSans-55\"/>\r\n      </defs>\r\n      <g transform=\"translate(7.2 24.853504)scale(0.1 -0.1)\">\r\n       <use xlink:href=\"#DejaVuSans-55\"/>\r\n       <use x=\"63.623047\" xlink:href=\"#DejaVuSans-48\"/>\r\n      </g>\r\n     </g>\r\n    </g>\r\n   </g>\r\n   <g id=\"patch_103\">\r\n    <path d=\"M 26.925 228.14 \r\nL 26.925 10.7 \r\n\" style=\"fill:none;stroke:#000000;stroke-linecap:square;stroke-linejoin:miter;stroke-width:0.8;\"/>\r\n   </g>\r\n   <g id=\"patch_104\">\r\n    <path d=\"M 361.725 228.14 \r\nL 361.725 10.7 \r\n\" style=\"fill:none;stroke:#000000;stroke-linecap:square;stroke-linejoin:miter;stroke-width:0.8;\"/>\r\n   </g>\r\n   <g id=\"patch_105\">\r\n    <path d=\"M 26.925 228.14 \r\nL 361.725 228.14 \r\n\" style=\"fill:none;stroke:#000000;stroke-linecap:square;stroke-linejoin:miter;stroke-width:0.8;\"/>\r\n   </g>\r\n   <g id=\"patch_106\">\r\n    <path d=\"M 26.925 10.7 \r\nL 361.725 10.7 \r\n\" style=\"fill:none;stroke:#000000;stroke-linecap:square;stroke-linejoin:miter;stroke-width:0.8;\"/>\r\n   </g>\r\n  </g>\r\n </g>\r\n <defs>\r\n  <clipPath id=\"p5c17d46a25\">\r\n   <rect height=\"217.44\" width=\"334.8\" x=\"26.925\" y=\"10.7\"/>\r\n  </clipPath>\r\n </defs>\r\n</svg>\r\n",
      "image/png": "[encoded data removed]"
     },
     "metadata": {
      "needs_background": "light"
     }
    }
   ],
   "source": [
    "\n",
    "_ = plt.hist(medical['charges'], bins = 100)\n",
    "plt.show()"
   ]
  },
  {
   "cell_type": "code",
   "execution_count": 6,
   "metadata": {},
   "outputs": [
    {
     "output_type": "stream",
     "name": "stdout",
     "text": "mean is: 13270.422265141257 std is: 12105.484975561605\n"
    }
   ],
   "source": [
    "mean = np.mean(medical['charges'])\n",
    "std = np.std(medical['charges'])\n",
    "print(\"mean is:\", mean, \"std is:\", std)\n",
    "\n",
    "#data is right skewed, non-normal, most of the charges are $14,000 or below"
   ]
  },
  {
   "cell_type": "markdown",
   "metadata": {},
   "source": [
    "__Q:__ The administrator is concerned that the actual average charge has fallen below 12000, threatening the hospital's operational model. On the assumption that these data represent a random sample of charges, how would you justify that these data allow you to answer that question? And what would be the most appropriate frequentist test, of the ones discussed so far, to apply?"
   ]
  },
  {
   "cell_type": "markdown",
   "metadata": {},
   "source": [
    "__A:__ more random sampling of charges will be needed, the averages of these random samplings should be normally distributed. A z-test can then be applied to calculate the mean of the population (charges) to see whether it's truly above or below 12000"
   ]
  },
  {
   "cell_type": "markdown",
   "metadata": {},
   "source": [
    "__Q:__ Given the nature of the administrator's concern, what is the appropriate confidence interval in this case? A one-sided or two-sided interval? Calculate the critical value and the relevant 95% confidence interval for the mean and comment on whether the administrator should be concerned?"
   ]
  },
  {
   "cell_type": "markdown",
   "metadata": {},
   "source": [
    "__A:__ 95% confidence interval with a one-sides interval, as we only care if the charges are dropping below 12000, and not raising above 12000 (when does hospitals ever say no to cash?)"
   ]
  },
  {
   "cell_type": "code",
   "execution_count": 8,
   "metadata": {},
   "outputs": [],
   "source": [
    "charges = medical['charges']"
   ]
  },
  {
   "cell_type": "code",
   "execution_count": 9,
   "metadata": {},
   "outputs": [],
   "source": [
    "def charge_sampler(n):\n",
    "    return np.random.choice(charges, n)"
   ]
  },
  {
   "cell_type": "code",
   "execution_count": 10,
   "metadata": {},
   "outputs": [],
   "source": [
    "lst = []\n",
    "for i in range(500):\n",
    "    lst.append(charge_sampler(500))\n",
    "\n",
    "lst_mean = np.mean(lst)"
   ]
  },
  {
   "cell_type": "code",
   "execution_count": 13,
   "metadata": {},
   "outputs": [
    {
     "output_type": "stream",
     "name": "stdout",
     "text": "13293.41181019327 13296.701517447173\n"
    }
   ],
   "source": [
    "from scipy.stats import norm\n",
    "error = norm.ppf(0.95)\n",
    "low = lst_mean - error\n",
    "high = lst_mean + error\n",
    "\n",
    "print(low, high)"
   ]
  },
  {
   "cell_type": "code",
   "execution_count": 14,
   "metadata": {},
   "outputs": [
    {
     "output_type": "execute_result",
     "data": {
      "text/plain": "      age  sex     bmi  children  smoker  region      charges  insuranceclaim\n0      19    0  27.900         0       1       3  16884.92400               1\n1      18    1  33.770         1       0       2   1725.55230               1\n2      28    1  33.000         3       0       2   4449.46200               0\n3      33    1  22.705         0       0       1  21984.47061               0\n4      32    1  28.880         0       0       1   3866.85520               1\n...   ...  ...     ...       ...     ...     ...          ...             ...\n1333   50    1  30.970         3       0       1  10600.54830               0\n1334   18    0  31.920         0       0       0   2205.98080               1\n1335   18    0  36.850         0       0       2   1629.83350               1\n1336   21    0  25.800         0       0       3   2007.94500               0\n1337   61    0  29.070         0       1       1  29141.36030               1\n\n[1338 rows x 8 columns]",
      "text/html": "<div>\n<style scoped>\n    .dataframe tbody tr th:only-of-type {\n        vertical-align: middle;\n    }\n\n    .dataframe tbody tr th {\n        vertical-align: top;\n    }\n\n    .dataframe thead th {\n        text-align: right;\n    }\n</style>\n<table border=\"1\" class=\"dataframe\">\n  <thead>\n    <tr style=\"text-align: right;\">\n      <th></th>\n      <th>age</th>\n      <th>sex</th>\n      <th>bmi</th>\n      <th>children</th>\n      <th>smoker</th>\n      <th>region</th>\n      <th>charges</th>\n      <th>insuranceclaim</th>\n    </tr>\n  </thead>\n  <tbody>\n    <tr>\n      <th>0</th>\n      <td>19</td>\n      <td>0</td>\n      <td>27.900</td>\n      <td>0</td>\n      <td>1</td>\n      <td>3</td>\n      <td>16884.92400</td>\n      <td>1</td>\n    </tr>\n    <tr>\n      <th>1</th>\n      <td>18</td>\n      <td>1</td>\n      <td>33.770</td>\n      <td>1</td>\n      <td>0</td>\n      <td>2</td>\n      <td>1725.55230</td>\n      <td>1</td>\n    </tr>\n    <tr>\n      <th>2</th>\n      <td>28</td>\n      <td>1</td>\n      <td>33.000</td>\n      <td>3</td>\n      <td>0</td>\n      <td>2</td>\n      <td>4449.46200</td>\n      <td>0</td>\n    </tr>\n    <tr>\n      <th>3</th>\n      <td>33</td>\n      <td>1</td>\n      <td>22.705</td>\n      <td>0</td>\n      <td>0</td>\n      <td>1</td>\n      <td>21984.47061</td>\n      <td>0</td>\n    </tr>\n    <tr>\n      <th>4</th>\n      <td>32</td>\n      <td>1</td>\n      <td>28.880</td>\n      <td>0</td>\n      <td>0</td>\n      <td>1</td>\n      <td>3866.85520</td>\n      <td>1</td>\n    </tr>\n    <tr>\n      <th>...</th>\n      <td>...</td>\n      <td>...</td>\n      <td>...</td>\n      <td>...</td>\n      <td>...</td>\n      <td>...</td>\n      <td>...</td>\n      <td>...</td>\n    </tr>\n    <tr>\n      <th>1333</th>\n      <td>50</td>\n      <td>1</td>\n      <td>30.970</td>\n      <td>3</td>\n      <td>0</td>\n      <td>1</td>\n      <td>10600.54830</td>\n      <td>0</td>\n    </tr>\n    <tr>\n      <th>1334</th>\n      <td>18</td>\n      <td>0</td>\n      <td>31.920</td>\n      <td>0</td>\n      <td>0</td>\n      <td>0</td>\n      <td>2205.98080</td>\n      <td>1</td>\n    </tr>\n    <tr>\n      <th>1335</th>\n      <td>18</td>\n      <td>0</td>\n      <td>36.850</td>\n      <td>0</td>\n      <td>0</td>\n      <td>2</td>\n      <td>1629.83350</td>\n      <td>1</td>\n    </tr>\n    <tr>\n      <th>1336</th>\n      <td>21</td>\n      <td>0</td>\n      <td>25.800</td>\n      <td>0</td>\n      <td>0</td>\n      <td>3</td>\n      <td>2007.94500</td>\n      <td>0</td>\n    </tr>\n    <tr>\n      <th>1337</th>\n      <td>61</td>\n      <td>0</td>\n      <td>29.070</td>\n      <td>0</td>\n      <td>1</td>\n      <td>1</td>\n      <td>29141.36030</td>\n      <td>1</td>\n    </tr>\n  </tbody>\n</table>\n<p>1338 rows × 8 columns</p>\n</div>"
     },
     "metadata": {},
     "execution_count": 14
    }
   ],
   "source": [
    "medical"
   ]
  },
  {
   "cell_type": "markdown",
   "metadata": {},
   "source": [
    "The administrator then wants to know whether people with insurance really are charged a different amount to those without.\n",
    "\n",
    "__Q:__ State the null and alternative hypothesis here. Use the _t_-test for the difference between means where the pooled standard deviation of the two groups is given by\n",
    "\\begin{equation}\n",
    "s_p = \\sqrt{\\frac{(n_0 - 1)s^2_0 + (n_1 - 1)s^2_1}{n_0 + n_1 - 2}}\n",
    "\\end{equation}\n",
    "\n",
    "and the *t* test statistic is then given by\n",
    "\n",
    "\\begin{equation}\n",
    "t = \\frac{\\bar{x}_0 - \\bar{x}_1}{s_p \\sqrt{1/n_0 + 1/n_1}}.\n",
    "\\end{equation}\n",
    "\n",
    "What assumption about the variances of the two groups are we making here?"
   ]
  },
  {
   "cell_type": "markdown",
   "metadata": {},
   "source": [
    "__A:__"
   ]
  },
  {
   "cell_type": "markdown",
   "metadata": {},
   "source": [
    "__Q:__ Perform this hypothesis test both manually, using the above formulae, and then using the appropriate function from [scipy.stats](https://docs.scipy.org/doc/scipy/reference/stats.html#statistical-tests) (hint, you're looking for a function to perform a _t_-test on two independent samples). For the manual approach, calculate the value of the test statistic and then its probability (the p-value). Verify you get the same results from both."
   ]
  },
  {
   "cell_type": "markdown",
   "metadata": {},
   "source": [
    "__A:__ "
   ]
  },
  {
   "cell_type": "code",
   "execution_count": 16,
   "metadata": {},
   "outputs": [],
   "source": [
    "insurance = medical.groupby('insuranceclaim').mean()"
   ]
  },
  {
   "cell_type": "code",
   "execution_count": 17,
   "metadata": {},
   "outputs": [],
   "source": [
    "insuranceclaim_0 = medical.insuranceclaim == 0\n",
    "insuranceclaim_1 = medical.insuranceclaim == 1"
   ]
  },
  {
   "cell_type": "code",
   "execution_count": 18,
   "metadata": {},
   "outputs": [
    {
     "output_type": "execute_result",
     "data": {
      "text/plain": "Ttest_indResult(statistic=-8.94248417362924, pvalue=6.939503728320713e-19)"
     },
     "metadata": {},
     "execution_count": 18
    }
   ],
   "source": [
    "from scipy import stats\n",
    "stats.ttest_ind(insuranceclaim_0, insuranceclaim_1)\n"
   ]
  },
  {
   "cell_type": "markdown",
   "metadata": {},
   "source": [
    "#Conclusion: there is a significant difference in charges between people with insurance and those without.\n"
   ]
  },
  {
   "cell_type": "markdown",
   "metadata": {},
   "source": [
    "Congratulations! Hopefully you got the exact same numerical results. This shows that you correctly calculated the numbers by hand. Secondly, you used the correct function and saw that it's much easier to use. All you need to do pass your data to it."
   ]
  },
  {
   "cell_type": "markdown",
   "metadata": {},
   "source": [
    "__Q:__ In the above calculations, we assumed the sample variances were equal. We may well suspect they are not (we'll explore this in another assignment). The calculation becomes a little more complicated to do by hand in this case, but we now know of a helpful function. Check the documentation for the function to tell it not to assume equal variances and perform the test again."
   ]
  },
  {
   "cell_type": "markdown",
   "metadata": {},
   "source": [
    "__A:__"
   ]
  },
  {
   "cell_type": "code",
   "execution_count": 19,
   "metadata": {},
   "outputs": [
    {
     "output_type": "execute_result",
     "data": {
      "text/plain": "Ttest_indResult(statistic=-8.94248417362924, pvalue=6.939503728320713e-19)"
     },
     "metadata": {},
     "execution_count": 19
    }
   ],
   "source": [
    "stats.ttest_ind(insuranceclaim_0, insuranceclaim_1, equal_var=False)"
   ]
  },
  {
   "cell_type": "markdown",
   "metadata": {},
   "source": [
    "__Q:__ Conceptual question: look through the documentation for statistical test functions in scipy.stats. You'll see the above _t_-test for a sample, but can you see an equivalent one for performing a *z*-test from a sample? Comment on your answer."
   ]
  },
  {
   "cell_type": "markdown",
   "metadata": {},
   "source": [
    "__A:__ Kolmogorov-Smirnov statistic "
   ]
  },
  {
   "cell_type": "markdown",
   "metadata": {},
   "source": [
    "## Learning outcomes"
   ]
  },
  {
   "cell_type": "markdown",
   "metadata": {},
   "source": [
    "Having completed this project notebook, you now have good hands-on experience:\n",
    "* using the central limit theorem to help you apply frequentist techniques to answer questions that pertain to very non-normally distributed data from the real world\n",
    "* performing inference using such data to answer business questions\n",
    "* forming a hypothesis and framing the null and alternative hypotheses\n",
    "* testing this using a _t_-test"
   ]
  }
 ],
 "metadata": {
  "kernelspec": {
   "display_name": "Python 3",
   "language": "python",
   "name": "python3"
  },
  "language_info": {
   "codemirror_mode": {
    "name": "ipython",
    "version": 3
   },
   "file_extension": ".py",
   "mimetype": "text/x-python",
   "name": "python",
   "nbconvert_exporter": "python",
   "pygments_lexer": "ipython3",
   "version": "3.7.3-final"
  }
 },
 "nbformat": 4,
 "nbformat_minor": 2
}