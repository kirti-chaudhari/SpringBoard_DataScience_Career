{
 "cells": [
  {
   "cell_type": "markdown",
   "metadata": {},
   "source": [
    "# Import Libraries"
   ]
  },
  {
   "cell_type": "code",
   "execution_count": 1,
   "metadata": {},
   "outputs": [],
   "source": [
    "import mysql.connector as sql\n",
    "import pandas as pd"
   ]
  },
  {
   "cell_type": "markdown",
   "metadata": {},
   "source": [
    "# Connect to Sql Databse"
   ]
  },
  {
   "cell_type": "code",
   "execution_count": 2,
   "metadata": {},
   "outputs": [],
   "source": [
    "db_connection = sql.connect(host=\"localhost\",database=\"country_club\",user='root',password='')\n",
    "db_cursor = db_connection.cursor()\n"
   ]
  },
  {
   "cell_type": "markdown",
   "metadata": {},
   "source": [
    "Q1: Some of the facilities charge a fee to members, but some do not.\n",
    "Please list the names of the facilities that do."
   ]
  },
  {
   "cell_type": "code",
   "execution_count": 3,
   "metadata": {},
   "outputs": [
    {
     "output_type": "execute_result",
     "data": {
      "text/plain": "   facid            name membercost guestcost  initialoutlay  \\\n0      0  Tennis Court 1        5.0      25.0          10000   \n1      1  Tennis Court 2        5.0      25.0           8000   \n2      4  Massage Room 1        9.9      80.0           4000   \n3      5  Massage Room 2        9.9      80.0           4000   \n4      6    Squash Court        3.5      17.5           5000   \n\n   monthlymaintenance  \n0                 200  \n1                 200  \n2                3000  \n3                3000  \n4                  80  ",
      "text/html": "<div>\n<style scoped>\n    .dataframe tbody tr th:only-of-type {\n        vertical-align: middle;\n    }\n\n    .dataframe tbody tr th {\n        vertical-align: top;\n    }\n\n    .dataframe thead th {\n        text-align: right;\n    }\n</style>\n<table border=\"1\" class=\"dataframe\">\n  <thead>\n    <tr style=\"text-align: right;\">\n      <th></th>\n      <th>facid</th>\n      <th>name</th>\n      <th>membercost</th>\n      <th>guestcost</th>\n      <th>initialoutlay</th>\n      <th>monthlymaintenance</th>\n    </tr>\n  </thead>\n  <tbody>\n    <tr>\n      <th>0</th>\n      <td>0</td>\n      <td>Tennis Court 1</td>\n      <td>5.0</td>\n      <td>25.0</td>\n      <td>10000</td>\n      <td>200</td>\n    </tr>\n    <tr>\n      <th>1</th>\n      <td>1</td>\n      <td>Tennis Court 2</td>\n      <td>5.0</td>\n      <td>25.0</td>\n      <td>8000</td>\n      <td>200</td>\n    </tr>\n    <tr>\n      <th>2</th>\n      <td>4</td>\n      <td>Massage Room 1</td>\n      <td>9.9</td>\n      <td>80.0</td>\n      <td>4000</td>\n      <td>3000</td>\n    </tr>\n    <tr>\n      <th>3</th>\n      <td>5</td>\n      <td>Massage Room 2</td>\n      <td>9.9</td>\n      <td>80.0</td>\n      <td>4000</td>\n      <td>3000</td>\n    </tr>\n    <tr>\n      <th>4</th>\n      <td>6</td>\n      <td>Squash Court</td>\n      <td>3.5</td>\n      <td>17.5</td>\n      <td>5000</td>\n      <td>80</td>\n    </tr>\n  </tbody>\n</table>\n</div>"
     },
     "metadata": {},
     "execution_count": 3
    }
   ],
   "source": [
    "db_cursor.execute('SELECT * FROM facilities WHERE membercost > 0')\n",
    "table_rows = db_cursor.fetchall()\n",
    "df = pd.DataFrame(table_rows,columns = ['facid','name','membercost','guestcost', 'initialoutlay','monthlymaintenance'])\n",
    "df"
   ]
  },
  {
   "cell_type": "markdown",
   "metadata": {},
   "source": [
    " Q2: How many facilities do not charge a fee to members?"
   ]
  },
  {
   "cell_type": "code",
   "execution_count": 4,
   "metadata": {},
   "outputs": [
    {
     "output_type": "execute_result",
     "data": {
      "text/plain": "   Count\n0      4",
      "text/html": "<div>\n<style scoped>\n    .dataframe tbody tr th:only-of-type {\n        vertical-align: middle;\n    }\n\n    .dataframe tbody tr th {\n        vertical-align: top;\n    }\n\n    .dataframe thead th {\n        text-align: right;\n    }\n</style>\n<table border=\"1\" class=\"dataframe\">\n  <thead>\n    <tr style=\"text-align: right;\">\n      <th></th>\n      <th>Count</th>\n    </tr>\n  </thead>\n  <tbody>\n    <tr>\n      <th>0</th>\n      <td>4</td>\n    </tr>\n  </tbody>\n</table>\n</div>"
     },
     "metadata": {},
     "execution_count": 4
    }
   ],
   "source": [
    "db_cursor.execute('SELECT COUNT(*) FROM facilities WHERE membercost = 0')\n",
    "table_rows = db_cursor.fetchall()\n",
    "df = pd.DataFrame(table_rows,columns=['Count'])\n",
    "df"
   ]
  },
  {
   "cell_type": "markdown",
   "metadata": {},
   "source": [
    "Q3: How can you produce a list of facilities that charge a fee to members,\n",
    "where the fee is less than 20% of the facility's monthly maintenance cost?\n",
    "Return the facid, facility name, member cost, and monthly maintenance of the\n",
    "facilities in question"
   ]
  },
  {
   "cell_type": "code",
   "execution_count": 5,
   "metadata": {},
   "outputs": [
    {
     "output_type": "execute_result",
     "data": {
      "text/plain": "   facid            name membercost  monthlymaintenance\n0      0  Tennis Court 1        5.0                 200\n1      1  Tennis Court 2        5.0                 200\n2      4  Massage Room 1        9.9                3000\n3      5  Massage Room 2        9.9                3000\n4      6    Squash Court        3.5                  80",
      "text/html": "<div>\n<style scoped>\n    .dataframe tbody tr th:only-of-type {\n        vertical-align: middle;\n    }\n\n    .dataframe tbody tr th {\n        vertical-align: top;\n    }\n\n    .dataframe thead th {\n        text-align: right;\n    }\n</style>\n<table border=\"1\" class=\"dataframe\">\n  <thead>\n    <tr style=\"text-align: right;\">\n      <th></th>\n      <th>facid</th>\n      <th>name</th>\n      <th>membercost</th>\n      <th>monthlymaintenance</th>\n    </tr>\n  </thead>\n  <tbody>\n    <tr>\n      <th>0</th>\n      <td>0</td>\n      <td>Tennis Court 1</td>\n      <td>5.0</td>\n      <td>200</td>\n    </tr>\n    <tr>\n      <th>1</th>\n      <td>1</td>\n      <td>Tennis Court 2</td>\n      <td>5.0</td>\n      <td>200</td>\n    </tr>\n    <tr>\n      <th>2</th>\n      <td>4</td>\n      <td>Massage Room 1</td>\n      <td>9.9</td>\n      <td>3000</td>\n    </tr>\n    <tr>\n      <th>3</th>\n      <td>5</td>\n      <td>Massage Room 2</td>\n      <td>9.9</td>\n      <td>3000</td>\n    </tr>\n    <tr>\n      <th>4</th>\n      <td>6</td>\n      <td>Squash Court</td>\n      <td>3.5</td>\n      <td>80</td>\n    </tr>\n  </tbody>\n</table>\n</div>"
     },
     "metadata": {},
     "execution_count": 5
    }
   ],
   "source": [
    "db_cursor.execute('SELECT facid, name, membercost, monthlymaintenance FROM facilities WHERE membercost > 0 AND(membercost < monthlymaintenance * 0.20)')\n",
    "table_rows = db_cursor.fetchall()\n",
    "df = pd.DataFrame(table_rows,columns=['facid','name','membercost','monthlymaintenance'])\n",
    "df"
   ]
  },
  {
   "cell_type": "markdown",
   "metadata": {},
   "source": [
    "Q4: How can you retrieve the details of facilities with ID 1 and 5?\n",
    "Write the query without using the OR operator."
   ]
  },
  {
   "cell_type": "code",
   "execution_count": 6,
   "metadata": {},
   "outputs": [
    {
     "output_type": "execute_result",
     "data": {
      "text/plain": "   facid            name membercost guestcost  initialoutlay  \\\n0      1  Tennis Court 2        5.0      25.0           8000   \n1      5  Massage Room 2        9.9      80.0           4000   \n\n   monthlymaintenance  \n0                 200  \n1                3000  ",
      "text/html": "<div>\n<style scoped>\n    .dataframe tbody tr th:only-of-type {\n        vertical-align: middle;\n    }\n\n    .dataframe tbody tr th {\n        vertical-align: top;\n    }\n\n    .dataframe thead th {\n        text-align: right;\n    }\n</style>\n<table border=\"1\" class=\"dataframe\">\n  <thead>\n    <tr style=\"text-align: right;\">\n      <th></th>\n      <th>facid</th>\n      <th>name</th>\n      <th>membercost</th>\n      <th>guestcost</th>\n      <th>initialoutlay</th>\n      <th>monthlymaintenance</th>\n    </tr>\n  </thead>\n  <tbody>\n    <tr>\n      <th>0</th>\n      <td>1</td>\n      <td>Tennis Court 2</td>\n      <td>5.0</td>\n      <td>25.0</td>\n      <td>8000</td>\n      <td>200</td>\n    </tr>\n    <tr>\n      <th>1</th>\n      <td>5</td>\n      <td>Massage Room 2</td>\n      <td>9.9</td>\n      <td>80.0</td>\n      <td>4000</td>\n      <td>3000</td>\n    </tr>\n  </tbody>\n</table>\n</div>"
     },
     "metadata": {},
     "execution_count": 6
    }
   ],
   "source": [
    "db_cursor.execute('SELECT * FROM `Facilities` where facid in (1,5)')\n",
    "table_rows = db_cursor.fetchall()\n",
    "df = pd.DataFrame(table_rows,columns=['facid','name','membercost','guestcost', 'initialoutlay','monthlymaintenance'])\n",
    "df"
   ]
  },
  {
   "cell_type": "markdown",
   "metadata": {},
   "source": [
    "Q5: How can you produce a list of facilities, with each labelled as\n",
    "'cheap' or 'expensive', depending on if their monthly maintenance cost is\n",
    "more than $100? Return the name and monthly maintenance of the facilities\n",
    "in question."
   ]
  },
  {
   "cell_type": "code",
   "execution_count": 7,
   "metadata": {},
   "outputs": [
    {
     "output_type": "execute_result",
     "data": {
      "text/plain": "              name monthlymaintenance\n0   Tennis Court 1          Expensive\n1   Tennis Court 2          Expensive\n2  Badminton Court              Cheap\n3     Table Tennis              Cheap\n4   Massage Room 1          Expensive\n5   Massage Room 2          Expensive\n6     Squash Court              Cheap\n7    Snooker Table              Cheap\n8       Pool Table              Cheap",
      "text/html": "<div>\n<style scoped>\n    .dataframe tbody tr th:only-of-type {\n        vertical-align: middle;\n    }\n\n    .dataframe tbody tr th {\n        vertical-align: top;\n    }\n\n    .dataframe thead th {\n        text-align: right;\n    }\n</style>\n<table border=\"1\" class=\"dataframe\">\n  <thead>\n    <tr style=\"text-align: right;\">\n      <th></th>\n      <th>name</th>\n      <th>monthlymaintenance</th>\n    </tr>\n  </thead>\n  <tbody>\n    <tr>\n      <th>0</th>\n      <td>Tennis Court 1</td>\n      <td>Expensive</td>\n    </tr>\n    <tr>\n      <th>1</th>\n      <td>Tennis Court 2</td>\n      <td>Expensive</td>\n    </tr>\n    <tr>\n      <th>2</th>\n      <td>Badminton Court</td>\n      <td>Cheap</td>\n    </tr>\n    <tr>\n      <th>3</th>\n      <td>Table Tennis</td>\n      <td>Cheap</td>\n    </tr>\n    <tr>\n      <th>4</th>\n      <td>Massage Room 1</td>\n      <td>Expensive</td>\n    </tr>\n    <tr>\n      <th>5</th>\n      <td>Massage Room 2</td>\n      <td>Expensive</td>\n    </tr>\n    <tr>\n      <th>6</th>\n      <td>Squash Court</td>\n      <td>Cheap</td>\n    </tr>\n    <tr>\n      <th>7</th>\n      <td>Snooker Table</td>\n      <td>Cheap</td>\n    </tr>\n    <tr>\n      <th>8</th>\n      <td>Pool Table</td>\n      <td>Cheap</td>\n    </tr>\n  </tbody>\n</table>\n</div>"
     },
     "metadata": {},
     "execution_count": 7
    }
   ],
   "source": [
    "db_cursor.execute('Select name,IF(monthlymaintenance < 100, \"Cheap\",\"Expensive\") from Facilities;')\n",
    "table_rows = db_cursor.fetchall()\n",
    "df = pd.DataFrame(table_rows,columns=['name','monthlymaintenance'])\n",
    "df"
   ]
  },
  {
   "cell_type": "markdown",
   "metadata": {},
   "source": [
    "Q6: You'd like to get the first and last name of the last member(s)\n",
    "who signed up. Do not use the LIMIT clause for your solution."
   ]
  },
  {
   "cell_type": "code",
   "execution_count": 8,
   "metadata": {},
   "outputs": [
    {
     "output_type": "execute_result",
     "data": {
      "text/plain": "  firstname Surname\n0    Darren   Smith",
      "text/html": "<div>\n<style scoped>\n    .dataframe tbody tr th:only-of-type {\n        vertical-align: middle;\n    }\n\n    .dataframe tbody tr th {\n        vertical-align: top;\n    }\n\n    .dataframe thead th {\n        text-align: right;\n    }\n</style>\n<table border=\"1\" class=\"dataframe\">\n  <thead>\n    <tr style=\"text-align: right;\">\n      <th></th>\n      <th>firstname</th>\n      <th>Surname</th>\n    </tr>\n  </thead>\n  <tbody>\n    <tr>\n      <th>0</th>\n      <td>Darren</td>\n      <td>Smith</td>\n    </tr>\n  </tbody>\n</table>\n</div>"
     },
     "metadata": {},
     "execution_count": 8
    }
   ],
   "source": [
    "db_cursor.execute('select firstname,Surname from Members where joindate= (select MAX(joindate) from Members);')\n",
    "table_rows = db_cursor.fetchall()\n",
    "df = pd.DataFrame(table_rows,columns=['firstname','Surname'])\n",
    "df"
   ]
  },
  {
   "cell_type": "markdown",
   "metadata": {},
   "source": [
    "Q7: How can you produce a list of all members who have used a tennis court?\n",
    "Include in your output the name of the court, and the name of the member\n",
    "formatted as a single column. Ensure no duplicate data, and order by\n",
    "the member name."
   ]
  },
  {
   "cell_type": "code",
   "execution_count": 9,
   "metadata": {},
   "outputs": [
    {
     "output_type": "execute_result",
     "data": {
      "text/plain": "   member            name\n0       0  Tennis Court 1\n1       0  Tennis Court 2",
      "text/html": "<div>\n<style scoped>\n    .dataframe tbody tr th:only-of-type {\n        vertical-align: middle;\n    }\n\n    .dataframe tbody tr th {\n        vertical-align: top;\n    }\n\n    .dataframe thead th {\n        text-align: right;\n    }\n</style>\n<table border=\"1\" class=\"dataframe\">\n  <thead>\n    <tr style=\"text-align: right;\">\n      <th></th>\n      <th>member</th>\n      <th>name</th>\n    </tr>\n  </thead>\n  <tbody>\n    <tr>\n      <th>0</th>\n      <td>0</td>\n      <td>Tennis Court 1</td>\n    </tr>\n    <tr>\n      <th>1</th>\n      <td>0</td>\n      <td>Tennis Court 2</td>\n    </tr>\n  </tbody>\n</table>\n</div>"
     },
     "metadata": {},
     "execution_count": 9
    }
   ],
   "source": [
    "db_cursor.execute('SELECT DISTINCT firstname || \" \" || surname AS member, name AS facility FROM members INNER JOIN bookings ON members.memid = bookings.memid INNER JOIN facilities ON bookings.facid = facilities.facid WHERE name LIKE \"%Tennis Court%\" ORDER BY member')\n",
    "table_rows = db_cursor.fetchall()\n",
    "df = pd.DataFrame(table_rows,columns=['member','name'])\n",
    "df"
   ]
  },
  {
   "cell_type": "markdown",
   "metadata": {},
   "source": [
    "Q8: How can you produce a list of bookings on the day of 2012-09-14 which\n",
    "will cost the member (or guest) more than $30? Remember that guests have\n",
    "different costs to members (the listed costs are per half-hour 'slot'), and\n",
    "the guest user's ID is always 0. Include in your output the name of the\n",
    "facility, the name of the member formatted as a single column, and the cost.\n",
    "Order by descending cost, and do not use any subqueries."
   ]
  },
  {
   "cell_type": "code",
   "execution_count": 10,
   "metadata": {},
   "outputs": [
    {
     "output_type": "execute_result",
     "data": {
      "text/plain": "Empty DataFrame\nColumns: []\nIndex: []",
      "text/html": "<div>\n<style scoped>\n    .dataframe tbody tr th:only-of-type {\n        vertical-align: middle;\n    }\n\n    .dataframe tbody tr th {\n        vertical-align: top;\n    }\n\n    .dataframe thead th {\n        text-align: right;\n    }\n</style>\n<table border=\"1\" class=\"dataframe\">\n  <thead>\n    <tr style=\"text-align: right;\">\n      <th></th>\n    </tr>\n  </thead>\n  <tbody>\n  </tbody>\n</table>\n</div>"
     },
     "metadata": {},
     "execution_count": 10
    }
   ],
   "source": [
    "db_cursor.execute('SELECT mem.firstname|| \" \" ||mem.surname AS member,fac.name AS facility,\\\n",
    "CASE WHEN firstname = \"GUEST\" THEN (fac.guestcost * bk.slots) ELSE (fac.membercost * bk.slots )END AS cost \\\n",
    "FROM members mem \\\n",
    "INNER JOIN bookings bk \\\n",
    "ON mem.memid = bk.memid \\\n",
    "INNER JOIN facilities fac \\\n",
    "ON bk.facid = fac.facid \\\n",
    "WHERE starttime >= \"2012-09-14\" AND starttime < \"2012-09-15\" \\\n",
    "AND CASE WHEN mem.firstname = \"GUEST\" THEN (fac.guestcost * bk.slots) ELSE (fac.membercost * bk.slots) END > 30 \\\n",
    "ORDER BY cost DESC')\n",
    "table_rows = db_cursor.fetchall()\n",
    "df = pd.DataFrame(table_rows)\n",
    "df"
   ]
  },
  {
   "cell_type": "markdown",
   "metadata": {},
   "source": [
    "Q9: This time, produce the same result as in Q8, but using a subquery."
   ]
  },
  {
   "cell_type": "code",
   "execution_count": 11,
   "metadata": {},
   "outputs": [
    {
     "output_type": "execute_result",
     "data": {
      "text/plain": "Empty DataFrame\nColumns: []\nIndex: []",
      "text/html": "<div>\n<style scoped>\n    .dataframe tbody tr th:only-of-type {\n        vertical-align: middle;\n    }\n\n    .dataframe tbody tr th {\n        vertical-align: top;\n    }\n\n    .dataframe thead th {\n        text-align: right;\n    }\n</style>\n<table border=\"1\" class=\"dataframe\">\n  <thead>\n    <tr style=\"text-align: right;\">\n      <th></th>\n    </tr>\n  </thead>\n  <tbody>\n  </tbody>\n</table>\n</div>"
     },
     "metadata": {},
     "execution_count": 11
    }
   ],
   "source": [
    "db_cursor.execute('SELECT firstname || \" \" || surname AS member ,name AS facility,cost FROM  (SELECT firstname, surname, name,\\\n",
    "CASE WHEN firstname = \"GUEST\" THEN (guestcost * slots ) ELSE (membercost * slots) END AS cost, \\\n",
    "starttime \\\n",
    "FROM members \\\n",
    "INNER JOIN bookings \\\n",
    "ON members.memid = bookings.memid \\\n",
    "INNER JOIN facilities \\\n",
    "ON bookings.facid = facilities.facid) AS inner_table \\\n",
    "WHERE starttime >= \"2012-09-14\" AND starttime < \"2012-09-15\" \\\n",
    "AND cost > 30 \\\n",
    "ORDER BY cost DESC;')\n",
    "table_rows = db_cursor.fetchall()\n",
    "df = pd.DataFrame(table_rows)\n",
    "df"
   ]
  },
  {
   "cell_type": "markdown",
   "metadata": {},
   "source": [
    "Q10: Produce a list of facilities with a total revenue less than 1000.\n",
    "The output of facility name and total revenue, sorted by revenue. Remember\n",
    "that there's a different cost for guests and members! \n"
   ]
  },
  {
   "cell_type": "code",
   "execution_count": 12,
   "metadata": {},
   "outputs": [
    {
     "output_type": "execute_result",
     "data": {
      "text/plain": "             name  facid  revenue\n0  Massage Room 2      5   3338.6\n1    Squash Court      6   4158.0\n2  Tennis Court 1      0   5025.0\n3  Tennis Court 2      1   5310.0\n4  Massage Room 1      4  17269.4",
      "text/html": "<div>\n<style scoped>\n    .dataframe tbody tr th:only-of-type {\n        vertical-align: middle;\n    }\n\n    .dataframe tbody tr th {\n        vertical-align: top;\n    }\n\n    .dataframe thead th {\n        text-align: right;\n    }\n</style>\n<table border=\"1\" class=\"dataframe\">\n  <thead>\n    <tr style=\"text-align: right;\">\n      <th></th>\n      <th>name</th>\n      <th>facid</th>\n      <th>revenue</th>\n    </tr>\n  </thead>\n  <tbody>\n    <tr>\n      <th>0</th>\n      <td>Massage Room 2</td>\n      <td>5</td>\n      <td>3338.6</td>\n    </tr>\n    <tr>\n      <th>1</th>\n      <td>Squash Court</td>\n      <td>6</td>\n      <td>4158.0</td>\n    </tr>\n    <tr>\n      <th>2</th>\n      <td>Tennis Court 1</td>\n      <td>0</td>\n      <td>5025.0</td>\n    </tr>\n    <tr>\n      <th>3</th>\n      <td>Tennis Court 2</td>\n      <td>1</td>\n      <td>5310.0</td>\n    </tr>\n    <tr>\n      <th>4</th>\n      <td>Massage Room 1</td>\n      <td>4</td>\n      <td>17269.4</td>\n    </tr>\n  </tbody>\n</table>\n</div>"
     },
     "metadata": {},
     "execution_count": 12
    }
   ],
   "source": [
    "db_cursor.execute('SELECT fac.name,fac.facid,SUM(CASE WHEN mem.memid = 0 THEN fac.guestcost * book.slots ELSE fac.membercost * book.slots END) AS revenue \\\n",
    "FROM `Facilities` fac \\\n",
    "JOIN `Bookings` book ON fac.facid = book.facid \\\n",
    "JOIN `Members` mem ON book.memid = mem.memid \\\n",
    "GROUP BY fac.name, fac.facid \\\n",
    "HAVING revenue > 1000 \\\n",
    "ORDER BY revenue') \n",
    "table_rows = db_cursor.fetchall() \n",
    "df = pd.DataFrame(table_rows,columns=['name','facid','revenue'])\n",
    "df"
   ]
  }
 ],
 "metadata": {
  "language_info": {
   "codemirror_mode": {
    "name": "ipython",
    "version": 3
   },
   "file_extension": ".py",
   "mimetype": "text/x-python",
   "name": "python",
   "nbconvert_exporter": "python",
   "pygments_lexer": "ipython3",
   "version": "3.7.3-final"
  },
  "orig_nbformat": 2,
  "kernelspec": {
   "name": "python3",
   "display_name": "Python 3"
  }
 },
 "nbformat": 4,
 "nbformat_minor": 2
}