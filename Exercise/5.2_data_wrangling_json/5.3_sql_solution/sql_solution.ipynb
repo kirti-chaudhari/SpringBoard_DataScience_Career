{
 "cells": [
  {
   "cell_type": "code",
   "execution_count": 2,
   "metadata": {},
   "outputs": [],
   "source": [
    "import mysql.connector as sql\n",
    "import pandas as pd"
   ]
  },
  {
   "cell_type": "code",
   "execution_count": 5,
   "metadata": {},
   "outputs": [],
   "source": [
    "db_connection = sql.connect(host=\"localhost\",database=\"country_club\",user='root',password='')\n",
    "db_cursor = db_connection.cursor()\n",
    "db_cursor.execute('SELECT * FROM Bookings')\n",
    "table_rows = db_cursor.fetchall()\n",
    "df = pd.DataFrame(table_rows)"
   ]
  },
  {
   "cell_type": "code",
   "execution_count": 6,
   "metadata": {},
   "outputs": [
    {
     "output_type": "execute_result",
     "data": {
      "text/plain": "         0  1   2                    3  4\n0        0  3   1  2012-07-03 11:00:00  2\n1        1  4   1  2012-07-03 08:00:00  2\n2        2  6   0  2012-07-03 18:00:00  2\n3        3  7   1  2012-07-03 19:00:00  2\n4        4  8   1  2012-07-03 10:00:00  1\n...    ... ..  ..                  ... ..\n1335  1335  8   3  2012-08-16 19:00:00  1\n1336  1336  8  12  2012-08-16 19:30:00  1\n1337  1337  0   0  2012-08-17 08:30:00  3\n1338  1338  0  14  2012-08-17 12:30:00  3\n1339  1339  0   6  2012-08-17 14:00:00  3\n\n[1340 rows x 5 columns]",
      "text/html": "<div>\n<style scoped>\n    .dataframe tbody tr th:only-of-type {\n        vertical-align: middle;\n    }\n\n    .dataframe tbody tr th {\n        vertical-align: top;\n    }\n\n    .dataframe thead th {\n        text-align: right;\n    }\n</style>\n<table border=\"1\" class=\"dataframe\">\n  <thead>\n    <tr style=\"text-align: right;\">\n      <th></th>\n      <th>0</th>\n      <th>1</th>\n      <th>2</th>\n      <th>3</th>\n      <th>4</th>\n    </tr>\n  </thead>\n  <tbody>\n    <tr>\n      <th>0</th>\n      <td>0</td>\n      <td>3</td>\n      <td>1</td>\n      <td>2012-07-03 11:00:00</td>\n      <td>2</td>\n    </tr>\n    <tr>\n      <th>1</th>\n      <td>1</td>\n      <td>4</td>\n      <td>1</td>\n      <td>2012-07-03 08:00:00</td>\n      <td>2</td>\n    </tr>\n    <tr>\n      <th>2</th>\n      <td>2</td>\n      <td>6</td>\n      <td>0</td>\n      <td>2012-07-03 18:00:00</td>\n      <td>2</td>\n    </tr>\n    <tr>\n      <th>3</th>\n      <td>3</td>\n      <td>7</td>\n      <td>1</td>\n      <td>2012-07-03 19:00:00</td>\n      <td>2</td>\n    </tr>\n    <tr>\n      <th>4</th>\n      <td>4</td>\n      <td>8</td>\n      <td>1</td>\n      <td>2012-07-03 10:00:00</td>\n      <td>1</td>\n    </tr>\n    <tr>\n      <th>...</th>\n      <td>...</td>\n      <td>...</td>\n      <td>...</td>\n      <td>...</td>\n      <td>...</td>\n    </tr>\n    <tr>\n      <th>1335</th>\n      <td>1335</td>\n      <td>8</td>\n      <td>3</td>\n      <td>2012-08-16 19:00:00</td>\n      <td>1</td>\n    </tr>\n    <tr>\n      <th>1336</th>\n      <td>1336</td>\n      <td>8</td>\n      <td>12</td>\n      <td>2012-08-16 19:30:00</td>\n      <td>1</td>\n    </tr>\n    <tr>\n      <th>1337</th>\n      <td>1337</td>\n      <td>0</td>\n      <td>0</td>\n      <td>2012-08-17 08:30:00</td>\n      <td>3</td>\n    </tr>\n    <tr>\n      <th>1338</th>\n      <td>1338</td>\n      <td>0</td>\n      <td>14</td>\n      <td>2012-08-17 12:30:00</td>\n      <td>3</td>\n    </tr>\n    <tr>\n      <th>1339</th>\n      <td>1339</td>\n      <td>0</td>\n      <td>6</td>\n      <td>2012-08-17 14:00:00</td>\n      <td>3</td>\n    </tr>\n  </tbody>\n</table>\n<p>1340 rows × 5 columns</p>\n</div>"
     },
     "metadata": {},
     "execution_count": 6
    }
   ],
   "source": [
    "df"
   ]
  },
  {
   "cell_type": "code",
   "execution_count": null,
   "metadata": {},
   "outputs": [],
   "source": []
  }
 ],
 "metadata": {
  "language_info": {
   "codemirror_mode": {
    "name": "ipython",
    "version": 3
   },
   "file_extension": ".py",
   "mimetype": "text/x-python",
   "name": "python",
   "nbconvert_exporter": "python",
   "pygments_lexer": "ipython3",
   "version": "3.7.3-final"
  },
  "orig_nbformat": 2,
  "kernelspec": {
   "name": "python3",
   "display_name": "Python 3"
  }
 },
 "nbformat": 4,
 "nbformat_minor": 2
}